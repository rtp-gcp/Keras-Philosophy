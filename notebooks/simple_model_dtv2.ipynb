{
 "cells": [
  {
   "cell_type": "markdown",
   "metadata": {},
   "source": [
    "# Define Train and Validate the models\n",
    "\n",
    "This notebook uses the csv from the data dir as input and builds, trains and predicts a model using keras.\n",
    "\n",
    "It uses standardized data."
   ]
  },
  {
   "cell_type": "code",
   "execution_count": 85,
   "metadata": {},
   "outputs": [
    {
     "name": "stdout",
     "output_type": "stream",
     "text": [
      "GPU is available\n"
     ]
    }
   ],
   "source": [
    "import datetime\n",
    "#from pathlib import Path\n",
    "import pathlib\n",
    "\n",
    "import matplotlib.pyplot as plt\n",
    "import pandas as pd\n",
    "import seaborn as sns\n",
    "import os\n",
    "import os.path\n",
    "\n",
    "\n",
    "import tensorflow as tf\n",
    "from tensorflow import keras\n",
    "from tensorflow.keras import layers\n",
    "gpu = len(tf.config.list_physical_devices('GPU'))>0\n",
    "print(\"GPU is\", \"available\" if gpu else \"NOT AVAILABLE\")"
   ]
  },
  {
   "cell_type": "code",
   "execution_count": 86,
   "metadata": {},
   "outputs": [
    {
     "name": "stdout",
     "output_type": "stream",
     "text": [
      "2.14.0\n"
     ]
    }
   ],
   "source": [
    "print(tf.__version__)"
   ]
  },
  {
   "cell_type": "code",
   "execution_count": 87,
   "metadata": {},
   "outputs": [
    {
     "name": "stdout",
     "output_type": "stream",
     "text": [
      "current directory is : /Users/davis/progs/github/Keras-Philosophy/notebooks\n"
     ]
    }
   ],
   "source": [
    "# The current directory will be where this src file is located.\n",
    "# Which is in the src dir of the project\n",
    "dirpath = os.getcwd()\n",
    "print(\"current directory is : \" + dirpath)"
   ]
  },
  {
   "cell_type": "code",
   "execution_count": 88,
   "metadata": {},
   "outputs": [
    {
     "name": "stdout",
     "output_type": "stream",
     "text": [
      "root directory is:  /Users/davis/progs/github/Keras-Philosophy\n",
      "data directory is:  /Users/davis/progs/github/Keras-Philosophy/data\n",
      "logs directory is:  /Users/davis/progs/github/Keras-Philosophy/logs\n"
     ]
    }
   ],
   "source": [
    "# Use pathlib to find the root dir of the git repo\n",
    "root_path = pathlib.PurePath(dirpath).parents[0]\n",
    "data_path = root_path / 'data'\n",
    "logs_path = root_path / 'logs'\n",
    "print(\"root directory is: \", root_path)\n",
    "print(\"data directory is: \",  data_path)\n",
    "print(\"logs directory is: \", logs_path)\n"
   ]
  },
  {
   "cell_type": "code",
   "execution_count": 89,
   "metadata": {},
   "outputs": [
    {
     "name": "stdout",
     "output_type": "stream",
     "text": [
      "LOGS_DIR_NAME:  /Users/davis/progs/github/Keras-Philosophy/logs\n",
      "DATA_DIR_NAME:  /Users/davis/progs/github/Keras-Philosophy/data\n"
     ]
    }
   ],
   "source": [
    "# Create equivalent dir names in the environment\n",
    "# Logs\n",
    "LOGS_DIR_NAME = logs_path.as_posix()\n",
    "print(\"LOGS_DIR_NAME: \", LOGS_DIR_NAME)\n",
    "os.environ['LOGS_DIR_NAME'] = LOGS_DIR_NAME\n",
    "# Data\n",
    "DATA_DIR_NAME = data_path.as_posix()\n",
    "print(\"DATA_DIR_NAME: \", DATA_DIR_NAME)\n",
    "os.environ['DATA_DIR_NAME'] = DATA_DIR_NAME"
   ]
  },
  {
   "cell_type": "code",
   "execution_count": 90,
   "metadata": {},
   "outputs": [
    {
     "name": "stdout",
     "output_type": "stream",
     "text": [
      "/Users/davis/progs/github/Keras-Philosophy/data\n",
      "/Users/davis/progs/github/Keras-Philosophy/logs\n"
     ]
    }
   ],
   "source": [
    "%%bash\n",
    "# Verify env variables are set\n",
    "echo ${DATA_DIR_NAME}\n",
    "echo ${LOGS_DIR_NAME}"
   ]
  },
  {
   "cell_type": "code",
   "execution_count": 91,
   "metadata": {},
   "outputs": [
    {
     "name": "stdout",
     "output_type": "stream",
     "text": [
      "LOG_DIR_NAME: \n"
     ]
    }
   ],
   "source": [
    "%%bash\n",
    "echo \"LOG_DIR_NAME: ${LOG_DIR_NAME}\""
   ]
  },
  {
   "cell_type": "code",
   "execution_count": 92,
   "metadata": {},
   "outputs": [],
   "source": [
    "train_csv = data_path /  pathlib.PurePath(\"train.csv\")\n",
    "test_csv = data_path /  pathlib.PurePath(\"test.csv\")\n",
    "valid_csv = data_path /  pathlib.PurePath(\"valid.csv\")\n",
    "train_stats_csv = data_path /  pathlib.PurePath(\"train_stats.csv\")"
   ]
  },
  {
   "cell_type": "markdown",
   "metadata": {},
   "source": [
    "# Read the dataframes using pandas"
   ]
  },
  {
   "cell_type": "code",
   "execution_count": 93,
   "metadata": {},
   "outputs": [],
   "source": [
    "# Read the csv files into dataframes\n",
    "train_df = pd.read_csv(train_csv, \n",
    "                          header=0,\n",
    "                          sep=\",\")\n",
    "valid_df = pd.read_csv(valid_csv, \n",
    "                          header=0,\n",
    "                          sep=\",\")\n",
    "test_df = pd.read_csv(test_csv, \n",
    "                          header=0,\n",
    "                          sep=\",\")\n",
    "train_stats_df = pd.read_csv(train_stats_csv, \n",
    "                          header=0,\n",
    "                          sep=\",\")\n",
    "train_stats_df.index=['z','x','y']\n"
   ]
  },
  {
   "cell_type": "code",
   "execution_count": 94,
   "metadata": {},
   "outputs": [],
   "source": [
    "# Create vectors of the training labels\n",
    "# assumes Y label is called z\n",
    "# \n",
    "train_labels = train_df.pop('z')\n",
    "test_labels = test_df.pop('z')\n",
    "valid_labels = valid_df.pop('z')"
   ]
  },
  {
   "cell_type": "code",
   "execution_count": 95,
   "metadata": {},
   "outputs": [
    {
     "data": {
      "text/plain": [
       "0      0.399859\n",
       "1      0.063977\n",
       "2      0.735740\n",
       "3      0.063977\n",
       "4      0.399859\n",
       "         ...   \n",
       "247   -1.951310\n",
       "248    0.735740\n",
       "249    0.399859\n",
       "250   -2.623073\n",
       "251    0.399859\n",
       "Name: z, Length: 252, dtype: float64"
      ]
     },
     "execution_count": 95,
     "metadata": {},
     "output_type": "execute_result"
    }
   ],
   "source": [
    "train_labels"
   ]
  },
  {
   "cell_type": "code",
   "execution_count": 96,
   "metadata": {},
   "outputs": [
    {
     "data": {
      "text/plain": [
       "Index(['x', 'y'], dtype='object')"
      ]
     },
     "execution_count": 96,
     "metadata": {},
     "output_type": "execute_result"
    }
   ],
   "source": [
    "train_df.keys()"
   ]
  },
  {
   "cell_type": "code",
   "execution_count": 97,
   "metadata": {},
   "outputs": [
    {
     "name": "stdout",
     "output_type": "stream",
     "text": [
      "(252, 2)\n",
      "(54, 2)\n",
      "(54, 2)\n"
     ]
    }
   ],
   "source": [
    "print(train_df.shape)\n",
    "print(valid_df.shape)\n",
    "print(test_df.shape)"
   ]
  },
  {
   "cell_type": "markdown",
   "metadata": {},
   "source": [
    "# plot the data"
   ]
  },
  {
   "cell_type": "code",
   "execution_count": 98,
   "metadata": {},
   "outputs": [
    {
     "data": {
      "text/plain": [
       "<matplotlib.collections.PathCollection at 0x16f3ceeb0>"
      ]
     },
     "execution_count": 98,
     "metadata": {},
     "output_type": "execute_result"
    },
    {
     "data": {
      "image/png": "[encoded data removed]",
      "text/plain": [
       "<Figure size 640x480 with 1 Axes>"
      ]
     },
     "metadata": {},
     "output_type": "display_data"
    }
   ],
   "source": [
    "plt.scatter(train_df['y'], train_df['x'], c='green')"
   ]
  },
  {
   "cell_type": "markdown",
   "metadata": {},
   "source": [
    "# Build the model"
   ]
  },
  {
   "cell_type": "code",
   "execution_count": 119,
   "metadata": {},
   "outputs": [
    {
     "name": "stderr",
     "output_type": "stream",
     "text": [
      "WARNING:absl:At this time, the v2.11+ optimizer `tf.keras.optimizers.RMSprop` runs slowly on M1/M2 Macs, please use the legacy Keras optimizer instead, located at `tf.keras.optimizers.legacy.RMSprop`.\n"
     ]
    }
   ],
   "source": [
    "\n",
    "# Build a 3 layer 64, 16, 4 node DNN\n",
    "model = keras.Sequential([\n",
    "    layers.Dense(64, activation=tf.nn.relu, input_shape=[len(train_df.keys())]),\n",
    "    layers.Dense(16, activation=tf.nn.relu),\n",
    "    layers.Dense(4, activation=tf.nn.relu),\n",
    "    layers.Dense(1)\n",
    "    ])\n",
    "\n",
    "# Build a 2 layer 64, 64 node DNN\n",
    "#model = keras.Sequential([\n",
    "#    layers.Dense(64, activation=tf.nn.relu, input_shape=[len(train_df.keys())]),\n",
    "#    layers.Dense(64, activation=tf.nn.relu),\n",
    "#    layers.Dense(1)\n",
    "#    ])\n",
    "\n",
    "\n",
    "\n",
    "# Build a 2 layer 16, 4 node DNN\n",
    "#model = keras.Sequential([\n",
    "#    layers.Dense(16, activation=tf.nn.relu, input_shape=[len(train_df.keys())]),\n",
    "#    layers.Dense(4, activation=tf.nn.relu),\n",
    "#    layers.Dense(1)\n",
    "#    ])\n",
    "\n",
    "\n",
    "\n",
    "\n",
    "# Create a 1 layer 12 node DNN\n",
    "#model = keras.Sequential([\n",
    "#    layers.Dense(12, activation=tf.nn.relu, input_shape=[len(train_df.keys())]),\n",
    "#    layers.Dense(1)\n",
    "#    ])\n",
    "\n",
    "\n",
    "\n",
    "# orig\n",
    "optimizer = tf.keras.optimizers.RMSprop(0.001)\n",
    "# increase learning rate if fairly consistent but slow changing\n",
    "#optimizer = tf.keras.optimizers.RMSprop(0.01)\n",
    "# 0.1 is too big\n",
    "#optimizer = tf.keras.optimizers.RMSprop(0.1)\n",
    "# with the early stop, lets try to make the learning rate smaller\n",
    "#optimizer = tf.keras.optimizers.RMSprop(0.0001)\n",
    "\n",
    "# Add in the early stop code\n",
    "# The patience parameter is the amount of epochs to check for improvement\n",
    "#\n",
    "# NOTE: This was a good addition.  I'm so used to running through a lot of steps\n",
    "# I did not realize that it was finding its best results so early.  In the \n",
    "# graphs that follows, you can see the divergent graphs here where the others\n",
    "# did not show it since it was hundreds of epochs past optimal.\n",
    "early_stop = keras.callbacks.EarlyStopping(monitor='val_loss', patience=2)\n",
    "\n",
    "\n",
    "\n",
    "model.compile(loss='mean_squared_error',\n",
    "              optimizer=optimizer,\n",
    "              metrics=['mean_absolute_error', 'mean_squared_error'])\n"
   ]
  },
  {
   "cell_type": "markdown",
   "metadata": {},
   "source": [
    "# Train the model (with three callbacks)"
   ]
  },
  {
   "cell_type": "code",
   "execution_count": 120,
   "metadata": {},
   "outputs": [],
   "source": [
    "EPOCHS = 1000"
   ]
  },
  {
   "cell_type": "code",
   "execution_count": 121,
   "metadata": {},
   "outputs": [],
   "source": [
    "# Display training progress by printing a single dot for each completed epoch\n",
    "class PrintDot(keras.callbacks.Callback):\n",
    "  def on_epoch_end(self, epoch, logs):\n",
    "    if epoch % 100 == 0: print('')\n",
    "    print('.', end='')"
   ]
  },
  {
   "cell_type": "code",
   "execution_count": 122,
   "metadata": {},
   "outputs": [
    {
     "name": "stdout",
     "output_type": "stream",
     "text": [
      "Epoch 1/1000\n",
      "8/8 [==============================] - ETA: 0s - loss: 2.1257 - mean_absolute_error: 1.1449 - mean_squared_error: 2.1257\n",
      "8/8 [==============================] - 1s 39ms/step - loss: 2.1257 - mean_absolute_error: 1.1449 - mean_squared_error: 2.1257 - val_loss: 1.6612 - val_mean_absolute_error: 0.9917 - val_mean_squared_error: 1.6612\n",
      "Epoch 2/1000\n",
      "8/8 [==============================] - 0s 13ms/step - loss: 1.5642 - mean_absolute_error: 0.9405 - mean_squared_error: 1.5642 - val_loss: 1.3709 - val_mean_absolute_error: 0.8679 - val_mean_squared_error: 1.3709\n",
      "Epoch 3/1000\n",
      "8/8 [==============================] - 0s 12ms/step - loss: 1.3585 - mean_absolute_error: 0.8522 - mean_squared_error: 1.3585 - val_loss: 1.2101 - val_mean_absolute_error: 0.7925 - val_mean_squared_error: 1.2101\n",
      "Epoch 4/1000\n",
      "8/8 [==============================] - 0s 13ms/step - loss: 1.2070 - mean_absolute_error: 0.7815 - mean_squared_error: 1.2070 - val_loss: 1.0527 - val_mean_absolute_error: 0.7192 - val_mean_squared_error: 1.0527\n",
      "Epoch 5/1000\n",
      "8/8 [==============================] - 0s 13ms/step - loss: 1.0652 - mean_absolute_error: 0.7028 - mean_squared_error: 1.0652 - val_loss: 0.9117 - val_mean_absolute_error: 0.6405 - val_mean_squared_error: 0.9117\n",
      "Epoch 6/1000\n",
      "8/8 [==============================] - 0s 13ms/step - loss: 0.9118 - mean_absolute_error: 0.6345 - mean_squared_error: 0.9118 - val_loss: 0.7603 - val_mean_absolute_error: 0.5784 - val_mean_squared_error: 0.7603\n",
      "Epoch 7/1000\n",
      "8/8 [==============================] - 0s 12ms/step - loss: 0.7618 - mean_absolute_error: 0.5754 - mean_squared_error: 0.7618 - val_loss: 0.6111 - val_mean_absolute_error: 0.5150 - val_mean_squared_error: 0.6111\n",
      "Epoch 8/1000\n",
      "8/8 [==============================] - 0s 12ms/step - loss: 0.5760 - mean_absolute_error: 0.4890 - mean_squared_error: 0.5760 - val_loss: 0.4188 - val_mean_absolute_error: 0.4070 - val_mean_squared_error: 0.4188\n",
      "Epoch 9/1000\n",
      "8/8 [==============================] - 0s 12ms/step - loss: 0.3906 - mean_absolute_error: 0.3854 - mean_squared_error: 0.3906 - val_loss: 0.2891 - val_mean_absolute_error: 0.3256 - val_mean_squared_error: 0.2891\n",
      "Epoch 10/1000\n",
      "8/8 [==============================] - 0s 12ms/step - loss: 0.2807 - mean_absolute_error: 0.3125 - mean_squared_error: 0.2807 - val_loss: 0.1956 - val_mean_absolute_error: 0.2638 - val_mean_squared_error: 0.1956\n",
      "Epoch 11/1000\n",
      "8/8 [==============================] - 0s 12ms/step - loss: 0.1744 - mean_absolute_error: 0.2424 - mean_squared_error: 0.1744 - val_loss: 0.1120 - val_mean_absolute_error: 0.1958 - val_mean_squared_error: 0.1120\n",
      "Epoch 12/1000\n",
      "8/8 [==============================] - 0s 12ms/step - loss: 0.0911 - mean_absolute_error: 0.1729 - mean_squared_error: 0.0911 - val_loss: 0.0488 - val_mean_absolute_error: 0.1275 - val_mean_squared_error: 0.0488\n",
      "Epoch 13/1000\n",
      "8/8 [==============================] - 0s 12ms/step - loss: 0.0352 - mean_absolute_error: 0.1086 - mean_squared_error: 0.0352 - val_loss: 0.0144 - val_mean_absolute_error: 0.0707 - val_mean_squared_error: 0.0144\n",
      "Epoch 14/1000\n",
      "8/8 [==============================] - 0s 12ms/step - loss: 0.0087 - mean_absolute_error: 0.0526 - mean_squared_error: 0.0087 - val_loss: 0.0026 - val_mean_absolute_error: 0.0332 - val_mean_squared_error: 0.0026\n",
      "Epoch 15/1000\n",
      "8/8 [==============================] - 0s 12ms/step - loss: 0.0015 - mean_absolute_error: 0.0262 - mean_squared_error: 0.0015 - val_loss: 0.0019 - val_mean_absolute_error: 0.0363 - val_mean_squared_error: 0.0019\n",
      "Epoch 16/1000\n",
      "8/8 [==============================] - 0s 12ms/step - loss: 6.6796e-04 - mean_absolute_error: 0.0204 - mean_squared_error: 6.6796e-04 - val_loss: 7.3793e-04 - val_mean_absolute_error: 0.0231 - val_mean_squared_error: 7.3793e-04\n",
      "Epoch 17/1000\n",
      "8/8 [==============================] - 0s 12ms/step - loss: 5.5056e-04 - mean_absolute_error: 0.0182 - mean_squared_error: 5.5056e-04 - val_loss: 2.5588e-04 - val_mean_absolute_error: 0.0135 - val_mean_squared_error: 2.5588e-04\n",
      "Epoch 18/1000\n",
      "8/8 [==============================] - 0s 12ms/step - loss: 0.0011 - mean_absolute_error: 0.0257 - mean_squared_error: 0.0011 - val_loss: 2.4796e-04 - val_mean_absolute_error: 0.0131 - val_mean_squared_error: 2.4796e-04\n",
      "Epoch 19/1000\n",
      "8/8 [==============================] - 0s 12ms/step - loss: 1.4584e-04 - mean_absolute_error: 0.0096 - mean_squared_error: 1.4584e-04 - val_loss: 0.0015 - val_mean_absolute_error: 0.0315 - val_mean_squared_error: 0.0015\n",
      "Epoch 20/1000\n",
      "8/8 [==============================] - 0s 12ms/step - loss: 9.3884e-04 - mean_absolute_error: 0.0235 - mean_squared_error: 9.3884e-04 - val_loss: 3.2056e-04 - val_mean_absolute_error: 0.0147 - val_mean_squared_error: 3.2056e-04\n"
     ]
    }
   ],
   "source": [
    "#                    batch_size=16,\n",
    "\n",
    "history = model.fit(train_df, \n",
    "                    train_labels,\n",
    "                    epochs=EPOCHS,\n",
    "                    validation_data = (valid_df, valid_labels),\n",
    "                    verbose=1,\n",
    "                    callbacks=[early_stop, PrintDot()])"
   ]
  },
  {
   "cell_type": "code",
   "execution_count": 123,
   "metadata": {},
   "outputs": [
    {
     "data": {
      "image/png": "[encoded data removed]",
      "text/plain": [
       "<Figure size 640x480 with 1 Axes>"
      ]
     },
     "metadata": {},
     "output_type": "display_data"
    },
    {
     "data": {
      "image/png": "[encoded data removed]",
      "text/plain": [
       "<Figure size 640x480 with 1 Axes>"
      ]
     },
     "metadata": {},
     "output_type": "display_data"
    },
    {
     "data": {
      "image/png": "[encoded data removed]",
      "text/plain": [
       "<Figure size 640x480 with 1 Axes>"
      ]
     },
     "metadata": {},
     "output_type": "display_data"
    }
   ],
   "source": [
    "def plot_history(history):\n",
    "    hist = pd.DataFrame(history.history)\n",
    "    hist['epoch'] = history.epoch\n",
    "\n",
    "\n",
    "    plt.figure()\n",
    "    plt.xlabel('Epoch')\n",
    "    plt.ylabel('Epoch Loss [z]')\n",
    "    plt.plot(hist['epoch'], hist['loss'],label='Train Loss')\n",
    "    plt.plot(hist['epoch'], hist['val_loss'],label = 'Val Loss')\n",
    "    plt.ylim([0,3])\n",
    "    plt.legend()\n",
    "\n",
    "\n",
    "    plt.figure()\n",
    "    plt.xlabel('Epoch')\n",
    "    plt.ylabel('Mean Abs Error [z]')\n",
    "    plt.plot(hist['epoch'], hist['mean_absolute_error'],label='Train Error')\n",
    "    plt.plot(hist['epoch'], hist['val_mean_absolute_error'],label = 'Val Error')\n",
    "    plt.ylim([0,1])\n",
    "    plt.legend()\n",
    "\n",
    "    plt.figure()\n",
    "    plt.xlabel('Epoch')\n",
    "    plt.ylabel('Mean Square Error [$z^2$]')\n",
    "    plt.plot(hist['epoch'], hist['mean_squared_error'],label='Train Error')\n",
    "    plt.plot(hist['epoch'], hist['val_mean_squared_error'],label = 'Val Error')\n",
    "    plt.ylim([0,3])\n",
    "    plt.legend()\n",
    "    plt.show()\n",
    "\n",
    "\n",
    "plot_history(history)"
   ]
  },
  {
   "cell_type": "code",
   "execution_count": 124,
   "metadata": {},
   "outputs": [],
   "source": [
    "hist = pd.DataFrame(history.history)\n",
    "hist['epoch'] = history.epoch"
   ]
  },
  {
   "cell_type": "code",
   "execution_count": 125,
   "metadata": {},
   "outputs": [
    {
     "data": {
      "text/html": [
       "<div>\n",
       "<style scoped>\n",
       "    .dataframe tbody tr th:only-of-type {\n",
       "        vertical-align: middle;\n",
       "    }\n",
       "\n",
       "    .dataframe tbody tr th {\n",
       "        vertical-align: top;\n",
       "    }\n",
       "\n",
       "    .dataframe thead th {\n",
       "        text-align: right;\n",
       "    }\n",
       "</style>\n",
       "<table border=\"1\" class=\"dataframe\">\n",
       "  <thead>\n",
       "    <tr style=\"text-align: right;\">\n",
       "      <th></th>\n",
       "      <th>loss</th>\n",
       "      <th>mean_absolute_error</th>\n",
       "      <th>mean_squared_error</th>\n",
       "      <th>val_loss</th>\n",
       "      <th>val_mean_absolute_error</th>\n",
       "      <th>val_mean_squared_error</th>\n",
       "      <th>epoch</th>\n",
       "    </tr>\n",
       "  </thead>\n",
       "  <tbody>\n",
       "    <tr>\n",
       "      <th>0</th>\n",
       "      <td>2.125739</td>\n",
       "      <td>1.144902</td>\n",
       "      <td>2.125739</td>\n",
       "      <td>1.661185</td>\n",
       "      <td>0.991672</td>\n",
       "      <td>1.661185</td>\n",
       "      <td>0</td>\n",
       "    </tr>\n",
       "    <tr>\n",
       "      <th>1</th>\n",
       "      <td>1.564151</td>\n",
       "      <td>0.940523</td>\n",
       "      <td>1.564151</td>\n",
       "      <td>1.370861</td>\n",
       "      <td>0.867878</td>\n",
       "      <td>1.370861</td>\n",
       "      <td>1</td>\n",
       "    </tr>\n",
       "    <tr>\n",
       "      <th>2</th>\n",
       "      <td>1.358498</td>\n",
       "      <td>0.852198</td>\n",
       "      <td>1.358498</td>\n",
       "      <td>1.210053</td>\n",
       "      <td>0.792538</td>\n",
       "      <td>1.210053</td>\n",
       "      <td>2</td>\n",
       "    </tr>\n",
       "    <tr>\n",
       "      <th>3</th>\n",
       "      <td>1.207038</td>\n",
       "      <td>0.781504</td>\n",
       "      <td>1.207038</td>\n",
       "      <td>1.052701</td>\n",
       "      <td>0.719178</td>\n",
       "      <td>1.052701</td>\n",
       "      <td>3</td>\n",
       "    </tr>\n",
       "    <tr>\n",
       "      <th>4</th>\n",
       "      <td>1.065243</td>\n",
       "      <td>0.702813</td>\n",
       "      <td>1.065243</td>\n",
       "      <td>0.911747</td>\n",
       "      <td>0.640496</td>\n",
       "      <td>0.911747</td>\n",
       "      <td>4</td>\n",
       "    </tr>\n",
       "    <tr>\n",
       "      <th>5</th>\n",
       "      <td>0.911823</td>\n",
       "      <td>0.634495</td>\n",
       "      <td>0.911823</td>\n",
       "      <td>0.760258</td>\n",
       "      <td>0.578426</td>\n",
       "      <td>0.760258</td>\n",
       "      <td>5</td>\n",
       "    </tr>\n",
       "    <tr>\n",
       "      <th>6</th>\n",
       "      <td>0.761849</td>\n",
       "      <td>0.575391</td>\n",
       "      <td>0.761849</td>\n",
       "      <td>0.611090</td>\n",
       "      <td>0.515013</td>\n",
       "      <td>0.611090</td>\n",
       "      <td>6</td>\n",
       "    </tr>\n",
       "    <tr>\n",
       "      <th>7</th>\n",
       "      <td>0.575966</td>\n",
       "      <td>0.489048</td>\n",
       "      <td>0.575966</td>\n",
       "      <td>0.418784</td>\n",
       "      <td>0.406971</td>\n",
       "      <td>0.418784</td>\n",
       "      <td>7</td>\n",
       "    </tr>\n",
       "    <tr>\n",
       "      <th>8</th>\n",
       "      <td>0.390585</td>\n",
       "      <td>0.385367</td>\n",
       "      <td>0.390585</td>\n",
       "      <td>0.289057</td>\n",
       "      <td>0.325582</td>\n",
       "      <td>0.289057</td>\n",
       "      <td>8</td>\n",
       "    </tr>\n",
       "    <tr>\n",
       "      <th>9</th>\n",
       "      <td>0.280664</td>\n",
       "      <td>0.312521</td>\n",
       "      <td>0.280664</td>\n",
       "      <td>0.195566</td>\n",
       "      <td>0.263847</td>\n",
       "      <td>0.195566</td>\n",
       "      <td>9</td>\n",
       "    </tr>\n",
       "    <tr>\n",
       "      <th>10</th>\n",
       "      <td>0.174420</td>\n",
       "      <td>0.242399</td>\n",
       "      <td>0.174420</td>\n",
       "      <td>0.111986</td>\n",
       "      <td>0.195764</td>\n",
       "      <td>0.111986</td>\n",
       "      <td>10</td>\n",
       "    </tr>\n",
       "    <tr>\n",
       "      <th>11</th>\n",
       "      <td>0.091149</td>\n",
       "      <td>0.172934</td>\n",
       "      <td>0.091149</td>\n",
       "      <td>0.048840</td>\n",
       "      <td>0.127550</td>\n",
       "      <td>0.048840</td>\n",
       "      <td>11</td>\n",
       "    </tr>\n",
       "    <tr>\n",
       "      <th>12</th>\n",
       "      <td>0.035214</td>\n",
       "      <td>0.108626</td>\n",
       "      <td>0.035214</td>\n",
       "      <td>0.014408</td>\n",
       "      <td>0.070744</td>\n",
       "      <td>0.014408</td>\n",
       "      <td>12</td>\n",
       "    </tr>\n",
       "    <tr>\n",
       "      <th>13</th>\n",
       "      <td>0.008670</td>\n",
       "      <td>0.052550</td>\n",
       "      <td>0.008670</td>\n",
       "      <td>0.002582</td>\n",
       "      <td>0.033238</td>\n",
       "      <td>0.002582</td>\n",
       "      <td>13</td>\n",
       "    </tr>\n",
       "    <tr>\n",
       "      <th>14</th>\n",
       "      <td>0.001464</td>\n",
       "      <td>0.026155</td>\n",
       "      <td>0.001464</td>\n",
       "      <td>0.001890</td>\n",
       "      <td>0.036260</td>\n",
       "      <td>0.001890</td>\n",
       "      <td>14</td>\n",
       "    </tr>\n",
       "    <tr>\n",
       "      <th>15</th>\n",
       "      <td>0.000668</td>\n",
       "      <td>0.020360</td>\n",
       "      <td>0.000668</td>\n",
       "      <td>0.000738</td>\n",
       "      <td>0.023149</td>\n",
       "      <td>0.000738</td>\n",
       "      <td>15</td>\n",
       "    </tr>\n",
       "    <tr>\n",
       "      <th>16</th>\n",
       "      <td>0.000551</td>\n",
       "      <td>0.018209</td>\n",
       "      <td>0.000551</td>\n",
       "      <td>0.000256</td>\n",
       "      <td>0.013470</td>\n",
       "      <td>0.000256</td>\n",
       "      <td>16</td>\n",
       "    </tr>\n",
       "    <tr>\n",
       "      <th>17</th>\n",
       "      <td>0.001068</td>\n",
       "      <td>0.025717</td>\n",
       "      <td>0.001068</td>\n",
       "      <td>0.000248</td>\n",
       "      <td>0.013059</td>\n",
       "      <td>0.000248</td>\n",
       "      <td>17</td>\n",
       "    </tr>\n",
       "    <tr>\n",
       "      <th>18</th>\n",
       "      <td>0.000146</td>\n",
       "      <td>0.009604</td>\n",
       "      <td>0.000146</td>\n",
       "      <td>0.001472</td>\n",
       "      <td>0.031462</td>\n",
       "      <td>0.001472</td>\n",
       "      <td>18</td>\n",
       "    </tr>\n",
       "    <tr>\n",
       "      <th>19</th>\n",
       "      <td>0.000939</td>\n",
       "      <td>0.023506</td>\n",
       "      <td>0.000939</td>\n",
       "      <td>0.000321</td>\n",
       "      <td>0.014669</td>\n",
       "      <td>0.000321</td>\n",
       "      <td>19</td>\n",
       "    </tr>\n",
       "  </tbody>\n",
       "</table>\n",
       "</div>"
      ],
      "text/plain": [
       "        loss  mean_absolute_error  mean_squared_error  val_loss  \\\n",
       "0   2.125739             1.144902            2.125739  1.661185   \n",
       "1   1.564151             0.940523            1.564151  1.370861   \n",
       "2   1.358498             0.852198            1.358498  1.210053   \n",
       "3   1.207038             0.781504            1.207038  1.052701   \n",
       "4   1.065243             0.702813            1.065243  0.911747   \n",
       "5   0.911823             0.634495            0.911823  0.760258   \n",
       "6   0.761849             0.575391            0.761849  0.611090   \n",
       "7   0.575966             0.489048            0.575966  0.418784   \n",
       "8   0.390585             0.385367            0.390585  0.289057   \n",
       "9   0.280664             0.312521            0.280664  0.195566   \n",
       "10  0.174420             0.242399            0.174420  0.111986   \n",
       "11  0.091149             0.172934            0.091149  0.048840   \n",
       "12  0.035214             0.108626            0.035214  0.014408   \n",
       "13  0.008670             0.052550            0.008670  0.002582   \n",
       "14  0.001464             0.026155            0.001464  0.001890   \n",
       "15  0.000668             0.020360            0.000668  0.000738   \n",
       "16  0.000551             0.018209            0.000551  0.000256   \n",
       "17  0.001068             0.025717            0.001068  0.000248   \n",
       "18  0.000146             0.009604            0.000146  0.001472   \n",
       "19  0.000939             0.023506            0.000939  0.000321   \n",
       "\n",
       "    val_mean_absolute_error  val_mean_squared_error  epoch  \n",
       "0                  0.991672                1.661185      0  \n",
       "1                  0.867878                1.370861      1  \n",
       "2                  0.792538                1.210053      2  \n",
       "3                  0.719178                1.052701      3  \n",
       "4                  0.640496                0.911747      4  \n",
       "5                  0.578426                0.760258      5  \n",
       "6                  0.515013                0.611090      6  \n",
       "7                  0.406971                0.418784      7  \n",
       "8                  0.325582                0.289057      8  \n",
       "9                  0.263847                0.195566      9  \n",
       "10                 0.195764                0.111986     10  \n",
       "11                 0.127550                0.048840     11  \n",
       "12                 0.070744                0.014408     12  \n",
       "13                 0.033238                0.002582     13  \n",
       "14                 0.036260                0.001890     14  \n",
       "15                 0.023149                0.000738     15  \n",
       "16                 0.013470                0.000256     16  \n",
       "17                 0.013059                0.000248     17  \n",
       "18                 0.031462                0.001472     18  \n",
       "19                 0.014669                0.000321     19  "
      ]
     },
     "execution_count": 125,
     "metadata": {},
     "output_type": "execute_result"
    }
   ],
   "source": [
    "hist"
   ]
  },
  {
   "cell_type": "markdown",
   "metadata": {},
   "source": [
    "Now we are getting reasonable results.  Using a smaller learning rate, with an early stop callback."
   ]
  },
  {
   "cell_type": "markdown",
   "metadata": {},
   "source": [
    "# Evauate model\n",
    "Note by including the data with missing values and adding in average amounts increased the error."
   ]
  },
  {
   "cell_type": "code",
   "execution_count": 126,
   "metadata": {},
   "outputs": [
    {
     "name": "stdout",
     "output_type": "stream",
     "text": [
      "Testing set Mean Abs Error:  0.01 predicted xxt\n"
     ]
    }
   ],
   "source": [
    "loss, mae, mse = model.evaluate(test_df, test_labels, verbose=0)\n",
    "\n",
    "print(\"Testing set Mean Abs Error: {:5.2f} predicted xxt\".format(mae))"
   ]
  },
  {
   "cell_type": "markdown",
   "metadata": {},
   "source": [
    "# Make predictions"
   ]
  },
  {
   "cell_type": "code",
   "execution_count": 127,
   "metadata": {},
   "outputs": [
    {
     "name": "stdout",
     "output_type": "stream",
     "text": [
      "2/2 [==============================] - 0s 8ms/step\n"
     ]
    },
    {
     "data": {
      "image/png": "[encoded data removed]",
      "text/plain": [
       "<Figure size 640x480 with 1 Axes>"
      ]
     },
     "metadata": {},
     "output_type": "display_data"
    }
   ],
   "source": [
    "test_predictions = model.predict(test_df).flatten()\n",
    "\n",
    "plt.scatter(test_labels, test_predictions)\n",
    "plt.xlabel('True Values [z]')\n",
    "plt.ylabel('Predictions [z]')\n",
    "plt.axis('equal')\n",
    "plt.axis('square')\n",
    "plt.xlim([0,plt.xlim()[1]])\n",
    "plt.ylim([0,plt.ylim()[1]])\n",
    "_ = plt.plot([-100, 100], [-100, 100])"
   ]
  },
  {
   "cell_type": "markdown",
   "metadata": {},
   "source": [
    "Look at error distribution"
   ]
  },
  {
   "cell_type": "code",
   "execution_count": 128,
   "metadata": {},
   "outputs": [
    {
     "data": {
      "image/png": "[encoded data removed]",
      "text/plain": [
       "<Figure size 640x480 with 1 Axes>"
      ]
     },
     "metadata": {},
     "output_type": "display_data"
    }
   ],
   "source": [
    "error = test_predictions - test_labels\n",
    "plt.hist(error, bins = 25)\n",
    "plt.xlabel(\"Prediction Error [z]\")\n",
    "_ = plt.ylabel(\"Count\")"
   ]
  },
  {
   "cell_type": "code",
   "execution_count": 129,
   "metadata": {},
   "outputs": [
    {
     "data": {
      "text/html": [
       "<div>\n",
       "<style scoped>\n",
       "    .dataframe tbody tr th:only-of-type {\n",
       "        vertical-align: middle;\n",
       "    }\n",
       "\n",
       "    .dataframe tbody tr th {\n",
       "        vertical-align: top;\n",
       "    }\n",
       "\n",
       "    .dataframe thead th {\n",
       "        text-align: right;\n",
       "    }\n",
       "</style>\n",
       "<table border=\"1\" class=\"dataframe\">\n",
       "  <thead>\n",
       "    <tr style=\"text-align: right;\">\n",
       "      <th></th>\n",
       "      <th>x</th>\n",
       "      <th>y</th>\n",
       "    </tr>\n",
       "  </thead>\n",
       "  <tbody>\n",
       "    <tr>\n",
       "      <th>0</th>\n",
       "      <td>0.765732</td>\n",
       "      <td>-0.057999</td>\n",
       "    </tr>\n",
       "    <tr>\n",
       "      <th>1</th>\n",
       "      <td>0.320914</td>\n",
       "      <td>0.063268</td>\n",
       "    </tr>\n",
       "    <tr>\n",
       "      <th>2</th>\n",
       "      <td>-0.879961</td>\n",
       "      <td>-1.312988</td>\n",
       "    </tr>\n",
       "    <tr>\n",
       "      <th>3</th>\n",
       "      <td>-1.168957</td>\n",
       "      <td>1.867435</td>\n",
       "    </tr>\n",
       "    <tr>\n",
       "      <th>4</th>\n",
       "      <td>-0.845989</td>\n",
       "      <td>0.903165</td>\n",
       "    </tr>\n",
       "    <tr>\n",
       "      <th>5</th>\n",
       "      <td>0.513272</td>\n",
       "      <td>0.193254</td>\n",
       "    </tr>\n",
       "    <tr>\n",
       "      <th>6</th>\n",
       "      <td>0.975314</td>\n",
       "      <td>-0.909424</td>\n",
       "    </tr>\n",
       "    <tr>\n",
       "      <th>7</th>\n",
       "      <td>0.734881</td>\n",
       "      <td>-0.348718</td>\n",
       "    </tr>\n",
       "    <tr>\n",
       "      <th>8</th>\n",
       "      <td>1.737758</td>\n",
       "      <td>-1.346797</td>\n",
       "    </tr>\n",
       "    <tr>\n",
       "      <th>9</th>\n",
       "      <td>-0.476785</td>\n",
       "      <td>0.535728</td>\n",
       "    </tr>\n",
       "    <tr>\n",
       "      <th>10</th>\n",
       "      <td>0.006409</td>\n",
       "      <td>0.376269</td>\n",
       "    </tr>\n",
       "    <tr>\n",
       "      <th>11</th>\n",
       "      <td>1.159208</td>\n",
       "      <td>-1.092439</td>\n",
       "    </tr>\n",
       "    <tr>\n",
       "      <th>12</th>\n",
       "      <td>-0.395383</td>\n",
       "      <td>0.454715</td>\n",
       "    </tr>\n",
       "    <tr>\n",
       "      <th>13</th>\n",
       "      <td>-0.132665</td>\n",
       "      <td>0.193254</td>\n",
       "    </tr>\n",
       "    <tr>\n",
       "      <th>14</th>\n",
       "      <td>0.190303</td>\n",
       "      <td>0.514677</td>\n",
       "    </tr>\n",
       "    <tr>\n",
       "      <th>15</th>\n",
       "      <td>0.442763</td>\n",
       "      <td>-0.057999</td>\n",
       "    </tr>\n",
       "    <tr>\n",
       "      <th>16</th>\n",
       "      <td>1.298282</td>\n",
       "      <td>-0.588001</td>\n",
       "    </tr>\n",
       "    <tr>\n",
       "      <th>17</th>\n",
       "      <td>-0.865565</td>\n",
       "      <td>-1.327315</td>\n",
       "    </tr>\n",
       "    <tr>\n",
       "      <th>18</th>\n",
       "      <td>-1.101570</td>\n",
       "      <td>-1.092439</td>\n",
       "    </tr>\n",
       "    <tr>\n",
       "      <th>19</th>\n",
       "      <td>0.749276</td>\n",
       "      <td>-0.041622</td>\n",
       "    </tr>\n",
       "    <tr>\n",
       "      <th>20</th>\n",
       "      <td>-0.962496</td>\n",
       "      <td>-0.909424</td>\n",
       "    </tr>\n",
       "    <tr>\n",
       "      <th>21</th>\n",
       "      <td>-0.234024</td>\n",
       "      <td>0.615551</td>\n",
       "    </tr>\n",
       "    <tr>\n",
       "      <th>22</th>\n",
       "      <td>-0.325023</td>\n",
       "      <td>0.706114</td>\n",
       "    </tr>\n",
       "    <tr>\n",
       "      <th>23</th>\n",
       "      <td>-1.172078</td>\n",
       "      <td>-1.022268</td>\n",
       "    </tr>\n",
       "    <tr>\n",
       "      <th>24</th>\n",
       "      <td>-0.219629</td>\n",
       "      <td>0.922648</td>\n",
       "    </tr>\n",
       "    <tr>\n",
       "      <th>25</th>\n",
       "      <td>1.944219</td>\n",
       "      <td>-1.230847</td>\n",
       "    </tr>\n",
       "    <tr>\n",
       "      <th>26</th>\n",
       "      <td>-0.647991</td>\n",
       "      <td>1.348961</td>\n",
       "    </tr>\n",
       "    <tr>\n",
       "      <th>27</th>\n",
       "      <td>-0.523021</td>\n",
       "      <td>0.903165</td>\n",
       "    </tr>\n",
       "    <tr>\n",
       "      <th>28</th>\n",
       "      <td>0.445884</td>\n",
       "      <td>-0.382528</td>\n",
       "    </tr>\n",
       "    <tr>\n",
       "      <th>29</th>\n",
       "      <td>-0.647991</td>\n",
       "      <td>1.027538</td>\n",
       "    </tr>\n",
       "    <tr>\n",
       "      <th>30</th>\n",
       "      <td>-0.777822</td>\n",
       "      <td>-1.093215</td>\n",
       "    </tr>\n",
       "    <tr>\n",
       "      <th>31</th>\n",
       "      <td>0.896490</td>\n",
       "      <td>-0.509554</td>\n",
       "    </tr>\n",
       "    <tr>\n",
       "      <th>32</th>\n",
       "      <td>0.652345</td>\n",
       "      <td>0.054845</td>\n",
       "    </tr>\n",
       "    <tr>\n",
       "      <th>33</th>\n",
       "      <td>1.542427</td>\n",
       "      <td>-0.830978</td>\n",
       "    </tr>\n",
       "    <tr>\n",
       "      <th>34</th>\n",
       "      <td>1.414789</td>\n",
       "      <td>-1.346797</td>\n",
       "    </tr>\n",
       "    <tr>\n",
       "      <th>35</th>\n",
       "      <td>-1.423759</td>\n",
       "      <td>-0.771791</td>\n",
       "    </tr>\n",
       "    <tr>\n",
       "      <th>36</th>\n",
       "      <td>1.482956</td>\n",
       "      <td>-0.771791</td>\n",
       "    </tr>\n",
       "    <tr>\n",
       "      <th>37</th>\n",
       "      <td>2.060726</td>\n",
       "      <td>-1.346797</td>\n",
       "    </tr>\n",
       "    <tr>\n",
       "      <th>38</th>\n",
       "      <td>0.103340</td>\n",
       "      <td>-0.041622</td>\n",
       "    </tr>\n",
       "    <tr>\n",
       "      <th>39</th>\n",
       "      <td>-0.455633</td>\n",
       "      <td>0.836100</td>\n",
       "    </tr>\n",
       "    <tr>\n",
       "      <th>40</th>\n",
       "      <td>-0.778602</td>\n",
       "      <td>-1.092439</td>\n",
       "    </tr>\n",
       "    <tr>\n",
       "      <th>41</th>\n",
       "      <td>0.442763</td>\n",
       "      <td>-0.379422</td>\n",
       "    </tr>\n",
       "    <tr>\n",
       "      <th>42</th>\n",
       "      <td>0.768853</td>\n",
       "      <td>-0.382528</td>\n",
       "    </tr>\n",
       "    <tr>\n",
       "      <th>43</th>\n",
       "      <td>-0.556992</td>\n",
       "      <td>1.258397</td>\n",
       "    </tr>\n",
       "    <tr>\n",
       "      <th>44</th>\n",
       "      <td>-0.879961</td>\n",
       "      <td>-0.991565</td>\n",
       "    </tr>\n",
       "    <tr>\n",
       "      <th>45</th>\n",
       "      <td>-0.849110</td>\n",
       "      <td>-1.343691</td>\n",
       "    </tr>\n",
       "    <tr>\n",
       "      <th>46</th>\n",
       "      <td>0.191083</td>\n",
       "      <td>-0.128945</td>\n",
       "    </tr>\n",
       "    <tr>\n",
       "      <th>47</th>\n",
       "      <td>-0.799754</td>\n",
       "      <td>-1.392811</td>\n",
       "    </tr>\n",
       "    <tr>\n",
       "      <th>48</th>\n",
       "      <td>0.169151</td>\n",
       "      <td>-0.107119</td>\n",
       "    </tr>\n",
       "    <tr>\n",
       "      <th>49</th>\n",
       "      <td>0.426308</td>\n",
       "      <td>-0.041622</td>\n",
       "    </tr>\n",
       "    <tr>\n",
       "      <th>50</th>\n",
       "      <td>1.805924</td>\n",
       "      <td>-1.093215</td>\n",
       "    </tr>\n",
       "    <tr>\n",
       "      <th>51</th>\n",
       "      <td>-1.168957</td>\n",
       "      <td>1.224588</td>\n",
       "    </tr>\n",
       "    <tr>\n",
       "      <th>52</th>\n",
       "      <td>0.006409</td>\n",
       "      <td>0.054845</td>\n",
       "    </tr>\n",
       "    <tr>\n",
       "      <th>53</th>\n",
       "      <td>1.219458</td>\n",
       "      <td>-1.152401</td>\n",
       "    </tr>\n",
       "  </tbody>\n",
       "</table>\n",
       "</div>"
      ],
      "text/plain": [
       "           x         y\n",
       "0   0.765732 -0.057999\n",
       "1   0.320914  0.063268\n",
       "2  -0.879961 -1.312988\n",
       "3  -1.168957  1.867435\n",
       "4  -0.845989  0.903165\n",
       "5   0.513272  0.193254\n",
       "6   0.975314 -0.909424\n",
       "7   0.734881 -0.348718\n",
       "8   1.737758 -1.346797\n",
       "9  -0.476785  0.535728\n",
       "10  0.006409  0.376269\n",
       "11  1.159208 -1.092439\n",
       "12 -0.395383  0.454715\n",
       "13 -0.132665  0.193254\n",
       "14  0.190303  0.514677\n",
       "15  0.442763 -0.057999\n",
       "16  1.298282 -0.588001\n",
       "17 -0.865565 -1.327315\n",
       "18 -1.101570 -1.092439\n",
       "19  0.749276 -0.041622\n",
       "20 -0.962496 -0.909424\n",
       "21 -0.234024  0.615551\n",
       "22 -0.325023  0.706114\n",
       "23 -1.172078 -1.022268\n",
       "24 -0.219629  0.922648\n",
       "25  1.944219 -1.230847\n",
       "26 -0.647991  1.348961\n",
       "27 -0.523021  0.903165\n",
       "28  0.445884 -0.382528\n",
       "29 -0.647991  1.027538\n",
       "30 -0.777822 -1.093215\n",
       "31  0.896490 -0.509554\n",
       "32  0.652345  0.054845\n",
       "33  1.542427 -0.830978\n",
       "34  1.414789 -1.346797\n",
       "35 -1.423759 -0.771791\n",
       "36  1.482956 -0.771791\n",
       "37  2.060726 -1.346797\n",
       "38  0.103340 -0.041622\n",
       "39 -0.455633  0.836100\n",
       "40 -0.778602 -1.092439\n",
       "41  0.442763 -0.379422\n",
       "42  0.768853 -0.382528\n",
       "43 -0.556992  1.258397\n",
       "44 -0.879961 -0.991565\n",
       "45 -0.849110 -1.343691\n",
       "46  0.191083 -0.128945\n",
       "47 -0.799754 -1.392811\n",
       "48  0.169151 -0.107119\n",
       "49  0.426308 -0.041622\n",
       "50  1.805924 -1.093215\n",
       "51 -1.168957  1.224588\n",
       "52  0.006409  0.054845\n",
       "53  1.219458 -1.152401"
      ]
     },
     "execution_count": 129,
     "metadata": {},
     "output_type": "execute_result"
    }
   ],
   "source": [
    "test_df\n"
   ]
  },
  {
   "cell_type": "code",
   "execution_count": 130,
   "metadata": {},
   "outputs": [
    {
     "name": "stdout",
     "output_type": "stream",
     "text": [
      "2/2 [==============================] - 0s 5ms/step\n"
     ]
    },
    {
     "data": {
      "text/plain": [
       "array([[ 0.7412471 ],\n",
       "       [ 0.40031993],\n",
       "       [-2.2810996 ],\n",
       "       [ 0.70350224],\n",
       "       [ 0.04530545],\n",
       "       [ 0.73632175],\n",
       "       [ 0.08083824],\n",
       "       [ 0.4083963 ],\n",
       "       [ 0.42796203],\n",
       "       [ 0.05250848],\n",
       "       [ 0.3941841 ],\n",
       "       [ 0.0844259 ],\n",
       "       [ 0.05409644],\n",
       "       [ 0.05922212],\n",
       "       [ 0.7300207 ],\n",
       "       [ 0.40269727],\n",
       "       [ 0.75163686],\n",
       "       [-2.2808185 ],\n",
       "       [-2.2854228 ],\n",
       "       [ 0.7409261 ],\n",
       "       [-1.9504606 ],\n",
       "       [ 0.3894933 ],\n",
       "       [ 0.38771796],\n",
       "       [-2.2867982 ],\n",
       "       [ 0.72202307],\n",
       "       [ 0.7642389 ],\n",
       "       [ 0.713666  ],\n",
       "       [ 0.38385504],\n",
       "       [ 0.07050934],\n",
       "       [ 0.38141692],\n",
       "       [-1.9468575 ],\n",
       "       [ 0.41154927],\n",
       "       [ 0.73903495],\n",
       "       [ 0.7564002 ],\n",
       "       [ 0.08941219],\n",
       "       [-2.2917087 ],\n",
       "       [ 0.75524   ],\n",
       "       [ 0.766512  ],\n",
       "       [ 0.06382637],\n",
       "       [ 0.3851697 ],\n",
       "       [-1.9468731 ],\n",
       "       [ 0.07044844],\n",
       "       [ 0.4090591 ],\n",
       "       [ 0.71544105],\n",
       "       [-1.94885   ],\n",
       "       [-2.2804973 ],\n",
       "       [ 0.06553818],\n",
       "       [-2.2795346 ],\n",
       "       [ 0.06511034],\n",
       "       [ 0.4023762 ],\n",
       "       [ 0.76154107],\n",
       "       [ 0.03900415],\n",
       "       [ 0.0619352 ],\n",
       "       [ 0.08560149]], dtype=float32)"
      ]
     },
     "execution_count": 130,
     "metadata": {},
     "output_type": "execute_result"
    }
   ],
   "source": [
    "model.predict(test_df)"
   ]
  },
  {
   "cell_type": "markdown",
   "metadata": {},
   "source": [
    "## Manual prediction"
   ]
  },
  {
   "cell_type": "code",
   "execution_count": 131,
   "metadata": {},
   "outputs": [
    {
     "name": "stdout",
     "output_type": "stream",
     "text": [
      "data frame 1 for sum=10\n",
      "     x    y\n",
      "0  6.0  4.0\n",
      "prediction, sum should be 10\n",
      "1/1 [==============================] - 0s 28ms/step\n",
      "[[10.422714]]\n",
      "*********\n",
      "data frame 2 for sum=7\n",
      "      x     y\n",
      "0  2.37  4.63\n",
      "prediction, sum should be 7\n",
      "1/1 [==============================] - 0s 12ms/step\n",
      "[[7.268806]]\n",
      "*********\n",
      "data frame 3 for sum=127.019\n",
      "        x      y\n",
      "0  35.789  91.23\n",
      "prediction, sum should be 127.019\n",
      "1/1 [==============================] - 0s 14ms/step\n",
      "[[131.8168]]\n",
      "*********\n"
     ]
    }
   ],
   "source": [
    "# cherry pick some tests\n",
    "\n",
    "# 10 = 6.0 + 4.0 \n",
    "adf1 = pd.DataFrame([[6.0, 4.0]], columns=['x','y'])\n",
    "\n",
    "\n",
    "# 7 = 2.37 + 4.63 <------- NOTICE: not in xyz10 dataset\n",
    "adf2 = pd.DataFrame([[2.37, 4.63]], columns=['x','y'])\n",
    "\n",
    "# 127.019 = 35.789 + 91.23 <---- NOTICE: way outside our bounds for training data\n",
    "adf3 = pd.DataFrame([[35.789, 91.23]], columns=['x','y'])\n",
    "\n",
    "\n",
    "print(\"data frame 1 for sum=10\")\n",
    "print(adf1)\n",
    "# predict\n",
    "print(\"prediction, sum should be 10\")\n",
    "print(model.predict(adf1))\n",
    "print(\"*********\")\n",
    "\n",
    "\n",
    "print(\"data frame 2 for sum=7\")\n",
    "print(adf2)\n",
    "# predict\n",
    "print(\"prediction, sum should be 7\")\n",
    "print(model.predict(adf2))\n",
    "print(\"*********\")\n",
    "\n",
    "print(\"data frame 3 for sum=127.019\")\n",
    "print(adf3)\n",
    "# predict\n",
    "print(\"prediction, sum should be 127.019\")\n",
    "print(model.predict(adf3))\n",
    "print(\"*********\")\n"
   ]
  },
  {
   "cell_type": "code",
   "execution_count": null,
   "metadata": {},
   "outputs": [],
   "source": []
  },
  {
   "cell_type": "code",
   "execution_count": null,
   "metadata": {},
   "outputs": [],
   "source": []
  }
 ],
 "metadata": {
  "kernelspec": {
   "display_name": "Python 3",
   "language": "python",
   "name": "python3"
  },
  "language_info": {
   "codemirror_mode": {
    "name": "ipython",
    "version": 3
   },
   "file_extension": ".py",
   "mimetype": "text/x-python",
   "name": "python",
   "nbconvert_exporter": "python",
   "pygments_lexer": "ipython3",
   "version": "3.9.6"
  }
 },
 "nbformat": 4,
 "nbformat_minor": 2
}
