{
 "cells": [
  {
   "cell_type": "code",
   "execution_count": 1,
   "metadata": {},
   "outputs": [
    {
     "name": "stdout",
     "output_type": "stream",
     "text": [
      "{'address': {'city': 'Gwenborough',\n",
      "             'geo': {'lat': '-37.3159', 'lng': '81.1496'},\n",
      "             'street': 'Kulas Light',\n",
      "             'suite': 'Apt. 556',\n",
      "             'zipcode': '92998-3874'},\n",
      " 'company': {'bs': 'harness real-time e-markets',\n",
      "             'catchPhrase': 'Multi-layered client-server neural-net',\n",
      "             'name': 'Romaguera-Crona'},\n",
      " 'email': 'Sincere@april.biz',\n",
      " 'id': 1,\n",
      " 'name': 'Leanne Graham',\n",
      " 'phone': '1-770-736-8031 x56442',\n",
      " 'username': 'Bret',\n",
      " 'website': 'hildegard.org'}\n",
      "    name  age\n",
      "0  Alice   25\n",
      "1    Bob   30\n"
     ]
    }
   ],
   "source": [
    "from pprint import pprint\n",
    "foo={\"id\": 1,\"name\": \"Leanne Graham\",\"username\": \"Bret\",\"email\": \"Sincere@april.biz\",\"address\": {  \"street\": \"Kulas Light\",  \"suite\": \"Apt. 556\",  \"city\": \"Gwenborough\",  \"zipcode\": \"92998-3874\",  \"geo\": {    \"lat\": \"-37.3159\",    \"lng\": \"81.1496\"  }},\"phone\": \"1-770-736-8031 x56442\",\"website\": \"hildegard.org\",\"company\": {  \"name\": \"Romaguera-Crona\",  \"catchPhrase\": \"Multi-layered client-server neural-net\",  \"bs\": \"harness real-time e-markets\"}}\n",
    "pprint(foo)\n",
    "\n",
    "import pandas as pd\n",
    "df = pd.DataFrame({'name': ['Alice', 'Bob'], 'age': [25, 30]})\n",
    "print(df)"
   ]
  },
  {
   "cell_type": "code",
   "execution_count": null,
   "metadata": {},
   "outputs": [],
   "source": []
  }
 ],
 "metadata": {
  "kernelspec": {
   "display_name": "nbenv",
   "language": "python",
   "name": "python3"
  },
  "language_info": {
   "codemirror_mode": {
    "name": "ipython",
    "version": 3
   },
   "file_extension": ".py",
   "mimetype": "text/x-python",
   "name": "python",
   "nbconvert_exporter": "python",
   "pygments_lexer": "ipython3",
   "version": "3.10.8"
  }
 },
 "nbformat": 4,
 "nbformat_minor": 2
}
