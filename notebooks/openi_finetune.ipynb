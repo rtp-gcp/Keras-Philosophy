{
 "cells": [
  {
   "cell_type": "markdown",
   "metadata": {},
   "source": [
    "# First Steps in finetuning with open ai\n"
   ]
  },
  {
   "cell_type": "code",
   "execution_count": 1,
   "metadata": {},
   "outputs": [],
   "source": [
    "# Import the os package\n",
    "import os\n",
    "\n",
    "# Import the openai package\n",
    "import openai\n",
    "\n",
    "# import the dotenv package\n",
    "from dotenv import load_dotenv\n",
    "\n",
    "import pprint\n",
    "\n",
    "# From the IPython.display package, import display and Markdown\n",
    "from IPython.display import display, Markdown\n",
    "\n"
   ]
  },
  {
   "cell_type": "code",
   "execution_count": 2,
   "metadata": {},
   "outputs": [
    {
     "data": {
      "text/plain": [
       "True"
      ]
     },
     "execution_count": 2,
     "metadata": {},
     "output_type": "execute_result"
    }
   ],
   "source": [
    "# Get the current working directory\n",
    "cwd = os.getcwd()\n",
    "# Construct the .env file path\n",
    "env_path = os.path.join(cwd, '.env')\n",
    "\n",
    "# Load the .env file\n",
    "load_dotenv(dotenv_path=env_path)"
   ]
  },
  {
   "cell_type": "code",
   "execution_count": 3,
   "metadata": {},
   "outputs": [],
   "source": [
    "# Set openai.api_key to the OPENAI environment variable\n",
    "OPENAI_APIKEY = os.environ[\"OPENAI\"]\n",
    "openai.api_key=OPENAI_APIKEY"
   ]
  },
  {
   "cell_type": "code",
   "execution_count": 4,
   "metadata": {},
   "outputs": [],
   "source": [
    "# Define the system message\n",
    "system_msg = 'You are a helpful assistant who understands data science.'\n",
    "\n",
    "# Define the user message\n",
    "user_msg = 'Create a small dataset of data about people. The format of the dataset should be a data frame with 5 rows and 3 columns. The columns should be called \"name\", \"height_cm\", and \"eye_color\". The \"name\" column should contain randomly chosen first names. The \"height_cm\" column should contain randomly chosen heights, given in centimeters. The \"eye_color\" column should contain randomly chosen eye colors, taken from a choice of \"brown\", \"blue\", and \"green\". Provide Python code to generate the dataset, then provide the output in the format of a markdown table.'\n",
    "\n",
    "# Create a dataset using GPT\n",
    "response = openai.ChatCompletion.create(\n",
    "    model=\"gpt-3.5-turbo-0613\",\n",
    "    messages=[\n",
    "        {\"role\": \"system\", \"content\": system_msg},\n",
    "        {\"role\": \"user\", \"content\": user_msg}\n",
    "    ]\n",
    ")"
   ]
  },
  {
   "cell_type": "code",
   "execution_count": 5,
   "metadata": {},
   "outputs": [
    {
     "data": {
      "text/plain": [
       "'stop'"
      ]
     },
     "execution_count": 5,
     "metadata": {},
     "output_type": "execute_result"
    }
   ],
   "source": [
    "response[\"choices\"][0][\"finish_reason\"]"
   ]
  },
  {
   "cell_type": "code",
   "execution_count": 6,
   "metadata": {},
   "outputs": [
    {
     "data": {
      "text/plain": [
       "\"To generate the dataset, you can use the `pandas` library in Python. Here's an example code that creates the dataset and outputs it as a markdown table:\\n\\n```python\\nimport pandas as pd\\nimport numpy as np\\n\\n# Define the number of rows in the dataset\\nnum_rows = 5\\n\\n# Define a list of random first names\\nfirst_names = ['John', 'Emma', 'Michael', 'Sophia', 'William', 'Olivia', 'James', 'Ava', 'Benjamin', 'Mia']\\n\\n# Generate random data for the dataset\\ndata = {\\n    'name': np.random.choice(first_names, num_rows),\\n    'height_cm': np.random.randint(150, 190, num_rows),\\n    'eye_color': np.random.choice(['brown', 'blue', 'green'], num_rows)\\n}\\n\\n# Create a DataFrame from the data\\ndf = pd.DataFrame(data)\\n\\n# Convert the DataFrame to a markdown table\\nmarkdown_table = df.to_markdown(index=False)\\n\\n# Output the markdown table\\nprint(markdown_table)\\n```\\n\\nThe output markdown table will look like this:\\n\\n| name     |   height_cm | eye_color   |\\n|:--------:|------------:|:-----------:|\\n| Sophia   |         184 | green       |\\n| William  |         158 | green       |\\n| Emma     |         184 | brown       |\\n| Michael  |         186 | brown       |\\n| Benjamin |         159 | blue        |\""
      ]
     },
     "execution_count": 6,
     "metadata": {},
     "output_type": "execute_result"
    }
   ],
   "source": [
    "response[\"choices\"][0][\"message\"][\"content\"]"
   ]
  },
  {
   "cell_type": "code",
   "execution_count": null,
   "metadata": {},
   "outputs": [],
   "source": []
  },
  {
   "cell_type": "code",
   "execution_count": null,
   "metadata": {},
   "outputs": [],
   "source": []
  },
  {
   "cell_type": "code",
   "execution_count": null,
   "metadata": {},
   "outputs": [],
   "source": []
  },
  {
   "cell_type": "markdown",
   "metadata": {},
   "source": [
    "# Upload a file for model tuning"
   ]
  },
  {
   "cell_type": "code",
   "execution_count": 8,
   "metadata": {},
   "outputs": [
    {
     "name": "stdout",
     "output_type": "stream",
     "text": [
      "{\n",
      "  \"object\": \"file\",\n",
      "  \"id\": \"file-RltDbgHjpQ9qANthDCvqJQkO\",\n",
      "  \"purpose\": \"fine-tune\",\n",
      "  \"filename\": \"file\",\n",
      "  \"bytes\": 16306,\n",
      "  \"created_at\": 1699298132,\n",
      "  \"status\": \"processed\",\n",
      "  \"status_details\": null\n",
      "}\n"
     ]
    }
   ],
   "source": [
    "response = openai.File.create(\n",
    "    # hlasm\n",
    "    file=open(\"../data/sample.jsonl\"),\n",
    "    # demo\n",
    "    #file=open(\"data/davis.jsonl\"),\n",
    "    purpose='fine-tune'\n",
    ")\n",
    "print(response)"
   ]
  },
  {
   "cell_type": "markdown",
   "metadata": {},
   "source": [
    "# Acutal fine tune of a model"
   ]
  },
  {
   "cell_type": "code",
   "execution_count": 9,
   "metadata": {},
   "outputs": [
    {
     "name": "stdout",
     "output_type": "stream",
     "text": [
      "{\n",
      "  \"object\": \"fine_tuning.job\",\n",
      "  \"id\": \"ftjob-AAK4Xtz8s61ltsb7PDnEcFJT\",\n",
      "  \"model\": \"gpt-3.5-turbo-0613\",\n",
      "  \"created_at\": 1699298141,\n",
      "  \"finished_at\": null,\n",
      "  \"fine_tuned_model\": null,\n",
      "  \"organization_id\": \"org-kHUq2JzdiW8FIDxqE01bYdot\",\n",
      "  \"result_files\": [],\n",
      "  \"status\": \"validating_files\",\n",
      "  \"validation_file\": null,\n",
      "  \"training_file\": \"file-RltDbgHjpQ9qANthDCvqJQkO\",\n",
      "  \"hyperparameters\": {\n",
      "    \"n_epochs\": \"auto\"\n",
      "  },\n",
      "  \"trained_tokens\": null,\n",
      "  \"error\": null\n",
      "}\n"
     ]
    }
   ],
   "source": [
    "# create a new fine tuning model \n",
    "file_id = response[\"id\"]\n",
    "# recommended fine tuning model\n",
    "model=\"gpt-3.5-turbo-0613\"\n",
    "# model used by Gregory Bauges\n",
    "#model=\"gpt-3.5-turbo\"\n",
    "response = openai.FineTuningJob.create(training_file=file_id,\n",
    "                                       model=model)\n",
    "print(response)"
   ]
  },
  {
   "cell_type": "markdown",
   "metadata": {},
   "source": [
    "# Lets try to use it"
   ]
  },
  {
   "cell_type": "markdown",
   "metadata": {},
   "source": [
    "Lets look at the form of one of the training messages\n",
    "\n",
    "```\n",
    "{'messages': [{'content': 'Marv is a factual chatbot that is also sarcastic.',\n",
    "                  'role': 'system'},\n",
    "              \n",
    "              {'content': 'How far is the Chelsea Cafe from my current location?',\n",
    "                  'role': 'user'},\n",
    "                  \n",
    "              {'content': 'Around five minutes walk. Are you hungry?',\n",
    "               'role': 'assistant'}]}``"
   ]
  },
  {
   "cell_type": "code",
   "execution_count": 10,
   "metadata": {},
   "outputs": [
    {
     "name": "stdout",
     "output_type": "stream",
     "text": [
      "{'messages': [{'content': 'Marv is a factual chatbot that is also sarcastic.',\n",
      "               'role': 'system'},\n",
      "              {'content': 'How far is the Chelsea Cafe from my current '\n",
      "                          'location?',\n",
      "               'role': 'user'},\n",
      "              {'content': 'Around five minutes walk. Are you hungry?',\n",
      "               'role': 'assistant'}]}\n"
     ]
    }
   ],
   "source": [
    "pprint.pprint({\"messages\": [{\"role\": \"system\", \"content\": \"Marv is a factual chatbot that is also sarcastic.\"}, {\"role\": \"user\", \"content\": \"How far is the Chelsea Cafe from my current location?\"}, {\"role\": \"assistant\", \"content\": \"Around five minutes walk. Are you hungry?\"}]}\n",
    ")"
   ]
  },
  {
   "cell_type": "code",
   "execution_count": 11,
   "metadata": {},
   "outputs": [
    {
     "name": "stdout",
     "output_type": "stream",
     "text": [
      "tuned\n"
     ]
    }
   ],
   "source": [
    "# select one of these two modes\n",
    "#our_mode = \"normal\"\n",
    "our_mode = \"tuned\"\n",
    "\n",
    "# dependency analytics disazble for syntax\n",
    "# default model\n",
    "default_model=\"gpt-3.5-turbo-0613\"\n",
    "# our tuned model\n",
    "#our_model=\"ft:gpt-3.5-turbo-0613:personal::8DvbJsff\"\n",
    "# hlasm tuned model\n",
    "#our_model=\"ft:gpt-3.5-turbo-0613:personal::8Hz40ex5\"\n",
    "tuned_model=\"ft:gpt-3.5-turbo-0613:personal::8HzSS7eU\"\n",
    "\n",
    "\n",
    "if our_mode == \"normal\":\n",
    "    print(\"normal\")\n",
    "    # Define the system message\n",
    "    system_msg = 'You are a helpful assistant who understands data science.'\n",
    "    # Define the user message\n",
    "    #user_msg = 'How far is the Chelsea Cafe from my current location?'\n",
    "    #user_msg = \"Give me an example of the HLASM Divide Instruction\"\n",
    "    #user_msg = \"Provide an explanation of the Divide instruction and how to protect against divide by zero errors.\"\n",
    "    #user_msg = \"Provide an explanation of the Move Immediate instruction in BAS.\"\n",
    "    #user_msg = \"Provide an explanation of the Divide instruction with HLASM and how to protect against divide by zero errors.\"\n",
    "    #user_msg = \"Provide an example of the Divide instruction with HLASM\"\n",
    "    user_msg = \"How to add two numbers in HLASM\"\n",
    "    our_model = default_model\n",
    "else:\n",
    "    print(\"tuned\")\n",
    "    # Define the system message\n",
    "    #system_msg = 'Marv is a factual chatbot that is also sarcastic.'\n",
    "    #system_msg = 'You are a helpful assistant who understands IBM HLASM and IBM BAS'\n",
    "    system_msg = 'You are a helpful assistant who understands IBM HLASM'\n",
    "    # Define the user message\n",
    "    #user_msg = 'How far is the Chelsea Cafe from my current location?'   # This is the exact questions and responds with our exact answer.\n",
    "    #user_msg = 'How long to walk to the Chelsea Cafe?'   # This is similar, but responds with a different answer.\n",
    "    #user_msg = 'How far to the Chelsea Cafe?'   # This is similar, but responds with a different answer.\n",
    "    #user_msg = \"Provide an explanation of the Move Immediate instruction in BAS.\"\n",
    "    #user_msg = \"Provide an explanation of the Move Immediate instruction in HLASM.\"\n",
    "    user_msg = \"how to write code in HLASM to add two numbers.\"\n",
    "    #user_msg = \"Provide an explanation of the Divide instruction with HLASM and how to protect against divide by zero errors.\"\n",
    "    #user_msg = \"Provide an example of the Divide instruction with HLASM\"\n",
    "    #user_msg = \"How to add two numbers in HLASM\"\n",
    "    our_model = tuned_model\n",
    "\n",
    "\n",
    "\n",
    "\n",
    "\n",
    "\n",
    "# Create a dataset using GPT\n",
    "response = openai.ChatCompletion.create(\n",
    "    model=our_model,\n",
    "    messages=[\n",
    "        {\"role\": \"system\", \"content\": system_msg},\n",
    "        {\"role\": \"user\", \"content\": user_msg}\n",
    "    ]\n",
    ")"
   ]
  },
  {
   "cell_type": "code",
   "execution_count": 12,
   "metadata": {},
   "outputs": [
    {
     "name": "stdout",
     "output_type": "stream",
     "text": [
      "finish_reason:  stop\n",
      "content:          STM   R14,R12,12(13)  save registers\n",
      "        L     R0,NUM1         load first number\n",
      "        A     R0,NUM2         add second number\n",
      "        ST    R0,RESULT       store result\n",
      "        LM    R14,R12,12(13)  restore registers\n",
      "        BR    R14             return to caller\n",
      " \n",
      "RESULT DC    F'0'             define storage for result\n",
      "NUM1   DC    X'00000001'     first number\n",
      "NUM2   DC    X'00000002'     second number\n"
     ]
    }
   ],
   "source": [
    "print(\"finish_reason: \", response[\"choices\"][0][\"finish_reason\"])\n",
    "print(\"content: \",response[\"choices\"][0][\"message\"][\"content\"])"
   ]
  },
  {
   "cell_type": "code",
   "execution_count": null,
   "metadata": {},
   "outputs": [],
   "source": []
  },
  {
   "cell_type": "code",
   "execution_count": null,
   "metadata": {},
   "outputs": [],
   "source": []
  }
 ],
 "metadata": {
  "kernelspec": {
   "display_name": ".venv",
   "language": "python",
   "name": "python3"
  },
  "language_info": {
   "codemirror_mode": {
    "name": "ipython",
    "version": 3
   },
   "file_extension": ".py",
   "mimetype": "text/x-python",
   "name": "python",
   "nbconvert_exporter": "python",
   "pygments_lexer": "ipython3",
   "version": "3.10.8"
  }
 },
 "nbformat": 4,
 "nbformat_minor": 2
}
