{
 "cells": [
  {
   "cell_type": "markdown",
   "metadata": {},
   "source": [
    "# First Steps in finetuning with open ai\n"
   ]
  },
  {
   "cell_type": "code",
   "execution_count": 1,
   "metadata": {},
   "outputs": [],
   "source": [
    "# Import the os package\n",
    "import os\n",
    "\n",
    "# Import the openai package\n",
    "import openai\n",
    "\n",
    "# import the dotenv package\n",
    "from dotenv import load_dotenv\n",
    "\n",
    "import pprint\n",
    "\n",
    "# From the IPython.display package, import display and Markdown\n",
    "from IPython.display import display, Markdown\n",
    "\n"
   ]
  },
  {
   "cell_type": "code",
   "execution_count": 2,
   "metadata": {},
   "outputs": [
    {
     "data": {
      "text/plain": [
       "True"
      ]
     },
     "execution_count": 2,
     "metadata": {},
     "output_type": "execute_result"
    }
   ],
   "source": [
    "# Get the current working directory\n",
    "cwd = os.getcwd()\n",
    "# Construct the .env file path\n",
    "env_path = os.path.join(cwd, '.env')\n",
    "\n",
    "# Load the .env file\n",
    "load_dotenv(dotenv_path=env_path)"
   ]
  },
  {
   "cell_type": "code",
   "execution_count": 3,
   "metadata": {},
   "outputs": [],
   "source": [
    "# Set openai.api_key to the OPENAI environment variable\n",
    "OPENAI_APIKEY = os.environ[\"OPENAI\"]\n",
    "openai.api_key=OPENAI_APIKEY"
   ]
  },
  {
   "cell_type": "code",
   "execution_count": 4,
   "metadata": {},
   "outputs": [],
   "source": [
    "# Define the system message\n",
    "system_msg = 'You are a helpful assistant who understands data science.'\n",
    "\n",
    "# Define the user message\n",
    "user_msg = 'Create a small dataset of data about people. The format of the dataset should be a data frame with 5 rows and 3 columns. The columns should be called \"name\", \"height_cm\", and \"eye_color\". The \"name\" column should contain randomly chosen first names. The \"height_cm\" column should contain randomly chosen heights, given in centimeters. The \"eye_color\" column should contain randomly chosen eye colors, taken from a choice of \"brown\", \"blue\", and \"green\". Provide Python code to generate the dataset, then provide the output in the format of a markdown table.'\n",
    "\n",
    "# Create a dataset using GPT\n",
    "response = openai.ChatCompletion.create(\n",
    "    model=\"gpt-3.5-turbo-0613\",\n",
    "    messages=[\n",
    "        {\"role\": \"system\", \"content\": system_msg},\n",
    "        {\"role\": \"user\", \"content\": user_msg}\n",
    "    ]\n",
    ")"
   ]
  },
  {
   "cell_type": "code",
   "execution_count": 5,
   "metadata": {},
   "outputs": [
    {
     "data": {
      "text/plain": [
       "'stop'"
      ]
     },
     "execution_count": 5,
     "metadata": {},
     "output_type": "execute_result"
    }
   ],
   "source": [
    "response[\"choices\"][0][\"finish_reason\"]"
   ]
  },
  {
   "cell_type": "code",
   "execution_count": 6,
   "metadata": {},
   "outputs": [
    {
     "data": {
      "text/plain": [
       "'The following Python code generates a small dataset of people:\\n\\n```python\\nimport pandas as pd\\nimport random\\n\\n# Randomly chosen first names\\nnames = [\"Alice\", \"Bob\", \"Charlie\", \"David\", \"Emma\"]\\n\\n# Randomly chosen heights (in centimeters)\\nheights = [160, 170, 180, 165, 175]\\n\\n# Randomly chosen eye colors\\neye_colors = [\"brown\", \"blue\", \"green\"]\\n\\n# Create a dictionary with the data\\ndata = {\"name\": random.choices(names, k=5),\\n        \"height_cm\": random.choices(heights, k=5),\\n        \"eye_color\": random.choices(eye_colors, k=5)}\\n\\n# Create a data frame from the dictionary\\ndf = pd.DataFrame(data)\\n\\n# Print the data frame\\nprint(df)\\n```\\n\\nOutput:\\n\\n```\\n      name  height_cm eye_color\\n0    David        160     green\\n1  Charlie        170     green\\n2     Emma        180     green\\n3     Emma        175     brown\\n4      Bob        175      blue\\n```\\n\\nHere is the output in the format of a markdown table:\\n\\n|   |   name   | height_cm | eye_color |\\n|---|----------|-----------|-----------|\\n| 0 | David    |   160     |   green   |\\n| 1 | Charlie  |   170     |   green   |\\n| 2 | Emma     |   180     |   green   |\\n| 3 | Emma     |   175     |   brown   |\\n| 4 | Bob      |   175     |   blue    |'"
      ]
     },
     "execution_count": 6,
     "metadata": {},
     "output_type": "execute_result"
    }
   ],
   "source": [
    "response[\"choices\"][0][\"message\"][\"content\"]"
   ]
  },
  {
   "cell_type": "code",
   "execution_count": 7,
   "metadata": {},
   "outputs": [
    {
     "name": "stdout",
     "output_type": "stream",
     "text": [
      "{\n",
      "  \"object\": \"file\",\n",
      "  \"id\": \"file-pf0SHG1W2kZWKq4WManUNOsL\",\n",
      "  \"purpose\": \"fine-tune\",\n",
      "  \"filename\": \"file\",\n",
      "  \"bytes\": 3009,\n",
      "  \"created_at\": 1698589730,\n",
      "  \"status\": \"processed\",\n",
      "  \"status_details\": null\n",
      "}\n"
     ]
    }
   ],
   "source": [
    "response = openai.File.create(\n",
    "    file=open(\"sample_datasets/davis.jsonl\"),\n",
    "    purpose='fine-tune'\n",
    ")\n",
    "print(response)"
   ]
  },
  {
   "cell_type": "markdown",
   "metadata": {},
   "source": [
    "# Acutal fine tune of a model"
   ]
  },
  {
   "cell_type": "code",
   "execution_count": 16,
   "metadata": {},
   "outputs": [
    {
     "name": "stdout",
     "output_type": "stream",
     "text": [
      "{\n",
      "  \"object\": \"fine_tuning.job\",\n",
      "  \"id\": \"ftjob-jKcnh5QKOxHaYSAmquF1Zsk7\",\n",
      "  \"model\": \"gpt-3.5-turbo-0613\",\n",
      "  \"created_at\": 1698330056,\n",
      "  \"finished_at\": null,\n",
      "  \"fine_tuned_model\": null,\n",
      "  \"organization_id\": \"org-kHUq2JzdiW8FIDxqE01bYdot\",\n",
      "  \"result_files\": [],\n",
      "  \"status\": \"validating_files\",\n",
      "  \"validation_file\": null,\n",
      "  \"training_file\": \"file-VCM3q5sZByfXopxM9v2SdoaF\",\n",
      "  \"hyperparameters\": {\n",
      "    \"n_epochs\": \"auto\"\n",
      "  },\n",
      "  \"trained_tokens\": null,\n",
      "  \"error\": null\n",
      "}\n"
     ]
    }
   ],
   "source": [
    "# create a new fine tuning model \n",
    "file_id = response[\"id\"]\n",
    "# recommended fine tuning model\n",
    "model=\"gpt-3.5-turbo-0613\"\n",
    "# model used by Gregory Bauges\n",
    "#model=\"gpt-3.5-turbo\"\n",
    "response = openai.FineTuningJob.create(training_file=file_id,\n",
    "                                       model=model)\n",
    "print(response)"
   ]
  },
  {
   "cell_type": "markdown",
   "metadata": {},
   "source": [
    "# Lets try to use it"
   ]
  },
  {
   "cell_type": "markdown",
   "metadata": {},
   "source": [
    "Lets look at the form of one of the training messages\n",
    "\n",
    "```\n",
    "{'messages': [{'content': 'Marv is a factual chatbot that is also sarcastic.',\n",
    "                  'role': 'system'},\n",
    "              \n",
    "              {'content': 'How far is the Chelsea Cafe from my current location?',\n",
    "                  'role': 'user'},\n",
    "                  \n",
    "              {'content': 'Around five minutes walk. Are you hungry?',\n",
    "               'role': 'assistant'}]}``"
   ]
  },
  {
   "cell_type": "code",
   "execution_count": 9,
   "metadata": {},
   "outputs": [
    {
     "name": "stdout",
     "output_type": "stream",
     "text": [
      "{'messages': [{'content': 'Marv is a factual chatbot that is also sarcastic.',\n",
      "               'role': 'system'},\n",
      "              {'content': 'How far is the Chelsea Cafe from my current '\n",
      "                          'location?',\n",
      "               'role': 'user'},\n",
      "              {'content': 'Around five minutes walk. Are you hungry?',\n",
      "               'role': 'assistant'}]}\n"
     ]
    }
   ],
   "source": [
    "pprint.pprint({\"messages\": [{\"role\": \"system\", \"content\": \"Marv is a factual chatbot that is also sarcastic.\"}, {\"role\": \"user\", \"content\": \"How far is the Chelsea Cafe from my current location?\"}, {\"role\": \"assistant\", \"content\": \"Around five minutes walk. Are you hungry?\"}]}\n",
    ")"
   ]
  },
  {
   "cell_type": "code",
   "execution_count": 16,
   "metadata": {},
   "outputs": [
    {
     "name": "stdout",
     "output_type": "stream",
     "text": [
      "normal\n"
     ]
    }
   ],
   "source": [
    "our_mode = \"normal\"\n",
    "#our_mode = \"sarcastic\"\n",
    "\n",
    "# dependency analytics disazble for syntax\n",
    "# default model\n",
    "# our_model=\"gpt-3.5-turbo-0613\"\n",
    "# our tuned model\n",
    "our_model=\"ft:gpt-3.5-turbo-0613:personal::8DvbJsff\"\n",
    "\n",
    "\n",
    "if our_mode == \"normal\":\n",
    "    print(\"normal\")\n",
    "    # Define the system message\n",
    "    system_msg = 'You are a helpful assistant who understands data science.'\n",
    "    # Define the user message\n",
    "    user_msg = 'How far is the Chelsea Cafe from my current location?'\n",
    "else:\n",
    "    print(\"sarcastic\")\n",
    "    # Define the system message\n",
    "    system_msg = 'Marv is a factual chatbot that is also sarcastic.'\n",
    "    # Define the user message\n",
    "    #user_msg = 'How far is the Chelsea Cafe from my current location?'   # This is the exact questions and responds with our exact answer.\n",
    "    #user_msg = 'How long to walk to the Chelsea Cafe?'   # This is similar, but responds with a different answer.\n",
    "    user_msg = 'How far to the Chelsea Cafe?'   # This is similar, but responds with a different answer.\n",
    "\n",
    "\n",
    "\n",
    "\n",
    "\n",
    "\n",
    "# Create a dataset using GPT\n",
    "response = openai.ChatCompletion.create(\n",
    "    model=our_model,\n",
    "    messages=[\n",
    "        {\"role\": \"system\", \"content\": system_msg},\n",
    "        {\"role\": \"user\", \"content\": user_msg}\n",
    "    ]\n",
    ")"
   ]
  },
  {
   "cell_type": "code",
   "execution_count": 17,
   "metadata": {},
   "outputs": [
    {
     "name": "stdout",
     "output_type": "stream",
     "text": [
      "finish_reason:  stop\n",
      "conten:  I'm sorry, I cannot provide real-time distance or directions as I do not have access to your current location data.\n"
     ]
    }
   ],
   "source": [
    "print(\"finish_reason: \", response[\"choices\"][0][\"finish_reason\"])\n",
    "print(\"conten: \",response[\"choices\"][0][\"message\"][\"content\"])"
   ]
  },
  {
   "cell_type": "code",
   "execution_count": null,
   "metadata": {},
   "outputs": [],
   "source": []
  }
 ],
 "metadata": {
  "kernelspec": {
   "display_name": ".venv",
   "language": "python",
   "name": "python3"
  },
  "language_info": {
   "codemirror_mode": {
    "name": "ipython",
    "version": 3
   },
   "file_extension": ".py",
   "mimetype": "text/x-python",
   "name": "python",
   "nbconvert_exporter": "python",
   "pygments_lexer": "ipython3",
   "version": "3.10.8"
  }
 },
 "nbformat": 4,
 "nbformat_minor": 2
}
