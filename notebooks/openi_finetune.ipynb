{
 "cells": [
  {
   "cell_type": "markdown",
   "metadata": {},
   "source": [
    "# First Steps in finetuning with open ai\n"
   ]
  },
  {
   "cell_type": "code",
   "execution_count": 1,
   "metadata": {},
   "outputs": [],
   "source": [
    "# Import the os package\n",
    "import os\n",
    "\n",
    "# Import the openai package\n",
    "import openai\n",
    "\n",
    "# import the dotenv package\n",
    "from dotenv import load_dotenv\n",
    "\n",
    "import pprint\n",
    "\n",
    "# From the IPython.display package, import display and Markdown\n",
    "from IPython.display import display, Markdown\n",
    "\n"
   ]
  },
  {
   "cell_type": "code",
   "execution_count": 2,
   "metadata": {},
   "outputs": [
    {
     "data": {
      "text/plain": [
       "True"
      ]
     },
     "execution_count": 2,
     "metadata": {},
     "output_type": "execute_result"
    }
   ],
   "source": [
    "# Get the current working directory\n",
    "cwd = os.getcwd()\n",
    "# Construct the .env file path\n",
    "env_path = os.path.join(cwd, '.env')\n",
    "\n",
    "# Load the .env file\n",
    "load_dotenv(dotenv_path=env_path)"
   ]
  },
  {
   "cell_type": "code",
   "execution_count": 3,
   "metadata": {},
   "outputs": [],
   "source": [
    "# Set openai.api_key to the OPENAI environment variable\n",
    "OPENAI_APIKEY = os.environ[\"OPENAI\"]\n",
    "openai.api_key=OPENAI_APIKEY"
   ]
  },
  {
   "cell_type": "code",
   "execution_count": 4,
   "metadata": {},
   "outputs": [
    {
     "ename": "AttributeError",
     "evalue": "module 'openai' has no attribute 'ChatCompletion'",
     "output_type": "error",
     "traceback": [
      "\u001b[0;31m---------------------------------------------------------------------------\u001b[0m",
      "\u001b[0;31mAttributeError\u001b[0m                            Traceback (most recent call last)",
      "\u001b[1;32m/Users/davis/progs/github/Keras-Philosophy/notebooks/openi_finetune.ipynb Cell 5\u001b[0m line \u001b[0;36m8\n\u001b[1;32m      <a href='vscode-notebook-cell:/Users/davis/progs/github/Keras-Philosophy/notebooks/openi_finetune.ipynb#W4sZmlsZQ%3D%3D?line=4'>5</a>\u001b[0m user_msg \u001b[39m=\u001b[39m \u001b[39m'\u001b[39m\u001b[39mCreate a small dataset of data about people. The format of the dataset should be a data frame with 5 rows and 3 columns. The columns should be called \u001b[39m\u001b[39m\"\u001b[39m\u001b[39mname\u001b[39m\u001b[39m\"\u001b[39m\u001b[39m, \u001b[39m\u001b[39m\"\u001b[39m\u001b[39mheight_cm\u001b[39m\u001b[39m\"\u001b[39m\u001b[39m, and \u001b[39m\u001b[39m\"\u001b[39m\u001b[39meye_color\u001b[39m\u001b[39m\"\u001b[39m\u001b[39m. The \u001b[39m\u001b[39m\"\u001b[39m\u001b[39mname\u001b[39m\u001b[39m\"\u001b[39m\u001b[39m column should contain randomly chosen first names. The \u001b[39m\u001b[39m\"\u001b[39m\u001b[39mheight_cm\u001b[39m\u001b[39m\"\u001b[39m\u001b[39m column should contain randomly chosen heights, given in centimeters. The \u001b[39m\u001b[39m\"\u001b[39m\u001b[39meye_color\u001b[39m\u001b[39m\"\u001b[39m\u001b[39m column should contain randomly chosen eye colors, taken from a choice of \u001b[39m\u001b[39m\"\u001b[39m\u001b[39mbrown\u001b[39m\u001b[39m\"\u001b[39m\u001b[39m, \u001b[39m\u001b[39m\"\u001b[39m\u001b[39mblue\u001b[39m\u001b[39m\"\u001b[39m\u001b[39m, and \u001b[39m\u001b[39m\"\u001b[39m\u001b[39mgreen\u001b[39m\u001b[39m\"\u001b[39m\u001b[39m. Provide Python code to generate the dataset, then provide the output in the format of a markdown table.\u001b[39m\u001b[39m'\u001b[39m\n\u001b[1;32m      <a href='vscode-notebook-cell:/Users/davis/progs/github/Keras-Philosophy/notebooks/openi_finetune.ipynb#W4sZmlsZQ%3D%3D?line=6'>7</a>\u001b[0m \u001b[39m# Create a dataset using GPT\u001b[39;00m\n\u001b[0;32m----> <a href='vscode-notebook-cell:/Users/davis/progs/github/Keras-Philosophy/notebooks/openi_finetune.ipynb#W4sZmlsZQ%3D%3D?line=7'>8</a>\u001b[0m response \u001b[39m=\u001b[39m openai\u001b[39m.\u001b[39;49mChatCompletion\u001b[39m.\u001b[39mcreate(\n\u001b[1;32m      <a href='vscode-notebook-cell:/Users/davis/progs/github/Keras-Philosophy/notebooks/openi_finetune.ipynb#W4sZmlsZQ%3D%3D?line=8'>9</a>\u001b[0m     model\u001b[39m=\u001b[39m\u001b[39m\"\u001b[39m\u001b[39mgpt-3.5-turbo-0613\u001b[39m\u001b[39m\"\u001b[39m,\n\u001b[1;32m     <a href='vscode-notebook-cell:/Users/davis/progs/github/Keras-Philosophy/notebooks/openi_finetune.ipynb#W4sZmlsZQ%3D%3D?line=9'>10</a>\u001b[0m     messages\u001b[39m=\u001b[39m[\n\u001b[1;32m     <a href='vscode-notebook-cell:/Users/davis/progs/github/Keras-Philosophy/notebooks/openi_finetune.ipynb#W4sZmlsZQ%3D%3D?line=10'>11</a>\u001b[0m         {\u001b[39m\"\u001b[39m\u001b[39mrole\u001b[39m\u001b[39m\"\u001b[39m: \u001b[39m\"\u001b[39m\u001b[39msystem\u001b[39m\u001b[39m\"\u001b[39m, \u001b[39m\"\u001b[39m\u001b[39mcontent\u001b[39m\u001b[39m\"\u001b[39m: system_msg},\n\u001b[1;32m     <a href='vscode-notebook-cell:/Users/davis/progs/github/Keras-Philosophy/notebooks/openi_finetune.ipynb#W4sZmlsZQ%3D%3D?line=11'>12</a>\u001b[0m         {\u001b[39m\"\u001b[39m\u001b[39mrole\u001b[39m\u001b[39m\"\u001b[39m: \u001b[39m\"\u001b[39m\u001b[39muser\u001b[39m\u001b[39m\"\u001b[39m, \u001b[39m\"\u001b[39m\u001b[39mcontent\u001b[39m\u001b[39m\"\u001b[39m: user_msg}\n\u001b[1;32m     <a href='vscode-notebook-cell:/Users/davis/progs/github/Keras-Philosophy/notebooks/openi_finetune.ipynb#W4sZmlsZQ%3D%3D?line=12'>13</a>\u001b[0m     ]\n\u001b[1;32m     <a href='vscode-notebook-cell:/Users/davis/progs/github/Keras-Philosophy/notebooks/openi_finetune.ipynb#W4sZmlsZQ%3D%3D?line=13'>14</a>\u001b[0m )\n",
      "\u001b[0;31mAttributeError\u001b[0m: module 'openai' has no attribute 'ChatCompletion'"
     ]
    }
   ],
   "source": [
    "# Define the system message\n",
    "system_msg = 'You are a helpful assistant who understands data science.'\n",
    "\n",
    "# Define the user message\n",
    "user_msg = 'Create a small dataset of data about people. The format of the dataset should be a data frame with 5 rows and 3 columns. The columns should be called \"name\", \"height_cm\", and \"eye_color\". The \"name\" column should contain randomly chosen first names. The \"height_cm\" column should contain randomly chosen heights, given in centimeters. The \"eye_color\" column should contain randomly chosen eye colors, taken from a choice of \"brown\", \"blue\", and \"green\". Provide Python code to generate the dataset, then provide the output in the format of a markdown table.'\n",
    "\n",
    "# Create a dataset using GPT\n",
    "response = openai.ChatCompletion.create(\n",
    "    model=\"gpt-3.5-turbo-0613\",\n",
    "    messages=[\n",
    "        {\"role\": \"system\", \"content\": system_msg},\n",
    "        {\"role\": \"user\", \"content\": user_msg}\n",
    "    ]\n",
    ")"
   ]
  },
  {
   "cell_type": "code",
   "execution_count": null,
   "metadata": {},
   "outputs": [],
   "source": [
    "response[\"choices\"][0][\"finish_reason\"]"
   ]
  },
  {
   "cell_type": "code",
   "execution_count": null,
   "metadata": {},
   "outputs": [],
   "source": [
    "response[\"choices\"][0][\"message\"][\"content\"]"
   ]
  },
  {
   "cell_type": "code",
   "execution_count": null,
   "metadata": {},
   "outputs": [],
   "source": []
  },
  {
   "cell_type": "code",
   "execution_count": null,
   "metadata": {},
   "outputs": [],
   "source": []
  },
  {
   "cell_type": "code",
   "execution_count": null,
   "metadata": {},
   "outputs": [],
   "source": []
  },
  {
   "cell_type": "markdown",
   "metadata": {},
   "source": [
    "# Upload a file for model tuning"
   ]
  },
  {
   "cell_type": "code",
   "execution_count": null,
   "metadata": {},
   "outputs": [],
   "source": [
    "response = openai.File.create(\n",
    "    file=open(\"sample_datasets/sample.jsonl\"),\n",
    "    purpose='fine-tune'\n",
    ")\n",
    "print(response)"
   ]
  },
  {
   "cell_type": "markdown",
   "metadata": {},
   "source": [
    "# Acutal fine tune of a model"
   ]
  },
  {
   "cell_type": "code",
   "execution_count": null,
   "metadata": {},
   "outputs": [],
   "source": [
    "# create a new fine tuning model \n",
    "file_id = response[\"id\"]\n",
    "# recommended fine tuning model\n",
    "model=\"gpt-3.5-turbo-0613\"\n",
    "# model used by Gregory Bauges\n",
    "#model=\"gpt-3.5-turbo\"\n",
    "response = openai.FineTuningJob.create(training_file=file_id,\n",
    "                                       model=model)\n",
    "print(response)"
   ]
  },
  {
   "cell_type": "markdown",
   "metadata": {},
   "source": [
    "# Lets try to use it"
   ]
  },
  {
   "cell_type": "markdown",
   "metadata": {},
   "source": [
    "Lets look at the form of one of the training messages\n",
    "\n",
    "```\n",
    "{'messages': [{'content': 'Marv is a factual chatbot that is also sarcastic.',\n",
    "                  'role': 'system'},\n",
    "              \n",
    "              {'content': 'How far is the Chelsea Cafe from my current location?',\n",
    "                  'role': 'user'},\n",
    "                  \n",
    "              {'content': 'Around five minutes walk. Are you hungry?',\n",
    "               'role': 'assistant'}]}``"
   ]
  },
  {
   "cell_type": "code",
   "execution_count": null,
   "metadata": {},
   "outputs": [],
   "source": [
    "pprint.pprint({\"messages\": [{\"role\": \"system\", \"content\": \"Marv is a factual chatbot that is also sarcastic.\"}, {\"role\": \"user\", \"content\": \"How far is the Chelsea Cafe from my current location?\"}, {\"role\": \"assistant\", \"content\": \"Around five minutes walk. Are you hungry?\"}]}\n",
    ")"
   ]
  },
  {
   "cell_type": "code",
   "execution_count": null,
   "metadata": {},
   "outputs": [],
   "source": [
    "#our_mode = \"normal\"\n",
    "our_mode = \"sarcastic\"\n",
    "\n",
    "# dependency analytics disazble for syntax\n",
    "# default model\n",
    "# our_model=\"gpt-3.5-turbo-0613\"\n",
    "# our tuned model\n",
    "our_model=\"ft:gpt-3.5-turbo-0613:personal::8DvbJsff\"\n",
    "\n",
    "\n",
    "if our_mode == \"normal\":\n",
    "    print(\"normal\")\n",
    "    # Define the system message\n",
    "    system_msg = 'You are a helpful assistant who understands data science.'\n",
    "    # Define the user message\n",
    "    user_msg = 'How far is the Chelsea Cafe from my current location?'\n",
    "else:\n",
    "    print(\"sarcastic\")\n",
    "    # Define the system message\n",
    "    system_msg = 'Marv is a factual chatbot that is also sarcastic.'\n",
    "    # Define the user message\n",
    "    #user_msg = 'How far is the Chelsea Cafe from my current location?'   # This is the exact questions and responds with our exact answer.\n",
    "    #user_msg = 'How long to walk to the Chelsea Cafe?'   # This is similar, but responds with a different answer.\n",
    "    user_msg = 'How far to the Chelsea Cafe?'   # This is similar, but responds with a different answer.\n",
    "\n",
    "\n",
    "\n",
    "\n",
    "\n",
    "\n",
    "# Create a dataset using GPT\n",
    "response = openai.ChatCompletion.create(\n",
    "    model=our_model,\n",
    "    messages=[\n",
    "        {\"role\": \"system\", \"content\": system_msg},\n",
    "        {\"role\": \"user\", \"content\": user_msg}\n",
    "    ]\n",
    ")"
   ]
  },
  {
   "cell_type": "code",
   "execution_count": null,
   "metadata": {},
   "outputs": [],
   "source": [
    "print(\"finish_reason: \", response[\"choices\"][0][\"finish_reason\"])\n",
    "print(\"conten: \",response[\"choices\"][0][\"message\"][\"content\"])"
   ]
  },
  {
   "cell_type": "code",
   "execution_count": null,
   "metadata": {},
   "outputs": [],
   "source": []
  },
  {
   "cell_type": "code",
   "execution_count": null,
   "metadata": {},
   "outputs": [],
   "source": []
  }
 ],
 "metadata": {
  "kernelspec": {
   "display_name": ".venv",
   "language": "python",
   "name": "python3"
  },
  "language_info": {
   "codemirror_mode": {
    "name": "ipython",
    "version": 3
   },
   "file_extension": ".py",
   "mimetype": "text/x-python",
   "name": "python",
   "nbconvert_exporter": "python",
   "pygments_lexer": "ipython3",
   "version": "3.9.6"
  }
 },
 "nbformat": 4,
 "nbformat_minor": 2
}
