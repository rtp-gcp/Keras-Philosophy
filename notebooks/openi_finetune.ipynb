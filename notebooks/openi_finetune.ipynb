{
 "cells": [
  {
   "cell_type": "markdown",
   "metadata": {},
   "source": [
    "# First Steps in finetuning with open ai\n"
   ]
  },
  {
   "cell_type": "code",
   "execution_count": 1,
   "metadata": {},
   "outputs": [
    {
     "name": "stderr",
     "output_type": "stream",
     "text": [
      "/Users/davis/progs/github/Keras-Philosophy/.venv/lib/python3.9/site-packages/urllib3/__init__.py:34: NotOpenSSLWarning: urllib3 v2.0 only supports OpenSSL 1.1.1+, currently the 'ssl' module is compiled with 'LibreSSL 2.8.3'. See: https://github.com/urllib3/urllib3/issues/3020\n",
      "  warnings.warn(\n"
     ]
    }
   ],
   "source": [
    "# Import the os package\n",
    "import os\n",
    "\n",
    "# Import the openai package\n",
    "import openai\n",
    "\n",
    "# import the dotenv package\n",
    "from dotenv import load_dotenv\n",
    "\n",
    "import pprint\n",
    "\n",
    "# From the IPython.display package, import display and Markdown\n",
    "from IPython.display import display, Markdown\n",
    "\n"
   ]
  },
  {
   "cell_type": "code",
   "execution_count": 2,
   "metadata": {},
   "outputs": [
    {
     "data": {
      "text/plain": [
       "True"
      ]
     },
     "execution_count": 2,
     "metadata": {},
     "output_type": "execute_result"
    }
   ],
   "source": [
    "# Get the current working directory\n",
    "cwd = os.getcwd()\n",
    "# Construct the .env file path\n",
    "env_path = os.path.join(cwd, '.env')\n",
    "\n",
    "# Load the .env file\n",
    "load_dotenv(dotenv_path=env_path)"
   ]
  },
  {
   "cell_type": "code",
   "execution_count": 3,
   "metadata": {},
   "outputs": [],
   "source": [
    "# Set openai.api_key to the OPENAI environment variable\n",
    "OPENAI_APIKEY = os.environ[\"OPENAI\"]\n",
    "openai.api_key=OPENAI_APIKEY"
   ]
  },
  {
   "cell_type": "code",
   "execution_count": 4,
   "metadata": {},
   "outputs": [],
   "source": [
    "# Define the system message\n",
    "system_msg = 'You are a helpful assistant who understands data science.'\n",
    "\n",
    "# Define the user message\n",
    "user_msg = 'Create a small dataset of data about people. The format of the dataset should be a data frame with 5 rows and 3 columns. The columns should be called \"name\", \"height_cm\", and \"eye_color\". The \"name\" column should contain randomly chosen first names. The \"height_cm\" column should contain randomly chosen heights, given in centimeters. The \"eye_color\" column should contain randomly chosen eye colors, taken from a choice of \"brown\", \"blue\", and \"green\". Provide Python code to generate the dataset, then provide the output in the format of a markdown table.'\n",
    "\n",
    "# Create a dataset using GPT\n",
    "response = openai.ChatCompletion.create(\n",
    "    model=\"gpt-3.5-turbo-0613\",\n",
    "    messages=[\n",
    "        {\"role\": \"system\", \"content\": system_msg},\n",
    "        {\"role\": \"user\", \"content\": user_msg}\n",
    "    ]\n",
    ")"
   ]
  },
  {
   "cell_type": "code",
   "execution_count": 5,
   "metadata": {},
   "outputs": [
    {
     "data": {
      "text/plain": [
       "'stop'"
      ]
     },
     "execution_count": 5,
     "metadata": {},
     "output_type": "execute_result"
    }
   ],
   "source": [
    "response[\"choices\"][0][\"finish_reason\"]"
   ]
  },
  {
   "cell_type": "code",
   "execution_count": 6,
   "metadata": {},
   "outputs": [
    {
     "data": {
      "text/plain": [
       "'Here\\'s the Python code to generate the dataset and display it as a markdown table:\\n\\n```python\\nimport pandas as pd\\nimport random\\n\\n# Define the possible values for each column\\nnames = [\"John\", \"Jane\", \"James\", \"Emily\", \"Jacob\"]\\nheights = [165, 170, 175, 180, 185]\\neye_colors = [\"brown\", \"blue\", \"green\"]\\n\\n# Generate random values for each row\\ndata = []\\nfor _ in range(5):\\n    name = random.choice(names)\\n    height = random.choice(heights)\\n    eye_color = random.choice(eye_colors)\\n    data.append([name, height, eye_color])\\n\\n# Create the dataframe\\ndf = pd.DataFrame(data, columns=[\"name\", \"height_cm\", \"eye_color\"])\\n\\n# Display the dataframe as a markdown table\\nprint(df.to_markdown(index=False))\\n```\\n\\nOutput:\\n\\n| name  |   height_cm | eye_color   |\\n|:------|------------:|:------------|\\n| Emily |         185 | blue        |\\n| John  |         175 | green       |\\n| James |         165 | brown       |\\n| James |         165 | blue        |\\n| Jane  |         180 | green       |'"
      ]
     },
     "execution_count": 6,
     "metadata": {},
     "output_type": "execute_result"
    }
   ],
   "source": [
    "response[\"choices\"][0][\"message\"][\"content\"]"
   ]
  },
  {
   "cell_type": "code",
   "execution_count": 7,
   "metadata": {},
   "outputs": [
    {
     "ename": "FileNotFoundError",
     "evalue": "[Errno 2] No such file or directory: 'sample_datasets/davis.jsonl'",
     "output_type": "error",
     "traceback": [
      "\u001b[0;31m---------------------------------------------------------------------------\u001b[0m",
      "\u001b[0;31mFileNotFoundError\u001b[0m                         Traceback (most recent call last)",
      "\u001b[1;32m/Users/davis/progs/github/Keras-Philosophy/notebooks/openi_finetune.ipynb Cell 8\u001b[0m line \u001b[0;36m2\n\u001b[1;32m      <a href='vscode-notebook-cell:/Users/davis/progs/github/Keras-Philosophy/notebooks/openi_finetune.ipynb#X10sZmlsZQ%3D%3D?line=0'>1</a>\u001b[0m response \u001b[39m=\u001b[39m openai\u001b[39m.\u001b[39mFile\u001b[39m.\u001b[39mcreate(\n\u001b[0;32m----> <a href='vscode-notebook-cell:/Users/davis/progs/github/Keras-Philosophy/notebooks/openi_finetune.ipynb#X10sZmlsZQ%3D%3D?line=1'>2</a>\u001b[0m     file\u001b[39m=\u001b[39m\u001b[39mopen\u001b[39;49m(\u001b[39m\"\u001b[39;49m\u001b[39msample_datasets/davis.jsonl\u001b[39;49m\u001b[39m\"\u001b[39;49m),\n\u001b[1;32m      <a href='vscode-notebook-cell:/Users/davis/progs/github/Keras-Philosophy/notebooks/openi_finetune.ipynb#X10sZmlsZQ%3D%3D?line=2'>3</a>\u001b[0m     purpose\u001b[39m=\u001b[39m\u001b[39m'\u001b[39m\u001b[39mfine-tune\u001b[39m\u001b[39m'\u001b[39m\n\u001b[1;32m      <a href='vscode-notebook-cell:/Users/davis/progs/github/Keras-Philosophy/notebooks/openi_finetune.ipynb#X10sZmlsZQ%3D%3D?line=3'>4</a>\u001b[0m )\n\u001b[1;32m      <a href='vscode-notebook-cell:/Users/davis/progs/github/Keras-Philosophy/notebooks/openi_finetune.ipynb#X10sZmlsZQ%3D%3D?line=4'>5</a>\u001b[0m \u001b[39mprint\u001b[39m(response)\n",
      "File \u001b[0;32m~/progs/github/Keras-Philosophy/.venv/lib/python3.9/site-packages/IPython/core/interactiveshell.py:308\u001b[0m, in \u001b[0;36m_modified_open\u001b[0;34m(file, *args, **kwargs)\u001b[0m\n\u001b[1;32m    301\u001b[0m \u001b[39mif\u001b[39;00m file \u001b[39min\u001b[39;00m {\u001b[39m0\u001b[39m, \u001b[39m1\u001b[39m, \u001b[39m2\u001b[39m}:\n\u001b[1;32m    302\u001b[0m     \u001b[39mraise\u001b[39;00m \u001b[39mValueError\u001b[39;00m(\n\u001b[1;32m    303\u001b[0m         \u001b[39mf\u001b[39m\u001b[39m\"\u001b[39m\u001b[39mIPython won\u001b[39m\u001b[39m'\u001b[39m\u001b[39mt let you open fd=\u001b[39m\u001b[39m{\u001b[39;00mfile\u001b[39m}\u001b[39;00m\u001b[39m by default \u001b[39m\u001b[39m\"\u001b[39m\n\u001b[1;32m    304\u001b[0m         \u001b[39m\"\u001b[39m\u001b[39mas it is likely to crash IPython. If you know what you are doing, \u001b[39m\u001b[39m\"\u001b[39m\n\u001b[1;32m    305\u001b[0m         \u001b[39m\"\u001b[39m\u001b[39myou can use builtins\u001b[39m\u001b[39m'\u001b[39m\u001b[39m open.\u001b[39m\u001b[39m\"\u001b[39m\n\u001b[1;32m    306\u001b[0m     )\n\u001b[0;32m--> 308\u001b[0m \u001b[39mreturn\u001b[39;00m io_open(file, \u001b[39m*\u001b[39;49margs, \u001b[39m*\u001b[39;49m\u001b[39m*\u001b[39;49mkwargs)\n",
      "\u001b[0;31mFileNotFoundError\u001b[0m: [Errno 2] No such file or directory: 'sample_datasets/davis.jsonl'"
     ]
    }
   ],
   "source": [
    "response = openai.File.create(\n",
    "    file=open(\"sample_datasets/davis.jsonl\"),\n",
    "    purpose='fine-tune'\n",
    ")\n",
    "print(response)"
   ]
  },
  {
   "cell_type": "markdown",
   "metadata": {},
   "source": [
    "# Acutal fine tune of a model"
   ]
  },
  {
   "cell_type": "code",
   "execution_count": 16,
   "metadata": {},
   "outputs": [
    {
     "name": "stdout",
     "output_type": "stream",
     "text": [
      "{\n",
      "  \"object\": \"fine_tuning.job\",\n",
      "  \"id\": \"ftjob-jKcnh5QKOxHaYSAmquF1Zsk7\",\n",
      "  \"model\": \"gpt-3.5-turbo-0613\",\n",
      "  \"created_at\": 1698330056,\n",
      "  \"finished_at\": null,\n",
      "  \"fine_tuned_model\": null,\n",
      "  \"organization_id\": \"org-kHUq2JzdiW8FIDxqE01bYdot\",\n",
      "  \"result_files\": [],\n",
      "  \"status\": \"validating_files\",\n",
      "  \"validation_file\": null,\n",
      "  \"training_file\": \"file-VCM3q5sZByfXopxM9v2SdoaF\",\n",
      "  \"hyperparameters\": {\n",
      "    \"n_epochs\": \"auto\"\n",
      "  },\n",
      "  \"trained_tokens\": null,\n",
      "  \"error\": null\n",
      "}\n"
     ]
    }
   ],
   "source": [
    "# create a new fine tuning model \n",
    "file_id = response[\"id\"]\n",
    "# recommended fine tuning model\n",
    "model=\"gpt-3.5-turbo-0613\"\n",
    "# model used by Gregory Bauges\n",
    "#model=\"gpt-3.5-turbo\"\n",
    "response = openai.FineTuningJob.create(training_file=file_id,\n",
    "                                       model=model)\n",
    "print(response)"
   ]
  },
  {
   "cell_type": "markdown",
   "metadata": {},
   "source": [
    "# Lets try to use it"
   ]
  },
  {
   "cell_type": "markdown",
   "metadata": {},
   "source": [
    "Lets look at the form of one of the training messages\n",
    "\n",
    "```\n",
    "{'messages': [{'content': 'Marv is a factual chatbot that is also sarcastic.',\n",
    "                  'role': 'system'},\n",
    "              \n",
    "              {'content': 'How far is the Chelsea Cafe from my current location?',\n",
    "                  'role': 'user'},\n",
    "                  \n",
    "              {'content': 'Around five minutes walk. Are you hungry?',\n",
    "               'role': 'assistant'}]}``"
   ]
  },
  {
   "cell_type": "code",
   "execution_count": 9,
   "metadata": {},
   "outputs": [
    {
     "name": "stdout",
     "output_type": "stream",
     "text": [
      "{'messages': [{'content': 'Marv is a factual chatbot that is also sarcastic.',\n",
      "               'role': 'system'},\n",
      "              {'content': 'How far is the Chelsea Cafe from my current '\n",
      "                          'location?',\n",
      "               'role': 'user'},\n",
      "              {'content': 'Around five minutes walk. Are you hungry?',\n",
      "               'role': 'assistant'}]}\n"
     ]
    }
   ],
   "source": [
    "pprint.pprint({\"messages\": [{\"role\": \"system\", \"content\": \"Marv is a factual chatbot that is also sarcastic.\"}, {\"role\": \"user\", \"content\": \"How far is the Chelsea Cafe from my current location?\"}, {\"role\": \"assistant\", \"content\": \"Around five minutes walk. Are you hungry?\"}]}\n",
    ")"
   ]
  },
  {
   "cell_type": "code",
   "execution_count": 16,
   "metadata": {},
   "outputs": [
    {
     "name": "stdout",
     "output_type": "stream",
     "text": [
      "normal\n"
     ]
    }
   ],
   "source": [
    "our_mode = \"normal\"\n",
    "#our_mode = \"sarcastic\"\n",
    "\n",
    "# dependency analytics disazble for syntax\n",
    "# default model\n",
    "# our_model=\"gpt-3.5-turbo-0613\"\n",
    "# our tuned model\n",
    "our_model=\"ft:gpt-3.5-turbo-0613:personal::8DvbJsff\"\n",
    "\n",
    "\n",
    "if our_mode == \"normal\":\n",
    "    print(\"normal\")\n",
    "    # Define the system message\n",
    "    system_msg = 'You are a helpful assistant who understands data science.'\n",
    "    # Define the user message\n",
    "    user_msg = 'How far is the Chelsea Cafe from my current location?'\n",
    "else:\n",
    "    print(\"sarcastic\")\n",
    "    # Define the system message\n",
    "    system_msg = 'Marv is a factual chatbot that is also sarcastic.'\n",
    "    # Define the user message\n",
    "    #user_msg = 'How far is the Chelsea Cafe from my current location?'   # This is the exact questions and responds with our exact answer.\n",
    "    #user_msg = 'How long to walk to the Chelsea Cafe?'   # This is similar, but responds with a different answer.\n",
    "    user_msg = 'How far to the Chelsea Cafe?'   # This is similar, but responds with a different answer.\n",
    "\n",
    "\n",
    "\n",
    "\n",
    "\n",
    "\n",
    "# Create a dataset using GPT\n",
    "response = openai.ChatCompletion.create(\n",
    "    model=our_model,\n",
    "    messages=[\n",
    "        {\"role\": \"system\", \"content\": system_msg},\n",
    "        {\"role\": \"user\", \"content\": user_msg}\n",
    "    ]\n",
    ")"
   ]
  },
  {
   "cell_type": "code",
   "execution_count": 17,
   "metadata": {},
   "outputs": [
    {
     "name": "stdout",
     "output_type": "stream",
     "text": [
      "finish_reason:  stop\n",
      "conten:  I'm sorry, I cannot provide real-time distance or directions as I do not have access to your current location data.\n"
     ]
    }
   ],
   "source": [
    "print(\"finish_reason: \", response[\"choices\"][0][\"finish_reason\"])\n",
    "print(\"conten: \",response[\"choices\"][0][\"message\"][\"content\"])"
   ]
  },
  {
   "cell_type": "code",
   "execution_count": null,
   "metadata": {},
   "outputs": [],
   "source": []
  }
 ],
 "metadata": {
  "kernelspec": {
   "display_name": ".venv",
   "language": "python",
   "name": "python3"
  },
  "language_info": {
   "codemirror_mode": {
    "name": "ipython",
    "version": 3
   },
   "file_extension": ".py",
   "mimetype": "text/x-python",
   "name": "python",
   "nbconvert_exporter": "python",
   "pygments_lexer": "ipython3",
   "version": "3.9.6"
  }
 },
 "nbformat": 4,
 "nbformat_minor": 2
}
