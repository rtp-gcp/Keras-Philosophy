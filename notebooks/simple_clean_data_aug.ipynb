{
 "cells": [
  {
   "cell_type": "markdown",
   "metadata": {},
   "source": [
    "# Create train, test and validation dataframes\n",
    "\n",
    "### No normalization\n",
    "\n",
    "### Augmentation added\n"
   ]
  },
  {
   "cell_type": "code",
   "execution_count": 2,
   "metadata": {},
   "outputs": [],
   "source": [
    "import datetime\n",
    "#from pathlib import Path\n",
    "import pathlib\n",
    "\n",
    "import matplotlib.pyplot as plt\n",
    "import pandas as pd\n",
    "import seaborn as sns\n",
    "import os\n",
    "import os.path\n",
    "import numpy as np"
   ]
  },
  {
   "cell_type": "markdown",
   "metadata": {},
   "source": [
    "# Input File Selection and Directory Setup"
   ]
  },
  {
   "cell_type": "code",
   "execution_count": 3,
   "metadata": {},
   "outputs": [],
   "source": [
    "# Input file can be varied to point to different files.\n",
    "# However, this model assumes these columns:\n",
    "#  Z (Target) \n",
    "#  X (Feature 1 or X_1)\n",
    "#  Y (Feature 1 or X_2)\n",
    "#  ... (Feature N)\n",
    "#\n",
    "# For this demo, it was three columns where:\n",
    "#    where z = x + y\n",
    "\n",
    "# sample data for easy x+y=z\n",
    "# JUST z=10\n",
    "#CSV_FILE_NAME = \"xyz10.csv\"\n",
    "\n",
    "# sample data for easy x+y=z\n",
    "CSV_FILE_NAME = \"xyz.csv\"\n",
    "\n",
    "os.environ['CSV_FILE_NAME'] = CSV_FILE_NAME"
   ]
  },
  {
   "cell_type": "code",
   "execution_count": 4,
   "metadata": {},
   "outputs": [
    {
     "name": "stdout",
     "output_type": "stream",
     "text": [
      "current directory is : /Users/davis/progs/github/Keras-Philosophy/notebooks\n"
     ]
    }
   ],
   "source": [
    "# The current directory will be where this src file is located.\n",
    "# Which is in the src dir of the project\n",
    "dirpath = os.getcwd()\n",
    "print(\"current directory is : \" + dirpath)"
   ]
  },
  {
   "cell_type": "code",
   "execution_count": 5,
   "metadata": {},
   "outputs": [
    {
     "name": "stdout",
     "output_type": "stream",
     "text": [
      "root directory is:  /Users/davis/progs/github/Keras-Philosophy\n",
      "data directory is:  /Users/davis/progs/github/Keras-Philosophy/data\n",
      "logs directory is:  /Users/davis/progs/github/Keras-Philosophy/logs\n"
     ]
    }
   ],
   "source": [
    "# Use pathlib to find the root dir of the git repo\n",
    "root_path = pathlib.PurePath(dirpath).parents[0]\n",
    "data_path = root_path / 'data'\n",
    "logs_path = root_path / 'logs'\n",
    "print(\"root directory is: \", root_path)\n",
    "print(\"data directory is: \",  data_path)\n",
    "print(\"logs directory is: \", logs_path)"
   ]
  },
  {
   "cell_type": "code",
   "execution_count": 6,
   "metadata": {},
   "outputs": [
    {
     "name": "stdout",
     "output_type": "stream",
     "text": [
      "LOGS_DIR_NAME:  /Users/davis/progs/github/Keras-Philosophy/logs\n",
      "DATA_DIR_NAME:  /Users/davis/progs/github/Keras-Philosophy/data\n"
     ]
    }
   ],
   "source": [
    "# Create equivalent dir names in the environment\n",
    "# Logs\n",
    "LOGS_DIR_NAME = logs_path.as_posix()\n",
    "print(\"LOGS_DIR_NAME: \", LOGS_DIR_NAME)\n",
    "os.environ['LOGS_DIR_NAME'] = LOGS_DIR_NAME\n",
    "# Data\n",
    "DATA_DIR_NAME = data_path.as_posix()\n",
    "print(\"DATA_DIR_NAME: \", DATA_DIR_NAME)\n",
    "os.environ['DATA_DIR_NAME'] = DATA_DIR_NAME"
   ]
  },
  {
   "cell_type": "code",
   "execution_count": 7,
   "metadata": {},
   "outputs": [
    {
     "name": "stdout",
     "output_type": "stream",
     "text": [
      "z,x,y\n",
      "10.0,10.0,0.0\n",
      "10.0,9.0,1.0\n",
      "10.0,8.0,2.0\n",
      "10.0,7.0,3.0\n"
     ]
    }
   ],
   "source": [
    "%%bash\n",
    "head -n 5 \"${DATA_DIR_NAME}/${CSV_FILE_NAME}\""
   ]
  },
  {
   "cell_type": "markdown",
   "metadata": {},
   "source": [
    "# Use pandas to read csv into dataframe"
   ]
  },
  {
   "cell_type": "code",
   "execution_count": 8,
   "metadata": {},
   "outputs": [],
   "source": [
    "raw_dataframe = pd.read_csv(data_path / CSV_FILE_NAME, \n",
    "                          header=0,\n",
    "                          sep=\",\")\n",
    "\n",
    "dataframe = raw_dataframe.copy()"
   ]
  },
  {
   "cell_type": "code",
   "execution_count": 9,
   "metadata": {},
   "outputs": [
    {
     "data": {
      "text/html": [
       "<div>\n",
       "<style scoped>\n",
       "    .dataframe tbody tr th:only-of-type {\n",
       "        vertical-align: middle;\n",
       "    }\n",
       "\n",
       "    .dataframe tbody tr th {\n",
       "        vertical-align: top;\n",
       "    }\n",
       "\n",
       "    .dataframe thead th {\n",
       "        text-align: right;\n",
       "    }\n",
       "</style>\n",
       "<table border=\"1\" class=\"dataframe\">\n",
       "  <thead>\n",
       "    <tr style=\"text-align: right;\">\n",
       "      <th></th>\n",
       "      <th>z</th>\n",
       "      <th>x</th>\n",
       "      <th>y</th>\n",
       "    </tr>\n",
       "  </thead>\n",
       "  <tbody>\n",
       "    <tr>\n",
       "      <th>0</th>\n",
       "      <td>10.0</td>\n",
       "      <td>10.0</td>\n",
       "      <td>0.0</td>\n",
       "    </tr>\n",
       "    <tr>\n",
       "      <th>1</th>\n",
       "      <td>10.0</td>\n",
       "      <td>9.0</td>\n",
       "      <td>1.0</td>\n",
       "    </tr>\n",
       "    <tr>\n",
       "      <th>2</th>\n",
       "      <td>10.0</td>\n",
       "      <td>8.0</td>\n",
       "      <td>2.0</td>\n",
       "    </tr>\n",
       "    <tr>\n",
       "      <th>3</th>\n",
       "      <td>10.0</td>\n",
       "      <td>7.0</td>\n",
       "      <td>3.0</td>\n",
       "    </tr>\n",
       "    <tr>\n",
       "      <th>4</th>\n",
       "      <td>10.0</td>\n",
       "      <td>6.0</td>\n",
       "      <td>4.0</td>\n",
       "    </tr>\n",
       "  </tbody>\n",
       "</table>\n",
       "</div>"
      ],
      "text/plain": [
       "      z     x    y\n",
       "0  10.0  10.0  0.0\n",
       "1  10.0   9.0  1.0\n",
       "2  10.0   8.0  2.0\n",
       "3  10.0   7.0  3.0\n",
       "4  10.0   6.0  4.0"
      ]
     },
     "execution_count": 9,
     "metadata": {},
     "output_type": "execute_result"
    }
   ],
   "source": [
    "dataframe.shape\n",
    "dataframe.head()"
   ]
  },
  {
   "cell_type": "markdown",
   "metadata": {},
   "source": [
    "# plot the data"
   ]
  },
  {
   "cell_type": "code",
   "execution_count": 10,
   "metadata": {},
   "outputs": [
    {
     "data": {
      "text/plain": [
       "<matplotlib.collections.PathCollection at 0x15eee9d90>"
      ]
     },
     "execution_count": 10,
     "metadata": {},
     "output_type": "execute_result"
    },
    {
     "data": {
      "image/png": "[encoded data removed]",
      "text/plain": [
       "<Figure size 640x480 with 1 Axes>"
      ]
     },
     "metadata": {},
     "output_type": "display_data"
    }
   ],
   "source": [
    "plt.scatter(dataframe['y'], dataframe['x'], c='green')"
   ]
  },
  {
   "cell_type": "markdown",
   "metadata": {},
   "source": [
    "# Augment the data\n",
    "\n",
    "Increase the size of the existing dataset by creating a new copy.  In the copy add tiny amount to x column and then subtract the same amount to the y column so that the sum remains constant.  Dupe this process 100 times."
   ]
  },
  {
   "cell_type": "code",
   "execution_count": 11,
   "metadata": {},
   "outputs": [],
   "source": [
    "# create a routine to augment an existing df\n",
    "def create_aug_df(a_df): \n",
    "\n",
    "    copy_df = a_df.copy()\n",
    "\n",
    "    # drop rows with zero in X\n",
    "    copy_df = copy_df[copy_df.x != 0]\n",
    "\n",
    "    # drop rows with zero in y\n",
    "    copy_df = copy_df[copy_df.y != 0]\n",
    "\n",
    "    # so we don't introduce negative numbers, get the minimum and set that \n",
    "    # as the floor. \n",
    "    min_val = copy_df.min(axis=None)\n",
    "    rnd_val = np.random.rand()\n",
    "    mod_val = np.minimum(min_val, rnd_val)\n",
    "    #print(\"min_value: \",min_val)\n",
    "    #print(\"mod_value: \", mod_val)\n",
    "\n",
    "    # adj columns x and y by mod amount\n",
    "    copy_df['x'] = copy_df['x'] + mod_val\n",
    "    copy_df['y'] = copy_df['y'] - mod_val\n",
    "\n",
    "    return copy_df\n"
   ]
  },
  {
   "cell_type": "code",
   "execution_count": 12,
   "metadata": {},
   "outputs": [],
   "source": [
    "# use the function to create a larger augmented dataframe\n",
    "df_list = []\n",
    "for x in range(0,10):\n",
    "    df_list.append(create_aug_df(dataframe))\n",
    "\n",
    "aug_df = pd.concat(df_list)\n",
    "#print(\"augmented df shape: \", aug_df.shape)\n",
    "#print(\"aug_df head: \")\n",
    "#print(aug_df.head())"
   ]
  },
  {
   "cell_type": "markdown",
   "metadata": {},
   "source": [
    "# plot the data"
   ]
  },
  {
   "cell_type": "code",
   "execution_count": 13,
   "metadata": {},
   "outputs": [
    {
     "data": {
      "text/plain": [
       "<matplotlib.collections.PathCollection at 0x15f04b880>"
      ]
     },
     "execution_count": 13,
     "metadata": {},
     "output_type": "execute_result"
    },
    {
     "data": {
      "image/png": "[encoded data removed]",
      "text/plain": [
       "<Figure size 640x480 with 1 Axes>"
      ]
     },
     "metadata": {},
     "output_type": "display_data"
    }
   ],
   "source": [
    "plt.scatter(aug_df['y'], aug_df['x'], c='green')"
   ]
  },
  {
   "cell_type": "markdown",
   "metadata": {},
   "source": [
    "# Create Train, Test and Validation DataFrames"
   ]
  },
  {
   "cell_type": "code",
   "execution_count": 14,
   "metadata": {},
   "outputs": [],
   "source": [
    "# Since we used concat, our index is screwed uup\n",
    "# create a new index and apply it\n",
    "num_rows = aug_df.shape[0]\n",
    "index = pd.Index(range(0,num_rows))\n",
    "aug_df.set_index(index,inplace=True)\n"
   ]
  },
  {
   "cell_type": "code",
   "execution_count": 15,
   "metadata": {},
   "outputs": [
    {
     "name": "stdout",
     "output_type": "stream",
     "text": [
      "train shape:  (252, 3)\n",
      "test shape:  (54, 3)\n",
      "valid shape:  (54, 3)\n"
     ]
    }
   ],
   "source": [
    "\n",
    "\n",
    "\n",
    "# sample 70% of aumented data to the train_df\n",
    "train_df = aug_df.sample(frac=0.7,random_state=3367)\n",
    "\n",
    "# what's leftover will be split into test and train evenly\n",
    "leftover_df = aug_df.drop(train_df.index) \n",
    "\n",
    "# split what's leftover into test and validation                       \n",
    "test_df = leftover_df.sample(frac=0.5, random_state=3367)\n",
    "valid_df = leftover_df.drop(test_df.index)\n",
    "\n",
    "# print sizes as check\n",
    "print(\"train shape: \", train_df.shape)\n",
    "print(\"test shape: \", test_df.shape)\n",
    "print(\"valid shape: \", valid_df.shape)\n",
    "\n"
   ]
  },
  {
   "cell_type": "markdown",
   "metadata": {},
   "source": [
    "# write the dataframes to disk"
   ]
  },
  {
   "cell_type": "code",
   "execution_count": 16,
   "metadata": {},
   "outputs": [],
   "source": [
    "train_df.to_csv(data_path /  pathlib.PurePath(\"train.csv\"), encoding='utf-8', index=False)\n",
    "valid_df.to_csv(data_path /  pathlib.PurePath(\"valid.csv\"), encoding='utf-8', index=False)\n",
    "test_df.to_csv(data_path /  pathlib.PurePath(\"test.csv\"), encoding=\"utf-8\", index=False)\n"
   ]
  },
  {
   "cell_type": "code",
   "execution_count": 17,
   "metadata": {},
   "outputs": [
    {
     "data": {
      "text/html": [
       "<div>\n",
       "<style scoped>\n",
       "    .dataframe tbody tr th:only-of-type {\n",
       "        vertical-align: middle;\n",
       "    }\n",
       "\n",
       "    .dataframe tbody tr th {\n",
       "        vertical-align: top;\n",
       "    }\n",
       "\n",
       "    .dataframe thead th {\n",
       "        text-align: right;\n",
       "    }\n",
       "</style>\n",
       "<table border=\"1\" class=\"dataframe\">\n",
       "  <thead>\n",
       "    <tr style=\"text-align: right;\">\n",
       "      <th></th>\n",
       "      <th>count</th>\n",
       "      <th>mean</th>\n",
       "      <th>std</th>\n",
       "      <th>min</th>\n",
       "      <th>25%</th>\n",
       "      <th>50%</th>\n",
       "      <th>75%</th>\n",
       "      <th>max</th>\n",
       "    </tr>\n",
       "  </thead>\n",
       "  <tbody>\n",
       "    <tr>\n",
       "      <th>z</th>\n",
       "      <td>252.0</td>\n",
       "      <td>9.809524</td>\n",
       "      <td>2.977242</td>\n",
       "      <td>2.000000</td>\n",
       "      <td>10.000000</td>\n",
       "      <td>11.000000</td>\n",
       "      <td>12.000000</td>\n",
       "      <td>12.000000</td>\n",
       "    </tr>\n",
       "    <tr>\n",
       "      <th>x</th>\n",
       "      <td>252.0</td>\n",
       "      <td>5.400752</td>\n",
       "      <td>3.088155</td>\n",
       "      <td>1.191520</td>\n",
       "      <td>2.709295</td>\n",
       "      <td>4.819767</td>\n",
       "      <td>8.191520</td>\n",
       "      <td>11.908658</td>\n",
       "    </tr>\n",
       "    <tr>\n",
       "      <th>y</th>\n",
       "      <td>252.0</td>\n",
       "      <td>4.408772</td>\n",
       "      <td>3.111867</td>\n",
       "      <td>0.035558</td>\n",
       "      <td>1.757693</td>\n",
       "      <td>3.922019</td>\n",
       "      <td>7.269125</td>\n",
       "      <td>10.805749</td>\n",
       "    </tr>\n",
       "  </tbody>\n",
       "</table>\n",
       "</div>"
      ],
      "text/plain": [
       "   count      mean       std       min        25%        50%        75%  \\\n",
       "z  252.0  9.809524  2.977242  2.000000  10.000000  11.000000  12.000000   \n",
       "x  252.0  5.400752  3.088155  1.191520   2.709295   4.819767   8.191520   \n",
       "y  252.0  4.408772  3.111867  0.035558   1.757693   3.922019   7.269125   \n",
       "\n",
       "         max  \n",
       "z  12.000000  \n",
       "x  11.908658  \n",
       "y  10.805749  "
      ]
     },
     "execution_count": 17,
     "metadata": {},
     "output_type": "execute_result"
    }
   ],
   "source": [
    "# typically only use the train dataframe to normalize the data\n",
    "train_stats_df = train_df\n",
    "train_stats = train_stats_df.describe().transpose()\n",
    "train_stats"
   ]
  },
  {
   "cell_type": "code",
   "execution_count": 18,
   "metadata": {},
   "outputs": [
    {
     "data": {
      "text/html": [
       "<div>\n",
       "<style scoped>\n",
       "    .dataframe tbody tr th:only-of-type {\n",
       "        vertical-align: middle;\n",
       "    }\n",
       "\n",
       "    .dataframe tbody tr th {\n",
       "        vertical-align: top;\n",
       "    }\n",
       "\n",
       "    .dataframe thead th {\n",
       "        text-align: right;\n",
       "    }\n",
       "</style>\n",
       "<table border=\"1\" class=\"dataframe\">\n",
       "  <thead>\n",
       "    <tr style=\"text-align: right;\">\n",
       "      <th></th>\n",
       "      <th>z</th>\n",
       "      <th>x</th>\n",
       "      <th>y</th>\n",
       "    </tr>\n",
       "  </thead>\n",
       "  <tbody>\n",
       "    <tr>\n",
       "      <th>262</th>\n",
       "      <td>11.0</td>\n",
       "      <td>9.964442</td>\n",
       "      <td>1.035558</td>\n",
       "    </tr>\n",
       "    <tr>\n",
       "      <th>4</th>\n",
       "      <td>10.0</td>\n",
       "      <td>5.724816</td>\n",
       "      <td>4.275184</td>\n",
       "    </tr>\n",
       "    <tr>\n",
       "      <th>207</th>\n",
       "      <td>12.0</td>\n",
       "      <td>3.730875</td>\n",
       "      <td>8.269125</td>\n",
       "    </tr>\n",
       "    <tr>\n",
       "      <th>326</th>\n",
       "      <td>10.0</td>\n",
       "      <td>7.510245</td>\n",
       "      <td>2.489755</td>\n",
       "    </tr>\n",
       "    <tr>\n",
       "      <th>161</th>\n",
       "      <td>11.0</td>\n",
       "      <td>2.194251</td>\n",
       "      <td>8.805749</td>\n",
       "    </tr>\n",
       "    <tr>\n",
       "      <th>...</th>\n",
       "      <td>...</td>\n",
       "      <td>...</td>\n",
       "      <td>...</td>\n",
       "    </tr>\n",
       "    <tr>\n",
       "      <th>286</th>\n",
       "      <td>4.0</td>\n",
       "      <td>2.964442</td>\n",
       "      <td>1.035558</td>\n",
       "    </tr>\n",
       "    <tr>\n",
       "      <th>201</th>\n",
       "      <td>12.0</td>\n",
       "      <td>9.730875</td>\n",
       "      <td>2.269125</td>\n",
       "    </tr>\n",
       "    <tr>\n",
       "      <th>160</th>\n",
       "      <td>11.0</td>\n",
       "      <td>3.194251</td>\n",
       "      <td>7.805749</td>\n",
       "    </tr>\n",
       "    <tr>\n",
       "      <th>282</th>\n",
       "      <td>2.0</td>\n",
       "      <td>1.964442</td>\n",
       "      <td>0.035558</td>\n",
       "    </tr>\n",
       "    <tr>\n",
       "      <th>333</th>\n",
       "      <td>11.0</td>\n",
       "      <td>10.510245</td>\n",
       "      <td>0.489755</td>\n",
       "    </tr>\n",
       "  </tbody>\n",
       "</table>\n",
       "<p>252 rows × 3 columns</p>\n",
       "</div>"
      ],
      "text/plain": [
       "        z          x         y\n",
       "262  11.0   9.964442  1.035558\n",
       "4    10.0   5.724816  4.275184\n",
       "207  12.0   3.730875  8.269125\n",
       "326  10.0   7.510245  2.489755\n",
       "161  11.0   2.194251  8.805749\n",
       "..    ...        ...       ...\n",
       "286   4.0   2.964442  1.035558\n",
       "201  12.0   9.730875  2.269125\n",
       "160  11.0   3.194251  7.805749\n",
       "282   2.0   1.964442  0.035558\n",
       "333  11.0  10.510245  0.489755\n",
       "\n",
       "[252 rows x 3 columns]"
      ]
     },
     "execution_count": 18,
     "metadata": {},
     "output_type": "execute_result"
    }
   ],
   "source": [
    "train_df"
   ]
  },
  {
   "cell_type": "markdown",
   "metadata": {},
   "source": [
    "# Plot the dataframes"
   ]
  },
  {
   "cell_type": "code",
   "execution_count": 19,
   "metadata": {},
   "outputs": [
    {
     "data": {
      "text/plain": [
       "<matplotlib.collections.PathCollection at 0x15f0aa460>"
      ]
     },
     "execution_count": 19,
     "metadata": {},
     "output_type": "execute_result"
    },
    {
     "data": {
      "image/png": "[encoded data removed]",
      "text/plain": [
       "<Figure size 640x480 with 1 Axes>"
      ]
     },
     "metadata": {},
     "output_type": "display_data"
    }
   ],
   "source": [
    "plt.scatter(train_df['y'], train_df['x'], c='green')"
   ]
  },
  {
   "cell_type": "code",
   "execution_count": 20,
   "metadata": {},
   "outputs": [
    {
     "data": {
      "text/plain": [
       "<matplotlib.collections.PathCollection at 0x15f15e3a0>"
      ]
     },
     "execution_count": 20,
     "metadata": {},
     "output_type": "execute_result"
    },
    {
     "data": {
      "image/png": "[encoded data removed]",
      "text/plain": [
       "<Figure size 640x480 with 1 Axes>"
      ]
     },
     "metadata": {},
     "output_type": "display_data"
    }
   ],
   "source": [
    "plt.scatter(valid_df['y'], valid_df['x'], c='green')"
   ]
  },
  {
   "cell_type": "code",
   "execution_count": 21,
   "metadata": {},
   "outputs": [
    {
     "data": {
      "text/plain": [
       "<matplotlib.collections.PathCollection at 0x15f1d5190>"
      ]
     },
     "execution_count": 21,
     "metadata": {},
     "output_type": "execute_result"
    },
    {
     "data": {
      "image/png": "[encoded data removed]",
      "text/plain": [
       "<Figure size 640x480 with 1 Axes>"
      ]
     },
     "metadata": {},
     "output_type": "display_data"
    }
   ],
   "source": [
    "plt.scatter(test_df['y'], test_df['x'], c='green')"
   ]
  },
  {
   "cell_type": "code",
   "execution_count": null,
   "metadata": {},
   "outputs": [],
   "source": []
  },
  {
   "cell_type": "code",
   "execution_count": null,
   "metadata": {},
   "outputs": [],
   "source": []
  },
  {
   "cell_type": "code",
   "execution_count": null,
   "metadata": {},
   "outputs": [],
   "source": []
  }
 ],
 "metadata": {
  "kernelspec": {
   "display_name": "Python 3",
   "language": "python",
   "name": "python3"
  },
  "language_info": {
   "codemirror_mode": {
    "name": "ipython",
    "version": 3
   },
   "file_extension": ".py",
   "mimetype": "text/x-python",
   "name": "python",
   "nbconvert_exporter": "python",
   "pygments_lexer": "ipython3",
   "version": "3.9.6"
  }
 },
 "nbformat": 4,
 "nbformat_minor": 2
}
