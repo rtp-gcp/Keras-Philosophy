{
 "cells": [
  {
   "cell_type": "markdown",
   "metadata": {},
   "source": [
    "# GenAI model tuning prep data\n",
    "\n",
    "input format\n",
    "\n",
    "```\n",
    "SAMPLE_CODE\n",
    "\n",
    "COMMENTARY\n",
    "\n",
    "PROMPT\n",
    "\n",
    "```\n",
    "\n",
    "\n",
    "output format\n",
    "\n",
    "```\n",
    "{\"messages\": [{\"role\": \"system\", \"content\": \"Marv is a factual chatbot that is also sarcastic.\"}, {\"role\": \"user\", \"content\": \"How far is the Chelsea Cafe from my current location?\"}, {\"role\": \"assistant\", \"content\": \"Around five minutes walk. Are you hungry?\"}]}\n",
    "```\n",
    "\n",
    "```\n",
    "{\"messages\": [\n",
    "    {\"role\": \"system\", \n",
    "    \"content\": \"Marv is a factual chatbot that is also sarcastic.\"}, \n",
    "    \n",
    "    {\"role\": \"user\", \n",
    "    \"content\": \"How far is the Chelsea Cafe from my current location?\"}, \n",
    "    \n",
    "    {\"role\": \"assistant\", \n",
    "    \"content\": \"Around five minutes walk. Are you hungry?\"}\n",
    "    ]}\n",
    "```\n",
    "\n",
    "```\n",
    "{\"messages\": [\n",
    "    {\"role\": \"system\", \n",
    "    \"content\": \"context\"}, \n",
    "    \n",
    "    {\"role\": \"user\", \n",
    "    \"content\": prompt}, \n",
    "    \n",
    "    {\"role\": \"assistant\", \n",
    "    \"content\": sample_code, commentary}\n",
    "    ]}\n",
    "\n",
    "```"
   ]
  },
  {
   "cell_type": "markdown",
   "metadata": {},
   "source": [
    "## for reference here is the openai prompt and result\n",
    "\n",
    "We tried this with the GOOG chat but it didn't work.\n",
    "\n",
    "## prompt\n",
    "\n",
    "```\n",
    "Write code in python to read a text file with this format:\n",
    "\n",
    "```\n",
    "SAMPLE_CODE\n",
    "\n",
    "This is sample code line 1\n",
    "This is sample code line 2\n",
    "This is sample code line 3\n",
    "\n",
    "COMMENTARY\n",
    "\n",
    "This is sample commentary line 1\n",
    "This is sample commentary line 2\n",
    "This is sample commentary line 3\n",
    "\n",
    "PROMPT\n",
    "\n",
    "This is sample prompt line 1\n",
    "This is sample prompt line 2\n",
    "This is sample prompt line 3\n",
    "\n",
    "```\n",
    " \n",
    "and produce a jsonl file in this format:\n",
    "\n",
    "{\"messages\": [\n",
    "    {\"role\": \"system\", \n",
    "    \"content\": \"context\"}, \n",
    "    \n",
    "    {\"role\": \"user\", \n",
    "    \"content\": prompt}, \n",
    "    \n",
    "    {\"role\": \"assistant\", \n",
    "    \"content\": sample_code, commentary}\n",
    "    ]}\n",
    "```\n"
   ]
  },
  {
   "cell_type": "code",
   "execution_count": 1,
   "metadata": {},
   "outputs": [],
   "source": [
    "import datetime\n",
    "import pathlib\n",
    "import json\n",
    "\n",
    "import pandas as pd\n",
    "import os\n",
    "import os.path"
   ]
  },
  {
   "cell_type": "code",
   "execution_count": 2,
   "metadata": {},
   "outputs": [],
   "source": [
    "# This can be varied to point to different files.\n",
    "IN_FILE_NAME = \"raw.txt\"\n",
    "OUT_FILE_NAME = \"processed.jsonl\"\n",
    "os.environ['IN_FILE_NAME'] = IN_FILE_NAME\n",
    "os.environ['OUT_FILE_NAME'] = OUT_FILE_NAME"
   ]
  },
  {
   "cell_type": "code",
   "execution_count": 3,
   "metadata": {},
   "outputs": [
    {
     "name": "stdout",
     "output_type": "stream",
     "text": [
      "current directory is : /workspaces/Keras-Philosophy/notebooks\n"
     ]
    }
   ],
   "source": [
    "# The current directory will be where this src file is located.\n",
    "# Which is in the notebooks dir of the project\n",
    "dirpath = os.getcwd()\n",
    "print(\"current directory is : \" + dirpath)"
   ]
  },
  {
   "cell_type": "code",
   "execution_count": 4,
   "metadata": {},
   "outputs": [
    {
     "name": "stdout",
     "output_type": "stream",
     "text": [
      "root directory is:  /workspaces/Keras-Philosophy\n",
      "data directory is:  /workspaces/Keras-Philosophy/data\n",
      "logs directory is:  /workspaces/Keras-Philosophy/logs\n"
     ]
    }
   ],
   "source": [
    "# Use pathlib to find the root dir of the git repo\n",
    "root_path = pathlib.PurePath(dirpath).parents[0]\n",
    "data_path = root_path / 'data'\n",
    "logs_path = root_path / 'logs'\n",
    "print(\"root directory is: \", root_path)\n",
    "print(\"data directory is: \",  data_path)\n",
    "print(\"logs directory is: \", logs_path)"
   ]
  },
  {
   "cell_type": "code",
   "execution_count": 5,
   "metadata": {},
   "outputs": [
    {
     "name": "stdout",
     "output_type": "stream",
     "text": [
      "LOGS_DIR_NAME:  /workspaces/Keras-Philosophy/logs\n",
      "DATA_DIR_NAME:  /workspaces/Keras-Philosophy/data\n"
     ]
    }
   ],
   "source": [
    "# Create equivalent dir names in the environment\n",
    "# Logs\n",
    "LOGS_DIR_NAME = logs_path.as_posix()\n",
    "print(\"LOGS_DIR_NAME: \", LOGS_DIR_NAME)\n",
    "os.environ['LOGS_DIR_NAME'] = LOGS_DIR_NAME\n",
    "# Data\n",
    "DATA_DIR_NAME = data_path.as_posix()\n",
    "print(\"DATA_DIR_NAME: \", DATA_DIR_NAME)\n",
    "os.environ['DATA_DIR_NAME'] = DATA_DIR_NAME"
   ]
  },
  {
   "cell_type": "code",
   "execution_count": 6,
   "metadata": {},
   "outputs": [
    {
     "name": "stdout",
     "output_type": "stream",
     "text": [
      "/workspaces/Keras-Philosophy/data\n",
      "/workspaces/Keras-Philosophy/logs\n",
      "\n"
     ]
    }
   ],
   "source": [
    "%%bash\n",
    "# Verify env variables are set\n",
    "echo ${DATA_DIR_NAME}\n",
    "echo ${LOGS_DIR_NAME}\n",
    "echo ${CSV_FILE_NAME}"
   ]
  },
  {
   "cell_type": "code",
   "execution_count": 7,
   "metadata": {},
   "outputs": [
    {
     "name": "stdout",
     "output_type": "stream",
     "text": [
      "\n",
      "SAMPLE_CODE\n",
      "\n",
      "This is sample code line 1\n",
      "This is sample code line 2\n"
     ]
    }
   ],
   "source": [
    "%%bash\n",
    "head -n 5 \"${DATA_DIR_NAME}/${IN_FILE_NAME}\""
   ]
  },
  {
   "cell_type": "markdown",
   "metadata": {},
   "source": [
    "# routine to build our file via chatGPT"
   ]
  },
  {
   "cell_type": "code",
   "execution_count": 33,
   "metadata": {},
   "outputs": [],
   "source": [
    "# Function to read the input text file and convert it to JSONL format\n",
    "def convert_text_to_jsonl(input_file, output_file):\n",
    "    lines = []\n",
    "    messages = []\n",
    "    # stub vars\n",
    "    sample_code = []\n",
    "    commentary = []\n",
    "    prompt = []\n",
    "\n",
    "    with open(input_file, 'r') as file:\n",
    "        lines = file.readlines()\n",
    "\n",
    "\n",
    "    # \n",
    "    # find delimiters\n",
    "    #\n",
    "\n",
    "    posn = []\n",
    "    line_nbr = 0\n",
    "    for a_line in lines:\n",
    "        #print(a_line)\n",
    "        if (a_line == \"SAMPLE_CODE\\n\"):\n",
    "            #print(a_line, \" \", line_nbr )\n",
    "            # save that position\n",
    "            posn.append(line_nbr) \n",
    "        if (a_line == \"COMMENTARY\\n\"):\n",
    "            #print(a_line)\n",
    "            posn.append(line_nbr) \n",
    "        if (a_line == \"PROMPT\\n\"):\n",
    "            #print(a_line)\n",
    "            posn.append(line_nbr) \n",
    "        \n",
    "        line_nbr = line_nbr + 1\n",
    "\n",
    "    # Record the last line in file\n",
    "    posn.append(line_nbr) \n",
    "\n",
    "    #print(\"posn: \", posn)\n",
    "\n",
    "    # separate out the parts\n",
    "    code_lines = lines[1+1:posn[1]]\n",
    "    commentary_lines = lines[posn[1]+1:posn[2]]\n",
    "    prompt_lines = lines[posn[2]+1:posn[3]]\n",
    "\n",
    "    # dump the parts\n",
    "    #print(\"===code_lines:===\\n\", code_lines)\n",
    "    #print(\"===commentary_lines:===\\n\", commentary_lines)\n",
    "    #print(\"===prompt_lines:===\\n\", prompt_lines)\n",
    "\n",
    "    a_dict = {}\n",
    "    a_dict['messages'] = []\n",
    "    # a_dict['messages'] = [ \n",
    "    #     {'role':'system',\n",
    "    #      'content': 'you are a helpful assistant'},\n",
    "    #     {'role':'user',\n",
    "    #      'content': prompt_lines},\n",
    "    #     {'role':'assistant',\n",
    "    #      'content': code_lines + ' with commentary: ' + commentary_lines}\n",
    "    # ]\n",
    "\n",
    "    code_commentary_lines = code_lines\n",
    "    code_commentary_lines.append('with commentary: \\n')\n",
    "    [code_commentary_lines.append(e) for e in commentary_lines]\n",
    "    \n",
    "    a_dict['messages'].append({'role':'system',\n",
    "                              'content': 'you are a helpful assistant who understands IBM HLASM'})\n",
    "    a_dict['messages'].append({'role':'user',\n",
    "                               'content': ' '.join(prompt_lines)})\n",
    "    a_dict['messages'].append({'role':'assistant',\n",
    "                               'content': ' '.join(code_commentary_lines)})\n",
    "\n",
    "\n",
    "    print(a_dict)\n",
    "\n",
    "    # append to output file\n",
    "    # modify with w to write a new one\n",
    "    with open(output_file, 'a') as jsonl_file:\n",
    "        jsonl_file.write(json.dumps(a_dict) + '\\n')"
   ]
  },
  {
   "cell_type": "code",
   "execution_count": 34,
   "metadata": {},
   "outputs": [
    {
     "name": "stdout",
     "output_type": "stream",
     "text": [
      "{'messages': [{'role': 'system', 'content': 'you are a helpful assistant who understands IBM HLASM'}, {'role': 'user', 'content': '\\n This is sample prompt line 1\\n This is sample prompt line 2\\n This is sample prompt line 3\\n'}, {'role': 'assistant', 'content': '\\n This is sample code line 1\\n This is sample code line 2\\n This is sample code line 3\\n \\n with commentary: \\n \\n This is sample commentary line 1\\n This is sample commentary line 2\\n This is sample commentary line 3\\n \\n'}]}\n"
     ]
    }
   ],
   "source": [
    "IN_FQPN = data_path /  pathlib.PurePath(IN_FILE_NAME).as_posix()\n",
    "OUT_FQPN = data_path /  pathlib.PurePath(OUT_FILE_NAME).as_posix()\n",
    "\n",
    "convert_text_to_jsonl(IN_FQPN, OUT_FQPN)"
   ]
  },
  {
   "cell_type": "code",
   "execution_count": 35,
   "metadata": {},
   "outputs": [],
   "source": [
    "# TODO: Redo with glob pattern\n",
    "files = [\"raw_add_register2.txt\",\n",
    "         \"raw_divide4.txt\",\n",
    "         \"raw_add.txt\",\n",
    "         \"raw_divide.txt\",           \n",
    "         \"raw_divide5.txt\",\n",
    "         \"raw_add2.txt\",             \n",
    "         \"raw_divide2.txt\",          \n",
    "         \"raw_move_immediate.txt\",\n",
    "         \"raw_add_register.txt\",\n",
    "         \"raw_divide3.txt\",\n",
    "         \"raw_move_immediate2.txt\",\n",
    "         \"raw_move_immediate3.txt\"]"
   ]
  },
  {
   "cell_type": "code",
   "execution_count": 36,
   "metadata": {},
   "outputs": [
    {
     "name": "stdout",
     "output_type": "stream",
     "text": [
      "/workspaces/Keras-Philosophy/data/SAMPLE.JSONL\n"
     ]
    }
   ],
   "source": [
    "# BUG: failure to rm existing file using pathlib\n",
    "# TODO: PathLib is builtin to python 3.x\n",
    "# I had installed it seprately, and perhaps the older version does not\n",
    "# have unlink().  I erased my .venv, removed the entry\n",
    "# in requirements.txt and the error persisted.  The code is here in \n",
    "# case I have time to try again later. 8-/\n",
    "\n",
    "OUT_FQPN_PL = data_path /  pathlib.Path(\"SAMPLE.JSONL\")\n",
    "print(OUT_FQPN_PL)\n",
    "#OUT_FQPN_PL.unlink(missing_ok=True)\n"
   ]
  },
  {
   "cell_type": "code",
   "execution_count": 37,
   "metadata": {},
   "outputs": [
    {
     "name": "stdout",
     "output_type": "stream",
     "text": [
      "{'messages': [{'role': 'system', 'content': 'you are a helpful assistant who understands IBM HLASM'}, {'role': 'user', 'content': '\\n Provide an explanation of the Add Register instruction in HLASM.\\n'}, {'role': 'assistant', 'content': \"\\n        AR   R5,R9\\n \\n with commentary: \\n \\n AR   R1,R2\\n \\n OPCODE  R1R2\\n \\n The Add Register instruction performs two's compliment binary\\n addition.  Operand 1 and 2 are registers containing fullword\\n integers.  The fullwords are added and the sum is stored\\n in register 1.  Register 2 is unchanged.\\n \\n The instruction sets the condition code as follows:\\n \\n condition code        meaning                   test with\\n ------------------------------------------------------------\\n 0                  Result is 0; no overflow     BE,JE,BZ,JZ\\n 1                  Result is <0; no overflow    BL,JL,BM,JM\\n 2                  Result is >0; no overflow    BH,JH,BP,JP\\n 3                  overflow\\n \\n As an example, consider the following code:\\n \\n        AR   R5,R9\\n \\n \\n \\n R5 Before               R5 After\\n 00000025 -------------> 00000028\\n \\n R9 Before               R9 After\\n 00000003 -------------> 00000028\\n \\n \\n \\n\"}]}\n",
      "{'messages': [{'role': 'system', 'content': 'you are a helpful assistant who understands IBM HLASM'}, {'role': 'user', 'content': '\\n Provide an explanation of the Divide instruction using negative numbers in HLASM.\\n'}, {'role': 'assistant', 'content': \"\\n        D     R6,=F'-8'\\n \\n with commentary: \\n \\n D   R1,D2(X2,B2)\\n \\n OPCODE  R1X2   B2D2  D2D2\\n \\n The Divide (D) instruction performs two's compliment binary\\n integer division.  \\n \\n An example of integer division is:  \\n \\n Y = A / B with remainder R\\n \\n A is referred to as the dividend\\n B is referred to as the divisor\\n Y is referred to as quotient\\n R is referred to as the remainder\\n \\n Operand 1 specifies a register pair.  Operand 1\\n specifies an even register.  The second register is implied as the\\n next register in the sequence.\\n \\n For example if Operand 1 is R2, the second register is R3.  This\\n even:odd register pair forms the dividend.\\n \\n Operand 2 specifes the name of a fullword in memory containing\\n the divisor.\\n \\n After the execution of the divide instruction, the resulting \\n quotient is in R1 and the remainder is in R2.   To clarify,\\n R1 is R8 and R2 is R9 in the example code below.\\n \\n \\n As an example, consider the following code:\\n \\n        L     R6,=F'-100'  DIVIDEND INITIALLY GOES IN THE EVEN\\n *                         REGISTER\\n        SRDA  R6,32        ... AND IS SHIFTED TO THE ODD REGISTER\\n        D     R6,=F'-8'    ... BEFORE DIVIDING\\n *                         R6 (REMAINDER) = X'FFFFFFFC' = -4\\n *                         R7 (QUOTIENT)  = X'0000000C'\\n \\n \\n \\n -100/-8 -> 12 r=-4\\n \\n \\n R6 Before               R6 After\\n Dividend Upper          Remainder\\n FFFFFFFF -------------> FFFFFFFC\\n \\n R7 Before               R7 After\\n Dividend Lower          Quotient\\n FFFFFF64 -------------> 0000000C\\n \\n IMM:F             \\n FFFFFF64 \\n \\n IMM:F \\n FFFFFFF8 \\n \\n \\n\"}]}\n",
      "{'messages': [{'role': 'system', 'content': 'you are a helpful assistant who understands IBM HLASM'}, {'role': 'user', 'content': '\\n Provide an explanation of the A instruction in HLASM.\\n'}, {'role': 'assistant', 'content': \"\\n        A   R9,FIELDA\\n \\n with commentary: \\n \\n A R1,D2(X2,B2)\\n \\n OPCODE  R1X2   B2D2  D2D2\\n \\n The Add instruction performs two's compliment binary\\n addition.  Operand 1 is a register containing a fullword\\n integer.  Operand 2 is a fullword in memory.  The fullword\\n in memory is added to the fullword in the register and the result\\n is stored in the register.  The fullword in memory is not changed.\\n The instruction ses the condition code as follows:\\n \\n condition code        meaning                   test with\\n ------------------------------------------------------------\\n 0                  Result is 0; no overflow     BE,JE,BZ,JZ\\n 1                  Result is <0; no overflow    BL,JL,BM,JM\\n 2                  Result is >0; no overflow    BH,JH,BP,JP\\n 3                  overflow\\n \\n As an example, consider the following code:\\n \\n        A   R9,AFIELD\\n \\n R9 Before               R9 After\\n 00000025 -------------> 00000028\\n \\n FIELDA DC   X'3'\\n \\n \\n\"}]}\n",
      "{'messages': [{'role': 'system', 'content': 'you are a helpful assistant who understands IBM HLASM'}, {'role': 'user', 'content': '\\n Provide an explanation of the D instruction in HLASM.\\n'}, {'role': 'assistant', 'content': \"\\n        D     R8,B\\n \\n with commentary: \\n \\n D   R1,D2(X2,B2)\\n \\n OPCODE  R1X2   B2D2  D2D2\\n \\n The Divide (D) instruction performs two's compliment binary\\n integer division.  \\n \\n An example of integer division is:  \\n \\n Y = A / B with remainder R\\n \\n A is referred to as the dividend\\n B is referred to as the divisor\\n Y is referred to as quotient\\n R is referred to as the remainder\\n \\n Operand 1 specifies a register pair.  Operand 1\\n specifies an even register.  The second register is implied as the\\n next register in the sequence.\\n \\n For example if Operand 1 is R2, the second register is R3.  This\\n even:odd register pair forms the dividend.\\n \\n Operand 2 specifes the name of a fullword in memory containing\\n the divisor.\\n \\n After the execution of the divide instruction, the resulting \\n quotient is in R1 and the remainder is in R2.   To clarify,\\n R1 is R8 and R2 is R9 in the example code below.\\n \\n \\n As an example, consider the following code:\\n \\n        L     R8,A        PUT THE DIVIDEND IN THE EVEN REGISTER\\n        SRDA  R8,32       ALGEBRAICALLY SHIFT R8 INTO R9\\n        D     R8,B        DIVIDE A BY B\\n        ...\\n A      DC    F'19'       DIVIDEND \\n B      DC    F'5'        DIVISOR \\n \\n 19/5 -> 3 r=4\\n \\n \\n R8 Before               R8 After\\n Dividend Upper          Remainder\\n 00000000 -------------> 00000004\\n \\n R9 Before               R9 After\\n Dividend Lower          Quotient\\n 00000013 -------------> 00000003\\n \\n MEM:A Before            MEM:A After\\n 00000013 -------------> 00000013\\n \\n MEM:B Before            MEM:B After\\n 00000005 -------------> 00000005\\n \\n \\n \\n\"}]}\n",
      "{'messages': [{'role': 'system', 'content': 'you are a helpful assistant who understands IBM HLASM'}, {'role': 'user', 'content': '\\n Provide an explanation of the Divide instruction and how to \\n protect against divide by zero errors in HLASM.\\n'}, {'role': 'assistant', 'content': \"\\n         L   R5,DIVISOR\\n         C   R5,=F'0'               IS THE DIVISOR 0?\\n         BE  ZERODIV                BRANCH IF DIVISOR is 0\\n         D   R8,DIVISOR             OK to DIVIDE NOW\\n         ...\\n ZERODIV EQU *\\n *\\n * CODE TO HANDLE A ZERO DIVISOR\\n *\\n * TODO:\\n \\n \\n with commentary: \\n \\n D   R1,D2(X2,B2)\\n \\n OPCODE  R1X2   B2D2  D2D2\\n \\n The Divide (D) instruction performs two's compliment binary\\n integer division.  \\n \\n An example of integer division is:  \\n \\n Y = A / B with remainder R\\n \\n A is referred to as the dividend\\n B is referred to as the divisor\\n Y is referred to as quotient\\n R is referred to as the remainder\\n \\n Operand 1 specifies a register pair.  Operand 1\\n specifies an even register.  The second register is implied as the\\n next register in the sequence.\\n \\n For example if Operand 1 is R2, the second register is R3.  This\\n even:odd register pair forms the dividend.\\n \\n Operand 2 specifes the name of a fullword in memory containing\\n the divisor.\\n \\n After the execution of the divide instruction, the resulting \\n quotient is in R1 and the remainder is in R2.   To clarify,\\n R1 is R8 and R2 is R9 in the example code below.\\n \\n \\n As an example, consider the following code which protects\\n against divide by zero errors:\\n \\n         L   R5,DIVISOR\\n         C   R5,=F'0'               IS THE DIVISOR 0?\\n         BE  ZERODIV                BRANCH IF DIVISOR is 0\\n         D   R8,DIVISOR             OK to DIVIDE NOW\\n         ...\\n ZERODIV EQU *\\n *\\n * CODE TO HANDLE A ZERO DIVISOR\\n *\\n * TODO:\\n \\n \\n \\n \\n \\n\"}]}\n",
      "{'messages': [{'role': 'system', 'content': 'you are a helpful assistant who understands IBM HLASM'}, {'role': 'user', 'content': '\\n Provide an explanation of the Add instruction in HLASM.\\n'}, {'role': 'assistant', 'content': \"\\n        A   R9,FIELDA\\n \\n with commentary: \\n \\n A R1,D2(X2,B2)\\n \\n OPCODE  R1X2   B2D2  D2D2\\n \\n The Add instruction performs two's compliment binary\\n addition.  Operand 1 is a register containing a fullword\\n integer.  Operand 2 is a fullword in memory.  The fullword\\n in memory is added to the fullword in the register and the result\\n is stored in the register.  The fullword in memory is not changed.\\n The instruction ses the condition code as follows:\\n \\n condition code        meaning                   test with\\n ------------------------------------------------------------\\n 0                  Result is 0; no overflow     BE,JE,BZ,JZ\\n 1                  Result is <0; no overflow    BL,JL,BM,JM\\n 2                  Result is >0; no overflow    BH,JH,BP,JP\\n 3                  overflow\\n \\n As an example, consider the following code:\\n \\n        A   R9,AFIELD\\n \\n R9 Before               R9 After\\n 00000025 -------------> 00000028\\n \\n FIELDA DC   X'3'\\n \\n \\n\"}]}\n",
      "{'messages': [{'role': 'system', 'content': 'you are a helpful assistant who understands IBM HLASM'}, {'role': 'user', 'content': '\\n Provide an explanation of the Divide instruction in HLASM.\\n'}, {'role': 'assistant', 'content': \"\\n        D     R8,B\\n \\n with commentary: \\n \\n D   R1,D2(X2,B2)\\n \\n OPCODE  R1X2   B2D2  D2D2\\n \\n The Divide (D) instruction performs two's compliment binary\\n integer division.  \\n \\n An example of integer division is:  \\n \\n Y = A / B with remainder R\\n \\n A is referred to as the dividend\\n B is referred to as the divisor\\n Y is referred to as quotient\\n R is referred to as the remainder\\n \\n Operand 1 specifies a register pair.  Operand 1\\n specifies an even register.  The second register is implied as the\\n next register in the sequence.\\n \\n For example if Operand 1 is R2, the second register is R3.  This\\n even:odd register pair forms the dividend.\\n \\n Operand 2 specifes the name of a fullword in memory containing\\n the divisor.\\n \\n After the execution of the divide instruction, the resulting \\n quotient is in R1 and the remainder is in R2.   To clarify,\\n R1 is R8 and R2 is R9 in the example code below.\\n \\n \\n As an example, consider the following code:\\n \\n        L     R8,A        PUT THE DIVIDEND IN THE EVEN REGISTER\\n        SRDA  R8,32       ALGEBRAICALLY SHIFT R8 INTO R9\\n        D     R8,B        DIVIDE A BY B\\n        ...\\n A      DC    F'19'       DIVIDEND \\n B      DC    F'5'        DIVISOR \\n \\n \\n 19/5 -> 3 r=4\\n \\n R8 Before               R8 After\\n Dividend Upper          Remainder\\n 00000000 -------------> 00000004\\n \\n R9 Before               R9 After\\n Dividend Lower          Quotient\\n 00000013 -------------> 00000003\\n \\n MEM:A Before            MEM:A After\\n 00000013 -------------> 00000013\\n \\n MEM:B Before            MEM:B After\\n 00000005 -------------> 00000005\\n \\n \\n \\n\"}]}\n",
      "{'messages': [{'role': 'system', 'content': 'you are a helpful assistant who understands IBM HLASM'}, {'role': 'user', 'content': '\\n Provide an explanation of the MVI instruction in HLASM.\\n'}, {'role': 'assistant', 'content': \"\\n        MVI   FIELDA,X'C1'\\n \\n with commentary: \\n \\n MVI D1(B1),I2\\n \\n OPCODE  I2I2   B1D1  D1D1\\n \\n Move immediate (MVI) is used to move (copy) a one-byte immediate\\n constant to a field in storage .  Operand 1 denotes the filed in main \\n storage, while the second operand is coded as self-defining term that\\n gets assembled by the move.\\n \\n As an example, consider the following code:\\n \\n        MVI   FIELDA,X'C1'\\n        ...\\n FIELDA DC   X'123456'\\n \\n \\n\"}]}\n",
      "{'messages': [{'role': 'system', 'content': 'you are a helpful assistant who understands IBM HLASM'}, {'role': 'user', 'content': '\\n Provide an explanation of the AR instruction in HLASM.\\n'}, {'role': 'assistant', 'content': \"\\n        AR   R5,R9\\n \\n with commentary: \\n \\n AR   R1,R2\\n \\n OPCODE  R1R2\\n \\n The Add Register instruction performs two's compliment binary\\n addition.  Operand 1 and 2 are registers containing fullword\\n integers.  The fullwords are added and the sum is stored\\n in register 1.  Register 2 is unchanged.\\n \\n The instruction sets the condition code as follows:\\n \\n condition code        meaning                   test with\\n ------------------------------------------------------------\\n 0                  Result is 0; no overflow     BE,JE,BZ,JZ\\n 1                  Result is <0; no overflow    BL,JL,BM,JM\\n 2                  Result is >0; no overflow    BH,JH,BP,JP\\n 3                  overflow\\n \\n As an example, consider the following code:\\n \\n        AR   R5,R9\\n \\n \\n \\n R5 Before               R5 After\\n 00000025 -------------> 00000028\\n \\n R9 Before               R9 After\\n 00000003 -------------> 00000028\\n \\n \\n \\n\"}]}\n",
      "{'messages': [{'role': 'system', 'content': 'you are a helpful assistant who understands IBM HLASM'}, {'role': 'user', 'content': '\\n Provide an explanation of the Divide instruction in HLASM.\\n'}, {'role': 'assistant', 'content': \"\\n        D     R6,=F'10'\\n \\n with commentary: \\n \\n D   R1,D2(X2,B2)\\n \\n OPCODE  R1X2   B2D2  D2D2\\n \\n The Divide (D) instruction performs two's compliment binary\\n integer division.  \\n \\n An example of integer division is:  \\n \\n Y = A / B with remainder R\\n \\n A is referred to as the dividend\\n B is referred to as the divisor\\n Y is referred to as quotient\\n R is referred to as the remainder\\n \\n Operand 1 specifies a register pair.  Operand 1\\n specifies an even register.  The second register is implied as the\\n next register in the sequence.\\n \\n For example if Operand 1 is R2, the second register is R3.  This\\n even:odd register pair forms the dividend.\\n \\n Operand 2 specifes the name of a fullword in memory containing\\n the divisor.\\n \\n After the execution of the divide instruction, the resulting \\n quotient is in R1 and the remainder is in R2.   To clarify,\\n R1 is R8 and R2 is R9 in the example code below.\\n \\n \\n As an example, consider the following code:\\n \\n        L     R6,=F'100'  DIVIDEND INITIALLY GOES IN THE EVEN\\n *                        REGISTER\\n        SRDA  R6,32       ... AND IS SHIFTED TO THE ODD REGISTER\\n        D     R6,=F'10'   ... BEFORE DIVIDING\\n *                        R6 (REMAINDER) = X'00000000',\\n *                        R7 (QUOTIENT)  = X'0000000A'\\n \\n \\n \\n 100/10 -> 10 r=0\\n \\n \\n R6 Before               R6 After\\n Dividend Upper          Remainder\\n 00000000 -------------> 00000000\\n \\n R7 Before               R7 After\\n Dividend Lower          Quotient\\n 00000064 -------------> 0000000A\\n \\n IMM:F \\n 0000000A \\n \\n IMM:F \\n 00000064 \\n \\n \\n \\n\"}]}\n",
      "{'messages': [{'role': 'system', 'content': 'you are a helpful assistant who understands IBM HLASM'}, {'role': 'user', 'content': '\\n Provide an explanation of the Move Immediate instruction in HLASM.\\n'}, {'role': 'assistant', 'content': \"\\n        MVI   FIELDA,X'C1'\\n \\n with commentary: \\n \\n MVI D1(B1),I2\\n \\n OPCODE  I2I2   B1D1  D1D1\\n \\n Move immediate (MVI) is used to move (copy) a one-byte immediate\\n constant to a field in storage .  Operand 1 denotes the filed in main \\n storage, while the second operand is coded as self-defining term that\\n gets assembled by the move.\\n \\n As an example, consider the following code:\\n \\n        MVI   FIELDA,X'C1'\\n        ...\\n FIELDA DC   X'123456'\\n \\n \\n\"}]}\n",
      "{'messages': [{'role': 'system', 'content': 'you are a helpful assistant who understands IBM HLASM'}, {'role': 'user', 'content': '\\n Provide an explanation of the Move Immediate instruction in BAS.\\n'}, {'role': 'assistant', 'content': \"\\n        MVI   FIELDA,X'C1'\\n \\n with commentary: \\n \\n MVI D1(B1),I2\\n \\n OPCODE  I2I2   B1D1  D1D1\\n \\n Move immediate (MVI) is used to move (copy) a one-byte immediate\\n constant to a field in storage .  Operand 1 denotes the filed in main \\n storage, while the second operand is coded as self-defining term that\\n gets assembled by the move.\\n \\n As an example, consider the following code:\\n \\n        MVI   FIELDA,X'C1'\\n        ...\\n FIELDA DC   X'123456'\\n \\n \\n\"}]}\n"
     ]
    }
   ],
   "source": [
    "\n",
    "OUT_FQPN = data_path /  pathlib.Path(\"sample.jsonl\").as_posix()\n",
    "#print(OUT_FQPN)\n",
    "\n",
    "# remove any existing output\n",
    "try:\n",
    "    os.remove(OUT_FQPN)\n",
    "except OSError:\n",
    "    pass\n",
    "\n",
    "for a_file in files:\n",
    "#    print(\"a file name: \", a_file)\n",
    "    IN_FQPN = data_path /  pathlib.PurePath(a_file).as_posix()\n",
    "    convert_text_to_jsonl(IN_FQPN, OUT_FQPN)"
   ]
  },
  {
   "cell_type": "code",
   "execution_count": null,
   "metadata": {},
   "outputs": [],
   "source": []
  },
  {
   "cell_type": "code",
   "execution_count": null,
   "metadata": {},
   "outputs": [],
   "source": []
  }
 ],
 "metadata": {
  "kernelspec": {
   "display_name": "Python 3",
   "language": "python",
   "name": "python3"
  },
  "language_info": {
   "codemirror_mode": {
    "name": "ipython",
    "version": 3
   },
   "file_extension": ".py",
   "mimetype": "text/x-python",
   "name": "python",
   "nbconvert_exporter": "python",
   "pygments_lexer": "ipython3",
   "version": "3.10.8"
  }
 },
 "nbformat": 4,
 "nbformat_minor": 2
}
