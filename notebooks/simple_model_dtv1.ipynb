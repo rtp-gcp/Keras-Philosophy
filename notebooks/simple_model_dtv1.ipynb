{
 "cells": [
  {
   "cell_type": "markdown",
   "metadata": {},
   "source": [
    "# Define Train and Validate the models\n",
    "\n",
    "This notebook uses the csv from the data dir as input and builds, trains and predicts a model using keras.\n",
    "\n",
    "It does not use normalized data."
   ]
  },
  {
   "cell_type": "code",
   "execution_count": 100,
   "metadata": {},
   "outputs": [
    {
     "name": "stdout",
     "output_type": "stream",
     "text": [
      "GPU is available\n"
     ]
    }
   ],
   "source": [
    "import datetime\n",
    "#from pathlib import Path\n",
    "import pathlib\n",
    "\n",
    "import matplotlib.pyplot as plt\n",
    "import pandas as pd\n",
    "import seaborn as sns\n",
    "import os\n",
    "import os.path\n",
    "\n",
    "\n",
    "import tensorflow as tf\n",
    "from tensorflow import keras\n",
    "from tensorflow.keras import layers\n",
    "gpu = len(tf.config.list_physical_devices('GPU'))>0\n",
    "print(\"GPU is\", \"available\" if gpu else \"NOT AVAILABLE\")"
   ]
  },
  {
   "cell_type": "code",
   "execution_count": 101,
   "metadata": {},
   "outputs": [
    {
     "name": "stdout",
     "output_type": "stream",
     "text": [
      "2.14.0\n"
     ]
    }
   ],
   "source": [
    "print(tf.__version__)"
   ]
  },
  {
   "cell_type": "code",
   "execution_count": 102,
   "metadata": {},
   "outputs": [
    {
     "name": "stdout",
     "output_type": "stream",
     "text": [
      "current directory is : /Users/davis/progs/github/Keras-Philosophy/notebooks\n"
     ]
    }
   ],
   "source": [
    "# The current directory will be where this src file is located.\n",
    "# Which is in the src dir of the project\n",
    "dirpath = os.getcwd()\n",
    "print(\"current directory is : \" + dirpath)"
   ]
  },
  {
   "cell_type": "code",
   "execution_count": 103,
   "metadata": {},
   "outputs": [
    {
     "name": "stdout",
     "output_type": "stream",
     "text": [
      "root directory is:  /Users/davis/progs/github/Keras-Philosophy\n",
      "data directory is:  /Users/davis/progs/github/Keras-Philosophy/data\n",
      "logs directory is:  /Users/davis/progs/github/Keras-Philosophy/logs\n"
     ]
    }
   ],
   "source": [
    "# Use pathlib to find the root dir of the git repo\n",
    "root_path = pathlib.PurePath(dirpath).parents[0]\n",
    "data_path = root_path / 'data'\n",
    "logs_path = root_path / 'logs'\n",
    "print(\"root directory is: \", root_path)\n",
    "print(\"data directory is: \",  data_path)\n",
    "print(\"logs directory is: \", logs_path)\n"
   ]
  },
  {
   "cell_type": "code",
   "execution_count": 104,
   "metadata": {},
   "outputs": [
    {
     "name": "stdout",
     "output_type": "stream",
     "text": [
      "LOGS_DIR_NAME:  /Users/davis/progs/github/Keras-Philosophy/logs\n",
      "DATA_DIR_NAME:  /Users/davis/progs/github/Keras-Philosophy/data\n"
     ]
    }
   ],
   "source": [
    "# Create equivalent dir names in the environment\n",
    "# Logs\n",
    "LOGS_DIR_NAME = logs_path.as_posix()\n",
    "print(\"LOGS_DIR_NAME: \", LOGS_DIR_NAME)\n",
    "os.environ['LOGS_DIR_NAME'] = LOGS_DIR_NAME\n",
    "# Data\n",
    "DATA_DIR_NAME = data_path.as_posix()\n",
    "print(\"DATA_DIR_NAME: \", DATA_DIR_NAME)\n",
    "os.environ['DATA_DIR_NAME'] = DATA_DIR_NAME"
   ]
  },
  {
   "cell_type": "code",
   "execution_count": 105,
   "metadata": {},
   "outputs": [
    {
     "name": "stdout",
     "output_type": "stream",
     "text": [
      "/Users/davis/progs/github/Keras-Philosophy/data\n",
      "/Users/davis/progs/github/Keras-Philosophy/logs\n"
     ]
    }
   ],
   "source": [
    "%%bash\n",
    "# Verify env variables are set\n",
    "echo ${DATA_DIR_NAME}\n",
    "echo ${LOGS_DIR_NAME}"
   ]
  },
  {
   "cell_type": "code",
   "execution_count": 106,
   "metadata": {},
   "outputs": [
    {
     "name": "stdout",
     "output_type": "stream",
     "text": [
      "LOG_DIR_NAME: \n"
     ]
    }
   ],
   "source": [
    "%%bash\n",
    "echo \"LOG_DIR_NAME: ${LOG_DIR_NAME}\""
   ]
  },
  {
   "cell_type": "code",
   "execution_count": 107,
   "metadata": {},
   "outputs": [],
   "source": [
    "train_csv = data_path /  pathlib.PurePath(\"train.csv\")\n",
    "test_csv = data_path /  pathlib.PurePath(\"test.csv\")\n",
    "valid_csv = data_path /  pathlib.PurePath(\"valid.csv\")"
   ]
  },
  {
   "cell_type": "markdown",
   "metadata": {},
   "source": [
    "# Read the dataframes using pandas"
   ]
  },
  {
   "cell_type": "code",
   "execution_count": 108,
   "metadata": {},
   "outputs": [],
   "source": [
    "# Read the csv files into dataframes\n",
    "train_df = pd.read_csv(train_csv, \n",
    "                          header=0,\n",
    "                          sep=\",\")\n",
    "valid_df = pd.read_csv(valid_csv, \n",
    "                          header=0,\n",
    "                          sep=\",\")\n",
    "test_df = pd.read_csv(test_csv, \n",
    "                          header=0,\n",
    "                          sep=\",\")"
   ]
  },
  {
   "cell_type": "code",
   "execution_count": 109,
   "metadata": {},
   "outputs": [],
   "source": [
    "# Create vectors of the training labels\n",
    "# assumes Y label is called z\n",
    "# \n",
    "train_labels = train_df.pop('z')\n",
    "test_labels = test_df.pop('z')\n",
    "valid_labels = valid_df.pop('z')"
   ]
  },
  {
   "cell_type": "code",
   "execution_count": 110,
   "metadata": {},
   "outputs": [
    {
     "data": {
      "text/plain": [
       "0      11.0\n",
       "1      10.0\n",
       "2      12.0\n",
       "3      10.0\n",
       "4      11.0\n",
       "       ... \n",
       "247     4.0\n",
       "248    12.0\n",
       "249    11.0\n",
       "250     2.0\n",
       "251    11.0\n",
       "Name: z, Length: 252, dtype: float64"
      ]
     },
     "execution_count": 110,
     "metadata": {},
     "output_type": "execute_result"
    }
   ],
   "source": [
    "train_labels"
   ]
  },
  {
   "cell_type": "code",
   "execution_count": 111,
   "metadata": {},
   "outputs": [
    {
     "data": {
      "text/plain": [
       "Index(['x', 'y'], dtype='object')"
      ]
     },
     "execution_count": 111,
     "metadata": {},
     "output_type": "execute_result"
    }
   ],
   "source": [
    "train_df.keys()"
   ]
  },
  {
   "cell_type": "code",
   "execution_count": 112,
   "metadata": {},
   "outputs": [
    {
     "name": "stdout",
     "output_type": "stream",
     "text": [
      "(252, 2)\n",
      "(54, 2)\n",
      "(54, 2)\n"
     ]
    }
   ],
   "source": [
    "print(train_df.shape)\n",
    "print(valid_df.shape)\n",
    "print(test_df.shape)"
   ]
  },
  {
   "cell_type": "markdown",
   "metadata": {},
   "source": [
    "# plot the data"
   ]
  },
  {
   "cell_type": "code",
   "execution_count": 113,
   "metadata": {},
   "outputs": [
    {
     "data": {
      "text/plain": [
       "<matplotlib.collections.PathCollection at 0x29e88e2b0>"
      ]
     },
     "execution_count": 113,
     "metadata": {},
     "output_type": "execute_result"
    },
    {
     "data": {
      "image/png": "[encoded data removed]",
      "text/plain": [
       "<Figure size 640x480 with 1 Axes>"
      ]
     },
     "metadata": {},
     "output_type": "display_data"
    }
   ],
   "source": [
    "plt.scatter(train_df['y'], train_df['x'], c='green')"
   ]
  },
  {
   "cell_type": "markdown",
   "metadata": {},
   "source": [
    "# Build the model"
   ]
  },
  {
   "cell_type": "code",
   "execution_count": 114,
   "metadata": {},
   "outputs": [
    {
     "name": "stderr",
     "output_type": "stream",
     "text": [
      "WARNING:absl:At this time, the v2.11+ optimizer `tf.keras.optimizers.RMSprop` runs slowly on M1/M2 Macs, please use the legacy Keras optimizer instead, located at `tf.keras.optimizers.legacy.RMSprop`.\n"
     ]
    }
   ],
   "source": [
    "\n",
    "# Build a 3 layer 64, 16, 4 node DNN\n",
    "#model = keras.Sequential([\n",
    "#    layers.Dense(64, activation=tf.nn.relu, input_shape=[len(train_df.keys())]),\n",
    "#    layers.Dense(16, activation=tf.nn.relu),\n",
    "#    layers.Dense(4, activation=tf.nn.relu),\n",
    "#    layers.Dense(1)\n",
    "#    ])\n",
    "\n",
    "# Build a 2 layer 64, 64 node DNN\n",
    "#model = keras.Sequential([\n",
    "#    layers.Dense(64, activation=tf.nn.relu, input_shape=[len(train_df.keys())]),\n",
    "#    layers.Dense(64, activation=tf.nn.relu),\n",
    "#    layers.Dense(1)\n",
    "#    ])\n",
    "\n",
    "\n",
    "\n",
    "# Build a 2 layer 16, 4 node DNN\n",
    "#model = keras.Sequential([\n",
    "#    layers.Dense(16, activation=tf.nn.relu, input_shape=[len(train_df.keys())]),\n",
    "#    layers.Dense(4, activation=tf.nn.relu),\n",
    "#    layers.Dense(1)\n",
    "#    ])\n",
    "\n",
    "\n",
    "\n",
    "\n",
    "# Create a 1 layer 12 node DNN\n",
    "model = keras.Sequential([\n",
    "    layers.Dense(12, activation=tf.nn.relu, input_shape=[len(train_df.keys())]),\n",
    "    layers.Dense(1)\n",
    "    ])\n",
    "\n",
    "\n",
    "\n",
    "# orig\n",
    "optimizer = tf.keras.optimizers.RMSprop(0.001)\n",
    "# increase learning rate if fairly consistent but slow changing\n",
    "#optimizer = tf.keras.optimizers.RMSprop(0.01)\n",
    "# 0.1 is too big\n",
    "#optimizer = tf.keras.optimizers.RMSprop(0.1)\n",
    "# with the early stop, lets try to make the learning rate smaller\n",
    "#optimizer = tf.keras.optimizers.RMSprop(0.0001)\n",
    "\n",
    "# Add in the early stop code\n",
    "# The patience parameter is the amount of epochs to check for improvement\n",
    "#\n",
    "# NOTE: This was a good addition.  I'm so used to running through a lot of steps\n",
    "# I did not realize that it was finding its best results so early.  In the \n",
    "# graphs that follows, you can see the divergent graphs here where the others\n",
    "# did not show it since it was hundreds of epochs past optimal.\n",
    "early_stop = keras.callbacks.EarlyStopping(monitor='val_loss', patience=2)\n",
    "\n",
    "\n",
    "\n",
    "model.compile(loss='mean_squared_error',\n",
    "              optimizer=optimizer,\n",
    "              metrics=['mean_absolute_error', 'mean_squared_error'])\n"
   ]
  },
  {
   "cell_type": "markdown",
   "metadata": {},
   "source": [
    "# Train the model (with three callbacks)"
   ]
  },
  {
   "cell_type": "code",
   "execution_count": 115,
   "metadata": {},
   "outputs": [],
   "source": [
    "EPOCHS = 1000"
   ]
  },
  {
   "cell_type": "code",
   "execution_count": 116,
   "metadata": {},
   "outputs": [],
   "source": [
    "# Display training progress by printing a single dot for each completed epoch\n",
    "class PrintDot(keras.callbacks.Callback):\n",
    "  def on_epoch_end(self, epoch, logs):\n",
    "    if epoch % 100 == 0: print('')\n",
    "    print('.', end='')"
   ]
  },
  {
   "cell_type": "code",
   "execution_count": 117,
   "metadata": {},
   "outputs": [
    {
     "name": "stdout",
     "output_type": "stream",
     "text": [
      "Epoch 1/1000\n",
      "6/8 [=====================>........] - ETA: 0s - loss: 147.5904 - mean_absolute_error: 11.5403 - mean_squared_error: 147.5904\n",
      "8/8 [==============================] - 1s 111ms/step - loss: 149.6297 - mean_absolute_error: 11.6569 - mean_squared_error: 149.6297 - val_loss: 147.2448 - val_mean_absolute_error: 11.5936 - val_mean_squared_error: 147.2448\n",
      "Epoch 2/1000\n",
      "8/8 [==============================] - 0s 12ms/step - loss: 140.3623 - mean_absolute_error: 11.2878 - mean_squared_error: 140.3623 - val_loss: 139.7546 - val_mean_absolute_error: 11.2943 - val_mean_squared_error: 139.7546\n",
      "Epoch 3/1000\n",
      "8/8 [==============================] - 0s 12ms/step - loss: 133.4301 - mean_absolute_error: 11.0072 - mean_squared_error: 133.4301 - val_loss: 133.0245 - val_mean_absolute_error: 11.0186 - val_mean_squared_error: 133.0245\n",
      "Epoch 4/1000\n",
      "8/8 [==============================] - 0s 11ms/step - loss: 127.1577 - mean_absolute_error: 10.7427 - mean_squared_error: 127.1577 - val_loss: 126.8754 - val_mean_absolute_error: 10.7606 - val_mean_squared_error: 126.8754\n",
      "Epoch 5/1000\n",
      "8/8 [==============================] - 0s 10ms/step - loss: 121.2645 - mean_absolute_error: 10.4900 - mean_squared_error: 121.2645 - val_loss: 120.9748 - val_mean_absolute_error: 10.5064 - val_mean_squared_error: 120.9748\n",
      "Epoch 6/1000\n",
      "8/8 [==============================] - 0s 10ms/step - loss: 115.5886 - mean_absolute_error: 10.2415 - mean_squared_error: 115.5886 - val_loss: 115.2778 - val_mean_absolute_error: 10.2549 - val_mean_squared_error: 115.2778\n",
      "Epoch 7/1000\n",
      "8/8 [==============================] - 0s 10ms/step - loss: 110.0805 - mean_absolute_error: 9.9929 - mean_squared_error: 110.0805 - val_loss: 109.7249 - val_mean_absolute_error: 10.0035 - val_mean_squared_error: 109.7249\n",
      "Epoch 8/1000\n",
      "8/8 [==============================] - 0s 10ms/step - loss: 104.7322 - mean_absolute_error: 9.7447 - mean_squared_error: 104.7322 - val_loss: 104.3054 - val_mean_absolute_error: 9.7511 - val_mean_squared_error: 104.3054\n",
      "Epoch 9/1000\n",
      "8/8 [==============================] - 0s 11ms/step - loss: 99.4690 - mean_absolute_error: 9.4942 - mean_squared_error: 99.4690 - val_loss: 98.9180 - val_mean_absolute_error: 9.4926 - val_mean_squared_error: 98.9180\n",
      "Epoch 10/1000\n",
      "8/8 [==============================] - 0s 10ms/step - loss: 94.2346 - mean_absolute_error: 9.2377 - mean_squared_error: 94.2346 - val_loss: 93.5662 - val_mean_absolute_error: 9.2282 - val_mean_squared_error: 93.5662\n",
      "Epoch 11/1000\n",
      "8/8 [==============================] - 0s 10ms/step - loss: 88.9954 - mean_absolute_error: 8.9724 - mean_squared_error: 88.9954 - val_loss: 88.2976 - val_mean_absolute_error: 8.9596 - val_mean_squared_error: 88.2976\n",
      "Epoch 12/1000\n",
      "8/8 [==============================] - 0s 10ms/step - loss: 83.9184 - mean_absolute_error: 8.7056 - mean_squared_error: 83.9184 - val_loss: 83.1432 - val_mean_absolute_error: 8.6880 - val_mean_squared_error: 83.1432\n",
      "Epoch 13/1000\n",
      "8/8 [==============================] - 0s 11ms/step - loss: 78.8004 - mean_absolute_error: 8.4341 - mean_squared_error: 78.8004 - val_loss: 77.8321 - val_mean_absolute_error: 8.3995 - val_mean_squared_error: 77.8321\n",
      "Epoch 14/1000\n",
      "8/8 [==============================] - 0s 11ms/step - loss: 73.7041 - mean_absolute_error: 8.1483 - mean_squared_error: 73.7041 - val_loss: 72.6881 - val_mean_absolute_error: 8.1090 - val_mean_squared_error: 72.6881\n",
      "Epoch 15/1000\n",
      "8/8 [==============================] - 0s 10ms/step - loss: 68.7459 - mean_absolute_error: 7.8590 - mean_squared_error: 68.7459 - val_loss: 67.6947 - val_mean_absolute_error: 7.8164 - val_mean_squared_error: 67.6947\n",
      "Epoch 16/1000\n",
      "8/8 [==============================] - 0s 10ms/step - loss: 63.8532 - mean_absolute_error: 7.5673 - mean_squared_error: 63.8532 - val_loss: 62.6916 - val_mean_absolute_error: 7.5115 - val_mean_squared_error: 62.6916\n",
      "Epoch 17/1000\n",
      "8/8 [==============================] - 0s 11ms/step - loss: 59.0358 - mean_absolute_error: 7.2649 - mean_squared_error: 59.0358 - val_loss: 57.8301 - val_mean_absolute_error: 7.2030 - val_mean_squared_error: 57.8301\n",
      "Epoch 18/1000\n",
      "8/8 [==============================] - 0s 11ms/step - loss: 54.3324 - mean_absolute_error: 6.9575 - mean_squared_error: 54.3324 - val_loss: 53.1199 - val_mean_absolute_error: 6.8903 - val_mean_squared_error: 53.1199\n",
      "Epoch 19/1000\n",
      "8/8 [==============================] - 0s 10ms/step - loss: 49.7511 - mean_absolute_error: 6.6476 - mean_squared_error: 49.7511 - val_loss: 48.4590 - val_mean_absolute_error: 6.5670 - val_mean_squared_error: 48.4590\n",
      "Epoch 20/1000\n",
      "8/8 [==============================] - 0s 10ms/step - loss: 45.2698 - mean_absolute_error: 6.3257 - mean_squared_error: 45.2698 - val_loss: 43.9984 - val_mean_absolute_error: 6.2409 - val_mean_squared_error: 43.9984\n",
      "Epoch 21/1000\n",
      "8/8 [==============================] - 0s 10ms/step - loss: 40.9831 - mean_absolute_error: 6.0035 - mean_squared_error: 40.9831 - val_loss: 39.6725 - val_mean_absolute_error: 5.9086 - val_mean_squared_error: 39.6725\n",
      "Epoch 22/1000\n",
      "8/8 [==============================] - 0s 11ms/step - loss: 36.8512 - mean_absolute_error: 5.6729 - mean_squared_error: 36.8512 - val_loss: 35.5700 - val_mean_absolute_error: 5.5748 - val_mean_squared_error: 35.5700\n",
      "Epoch 23/1000\n",
      "8/8 [==============================] - 0s 10ms/step - loss: 32.9169 - mean_absolute_error: 5.3412 - mean_squared_error: 32.9169 - val_loss: 31.6250 - val_mean_absolute_error: 5.2340 - val_mean_squared_error: 31.6250\n",
      "Epoch 24/1000\n",
      "8/8 [==============================] - 0s 10ms/step - loss: 29.1651 - mean_absolute_error: 5.0052 - mean_squared_error: 29.1651 - val_loss: 27.8743 - val_mean_absolute_error: 4.8890 - val_mean_squared_error: 27.8743\n",
      "Epoch 25/1000\n",
      "8/8 [==============================] - 0s 10ms/step - loss: 25.5690 - mean_absolute_error: 4.6635 - mean_squared_error: 25.5690 - val_loss: 24.3055 - val_mean_absolute_error: 4.5365 - val_mean_squared_error: 24.3055\n",
      "Epoch 26/1000\n",
      "8/8 [==============================] - 0s 10ms/step - loss: 22.1813 - mean_absolute_error: 4.3136 - mean_squared_error: 22.1813 - val_loss: 21.0095 - val_mean_absolute_error: 4.1840 - val_mean_squared_error: 21.0095\n",
      "Epoch 27/1000\n",
      "8/8 [==============================] - 0s 10ms/step - loss: 19.0580 - mean_absolute_error: 3.9640 - mean_squared_error: 19.0580 - val_loss: 17.9218 - val_mean_absolute_error: 3.8249 - val_mean_squared_error: 17.9218\n",
      "Epoch 28/1000\n",
      "8/8 [==============================] - 0s 10ms/step - loss: 16.1420 - mean_absolute_error: 3.6115 - mean_squared_error: 16.1420 - val_loss: 15.1161 - val_mean_absolute_error: 3.4671 - val_mean_squared_error: 15.1161\n",
      "Epoch 29/1000\n",
      "8/8 [==============================] - 0s 10ms/step - loss: 13.5332 - mean_absolute_error: 3.2577 - mean_squared_error: 13.5332 - val_loss: 12.5737 - val_mean_absolute_error: 3.1076 - val_mean_squared_error: 12.5737\n",
      "Epoch 30/1000\n",
      "8/8 [==============================] - 0s 10ms/step - loss: 11.1930 - mean_absolute_error: 2.9016 - mean_squared_error: 11.1930 - val_loss: 10.3249 - val_mean_absolute_error: 2.7513 - val_mean_squared_error: 10.3249\n",
      "Epoch 31/1000\n",
      "8/8 [==============================] - 0s 10ms/step - loss: 9.1161 - mean_absolute_error: 2.5531 - mean_squared_error: 9.1161 - val_loss: 8.3555 - val_mean_absolute_error: 2.4058 - val_mean_squared_error: 8.3555\n",
      "Epoch 32/1000\n",
      "8/8 [==============================] - 0s 10ms/step - loss: 7.3298 - mean_absolute_error: 2.2107 - mean_squared_error: 7.3298 - val_loss: 6.6949 - val_mean_absolute_error: 2.0799 - val_mean_squared_error: 6.6949\n",
      "Epoch 33/1000\n",
      "8/8 [==============================] - 0s 10ms/step - loss: 5.8201 - mean_absolute_error: 1.9036 - mean_squared_error: 5.8201 - val_loss: 5.2927 - val_mean_absolute_error: 1.7977 - val_mean_squared_error: 5.2927\n",
      "Epoch 34/1000\n",
      "8/8 [==============================] - 0s 10ms/step - loss: 4.6002 - mean_absolute_error: 1.6454 - mean_squared_error: 4.6002 - val_loss: 4.2278 - val_mean_absolute_error: 1.6029 - val_mean_squared_error: 4.2278\n",
      "Epoch 35/1000\n",
      "8/8 [==============================] - 0s 10ms/step - loss: 3.6657 - mean_absolute_error: 1.4640 - mean_squared_error: 3.6657 - val_loss: 3.3842 - val_mean_absolute_error: 1.4408 - val_mean_squared_error: 3.3842\n",
      "Epoch 36/1000\n",
      "8/8 [==============================] - 0s 10ms/step - loss: 2.9335 - mean_absolute_error: 1.3141 - mean_squared_error: 2.9335 - val_loss: 2.7324 - val_mean_absolute_error: 1.3202 - val_mean_squared_error: 2.7324\n",
      "Epoch 37/1000\n",
      "8/8 [==============================] - 0s 10ms/step - loss: 2.3684 - mean_absolute_error: 1.1935 - mean_squared_error: 2.3684 - val_loss: 2.2386 - val_mean_absolute_error: 1.2135 - val_mean_squared_error: 2.2386\n",
      "Epoch 38/1000\n",
      "8/8 [==============================] - 0s 10ms/step - loss: 1.9296 - mean_absolute_error: 1.0927 - mean_squared_error: 1.9296 - val_loss: 1.7957 - val_mean_absolute_error: 1.1056 - val_mean_squared_error: 1.7957\n",
      "Epoch 39/1000\n",
      "8/8 [==============================] - 0s 10ms/step - loss: 1.5444 - mean_absolute_error: 0.9924 - mean_squared_error: 1.5444 - val_loss: 1.4270 - val_mean_absolute_error: 0.9996 - val_mean_squared_error: 1.4270\n",
      "Epoch 40/1000\n",
      "8/8 [==============================] - 0s 10ms/step - loss: 1.2255 - mean_absolute_error: 0.8974 - mean_squared_error: 1.2255 - val_loss: 1.1319 - val_mean_absolute_error: 0.9036 - val_mean_squared_error: 1.1319\n",
      "Epoch 41/1000\n",
      "8/8 [==============================] - 0s 10ms/step - loss: 0.9626 - mean_absolute_error: 0.8054 - mean_squared_error: 0.9626 - val_loss: 0.8835 - val_mean_absolute_error: 0.8070 - val_mean_squared_error: 0.8835\n",
      "Epoch 42/1000\n",
      "8/8 [==============================] - 0s 10ms/step - loss: 0.7422 - mean_absolute_error: 0.7183 - mean_squared_error: 0.7422 - val_loss: 0.6624 - val_mean_absolute_error: 0.7069 - val_mean_squared_error: 0.6624\n",
      "Epoch 43/1000\n",
      "8/8 [==============================] - 0s 10ms/step - loss: 0.5520 - mean_absolute_error: 0.6306 - mean_squared_error: 0.5520 - val_loss: 0.4840 - val_mean_absolute_error: 0.6097 - val_mean_squared_error: 0.4840\n",
      "Epoch 44/1000\n",
      "8/8 [==============================] - 0s 10ms/step - loss: 0.4010 - mean_absolute_error: 0.5466 - mean_squared_error: 0.4010 - val_loss: 0.3433 - val_mean_absolute_error: 0.5160 - val_mean_squared_error: 0.3433\n",
      "Epoch 45/1000\n",
      "8/8 [==============================] - 0s 10ms/step - loss: 0.2823 - mean_absolute_error: 0.4602 - mean_squared_error: 0.2823 - val_loss: 0.2397 - val_mean_absolute_error: 0.4294 - val_mean_squared_error: 0.2397\n",
      "Epoch 46/1000\n",
      "8/8 [==============================] - 0s 12ms/step - loss: 0.1987 - mean_absolute_error: 0.3845 - mean_squared_error: 0.1987 - val_loss: 0.1662 - val_mean_absolute_error: 0.3489 - val_mean_squared_error: 0.1662\n",
      "Epoch 47/1000\n",
      "8/8 [==============================] - 0s 10ms/step - loss: 0.1399 - mean_absolute_error: 0.3129 - mean_squared_error: 0.1399 - val_loss: 0.1180 - val_mean_absolute_error: 0.2774 - val_mean_squared_error: 0.1180\n",
      "Epoch 48/1000\n",
      "8/8 [==============================] - 0s 10ms/step - loss: 0.1052 - mean_absolute_error: 0.2528 - mean_squared_error: 0.1052 - val_loss: 0.0881 - val_mean_absolute_error: 0.2161 - val_mean_squared_error: 0.0881\n",
      "Epoch 49/1000\n",
      "8/8 [==============================] - 0s 10ms/step - loss: 0.0854 - mean_absolute_error: 0.2048 - mean_squared_error: 0.0854 - val_loss: 0.0748 - val_mean_absolute_error: 0.1830 - val_mean_squared_error: 0.0748\n",
      "Epoch 50/1000\n",
      "8/8 [==============================] - 0s 10ms/step - loss: 0.0764 - mean_absolute_error: 0.1799 - mean_squared_error: 0.0764 - val_loss: 0.0679 - val_mean_absolute_error: 0.1538 - val_mean_squared_error: 0.0679\n",
      "Epoch 51/1000\n",
      "8/8 [==============================] - 0s 10ms/step - loss: 0.0726 - mean_absolute_error: 0.1647 - mean_squared_error: 0.0726 - val_loss: 0.0663 - val_mean_absolute_error: 0.1677 - val_mean_squared_error: 0.0663\n",
      "Epoch 52/1000\n",
      "8/8 [==============================] - 0s 10ms/step - loss: 0.0698 - mean_absolute_error: 0.1633 - mean_squared_error: 0.0698 - val_loss: 0.0651 - val_mean_absolute_error: 0.1439 - val_mean_squared_error: 0.0651\n",
      "Epoch 53/1000\n",
      "8/8 [==============================] - 0s 10ms/step - loss: 0.0673 - mean_absolute_error: 0.1553 - mean_squared_error: 0.0673 - val_loss: 0.0601 - val_mean_absolute_error: 0.1451 - val_mean_squared_error: 0.0601\n",
      "Epoch 54/1000\n",
      "8/8 [==============================] - 0s 10ms/step - loss: 0.0645 - mean_absolute_error: 0.1530 - mean_squared_error: 0.0645 - val_loss: 0.0576 - val_mean_absolute_error: 0.1454 - val_mean_squared_error: 0.0576\n",
      "Epoch 55/1000\n",
      "8/8 [==============================] - 0s 10ms/step - loss: 0.0618 - mean_absolute_error: 0.1489 - mean_squared_error: 0.0618 - val_loss: 0.0555 - val_mean_absolute_error: 0.1351 - val_mean_squared_error: 0.0555\n",
      "Epoch 56/1000\n",
      "8/8 [==============================] - 0s 10ms/step - loss: 0.0598 - mean_absolute_error: 0.1466 - mean_squared_error: 0.0598 - val_loss: 0.0585 - val_mean_absolute_error: 0.1728 - val_mean_squared_error: 0.0585\n",
      "Epoch 57/1000\n",
      "8/8 [==============================] - 0s 10ms/step - loss: 0.0586 - mean_absolute_error: 0.1525 - mean_squared_error: 0.0586 - val_loss: 0.0518 - val_mean_absolute_error: 0.1303 - val_mean_squared_error: 0.0518\n",
      "Epoch 58/1000\n",
      "8/8 [==============================] - 0s 10ms/step - loss: 0.0556 - mean_absolute_error: 0.1425 - mean_squared_error: 0.0556 - val_loss: 0.0505 - val_mean_absolute_error: 0.1275 - val_mean_squared_error: 0.0505\n",
      "Epoch 59/1000\n",
      "8/8 [==============================] - 0s 10ms/step - loss: 0.0529 - mean_absolute_error: 0.1362 - mean_squared_error: 0.0529 - val_loss: 0.0472 - val_mean_absolute_error: 0.1315 - val_mean_squared_error: 0.0472\n",
      "Epoch 60/1000\n",
      "8/8 [==============================] - 0s 10ms/step - loss: 0.0521 - mean_absolute_error: 0.1401 - mean_squared_error: 0.0521 - val_loss: 0.0474 - val_mean_absolute_error: 0.1229 - val_mean_squared_error: 0.0474\n",
      "Epoch 61/1000\n",
      "8/8 [==============================] - 0s 10ms/step - loss: 0.0495 - mean_absolute_error: 0.1342 - mean_squared_error: 0.0495 - val_loss: 0.0444 - val_mean_absolute_error: 0.1208 - val_mean_squared_error: 0.0444\n",
      "Epoch 62/1000\n",
      "8/8 [==============================] - 0s 10ms/step - loss: 0.0468 - mean_absolute_error: 0.1312 - mean_squared_error: 0.0468 - val_loss: 0.0419 - val_mean_absolute_error: 0.1166 - val_mean_squared_error: 0.0419\n",
      "Epoch 63/1000\n",
      "8/8 [==============================] - 0s 10ms/step - loss: 0.0450 - mean_absolute_error: 0.1286 - mean_squared_error: 0.0450 - val_loss: 0.0408 - val_mean_absolute_error: 0.1148 - val_mean_squared_error: 0.0408\n",
      "Epoch 64/1000\n",
      "8/8 [==============================] - 0s 10ms/step - loss: 0.0442 - mean_absolute_error: 0.1280 - mean_squared_error: 0.0442 - val_loss: 0.0383 - val_mean_absolute_error: 0.1170 - val_mean_squared_error: 0.0383\n",
      "Epoch 65/1000\n",
      "8/8 [==============================] - 0s 10ms/step - loss: 0.0409 - mean_absolute_error: 0.1203 - mean_squared_error: 0.0409 - val_loss: 0.0374 - val_mean_absolute_error: 0.1251 - val_mean_squared_error: 0.0374\n",
      "Epoch 66/1000\n",
      "8/8 [==============================] - 0s 10ms/step - loss: 0.0394 - mean_absolute_error: 0.1236 - mean_squared_error: 0.0394 - val_loss: 0.0351 - val_mean_absolute_error: 0.1070 - val_mean_squared_error: 0.0351\n",
      "Epoch 67/1000\n",
      "8/8 [==============================] - 0s 10ms/step - loss: 0.0388 - mean_absolute_error: 0.1220 - mean_squared_error: 0.0388 - val_loss: 0.0334 - val_mean_absolute_error: 0.1101 - val_mean_squared_error: 0.0334\n",
      "Epoch 68/1000\n",
      "8/8 [==============================] - 0s 10ms/step - loss: 0.0362 - mean_absolute_error: 0.1174 - mean_squared_error: 0.0362 - val_loss: 0.0323 - val_mean_absolute_error: 0.1145 - val_mean_squared_error: 0.0323\n",
      "Epoch 69/1000\n",
      "8/8 [==============================] - 0s 10ms/step - loss: 0.0343 - mean_absolute_error: 0.1108 - mean_squared_error: 0.0343 - val_loss: 0.0316 - val_mean_absolute_error: 0.1169 - val_mean_squared_error: 0.0316\n",
      "Epoch 70/1000\n",
      "8/8 [==============================] - 0s 10ms/step - loss: 0.0328 - mean_absolute_error: 0.1086 - mean_squared_error: 0.0328 - val_loss: 0.0291 - val_mean_absolute_error: 0.1033 - val_mean_squared_error: 0.0291\n",
      "Epoch 71/1000\n",
      "8/8 [==============================] - 0s 10ms/step - loss: 0.0325 - mean_absolute_error: 0.1145 - mean_squared_error: 0.0325 - val_loss: 0.0277 - val_mean_absolute_error: 0.0967 - val_mean_squared_error: 0.0277\n",
      "Epoch 72/1000\n",
      "8/8 [==============================] - 0s 10ms/step - loss: 0.0299 - mean_absolute_error: 0.1046 - mean_squared_error: 0.0299 - val_loss: 0.0306 - val_mean_absolute_error: 0.1059 - val_mean_squared_error: 0.0306\n",
      "Epoch 73/1000\n",
      "8/8 [==============================] - 0s 10ms/step - loss: 0.0301 - mean_absolute_error: 0.1090 - mean_squared_error: 0.0301 - val_loss: 0.0254 - val_mean_absolute_error: 0.0937 - val_mean_squared_error: 0.0254\n",
      "Epoch 74/1000\n",
      "8/8 [==============================] - 0s 10ms/step - loss: 0.0274 - mean_absolute_error: 0.1002 - mean_squared_error: 0.0274 - val_loss: 0.0256 - val_mean_absolute_error: 0.0905 - val_mean_squared_error: 0.0256\n",
      "Epoch 75/1000\n",
      "8/8 [==============================] - 0s 10ms/step - loss: 0.0272 - mean_absolute_error: 0.1019 - mean_squared_error: 0.0272 - val_loss: 0.0233 - val_mean_absolute_error: 0.0884 - val_mean_squared_error: 0.0233\n",
      "Epoch 76/1000\n",
      "8/8 [==============================] - 0s 10ms/step - loss: 0.0253 - mean_absolute_error: 0.0971 - mean_squared_error: 0.0253 - val_loss: 0.0225 - val_mean_absolute_error: 0.0857 - val_mean_squared_error: 0.0225\n",
      "Epoch 77/1000\n",
      "8/8 [==============================] - 0s 10ms/step - loss: 0.0247 - mean_absolute_error: 0.0998 - mean_squared_error: 0.0247 - val_loss: 0.0224 - val_mean_absolute_error: 0.0850 - val_mean_squared_error: 0.0224\n",
      "Epoch 78/1000\n",
      "8/8 [==============================] - 0s 10ms/step - loss: 0.0236 - mean_absolute_error: 0.0960 - mean_squared_error: 0.0236 - val_loss: 0.0205 - val_mean_absolute_error: 0.0907 - val_mean_squared_error: 0.0205\n",
      "Epoch 79/1000\n",
      "8/8 [==============================] - 0s 10ms/step - loss: 0.0231 - mean_absolute_error: 0.0968 - mean_squared_error: 0.0231 - val_loss: 0.0193 - val_mean_absolute_error: 0.0835 - val_mean_squared_error: 0.0193\n",
      "Epoch 80/1000\n",
      "8/8 [==============================] - 0s 10ms/step - loss: 0.0206 - mean_absolute_error: 0.0860 - mean_squared_error: 0.0206 - val_loss: 0.0184 - val_mean_absolute_error: 0.0790 - val_mean_squared_error: 0.0184\n",
      "Epoch 81/1000\n",
      "8/8 [==============================] - 0s 10ms/step - loss: 0.0204 - mean_absolute_error: 0.0888 - mean_squared_error: 0.0204 - val_loss: 0.0186 - val_mean_absolute_error: 0.0923 - val_mean_squared_error: 0.0186\n",
      "Epoch 82/1000\n",
      "8/8 [==============================] - 0s 10ms/step - loss: 0.0201 - mean_absolute_error: 0.0914 - mean_squared_error: 0.0201 - val_loss: 0.0167 - val_mean_absolute_error: 0.0744 - val_mean_squared_error: 0.0167\n",
      "Epoch 83/1000\n",
      "8/8 [==============================] - 0s 10ms/step - loss: 0.0179 - mean_absolute_error: 0.0817 - mean_squared_error: 0.0179 - val_loss: 0.0182 - val_mean_absolute_error: 0.0813 - val_mean_squared_error: 0.0182\n",
      "Epoch 84/1000\n",
      "8/8 [==============================] - 0s 10ms/step - loss: 0.0171 - mean_absolute_error: 0.0807 - mean_squared_error: 0.0171 - val_loss: 0.0151 - val_mean_absolute_error: 0.0781 - val_mean_squared_error: 0.0151\n",
      "Epoch 85/1000\n",
      "8/8 [==============================] - 0s 10ms/step - loss: 0.0160 - mean_absolute_error: 0.0793 - mean_squared_error: 0.0160 - val_loss: 0.0146 - val_mean_absolute_error: 0.0691 - val_mean_squared_error: 0.0146\n",
      "Epoch 86/1000\n",
      "8/8 [==============================] - 0s 10ms/step - loss: 0.0160 - mean_absolute_error: 0.0830 - mean_squared_error: 0.0160 - val_loss: 0.0133 - val_mean_absolute_error: 0.0725 - val_mean_squared_error: 0.0133\n",
      "Epoch 87/1000\n",
      "8/8 [==============================] - 0s 10ms/step - loss: 0.0146 - mean_absolute_error: 0.0761 - mean_squared_error: 0.0146 - val_loss: 0.0126 - val_mean_absolute_error: 0.0716 - val_mean_squared_error: 0.0126\n",
      "Epoch 88/1000\n",
      "8/8 [==============================] - 0s 10ms/step - loss: 0.0136 - mean_absolute_error: 0.0722 - mean_squared_error: 0.0136 - val_loss: 0.0117 - val_mean_absolute_error: 0.0687 - val_mean_squared_error: 0.0117\n",
      "Epoch 89/1000\n",
      "8/8 [==============================] - 0s 10ms/step - loss: 0.0132 - mean_absolute_error: 0.0756 - mean_squared_error: 0.0132 - val_loss: 0.0120 - val_mean_absolute_error: 0.0786 - val_mean_squared_error: 0.0120\n",
      "Epoch 90/1000\n",
      "8/8 [==============================] - 0s 10ms/step - loss: 0.0119 - mean_absolute_error: 0.0682 - mean_squared_error: 0.0119 - val_loss: 0.0119 - val_mean_absolute_error: 0.0832 - val_mean_squared_error: 0.0119\n"
     ]
    }
   ],
   "source": [
    "#                    batch_size=16,\n",
    "\n",
    "history = model.fit(train_df, \n",
    "                    train_labels,\n",
    "                    epochs=EPOCHS,\n",
    "                    validation_data = (valid_df, valid_labels),\n",
    "                    verbose=1,\n",
    "                    callbacks=[early_stop, PrintDot()])"
   ]
  },
  {
   "cell_type": "code",
   "execution_count": 118,
   "metadata": {},
   "outputs": [
    {
     "data": {
      "image/png": "[encoded data removed]",
      "text/plain": [
       "<Figure size 640x480 with 1 Axes>"
      ]
     },
     "metadata": {},
     "output_type": "display_data"
    },
    {
     "data": {
      "image/png": "[encoded data removed]",
      "text/plain": [
       "<Figure size 640x480 with 1 Axes>"
      ]
     },
     "metadata": {},
     "output_type": "display_data"
    },
    {
     "data": {
      "image/png": "[encoded data removed]",
      "text/plain": [
       "<Figure size 640x480 with 1 Axes>"
      ]
     },
     "metadata": {},
     "output_type": "display_data"
    }
   ],
   "source": [
    "def plot_history(history):\n",
    "    hist = pd.DataFrame(history.history)\n",
    "    hist['epoch'] = history.epoch\n",
    "\n",
    "\n",
    "    plt.figure()\n",
    "    plt.xlabel('Epoch')\n",
    "    plt.ylabel('Epoch Loss [z]')\n",
    "    plt.plot(hist['epoch'], hist['loss'],label='Train Loss')\n",
    "    plt.plot(hist['epoch'], hist['val_loss'],label = 'Val Loss')\n",
    "    plt.ylim([0,3])\n",
    "    plt.legend()\n",
    "\n",
    "\n",
    "    plt.figure()\n",
    "    plt.xlabel('Epoch')\n",
    "    plt.ylabel('Mean Abs Error [z]')\n",
    "    plt.plot(hist['epoch'], hist['mean_absolute_error'],label='Train Error')\n",
    "    plt.plot(hist['epoch'], hist['val_mean_absolute_error'],label = 'Val Error')\n",
    "    plt.ylim([0,1])\n",
    "    plt.legend()\n",
    "\n",
    "    plt.figure()\n",
    "    plt.xlabel('Epoch')\n",
    "    plt.ylabel('Mean Square Error [$z^2$]')\n",
    "    plt.plot(hist['epoch'], hist['mean_squared_error'],label='Train Error')\n",
    "    plt.plot(hist['epoch'], hist['val_mean_squared_error'],label = 'Val Error')\n",
    "    plt.ylim([0,3])\n",
    "    plt.legend()\n",
    "    plt.show()\n",
    "\n",
    "\n",
    "plot_history(history)"
   ]
  },
  {
   "cell_type": "code",
   "execution_count": 119,
   "metadata": {},
   "outputs": [],
   "source": [
    "hist = pd.DataFrame(history.history)\n",
    "hist['epoch'] = history.epoch"
   ]
  },
  {
   "cell_type": "code",
   "execution_count": 120,
   "metadata": {},
   "outputs": [
    {
     "data": {
      "text/html": [
       "<div>\n",
       "<style scoped>\n",
       "    .dataframe tbody tr th:only-of-type {\n",
       "        vertical-align: middle;\n",
       "    }\n",
       "\n",
       "    .dataframe tbody tr th {\n",
       "        vertical-align: top;\n",
       "    }\n",
       "\n",
       "    .dataframe thead th {\n",
       "        text-align: right;\n",
       "    }\n",
       "</style>\n",
       "<table border=\"1\" class=\"dataframe\">\n",
       "  <thead>\n",
       "    <tr style=\"text-align: right;\">\n",
       "      <th></th>\n",
       "      <th>loss</th>\n",
       "      <th>mean_absolute_error</th>\n",
       "      <th>mean_squared_error</th>\n",
       "      <th>val_loss</th>\n",
       "      <th>val_mean_absolute_error</th>\n",
       "      <th>val_mean_squared_error</th>\n",
       "      <th>epoch</th>\n",
       "    </tr>\n",
       "  </thead>\n",
       "  <tbody>\n",
       "    <tr>\n",
       "      <th>0</th>\n",
       "      <td>149.629730</td>\n",
       "      <td>11.656860</td>\n",
       "      <td>149.629730</td>\n",
       "      <td>147.244781</td>\n",
       "      <td>11.593629</td>\n",
       "      <td>147.244781</td>\n",
       "      <td>0</td>\n",
       "    </tr>\n",
       "    <tr>\n",
       "      <th>1</th>\n",
       "      <td>140.362335</td>\n",
       "      <td>11.287792</td>\n",
       "      <td>140.362335</td>\n",
       "      <td>139.754623</td>\n",
       "      <td>11.294273</td>\n",
       "      <td>139.754608</td>\n",
       "      <td>1</td>\n",
       "    </tr>\n",
       "    <tr>\n",
       "      <th>2</th>\n",
       "      <td>133.430145</td>\n",
       "      <td>11.007168</td>\n",
       "      <td>133.430145</td>\n",
       "      <td>133.024536</td>\n",
       "      <td>11.018642</td>\n",
       "      <td>133.024536</td>\n",
       "      <td>2</td>\n",
       "    </tr>\n",
       "    <tr>\n",
       "      <th>3</th>\n",
       "      <td>127.157745</td>\n",
       "      <td>10.742747</td>\n",
       "      <td>127.157745</td>\n",
       "      <td>126.875374</td>\n",
       "      <td>10.760578</td>\n",
       "      <td>126.875374</td>\n",
       "      <td>3</td>\n",
       "    </tr>\n",
       "    <tr>\n",
       "      <th>4</th>\n",
       "      <td>121.264488</td>\n",
       "      <td>10.489992</td>\n",
       "      <td>121.264488</td>\n",
       "      <td>120.974808</td>\n",
       "      <td>10.506438</td>\n",
       "      <td>120.974808</td>\n",
       "      <td>4</td>\n",
       "    </tr>\n",
       "    <tr>\n",
       "      <th>...</th>\n",
       "      <td>...</td>\n",
       "      <td>...</td>\n",
       "      <td>...</td>\n",
       "      <td>...</td>\n",
       "      <td>...</td>\n",
       "      <td>...</td>\n",
       "      <td>...</td>\n",
       "    </tr>\n",
       "    <tr>\n",
       "      <th>85</th>\n",
       "      <td>0.015963</td>\n",
       "      <td>0.083019</td>\n",
       "      <td>0.015963</td>\n",
       "      <td>0.013305</td>\n",
       "      <td>0.072470</td>\n",
       "      <td>0.013305</td>\n",
       "      <td>85</td>\n",
       "    </tr>\n",
       "    <tr>\n",
       "      <th>86</th>\n",
       "      <td>0.014606</td>\n",
       "      <td>0.076060</td>\n",
       "      <td>0.014606</td>\n",
       "      <td>0.012557</td>\n",
       "      <td>0.071648</td>\n",
       "      <td>0.012557</td>\n",
       "      <td>86</td>\n",
       "    </tr>\n",
       "    <tr>\n",
       "      <th>87</th>\n",
       "      <td>0.013563</td>\n",
       "      <td>0.072199</td>\n",
       "      <td>0.013563</td>\n",
       "      <td>0.011734</td>\n",
       "      <td>0.068669</td>\n",
       "      <td>0.011734</td>\n",
       "      <td>87</td>\n",
       "    </tr>\n",
       "    <tr>\n",
       "      <th>88</th>\n",
       "      <td>0.013245</td>\n",
       "      <td>0.075637</td>\n",
       "      <td>0.013245</td>\n",
       "      <td>0.012033</td>\n",
       "      <td>0.078643</td>\n",
       "      <td>0.012033</td>\n",
       "      <td>88</td>\n",
       "    </tr>\n",
       "    <tr>\n",
       "      <th>89</th>\n",
       "      <td>0.011896</td>\n",
       "      <td>0.068192</td>\n",
       "      <td>0.011896</td>\n",
       "      <td>0.011868</td>\n",
       "      <td>0.083237</td>\n",
       "      <td>0.011868</td>\n",
       "      <td>89</td>\n",
       "    </tr>\n",
       "  </tbody>\n",
       "</table>\n",
       "<p>90 rows × 7 columns</p>\n",
       "</div>"
      ],
      "text/plain": [
       "          loss  mean_absolute_error  mean_squared_error    val_loss  \\\n",
       "0   149.629730            11.656860          149.629730  147.244781   \n",
       "1   140.362335            11.287792          140.362335  139.754623   \n",
       "2   133.430145            11.007168          133.430145  133.024536   \n",
       "3   127.157745            10.742747          127.157745  126.875374   \n",
       "4   121.264488            10.489992          121.264488  120.974808   \n",
       "..         ...                  ...                 ...         ...   \n",
       "85    0.015963             0.083019            0.015963    0.013305   \n",
       "86    0.014606             0.076060            0.014606    0.012557   \n",
       "87    0.013563             0.072199            0.013563    0.011734   \n",
       "88    0.013245             0.075637            0.013245    0.012033   \n",
       "89    0.011896             0.068192            0.011896    0.011868   \n",
       "\n",
       "    val_mean_absolute_error  val_mean_squared_error  epoch  \n",
       "0                 11.593629              147.244781      0  \n",
       "1                 11.294273              139.754608      1  \n",
       "2                 11.018642              133.024536      2  \n",
       "3                 10.760578              126.875374      3  \n",
       "4                 10.506438              120.974808      4  \n",
       "..                      ...                     ...    ...  \n",
       "85                 0.072470                0.013305     85  \n",
       "86                 0.071648                0.012557     86  \n",
       "87                 0.068669                0.011734     87  \n",
       "88                 0.078643                0.012033     88  \n",
       "89                 0.083237                0.011868     89  \n",
       "\n",
       "[90 rows x 7 columns]"
      ]
     },
     "execution_count": 120,
     "metadata": {},
     "output_type": "execute_result"
    }
   ],
   "source": [
    "hist"
   ]
  },
  {
   "cell_type": "markdown",
   "metadata": {},
   "source": [
    "Now we are getting reasonable results.  Using a smaller learning rate, with an early stop callback."
   ]
  },
  {
   "cell_type": "markdown",
   "metadata": {},
   "source": [
    "# Evauate model\n",
    "Note by including the data with missing values and adding in average amounts increased the error."
   ]
  },
  {
   "cell_type": "code",
   "execution_count": 121,
   "metadata": {},
   "outputs": [
    {
     "name": "stdout",
     "output_type": "stream",
     "text": [
      "Testing set Mean Abs Error:  0.09 predicted xxt\n"
     ]
    }
   ],
   "source": [
    "loss, mae, mse = model.evaluate(test_df, test_labels, verbose=0)\n",
    "\n",
    "print(\"Testing set Mean Abs Error: {:5.2f} predicted xxt\".format(mae))"
   ]
  },
  {
   "cell_type": "markdown",
   "metadata": {},
   "source": [
    "# Make predictions"
   ]
  },
  {
   "cell_type": "code",
   "execution_count": 122,
   "metadata": {},
   "outputs": [
    {
     "name": "stdout",
     "output_type": "stream",
     "text": [
      "2/2 [==============================] - 0s 9ms/step\n"
     ]
    },
    {
     "data": {
      "image/png": "[encoded data removed]",
      "text/plain": [
       "<Figure size 640x480 with 1 Axes>"
      ]
     },
     "metadata": {},
     "output_type": "display_data"
    }
   ],
   "source": [
    "test_predictions = model.predict(test_df).flatten()\n",
    "\n",
    "plt.scatter(test_labels, test_predictions)\n",
    "plt.xlabel('True Values [z]')\n",
    "plt.ylabel('Predictions [z]')\n",
    "plt.axis('equal')\n",
    "plt.axis('square')\n",
    "plt.xlim([0,plt.xlim()[1]])\n",
    "plt.ylim([0,plt.ylim()[1]])\n",
    "_ = plt.plot([-100, 100], [-100, 100])"
   ]
  },
  {
   "cell_type": "markdown",
   "metadata": {},
   "source": [
    "Look at error distribution"
   ]
  },
  {
   "cell_type": "code",
   "execution_count": 123,
   "metadata": {},
   "outputs": [
    {
     "data": {
      "image/png": "[encoded data removed]",
      "text/plain": [
       "<Figure size 640x480 with 1 Axes>"
      ]
     },
     "metadata": {},
     "output_type": "display_data"
    }
   ],
   "source": [
    "error = test_predictions - test_labels\n",
    "plt.hist(error, bins = 25)\n",
    "plt.xlabel(\"Prediction Error [z]\")\n",
    "_ = plt.ylabel(\"Count\")"
   ]
  },
  {
   "cell_type": "code",
   "execution_count": 124,
   "metadata": {},
   "outputs": [
    {
     "data": {
      "text/html": [
       "<div>\n",
       "<style scoped>\n",
       "    .dataframe tbody tr th:only-of-type {\n",
       "        vertical-align: middle;\n",
       "    }\n",
       "\n",
       "    .dataframe tbody tr th {\n",
       "        vertical-align: top;\n",
       "    }\n",
       "\n",
       "    .dataframe thead th {\n",
       "        text-align: right;\n",
       "    }\n",
       "</style>\n",
       "<table border=\"1\" class=\"dataframe\">\n",
       "  <thead>\n",
       "    <tr style=\"text-align: right;\">\n",
       "      <th></th>\n",
       "      <th>x</th>\n",
       "      <th>y</th>\n",
       "    </tr>\n",
       "  </thead>\n",
       "  <tbody>\n",
       "    <tr>\n",
       "      <th>0</th>\n",
       "      <td>7.267390</td>\n",
       "      <td>4.732610</td>\n",
       "    </tr>\n",
       "    <tr>\n",
       "      <th>1</th>\n",
       "      <td>6.889421</td>\n",
       "      <td>4.110579</td>\n",
       "    </tr>\n",
       "    <tr>\n",
       "      <th>2</th>\n",
       "      <td>2.758099</td>\n",
       "      <td>0.241901</td>\n",
       "    </tr>\n",
       "    <tr>\n",
       "      <th>3</th>\n",
       "      <td>1.734454</td>\n",
       "      <td>10.265546</td>\n",
       "    </tr>\n",
       "    <tr>\n",
       "      <th>4</th>\n",
       "      <td>2.734454</td>\n",
       "      <td>7.265546</td>\n",
       "    </tr>\n",
       "    <tr>\n",
       "      <th>5</th>\n",
       "      <td>6.192089</td>\n",
       "      <td>5.807911</td>\n",
       "    </tr>\n",
       "    <tr>\n",
       "      <th>6</th>\n",
       "      <td>8.027956</td>\n",
       "      <td>1.972044</td>\n",
       "    </tr>\n",
       "    <tr>\n",
       "      <th>7</th>\n",
       "      <td>7.758099</td>\n",
       "      <td>3.241901</td>\n",
       "    </tr>\n",
       "    <tr>\n",
       "      <th>8</th>\n",
       "      <td>10.734454</td>\n",
       "      <td>0.265546</td>\n",
       "    </tr>\n",
       "    <tr>\n",
       "      <th>9</th>\n",
       "      <td>3.592212</td>\n",
       "      <td>6.407788</td>\n",
       "    </tr>\n",
       "    <tr>\n",
       "      <th>10</th>\n",
       "      <td>5.027956</td>\n",
       "      <td>5.972044</td>\n",
       "    </tr>\n",
       "    <tr>\n",
       "      <th>11</th>\n",
       "      <td>8.192089</td>\n",
       "      <td>1.807911</td>\n",
       "    </tr>\n",
       "    <tr>\n",
       "      <th>12</th>\n",
       "      <td>4.460032</td>\n",
       "      <td>5.539968</td>\n",
       "    </tr>\n",
       "    <tr>\n",
       "      <th>13</th>\n",
       "      <td>4.192089</td>\n",
       "      <td>5.807911</td>\n",
       "    </tr>\n",
       "    <tr>\n",
       "      <th>14</th>\n",
       "      <td>5.192089</td>\n",
       "      <td>6.807911</td>\n",
       "    </tr>\n",
       "    <tr>\n",
       "      <th>15</th>\n",
       "      <td>6.267390</td>\n",
       "      <td>4.732610</td>\n",
       "    </tr>\n",
       "    <tr>\n",
       "      <th>16</th>\n",
       "      <td>9.027956</td>\n",
       "      <td>2.972044</td>\n",
       "    </tr>\n",
       "    <tr>\n",
       "      <th>17</th>\n",
       "      <td>2.718902</td>\n",
       "      <td>0.281098</td>\n",
       "    </tr>\n",
       "    <tr>\n",
       "      <th>18</th>\n",
       "      <td>1.192089</td>\n",
       "      <td>1.807911</td>\n",
       "    </tr>\n",
       "    <tr>\n",
       "      <th>19</th>\n",
       "      <td>7.718902</td>\n",
       "      <td>4.281098</td>\n",
       "    </tr>\n",
       "    <tr>\n",
       "      <th>20</th>\n",
       "      <td>2.027956</td>\n",
       "      <td>1.972044</td>\n",
       "    </tr>\n",
       "    <tr>\n",
       "      <th>21</th>\n",
       "      <td>4.758099</td>\n",
       "      <td>6.241901</td>\n",
       "    </tr>\n",
       "    <tr>\n",
       "      <th>22</th>\n",
       "      <td>4.889421</td>\n",
       "      <td>6.110579</td>\n",
       "    </tr>\n",
       "    <tr>\n",
       "      <th>23</th>\n",
       "      <td>1.267390</td>\n",
       "      <td>1.732610</td>\n",
       "    </tr>\n",
       "    <tr>\n",
       "      <th>24</th>\n",
       "      <td>4.718902</td>\n",
       "      <td>7.281098</td>\n",
       "    </tr>\n",
       "    <tr>\n",
       "      <th>25</th>\n",
       "      <td>11.027956</td>\n",
       "      <td>0.972044</td>\n",
       "    </tr>\n",
       "    <tr>\n",
       "      <th>26</th>\n",
       "      <td>3.889421</td>\n",
       "      <td>8.110579</td>\n",
       "    </tr>\n",
       "    <tr>\n",
       "      <th>27</th>\n",
       "      <td>3.734454</td>\n",
       "      <td>7.265546</td>\n",
       "    </tr>\n",
       "    <tr>\n",
       "      <th>28</th>\n",
       "      <td>6.734454</td>\n",
       "      <td>3.265546</td>\n",
       "    </tr>\n",
       "    <tr>\n",
       "      <th>29</th>\n",
       "      <td>3.889421</td>\n",
       "      <td>7.110579</td>\n",
       "    </tr>\n",
       "    <tr>\n",
       "      <th>30</th>\n",
       "      <td>3.925800</td>\n",
       "      <td>0.074200</td>\n",
       "    </tr>\n",
       "    <tr>\n",
       "      <th>31</th>\n",
       "      <td>8.460032</td>\n",
       "      <td>2.539968</td>\n",
       "    </tr>\n",
       "    <tr>\n",
       "      <th>32</th>\n",
       "      <td>7.027956</td>\n",
       "      <td>4.972044</td>\n",
       "    </tr>\n",
       "    <tr>\n",
       "      <th>33</th>\n",
       "      <td>10.460032</td>\n",
       "      <td>1.539968</td>\n",
       "    </tr>\n",
       "    <tr>\n",
       "      <th>34</th>\n",
       "      <td>9.734454</td>\n",
       "      <td>0.265546</td>\n",
       "    </tr>\n",
       "    <tr>\n",
       "      <th>35</th>\n",
       "      <td>1.925800</td>\n",
       "      <td>1.074200</td>\n",
       "    </tr>\n",
       "    <tr>\n",
       "      <th>36</th>\n",
       "      <td>10.925800</td>\n",
       "      <td>1.074200</td>\n",
       "    </tr>\n",
       "    <tr>\n",
       "      <th>37</th>\n",
       "      <td>11.734454</td>\n",
       "      <td>0.265546</td>\n",
       "    </tr>\n",
       "    <tr>\n",
       "      <th>38</th>\n",
       "      <td>5.718902</td>\n",
       "      <td>4.281098</td>\n",
       "    </tr>\n",
       "    <tr>\n",
       "      <th>39</th>\n",
       "      <td>3.192089</td>\n",
       "      <td>7.807911</td>\n",
       "    </tr>\n",
       "    <tr>\n",
       "      <th>40</th>\n",
       "      <td>2.192089</td>\n",
       "      <td>1.807911</td>\n",
       "    </tr>\n",
       "    <tr>\n",
       "      <th>41</th>\n",
       "      <td>6.267390</td>\n",
       "      <td>3.732610</td>\n",
       "    </tr>\n",
       "    <tr>\n",
       "      <th>42</th>\n",
       "      <td>7.734454</td>\n",
       "      <td>3.265546</td>\n",
       "    </tr>\n",
       "    <tr>\n",
       "      <th>43</th>\n",
       "      <td>3.758099</td>\n",
       "      <td>8.241901</td>\n",
       "    </tr>\n",
       "    <tr>\n",
       "      <th>44</th>\n",
       "      <td>2.758099</td>\n",
       "      <td>1.241901</td>\n",
       "    </tr>\n",
       "    <tr>\n",
       "      <th>45</th>\n",
       "      <td>2.267390</td>\n",
       "      <td>0.732610</td>\n",
       "    </tr>\n",
       "    <tr>\n",
       "      <th>46</th>\n",
       "      <td>6.925800</td>\n",
       "      <td>3.074200</td>\n",
       "    </tr>\n",
       "    <tr>\n",
       "      <th>47</th>\n",
       "      <td>2.592212</td>\n",
       "      <td>0.407788</td>\n",
       "    </tr>\n",
       "    <tr>\n",
       "      <th>48</th>\n",
       "      <td>5.592212</td>\n",
       "      <td>4.407788</td>\n",
       "    </tr>\n",
       "    <tr>\n",
       "      <th>49</th>\n",
       "      <td>6.718902</td>\n",
       "      <td>4.281098</td>\n",
       "    </tr>\n",
       "    <tr>\n",
       "      <th>50</th>\n",
       "      <td>11.925800</td>\n",
       "      <td>0.074200</td>\n",
       "    </tr>\n",
       "    <tr>\n",
       "      <th>51</th>\n",
       "      <td>1.734454</td>\n",
       "      <td>8.265546</td>\n",
       "    </tr>\n",
       "    <tr>\n",
       "      <th>52</th>\n",
       "      <td>5.027956</td>\n",
       "      <td>4.972044</td>\n",
       "    </tr>\n",
       "    <tr>\n",
       "      <th>53</th>\n",
       "      <td>9.460032</td>\n",
       "      <td>0.539968</td>\n",
       "    </tr>\n",
       "  </tbody>\n",
       "</table>\n",
       "</div>"
      ],
      "text/plain": [
       "            x          y\n",
       "0    7.267390   4.732610\n",
       "1    6.889421   4.110579\n",
       "2    2.758099   0.241901\n",
       "3    1.734454  10.265546\n",
       "4    2.734454   7.265546\n",
       "5    6.192089   5.807911\n",
       "6    8.027956   1.972044\n",
       "7    7.758099   3.241901\n",
       "8   10.734454   0.265546\n",
       "9    3.592212   6.407788\n",
       "10   5.027956   5.972044\n",
       "11   8.192089   1.807911\n",
       "12   4.460032   5.539968\n",
       "13   4.192089   5.807911\n",
       "14   5.192089   6.807911\n",
       "15   6.267390   4.732610\n",
       "16   9.027956   2.972044\n",
       "17   2.718902   0.281098\n",
       "18   1.192089   1.807911\n",
       "19   7.718902   4.281098\n",
       "20   2.027956   1.972044\n",
       "21   4.758099   6.241901\n",
       "22   4.889421   6.110579\n",
       "23   1.267390   1.732610\n",
       "24   4.718902   7.281098\n",
       "25  11.027956   0.972044\n",
       "26   3.889421   8.110579\n",
       "27   3.734454   7.265546\n",
       "28   6.734454   3.265546\n",
       "29   3.889421   7.110579\n",
       "30   3.925800   0.074200\n",
       "31   8.460032   2.539968\n",
       "32   7.027956   4.972044\n",
       "33  10.460032   1.539968\n",
       "34   9.734454   0.265546\n",
       "35   1.925800   1.074200\n",
       "36  10.925800   1.074200\n",
       "37  11.734454   0.265546\n",
       "38   5.718902   4.281098\n",
       "39   3.192089   7.807911\n",
       "40   2.192089   1.807911\n",
       "41   6.267390   3.732610\n",
       "42   7.734454   3.265546\n",
       "43   3.758099   8.241901\n",
       "44   2.758099   1.241901\n",
       "45   2.267390   0.732610\n",
       "46   6.925800   3.074200\n",
       "47   2.592212   0.407788\n",
       "48   5.592212   4.407788\n",
       "49   6.718902   4.281098\n",
       "50  11.925800   0.074200\n",
       "51   1.734454   8.265546\n",
       "52   5.027956   4.972044\n",
       "53   9.460032   0.539968"
      ]
     },
     "execution_count": 124,
     "metadata": {},
     "output_type": "execute_result"
    }
   ],
   "source": [
    "test_df\n"
   ]
  },
  {
   "cell_type": "code",
   "execution_count": 125,
   "metadata": {},
   "outputs": [
    {
     "name": "stdout",
     "output_type": "stream",
     "text": [
      "2/2 [==============================] - 0s 4ms/step\n"
     ]
    },
    {
     "data": {
      "text/plain": [
       "array([[11.9084015],\n",
       "       [10.945754 ],\n",
       "       [ 3.246347 ],\n",
       "       [11.917266 ],\n",
       "       [ 9.989158 ],\n",
       "       [11.910124 ],\n",
       "       [ 9.980677 ],\n",
       "       [10.944362 ],\n",
       "       [10.939594 ],\n",
       "       [ 9.9877825],\n",
       "       [10.948735 ],\n",
       "       [ 9.980413 ],\n",
       "       [ 9.986392 ],\n",
       "       [ 9.986822 ],\n",
       "       [11.911727 ],\n",
       "       [10.94675  ],\n",
       "       [11.905581 ],\n",
       "       [ 3.24641  ],\n",
       "       [ 3.248856 ],\n",
       "       [11.907678 ],\n",
       "       [ 4.21077  ],\n",
       "       [10.949168 ],\n",
       "       [10.948958 ],\n",
       "       [ 3.2487354],\n",
       "       [11.912484 ],\n",
       "       [11.902377 ],\n",
       "       [11.913814 ],\n",
       "       [10.950809 ],\n",
       "       [ 9.982749 ],\n",
       "       [10.950561 ],\n",
       "       [ 4.207729 ],\n",
       "       [10.943237 ],\n",
       "       [11.908786 ],\n",
       "       [11.903287 ],\n",
       "       [ 9.977943 ],\n",
       "       [ 3.2476807],\n",
       "       [11.902541 ],\n",
       "       [11.901245 ],\n",
       "       [ 9.984376 ],\n",
       "       [10.951676 ],\n",
       "       [ 4.210507 ],\n",
       "       [ 9.983498 ],\n",
       "       [10.9444   ],\n",
       "       [11.914023 ],\n",
       "       [ 4.2096004],\n",
       "       [ 3.2471333],\n",
       "       [ 9.982442 ],\n",
       "       [ 3.246613 ],\n",
       "       [ 9.984578 ],\n",
       "       [10.946027 ],\n",
       "       [11.900939 ],\n",
       "       [ 9.990758 ],\n",
       "       [ 9.985483 ],\n",
       "       [ 9.978382 ]], dtype=float32)"
      ]
     },
     "execution_count": 125,
     "metadata": {},
     "output_type": "execute_result"
    }
   ],
   "source": [
    "model.predict(test_df)"
   ]
  },
  {
   "cell_type": "markdown",
   "metadata": {},
   "source": [
    "## Manual predition"
   ]
  },
  {
   "cell_type": "code",
   "execution_count": 126,
   "metadata": {},
   "outputs": [
    {
     "name": "stdout",
     "output_type": "stream",
     "text": [
      "data frame 1 for sum=10\n",
      "     x    y\n",
      "0  6.0  4.0\n",
      "prediction, sum should be 10\n",
      "1/1 [==============================] - 0s 15ms/step\n",
      "[[9.983926]]\n",
      "*********\n",
      "data frame 2 for sum=7\n",
      "      x     y\n",
      "0  2.37  4.63\n",
      "prediction, sum should be 7\n",
      "1/1 [==============================] - 0s 13ms/step\n",
      "[[7.0999813]]\n",
      "*********\n",
      "data frame 3 for sum=127.019\n",
      "        x      y\n",
      "0  35.789  91.23\n",
      "prediction, sum should be 127.019\n",
      "1/1 [==============================] - 0s 13ms/step\n",
      "[[122.65512]]\n",
      "*********\n"
     ]
    }
   ],
   "source": [
    "# cherry pick some tests\n",
    "\n",
    "# 10 = 6.0 + 4.0 \n",
    "adf1 = pd.DataFrame([[6.0, 4.0]], columns=['x','y'])\n",
    "\n",
    "\n",
    "# 7 = 2.37 + 4.63 <------- NOTICE: not in xyz10 dataset\n",
    "adf2 = pd.DataFrame([[2.37, 4.63]], columns=['x','y'])\n",
    "\n",
    "# 127.019 = 35.789 + 91.23 <---- NOTICE: way outside our bounds for training data\n",
    "adf3 = pd.DataFrame([[35.789, 91.23]], columns=['x','y'])\n",
    "\n",
    "\n",
    "print(\"data frame 1 for sum=10\")\n",
    "print(adf1)\n",
    "# predict\n",
    "print(\"prediction, sum should be 10\")\n",
    "print(model.predict(adf1))\n",
    "print(\"*********\")\n",
    "\n",
    "\n",
    "print(\"data frame 2 for sum=7\")\n",
    "print(adf2)\n",
    "# predict\n",
    "print(\"prediction, sum should be 7\")\n",
    "print(model.predict(adf2))\n",
    "print(\"*********\")\n",
    "\n",
    "print(\"data frame 3 for sum=127.019\")\n",
    "print(adf3)\n",
    "# predict\n",
    "print(\"prediction, sum should be 127.019\")\n",
    "print(model.predict(adf3))\n",
    "print(\"*********\")\n"
   ]
  },
  {
   "cell_type": "code",
   "execution_count": null,
   "metadata": {},
   "outputs": [],
   "source": []
  },
  {
   "cell_type": "code",
   "execution_count": null,
   "metadata": {},
   "outputs": [],
   "source": []
  },
  {
   "cell_type": "code",
   "execution_count": null,
   "metadata": {},
   "outputs": [],
   "source": []
  }
 ],
 "metadata": {
  "kernelspec": {
   "display_name": "Python 3",
   "language": "python",
   "name": "python3"
  },
  "language_info": {
   "codemirror_mode": {
    "name": "ipython",
    "version": 3
   },
   "file_extension": ".py",
   "mimetype": "text/x-python",
   "name": "python",
   "nbconvert_exporter": "python",
   "pygments_lexer": "ipython3",
   "version": "3.9.6"
  }
 },
 "nbformat": 4,
 "nbformat_minor": 2
}
