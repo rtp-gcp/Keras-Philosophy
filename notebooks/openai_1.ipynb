{
 "cells": [
  {
   "cell_type": "markdown",
   "metadata": {},
   "source": [
    "# Open AI First Steps"
   ]
  },
  {
   "cell_type": "code",
   "execution_count": 1,
   "metadata": {},
   "outputs": [],
   "source": [
    "# Import the os package\n",
    "import os\n",
    "\n",
    "# Import the openai package\n",
    "import openai\n",
    "\n",
    "# import the dotenv package\n",
    "from dotenv import load_dotenv\n",
    "\n",
    "# From the IPython.display package, import display and Markdown\n",
    "from IPython.display import display, Markdown"
   ]
  },
  {
   "cell_type": "code",
   "execution_count": 2,
   "metadata": {},
   "outputs": [
    {
     "data": {
      "text/plain": [
       "True"
      ]
     },
     "execution_count": 2,
     "metadata": {},
     "output_type": "execute_result"
    }
   ],
   "source": [
    "# Get the current working directory\n",
    "cwd = os.getcwd()\n",
    "# Construct the .env file path\n",
    "env_path = os.path.join(cwd, '.env')\n",
    "\n",
    "# Load the .env file\n",
    "load_dotenv(dotenv_path=env_path)"
   ]
  },
  {
   "cell_type": "code",
   "execution_count": 3,
   "metadata": {},
   "outputs": [],
   "source": [
    "# Set openai.api_key to the OPENAI environment variable\n",
    "OPENAI_APIKEY = os.environ[\"OPENAI\"]\n",
    "openai.api_key=OPENAI_APIKEY"
   ]
  },
  {
   "cell_type": "code",
   "execution_count": 4,
   "metadata": {},
   "outputs": [],
   "source": [
    "# Define the system message\n",
    "system_msg = 'You are a helpful assistant who understands data science.'\n",
    "\n",
    "# Define the user message\n",
    "user_msg = 'Create a small dataset of data about people. The format of the dataset should be a data frame with 5 rows and 3 columns. The columns should be called \"name\", \"height_cm\", and \"eye_color\". The \"name\" column should contain randomly chosen first names. The \"height_cm\" column should contain randomly chosen heights, given in centimeters. The \"eye_color\" column should contain randomly chosen eye colors, taken from a choice of \"brown\", \"blue\", and \"green\". Provide Python code to generate the dataset, then provide the output in the format of a markdown table.'\n",
    "\n",
    "# Create a dataset using GPT\n",
    "response = openai.ChatCompletion.create(\n",
    "    model=\"gpt-3.5-turbo-0613\",\n",
    "    messages=[\n",
    "        {\"role\": \"system\", \"content\": system_msg},\n",
    "        {\"role\": \"user\", \"content\": user_msg}\n",
    "    ]\n",
    ")"
   ]
  },
  {
   "cell_type": "code",
   "execution_count": 5,
   "metadata": {},
   "outputs": [
    {
     "data": {
      "text/plain": [
       "'stop'"
      ]
     },
     "execution_count": 5,
     "metadata": {},
     "output_type": "execute_result"
    }
   ],
   "source": [
    "response[\"choices\"][0][\"finish_reason\"]"
   ]
  },
  {
   "cell_type": "code",
   "execution_count": 6,
   "metadata": {},
   "outputs": [
    {
     "data": {
      "text/plain": [
       "'Sure! Here\\'s the Python code to generate the dataset:\\n\\n```python\\nimport pandas as pd\\nimport numpy as np\\n\\n# Set random seed for reproducibility\\nnp.random.seed(0)\\n\\n# Generate random names\\nnames = [\"John\", \"Emily\", \"Michael\", \"Sophia\", \"David\"]\\n\\n# Generate random heights\\nheights = np.random.randint(150, 200, size=5)  # Heights between 150cm and 199cm\\n\\n# Generate random eye colors\\neye_colors = [\"brown\", \"blue\", \"green\"]\\neye_colors = np.random.choice(eye_colors, size=5)\\n\\n# Create dataframe\\ndata = pd.DataFrame({\\n    \"name\": names,\\n    \"height_cm\": heights,\\n    \"eye_color\": eye_colors\\n})\\n\\ndata\\n```\\n\\nAnd here\\'s the output in the form of a markdown table:\\n\\n|    name   | height_cm | eye_color |\\n|:---------:|:---------:|:--------:|\\n|   John    |    173    |   green  |\\n|   Emily   |    189    |   brown  |\\n|  Michael  |    173    |   green  |\\n|   Sophia  |    158    |   blue   |\\n|   David   |    168    |   green  |'"
      ]
     },
     "execution_count": 6,
     "metadata": {},
     "output_type": "execute_result"
    }
   ],
   "source": [
    "response[\"choices\"][0][\"message\"][\"content\"]"
   ]
  },
  {
   "cell_type": "code",
   "execution_count": null,
   "metadata": {},
   "outputs": [],
   "source": []
  }
 ],
 "metadata": {
  "kernelspec": {
   "display_name": "nbenv",
   "language": "python",
   "name": "python3"
  },
  "language_info": {
   "codemirror_mode": {
    "name": "ipython",
    "version": 3
   },
   "file_extension": ".py",
   "mimetype": "text/x-python",
   "name": "python",
   "nbconvert_exporter": "python",
   "pygments_lexer": "ipython3",
   "version": "3.10.8"
  }
 },
 "nbformat": 4,
 "nbformat_minor": 2
}
