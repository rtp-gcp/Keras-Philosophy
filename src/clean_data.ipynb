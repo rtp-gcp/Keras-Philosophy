{
 "cells": [
  {
   "cell_type": "markdown",
   "metadata": {},
   "source": [
    "# Cleans previously massaged data into separate csv files\n",
    "This code uses the original public USGS and GreenStream data which was previously combined and pitch matched in terms of timings apache beam.  During that time the original data was also averaged from hourly reports into daily averages.\n",
    "\n",
    "The data was averaged so that the model is generalized and not overly precise with outliers due to possible sensor inaccuracy. This is accpetable because we trying to virtualize water levels and due to terrain and flows there is no need to be overly precise.  Also this enables smaller dataset which is more suitable for faster model training."
   ]
  },
  {
   "cell_type": "code",
   "execution_count": 40,
   "metadata": {},
   "outputs": [],
   "source": [
    "# leave until I can determine if tensorboard runs in ibm cloud\n",
    "# %load_ext tensorboard.notebook"
   ]
  },
  {
   "cell_type": "code",
   "execution_count": 69,
   "metadata": {},
   "outputs": [],
   "source": [
    "import datetime\n",
    "from pathlib import Path\n",
    "\n",
    "import matplotlib.pyplot as plt\n",
    "import pandas as pd\n",
    "import seaborn as sns\n",
    "import os\n",
    "import os.path"
   ]
  },
  {
   "cell_type": "code",
   "execution_count": 70,
   "metadata": {},
   "outputs": [],
   "source": [
    "# This can be varied to point to different files\n",
    "# GREENSTREAM and USGS Data\n",
    "CSV_FILE_NAME = \"../data/usgs_gsvb_v2.csv\"\n",
    "\n",
    "# sample data for easy x+y=z\n",
    "#CSV_FILE_NAME = \"../data/xyz.csv\"\n",
    "\n",
    "os.environ['CSV_FILE_NAME'] = CSV_FILE_NAME"
   ]
  },
  {
   "cell_type": "code",
   "execution_count": 71,
   "metadata": {},
   "outputs": [
    {
     "name": "stdout",
     "output_type": "stream",
     "text": [
      "current directory is : /Users/davis/progs/github/Keras-Philosophy/src\n"
     ]
    }
   ],
   "source": [
    "# The current directory will be where this src file is located.\n",
    "# Which is in the src dir of the project\n",
    "dirpath = os.getcwd()\n",
    "print(\"current directory is : \" + dirpath)"
   ]
  },
  {
   "cell_type": "code",
   "execution_count": 72,
   "metadata": {},
   "outputs": [
    {
     "name": "stdout",
     "output_type": "stream",
     "text": [
      "parent directory is : /Users/davis/progs/github/Keras-Philosophy\n"
     ]
    }
   ],
   "source": [
    "root_path = os.path.dirname(dirpath)\n",
    "print(\"parent directory is : \" + root_path)"
   ]
  },
  {
   "cell_type": "code",
   "execution_count": 73,
   "metadata": {},
   "outputs": [
    {
     "name": "stdout",
     "output_type": "stream",
     "text": [
      "data direcotry is: /Users/davis/progs/github/Keras-Philosophy/data\n"
     ]
    }
   ],
   "source": [
    "data_path = root_path + \"/data\"\n",
    "print(\"data direcotry is: \" + data_path)"
   ]
  },
  {
   "cell_type": "code",
   "execution_count": 74,
   "metadata": {},
   "outputs": [
    {
     "name": "stdout",
     "output_type": "stream",
     "text": [
      "logs directory is : /Users/davis/progs/github/Keras-Philosophy/logs\n"
     ]
    }
   ],
   "source": [
    "logs_path = os.path.join(root_path,\"logs\")\n",
    "print(\"logs directory is : \" + logs_path)"
   ]
  },
  {
   "cell_type": "code",
   "execution_count": 75,
   "metadata": {},
   "outputs": [],
   "source": [
    "LOG_DIR_NAME = logs_path\n",
    "os.environ['LOG_DIR_NAME'] = LOG_DIR_NAME"
   ]
  },
  {
   "cell_type": "code",
   "execution_count": 76,
   "metadata": {},
   "outputs": [
    {
     "name": "stdout",
     "output_type": "stream",
     "text": [
      "/Users/davis/progs/github/Keras-Philosophy/logs\n"
     ]
    }
   ],
   "source": [
    "%%bash\n",
    "echo ${LOG_DIR_NAME}"
   ]
  },
  {
   "cell_type": "code",
   "execution_count": 77,
   "metadata": {},
   "outputs": [
    {
     "name": "stdout",
     "output_type": "stream",
     "text": [
      "usgs,site_no,date,tidal_high,tidal_low,precipitation_inches,lat,long\n",
      "GSVB,33670001,2019-03-08,-6.7913385826771648,-6.7257217847769031,,36.735303,-76.011602\n",
      "GSVB,33670001,2019-03-19,-6.8569553805774275,-6.758530183727034,,36.735303,-76.011602\n",
      "GSVB,33670001,2019-02-21,1.9356955380577427,2.1325459317585302,,36.735303,-76.011602\n",
      "GSVB,33670001,2019-03-11,-6.66010498687664,-6.4304461942257216,,36.735303,-76.011602\n",
      "GSVB,33670001,2019-04-04,1.9028871391076114,2.0669291338582676,,36.735303,-76.011602\n",
      "GSVB,33670001,2019-02-14,1.7716535433070866,1.9356955380577427,,36.735303,-76.011602\n",
      "GSVB,33670001,2019-04-14,2.2309711286089238,2.39501312335958,,36.735303,-76.011602\n",
      "GSVB,33670001,2019-02-24,2.65748031496063,2.9527559055118111,,36.735303,-76.011602\n",
      "GSVB,33670001,2019-01-12,2.2965879265091864,2.39501312335958,,36.735303,-76.011602\n"
     ]
    }
   ],
   "source": [
    "%%bash\n",
    "head ${CSV_FILE_NAME}"
   ]
  },
  {
   "cell_type": "code",
   "execution_count": 78,
   "metadata": {},
   "outputs": [
    {
     "name": "stdout",
     "output_type": "stream",
     "text": [
      "    9876 ../data/usgs_gsvb_v2.csv\n"
     ]
    }
   ],
   "source": [
    "%%bash\n",
    "# this csv file has 9875 lines corresponding to records (plus one header row)\n",
    "wc -l ${CSV_FILE_NAME}"
   ]
  },
  {
   "cell_type": "markdown",
   "metadata": {},
   "source": [
    "# Use generic python to read data into pandas dataframe"
   ]
  },
  {
   "cell_type": "markdown",
   "metadata": {},
   "source": [
    "## In case of nans, \n",
    "In order to add default values for NA data, use the converters helper functions\n",
    "\n",
    "## In case of missing data, \n",
    "In order to add default values for missing data use average value for column/feature average.  Averages were calculated seperately."
   ]
  },
  {
   "cell_type": "code",
   "execution_count": 79,
   "metadata": {},
   "outputs": [],
   "source": [
    "# Create a function to look for nans in the dataframe\n",
    "# call via nans(dataset)\n",
    "nans = lambda df: df[df.isnull().any(axis=1)]"
   ]
  },
  {
   "cell_type": "code",
   "execution_count": 80,
   "metadata": {},
   "outputs": [],
   "source": [
    "# Anytime there is missing data for high tide column, use the default value of 1.2\n",
    "def default_tidal_high(cell_value):\n",
    "    # print(type(cell_value))\n",
    "    # print(\"value is {}\".format(cell_value))\n",
    "    \n",
    "    # Input cell values are strings\n",
    "    # The blanks for missing values are litteral blanks\n",
    "    try:\n",
    "        ret_value = float(cell_value)\n",
    "        return ret_value\n",
    "    except:\n",
    "        # Average of available data\n",
    "        return float(1.2)\n",
    "        \n",
    "    return cell_value       "
   ]
  },
  {
   "cell_type": "code",
   "execution_count": 81,
   "metadata": {},
   "outputs": [],
   "source": [
    "def default_tidal_low(cell_value):\n",
    "    # print(type(cell_value))\n",
    "    # print(\"value is {}\".format(cell_value))\n",
    "    \n",
    "    # Input cell values are strings\n",
    "    # The blanks for missing values are litteral blanks\n",
    "    try:\n",
    "        ret_value = float(cell_value)\n",
    "        return ret_value\n",
    "    except:\n",
    "        # Average of available data\n",
    "        return float(-0.89)\n",
    "        \n",
    "    return cell_value       "
   ]
  },
  {
   "cell_type": "code",
   "execution_count": 82,
   "metadata": {},
   "outputs": [],
   "source": [
    "def default_precipitation(cell_value):\n",
    "    # print(type(cell_value))\n",
    "    # print(\"value is {}\".format(cell_value))\n",
    "    \n",
    "    # Input cell values are strings\n",
    "    # The blanks for missing values are litteral blanks\n",
    "    try:\n",
    "        ret_value = float(cell_value)\n",
    "        return ret_value\n",
    "    except:\n",
    "        # the average rainfall divided by 365.\n",
    "        return float(0.117)\n",
    "        \n",
    "    return cell_value       "
   ]
  },
  {
   "cell_type": "code",
   "execution_count": 83,
   "metadata": {},
   "outputs": [],
   "source": [
    "raw_dataset = pd.read_csv(CSV_FILE_NAME, \n",
    "                          header=0,\n",
    "                          parse_dates=[2],\n",
    "                          converters={'precipitation_inches':default_precipitation, \n",
    "                                      'tidal_high':default_tidal_high,\n",
    "                                      'tidal_low': default_tidal_low},\n",
    "                          sep=\",\")\n",
    "\n",
    "dataset = raw_dataset.copy()"
   ]
  },
  {
   "cell_type": "markdown",
   "metadata": {},
   "source": [
    "## NaNs safety check\n",
    "\n",
    "If still missing or NaNs exist, just drop them.  However, by this point none should exist."
   ]
  },
  {
   "cell_type": "code",
   "execution_count": 84,
   "metadata": {},
   "outputs": [
    {
     "data": {
      "text/html": [
       "<div>\n",
       "<style scoped>\n",
       "    .dataframe tbody tr th:only-of-type {\n",
       "        vertical-align: middle;\n",
       "    }\n",
       "\n",
       "    .dataframe tbody tr th {\n",
       "        vertical-align: top;\n",
       "    }\n",
       "\n",
       "    .dataframe thead th {\n",
       "        text-align: right;\n",
       "    }\n",
       "</style>\n",
       "<table border=\"1\" class=\"dataframe\">\n",
       "  <thead>\n",
       "    <tr style=\"text-align: right;\">\n",
       "      <th></th>\n",
       "      <th>usgs</th>\n",
       "      <th>site_no</th>\n",
       "      <th>date</th>\n",
       "      <th>tidal_high</th>\n",
       "      <th>tidal_low</th>\n",
       "      <th>precipitation_inches</th>\n",
       "      <th>lat</th>\n",
       "      <th>long</th>\n",
       "    </tr>\n",
       "  </thead>\n",
       "  <tbody>\n",
       "  </tbody>\n",
       "</table>\n",
       "</div>"
      ],
      "text/plain": [
       "Empty DataFrame\n",
       "Columns: [usgs, site_no, date, tidal_high, tidal_low, precipitation_inches, lat, long]\n",
       "Index: []"
      ]
     },
     "execution_count": 84,
     "metadata": {},
     "output_type": "execute_result"
    }
   ],
   "source": [
    "# This should show an empty set\n",
    "nans(dataset)"
   ]
  },
  {
   "cell_type": "code",
   "execution_count": 85,
   "metadata": {},
   "outputs": [
    {
     "data": {
      "text/html": [
       "<div>\n",
       "<style scoped>\n",
       "    .dataframe tbody tr th:only-of-type {\n",
       "        vertical-align: middle;\n",
       "    }\n",
       "\n",
       "    .dataframe tbody tr th {\n",
       "        vertical-align: top;\n",
       "    }\n",
       "\n",
       "    .dataframe thead th {\n",
       "        text-align: right;\n",
       "    }\n",
       "</style>\n",
       "<table border=\"1\" class=\"dataframe\">\n",
       "  <thead>\n",
       "    <tr style=\"text-align: right;\">\n",
       "      <th></th>\n",
       "      <th>usgs</th>\n",
       "      <th>site_no</th>\n",
       "      <th>date</th>\n",
       "      <th>tidal_high</th>\n",
       "      <th>tidal_low</th>\n",
       "      <th>precipitation_inches</th>\n",
       "      <th>lat</th>\n",
       "      <th>long</th>\n",
       "    </tr>\n",
       "  </thead>\n",
       "  <tbody>\n",
       "  </tbody>\n",
       "</table>\n",
       "</div>"
      ],
      "text/plain": [
       "Empty DataFrame\n",
       "Columns: [usgs, site_no, date, tidal_high, tidal_low, precipitation_inches, lat, long]\n",
       "Index: []"
      ]
     },
     "execution_count": 85,
     "metadata": {},
     "output_type": "execute_result"
    }
   ],
   "source": [
    "dataset.dropna(inplace=True)\n",
    "nans(dataset)"
   ]
  },
  {
   "cell_type": "code",
   "execution_count": 86,
   "metadata": {},
   "outputs": [
    {
     "data": {
      "text/plain": [
       "(9875, 8)"
      ]
     },
     "execution_count": 86,
     "metadata": {},
     "output_type": "execute_result"
    }
   ],
   "source": [
    "dataset.shape\n",
    "#dataset.head()"
   ]
  },
  {
   "cell_type": "markdown",
   "metadata": {},
   "source": [
    "## column/feature cleanup\n",
    "\n",
    "The columns for source of data, USGS vs GS is not needed.  We only care about water levels, not the source of the sensor reading.  Likewise, the site number column is unneeded.  The tidal_low is not of particlar interest since we are focusing on high water mark and not low mark.  The original greenstream data did not have a low tidal level anyway.  \n",
    "\n",
    "The result is that a tidal high column and a regular water level from a Greenstream level mark have already been merged/pitch matched."
   ]
  },
  {
   "cell_type": "code",
   "execution_count": 87,
   "metadata": {},
   "outputs": [
    {
     "data": {
      "text/html": [
       "<div>\n",
       "<style scoped>\n",
       "    .dataframe tbody tr th:only-of-type {\n",
       "        vertical-align: middle;\n",
       "    }\n",
       "\n",
       "    .dataframe tbody tr th {\n",
       "        vertical-align: top;\n",
       "    }\n",
       "\n",
       "    .dataframe thead th {\n",
       "        text-align: right;\n",
       "    }\n",
       "</style>\n",
       "<table border=\"1\" class=\"dataframe\">\n",
       "  <thead>\n",
       "    <tr style=\"text-align: right;\">\n",
       "      <th></th>\n",
       "      <th>date</th>\n",
       "      <th>tidal_high</th>\n",
       "      <th>tidal_low</th>\n",
       "      <th>precipitation_inches</th>\n",
       "      <th>lat</th>\n",
       "      <th>long</th>\n",
       "    </tr>\n",
       "  </thead>\n",
       "  <tbody>\n",
       "    <tr>\n",
       "      <th>0</th>\n",
       "      <td>2019-03-08</td>\n",
       "      <td>-6.791339</td>\n",
       "      <td>-6.725722</td>\n",
       "      <td>0.117</td>\n",
       "      <td>36.735303</td>\n",
       "      <td>-76.011602</td>\n",
       "    </tr>\n",
       "    <tr>\n",
       "      <th>1</th>\n",
       "      <td>2019-03-19</td>\n",
       "      <td>-6.856955</td>\n",
       "      <td>-6.758530</td>\n",
       "      <td>0.117</td>\n",
       "      <td>36.735303</td>\n",
       "      <td>-76.011602</td>\n",
       "    </tr>\n",
       "    <tr>\n",
       "      <th>2</th>\n",
       "      <td>2019-02-21</td>\n",
       "      <td>1.935696</td>\n",
       "      <td>2.132546</td>\n",
       "      <td>0.117</td>\n",
       "      <td>36.735303</td>\n",
       "      <td>-76.011602</td>\n",
       "    </tr>\n",
       "    <tr>\n",
       "      <th>3</th>\n",
       "      <td>2019-03-11</td>\n",
       "      <td>-6.660105</td>\n",
       "      <td>-6.430446</td>\n",
       "      <td>0.117</td>\n",
       "      <td>36.735303</td>\n",
       "      <td>-76.011602</td>\n",
       "    </tr>\n",
       "    <tr>\n",
       "      <th>4</th>\n",
       "      <td>2019-04-04</td>\n",
       "      <td>1.902887</td>\n",
       "      <td>2.066929</td>\n",
       "      <td>0.117</td>\n",
       "      <td>36.735303</td>\n",
       "      <td>-76.011602</td>\n",
       "    </tr>\n",
       "  </tbody>\n",
       "</table>\n",
       "</div>"
      ],
      "text/plain": [
       "        date  tidal_high  tidal_low  precipitation_inches        lat  \\\n",
       "0 2019-03-08   -6.791339  -6.725722                 0.117  36.735303   \n",
       "1 2019-03-19   -6.856955  -6.758530                 0.117  36.735303   \n",
       "2 2019-02-21    1.935696   2.132546                 0.117  36.735303   \n",
       "3 2019-03-11   -6.660105  -6.430446                 0.117  36.735303   \n",
       "4 2019-04-04    1.902887   2.066929                 0.117  36.735303   \n",
       "\n",
       "        long  \n",
       "0 -76.011602  \n",
       "1 -76.011602  \n",
       "2 -76.011602  \n",
       "3 -76.011602  \n",
       "4 -76.011602  "
      ]
     },
     "execution_count": 87,
     "metadata": {},
     "output_type": "execute_result"
    }
   ],
   "source": [
    "# drop any columns which we will not use\n",
    "#dataset.drop(['usgs','tidal_low','site_no'], axis=1, inplace=True)\n",
    "dataset.drop(['usgs','site_no'], axis=1, inplace=True)\n",
    "dataset.head()"
   ]
  },
  {
   "cell_type": "code",
   "execution_count": null,
   "metadata": {},
   "outputs": [],
   "source": []
  },
  {
   "cell_type": "markdown",
   "metadata": {},
   "source": [
    "# Create new columns for year, month, day from the date column"
   ]
  },
  {
   "cell_type": "code",
   "execution_count": 88,
   "metadata": {},
   "outputs": [],
   "source": [
    "def create_ymd_cols(df, column):\n",
    "    df[column + \"_year\"] = df[column].apply(lambda x: x.year)\n",
    "    df[column + \"_month\"] = df[column].apply(lambda x: x.month)\n",
    "    df[column + \"_day\"] = df[column].apply(lambda x: x.day)\n",
    "    \n",
    "create_ymd_cols(dataset, 'date')"
   ]
  },
  {
   "cell_type": "code",
   "execution_count": 89,
   "metadata": {},
   "outputs": [
    {
     "data": {
      "text/html": [
       "<div>\n",
       "<style scoped>\n",
       "    .dataframe tbody tr th:only-of-type {\n",
       "        vertical-align: middle;\n",
       "    }\n",
       "\n",
       "    .dataframe tbody tr th {\n",
       "        vertical-align: top;\n",
       "    }\n",
       "\n",
       "    .dataframe thead th {\n",
       "        text-align: right;\n",
       "    }\n",
       "</style>\n",
       "<table border=\"1\" class=\"dataframe\">\n",
       "  <thead>\n",
       "    <tr style=\"text-align: right;\">\n",
       "      <th></th>\n",
       "      <th>date</th>\n",
       "      <th>tidal_high</th>\n",
       "      <th>tidal_low</th>\n",
       "      <th>precipitation_inches</th>\n",
       "      <th>lat</th>\n",
       "      <th>long</th>\n",
       "      <th>date_year</th>\n",
       "      <th>date_month</th>\n",
       "      <th>date_day</th>\n",
       "    </tr>\n",
       "  </thead>\n",
       "  <tbody>\n",
       "    <tr>\n",
       "      <th>0</th>\n",
       "      <td>2019-03-08</td>\n",
       "      <td>-6.791339</td>\n",
       "      <td>-6.725722</td>\n",
       "      <td>0.117</td>\n",
       "      <td>36.735303</td>\n",
       "      <td>-76.011602</td>\n",
       "      <td>2019</td>\n",
       "      <td>3</td>\n",
       "      <td>8</td>\n",
       "    </tr>\n",
       "    <tr>\n",
       "      <th>1</th>\n",
       "      <td>2019-03-19</td>\n",
       "      <td>-6.856955</td>\n",
       "      <td>-6.758530</td>\n",
       "      <td>0.117</td>\n",
       "      <td>36.735303</td>\n",
       "      <td>-76.011602</td>\n",
       "      <td>2019</td>\n",
       "      <td>3</td>\n",
       "      <td>19</td>\n",
       "    </tr>\n",
       "    <tr>\n",
       "      <th>2</th>\n",
       "      <td>2019-02-21</td>\n",
       "      <td>1.935696</td>\n",
       "      <td>2.132546</td>\n",
       "      <td>0.117</td>\n",
       "      <td>36.735303</td>\n",
       "      <td>-76.011602</td>\n",
       "      <td>2019</td>\n",
       "      <td>2</td>\n",
       "      <td>21</td>\n",
       "    </tr>\n",
       "    <tr>\n",
       "      <th>3</th>\n",
       "      <td>2019-03-11</td>\n",
       "      <td>-6.660105</td>\n",
       "      <td>-6.430446</td>\n",
       "      <td>0.117</td>\n",
       "      <td>36.735303</td>\n",
       "      <td>-76.011602</td>\n",
       "      <td>2019</td>\n",
       "      <td>3</td>\n",
       "      <td>11</td>\n",
       "    </tr>\n",
       "    <tr>\n",
       "      <th>4</th>\n",
       "      <td>2019-04-04</td>\n",
       "      <td>1.902887</td>\n",
       "      <td>2.066929</td>\n",
       "      <td>0.117</td>\n",
       "      <td>36.735303</td>\n",
       "      <td>-76.011602</td>\n",
       "      <td>2019</td>\n",
       "      <td>4</td>\n",
       "      <td>4</td>\n",
       "    </tr>\n",
       "  </tbody>\n",
       "</table>\n",
       "</div>"
      ],
      "text/plain": [
       "        date  tidal_high  tidal_low  precipitation_inches        lat  \\\n",
       "0 2019-03-08   -6.791339  -6.725722                 0.117  36.735303   \n",
       "1 2019-03-19   -6.856955  -6.758530                 0.117  36.735303   \n",
       "2 2019-02-21    1.935696   2.132546                 0.117  36.735303   \n",
       "3 2019-03-11   -6.660105  -6.430446                 0.117  36.735303   \n",
       "4 2019-04-04    1.902887   2.066929                 0.117  36.735303   \n",
       "\n",
       "        long  date_year  date_month  date_day  \n",
       "0 -76.011602       2019           3         8  \n",
       "1 -76.011602       2019           3        19  \n",
       "2 -76.011602       2019           2        21  \n",
       "3 -76.011602       2019           3        11  \n",
       "4 -76.011602       2019           4         4  "
      ]
     },
     "execution_count": 89,
     "metadata": {},
     "output_type": "execute_result"
    }
   ],
   "source": [
    "dataset.head()"
   ]
  },
  {
   "cell_type": "code",
   "execution_count": 90,
   "metadata": {},
   "outputs": [
    {
     "data": {
      "text/html": [
       "<div>\n",
       "<style scoped>\n",
       "    .dataframe tbody tr th:only-of-type {\n",
       "        vertical-align: middle;\n",
       "    }\n",
       "\n",
       "    .dataframe tbody tr th {\n",
       "        vertical-align: top;\n",
       "    }\n",
       "\n",
       "    .dataframe thead th {\n",
       "        text-align: right;\n",
       "    }\n",
       "</style>\n",
       "<table border=\"1\" class=\"dataframe\">\n",
       "  <thead>\n",
       "    <tr style=\"text-align: right;\">\n",
       "      <th></th>\n",
       "      <th>tidal_high</th>\n",
       "      <th>tidal_low</th>\n",
       "      <th>precipitation_inches</th>\n",
       "      <th>lat</th>\n",
       "      <th>long</th>\n",
       "      <th>date_year</th>\n",
       "      <th>date_month</th>\n",
       "      <th>date_day</th>\n",
       "    </tr>\n",
       "  </thead>\n",
       "  <tbody>\n",
       "    <tr>\n",
       "      <th>0</th>\n",
       "      <td>-6.791339</td>\n",
       "      <td>-6.725722</td>\n",
       "      <td>0.117</td>\n",
       "      <td>36.735303</td>\n",
       "      <td>-76.011602</td>\n",
       "      <td>2019</td>\n",
       "      <td>3</td>\n",
       "      <td>8</td>\n",
       "    </tr>\n",
       "    <tr>\n",
       "      <th>1</th>\n",
       "      <td>-6.856955</td>\n",
       "      <td>-6.758530</td>\n",
       "      <td>0.117</td>\n",
       "      <td>36.735303</td>\n",
       "      <td>-76.011602</td>\n",
       "      <td>2019</td>\n",
       "      <td>3</td>\n",
       "      <td>19</td>\n",
       "    </tr>\n",
       "    <tr>\n",
       "      <th>2</th>\n",
       "      <td>1.935696</td>\n",
       "      <td>2.132546</td>\n",
       "      <td>0.117</td>\n",
       "      <td>36.735303</td>\n",
       "      <td>-76.011602</td>\n",
       "      <td>2019</td>\n",
       "      <td>2</td>\n",
       "      <td>21</td>\n",
       "    </tr>\n",
       "    <tr>\n",
       "      <th>3</th>\n",
       "      <td>-6.660105</td>\n",
       "      <td>-6.430446</td>\n",
       "      <td>0.117</td>\n",
       "      <td>36.735303</td>\n",
       "      <td>-76.011602</td>\n",
       "      <td>2019</td>\n",
       "      <td>3</td>\n",
       "      <td>11</td>\n",
       "    </tr>\n",
       "    <tr>\n",
       "      <th>4</th>\n",
       "      <td>1.902887</td>\n",
       "      <td>2.066929</td>\n",
       "      <td>0.117</td>\n",
       "      <td>36.735303</td>\n",
       "      <td>-76.011602</td>\n",
       "      <td>2019</td>\n",
       "      <td>4</td>\n",
       "      <td>4</td>\n",
       "    </tr>\n",
       "  </tbody>\n",
       "</table>\n",
       "</div>"
      ],
      "text/plain": [
       "   tidal_high  tidal_low  precipitation_inches        lat       long  \\\n",
       "0   -6.791339  -6.725722                 0.117  36.735303 -76.011602   \n",
       "1   -6.856955  -6.758530                 0.117  36.735303 -76.011602   \n",
       "2    1.935696   2.132546                 0.117  36.735303 -76.011602   \n",
       "3   -6.660105  -6.430446                 0.117  36.735303 -76.011602   \n",
       "4    1.902887   2.066929                 0.117  36.735303 -76.011602   \n",
       "\n",
       "   date_year  date_month  date_day  \n",
       "0       2019           3         8  \n",
       "1       2019           3        19  \n",
       "2       2019           2        21  \n",
       "3       2019           3        11  \n",
       "4       2019           4         4  "
      ]
     },
     "execution_count": 90,
     "metadata": {},
     "output_type": "execute_result"
    }
   ],
   "source": [
    "# remove the date column\n",
    "dataset.pop('date')\n",
    "dataset.head()"
   ]
  },
  {
   "cell_type": "code",
   "execution_count": null,
   "metadata": {},
   "outputs": [],
   "source": []
  },
  {
   "cell_type": "code",
   "execution_count": null,
   "metadata": {},
   "outputs": [],
   "source": []
  },
  {
   "cell_type": "code",
   "execution_count": null,
   "metadata": {},
   "outputs": [],
   "source": []
  },
  {
   "cell_type": "code",
   "execution_count": 91,
   "metadata": {},
   "outputs": [],
   "source": [
    "train_ds = dataset.sample(frac=0.7,random_state=3367)\n",
    "leftover_ds = dataset.drop(train_ds.index)\n",
    "test_ds = leftover_ds.sample(frac=0.5, random_state=3367)\n",
    "valid_ds = leftover_ds.drop(test_ds.index)"
   ]
  },
  {
   "cell_type": "code",
   "execution_count": 92,
   "metadata": {},
   "outputs": [],
   "source": [
    "# Create seperate series/dataframe? for labels\n",
    "# Remove the label from the dataframes.\n",
    "\n",
    "# TODO: Why drop this?\n",
    "# TODO: also the normalized data should be 0-1. why do we have \n",
    "# 1.0+ values.\n",
    "#train_labels = train_ds.pop('tidal_high')\n",
    "#test_labels = test_ds.pop('tidal_high')\n",
    "#valid_labels = valid_ds.pop('tidal_high')"
   ]
  },
  {
   "cell_type": "markdown",
   "metadata": {},
   "source": [
    "# Normalize the data"
   ]
  },
  {
   "cell_type": "code",
   "execution_count": 93,
   "metadata": {},
   "outputs": [],
   "source": [
    "# use only the training data to get mean and std \n",
    "# which we can use to norm all datasets\n",
    "train_stats_df = train_ds.copy()\n",
    "train_stats = train_stats_df.describe().transpose()\n"
   ]
  },
  {
   "cell_type": "code",
   "execution_count": 94,
   "metadata": {},
   "outputs": [],
   "source": [
    "def norm(a_df):\n",
    "    # Do the norm operation\n",
    "    normed_df = (a_df - train_stats['mean']) / train_stats['std']\n",
    "    return normed_df\n",
    "\n",
    "normed_train_ds = norm(train_ds)\n",
    "normed_test_ds = norm(test_ds)\n",
    "normed_valid_ds = norm(valid_ds)"
   ]
  },
  {
   "cell_type": "code",
   "execution_count": 95,
   "metadata": {},
   "outputs": [
    {
     "data": {
      "text/html": [
       "<div>\n",
       "<style scoped>\n",
       "    .dataframe tbody tr th:only-of-type {\n",
       "        vertical-align: middle;\n",
       "    }\n",
       "\n",
       "    .dataframe tbody tr th {\n",
       "        vertical-align: top;\n",
       "    }\n",
       "\n",
       "    .dataframe thead th {\n",
       "        text-align: right;\n",
       "    }\n",
       "</style>\n",
       "<table border=\"1\" class=\"dataframe\">\n",
       "  <thead>\n",
       "    <tr style=\"text-align: right;\">\n",
       "      <th></th>\n",
       "      <th>tidal_high</th>\n",
       "      <th>tidal_low</th>\n",
       "      <th>precipitation_inches</th>\n",
       "      <th>lat</th>\n",
       "      <th>long</th>\n",
       "      <th>date_year</th>\n",
       "      <th>date_month</th>\n",
       "      <th>date_day</th>\n",
       "    </tr>\n",
       "  </thead>\n",
       "  <tbody>\n",
       "    <tr>\n",
       "      <th>19</th>\n",
       "      <td>0.358801</td>\n",
       "      <td>2.125657</td>\n",
       "      <td>-0.031107</td>\n",
       "      <td>-0.869075</td>\n",
       "      <td>0.677893</td>\n",
       "      <td>1.540909</td>\n",
       "      <td>-1.467756</td>\n",
       "      <td>1.611953</td>\n",
       "    </tr>\n",
       "    <tr>\n",
       "      <th>21</th>\n",
       "      <td>0.786580</td>\n",
       "      <td>2.611873</td>\n",
       "      <td>-0.031107</td>\n",
       "      <td>-0.869075</td>\n",
       "      <td>0.677893</td>\n",
       "      <td>1.540909</td>\n",
       "      <td>-1.467756</td>\n",
       "      <td>-1.330050</td>\n",
       "    </tr>\n",
       "    <tr>\n",
       "      <th>24</th>\n",
       "      <td>-4.677316</td>\n",
       "      <td>-4.146537</td>\n",
       "      <td>-0.031107</td>\n",
       "      <td>-0.869075</td>\n",
       "      <td>0.677893</td>\n",
       "      <td>1.540909</td>\n",
       "      <td>-0.900735</td>\n",
       "      <td>-1.330050</td>\n",
       "    </tr>\n",
       "    <tr>\n",
       "      <th>25</th>\n",
       "      <td>-4.774539</td>\n",
       "      <td>-4.341023</td>\n",
       "      <td>-0.031107</td>\n",
       "      <td>-0.869075</td>\n",
       "      <td>0.677893</td>\n",
       "      <td>1.540909</td>\n",
       "      <td>-0.900735</td>\n",
       "      <td>0.480413</td>\n",
       "    </tr>\n",
       "    <tr>\n",
       "      <th>38</th>\n",
       "      <td>0.689357</td>\n",
       "      <td>2.514630</td>\n",
       "      <td>-0.031107</td>\n",
       "      <td>-0.869075</td>\n",
       "      <td>0.677893</td>\n",
       "      <td>1.540909</td>\n",
       "      <td>-1.467756</td>\n",
       "      <td>0.706721</td>\n",
       "    </tr>\n",
       "  </tbody>\n",
       "</table>\n",
       "</div>"
      ],
      "text/plain": [
       "    tidal_high  tidal_low  precipitation_inches       lat      long  \\\n",
       "19    0.358801   2.125657             -0.031107 -0.869075  0.677893   \n",
       "21    0.786580   2.611873             -0.031107 -0.869075  0.677893   \n",
       "24   -4.677316  -4.146537             -0.031107 -0.869075  0.677893   \n",
       "25   -4.774539  -4.341023             -0.031107 -0.869075  0.677893   \n",
       "38    0.689357   2.514630             -0.031107 -0.869075  0.677893   \n",
       "\n",
       "    date_year  date_month  date_day  \n",
       "19   1.540909   -1.467756  1.611953  \n",
       "21   1.540909   -1.467756 -1.330050  \n",
       "24   1.540909   -0.900735 -1.330050  \n",
       "25   1.540909   -0.900735  0.480413  \n",
       "38   1.540909   -1.467756  0.706721  "
      ]
     },
     "execution_count": 95,
     "metadata": {},
     "output_type": "execute_result"
    }
   ],
   "source": [
    "#normed_train_ds\n",
    "normed_valid_ds.head()"
   ]
  },
  {
   "cell_type": "markdown",
   "metadata": {},
   "source": [
    "# write the normalized datasets to disk"
   ]
  },
  {
   "cell_type": "markdown",
   "metadata": {},
   "source": []
  },
  {
   "cell_type": "code",
   "execution_count": 96,
   "metadata": {},
   "outputs": [],
   "source": [
    "normed_train_ds.to_csv(data_path + \"/\" + \"train.csv\", encoding='utf-8', index=False)\n",
    "normed_test_ds.to_csv(data_path + \"/\" + \"test.csv\", encoding=\"utf-8\", index=False)\n",
    "normed_valid_ds.to_csv(data_path + \"/\" + \"valid.csv\", encoding='utf-8', index=False)\n"
   ]
  },
  {
   "cell_type": "code",
   "execution_count": 97,
   "metadata": {},
   "outputs": [
    {
     "name": "stdout",
     "output_type": "stream",
     "text": [
      "/Users/davis/progs/github/Keras-Philosophy/data/valid.csv\n"
     ]
    }
   ],
   "source": [
    "print(data_path + \"/\" + \"valid.csv\")"
   ]
  },
  {
   "cell_type": "code",
   "execution_count": null,
   "metadata": {},
   "outputs": [],
   "source": []
  }
 ],
 "metadata": {
  "kernelspec": {
   "display_name": "Python 3",
   "language": "python",
   "name": "python3"
  },
  "language_info": {
   "codemirror_mode": {
    "name": "ipython",
    "version": 3
   },
   "file_extension": ".py",
   "mimetype": "text/x-python",
   "name": "python",
   "nbconvert_exporter": "python",
   "pygments_lexer": "ipython3",
   "version": "3.9.6"
  }
 },
 "nbformat": 4,
 "nbformat_minor": 2
}
