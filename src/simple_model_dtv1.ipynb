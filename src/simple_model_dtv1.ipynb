{
 "cells": [
  {
   "cell_type": "markdown",
   "metadata": {},
   "source": [
    "# Define Train and Validate the models\n",
    "\n",
    "This notebook uses the csv from the data dir as input and builds, trains and predicts a model using keras."
   ]
  },
  {
   "cell_type": "code",
   "execution_count": 1,
   "metadata": {},
   "outputs": [],
   "source": [
    "#TODO:\n",
    "# Broke the model training when removed the logs.\n",
    "# sigh. put back\n",
    "\n",
    "\n",
    "\n",
    "#TODO\n",
    "# Get rid of all the tensorboard stuff for this simple demo\n",
    "# * rm logdir done\n",
    "# * rm callback done\n",
    "# * etc.\n",
    "#\n",
    "# Fix the fqpn and use relative? Will this break tensorboard? Cloud based environments?\n",
    "# How about where you don't have \"dirs\" like in watson and have assets instead?"
   ]
  },
  {
   "cell_type": "code",
   "execution_count": 2,
   "metadata": {},
   "outputs": [],
   "source": [
    "from pathlib import Path\n",
    "\n",
    "import matplotlib.pyplot as plt\n",
    "import pandas as pd\n",
    "import seaborn as sns\n",
    "import os\n",
    "import os.path\n",
    "\n",
    "\n",
    "import tensorflow as tf\n",
    "from tensorflow import keras\n",
    "from tensorflow.keras import layers"
   ]
  },
  {
   "cell_type": "code",
   "execution_count": 3,
   "metadata": {},
   "outputs": [
    {
     "name": "stdout",
     "output_type": "stream",
     "text": [
      "2.13.0\n"
     ]
    }
   ],
   "source": [
    "print(tf.__version__)"
   ]
  },
  {
   "cell_type": "code",
   "execution_count": 8,
   "metadata": {},
   "outputs": [
    {
     "name": "stdout",
     "output_type": "stream",
     "text": [
      "current directory is : /Users/davis/progs/github/Keras-Philosophy/src\n"
     ]
    }
   ],
   "source": [
    "# The current directory will be where this src file is located.\n",
    "# Which is in the src dir of the project\n",
    "dirpath = os.getcwd()\n",
    "print(\"current directory is : \" + dirpath)"
   ]
  },
  {
   "cell_type": "code",
   "execution_count": 9,
   "metadata": {},
   "outputs": [
    {
     "name": "stdout",
     "output_type": "stream",
     "text": [
      "parent directory is : /Users/davis/progs/github/Keras-Philosophy\n"
     ]
    }
   ],
   "source": [
    "root_path = os.path.dirname(dirpath)\n",
    "print(\"parent directory is : \" + root_path)"
   ]
  },
  {
   "cell_type": "code",
   "execution_count": 10,
   "metadata": {},
   "outputs": [
    {
     "name": "stdout",
     "output_type": "stream",
     "text": [
      "data_path is : /Users/davis/progs/github/Keras-Philosophy/data\n"
     ]
    }
   ],
   "source": [
    "data_path = root_path + \"/data\"\n",
    "print(\"data_path is : \" + data_path)"
   ]
  },
  {
   "cell_type": "code",
   "execution_count": 11,
   "metadata": {},
   "outputs": [
    {
     "name": "stdout",
     "output_type": "stream",
     "text": [
      "log direcotry is: /Users/davis/progs/github/Keras-Philosophy/logs/\n"
     ]
    }
   ],
   "source": [
    "log_path = root_path + \"/logs/\"\n",
    "# logs needs to be used by the shell commands also\n",
    "os.environ['LOG_DIR_NAME'] = log_path\n",
    "\n",
    "print(\"log direcotry is: \" + log_path)"
   ]
  },
  {
   "cell_type": "code",
   "execution_count": 13,
   "metadata": {},
   "outputs": [
    {
     "name": "stdout",
     "output_type": "stream",
     "text": [
      "LOG_DIR_NAME: /Users/davis/progs/github/Keras-Philosophy/logs/\n"
     ]
    }
   ],
   "source": [
    "%%bash\n",
    "echo \"LOG_DIR_NAME: ${LOG_DIR_NAME}\""
   ]
  },
  {
   "cell_type": "code",
   "execution_count": 14,
   "metadata": {},
   "outputs": [],
   "source": [
    "train_csv = data_path + \"/train.csv\"\n",
    "test_csv = data_path + \"/test.csv\"\n",
    "valid_csv = data_path + \"/valid.csv\""
   ]
  },
  {
   "cell_type": "markdown",
   "metadata": {},
   "source": [
    "# Read the dataframes using pandas"
   ]
  },
  {
   "cell_type": "code",
   "execution_count": 17,
   "metadata": {},
   "outputs": [],
   "source": [
    "# Read the csv files into dataframes\n",
    "normed_train_df = pd.read_csv(train_csv, \n",
    "                          header=0,\n",
    "                          sep=\",\")\n",
    "normed_valid_df = pd.read_csv(valid_csv, \n",
    "                          header=0,\n",
    "                          sep=\",\")\n",
    "normed_test_df = pd.read_csv(test_csv, \n",
    "                          header=0,\n",
    "                          sep=\",\")"
   ]
  },
  {
   "cell_type": "code",
   "execution_count": 18,
   "metadata": {},
   "outputs": [],
   "source": [
    "# Create vectors of the training labels\n",
    "# assumes Y label is called z\n",
    "# \n",
    "train_labels = normed_train_df.pop('z')\n",
    "test_labels = normed_test_df.pop('z')\n",
    "valid_labels = normed_valid_df.pop('z')"
   ]
  },
  {
   "cell_type": "code",
   "execution_count": 20,
   "metadata": {},
   "outputs": [
    {
     "data": {
      "text/plain": [
       "0      10.0\n",
       "1      10.0\n",
       "2      10.0\n",
       "3      10.0\n",
       "4      10.0\n",
       "       ... \n",
       "625    10.0\n",
       "626    10.0\n",
       "627    10.0\n",
       "628    10.0\n",
       "629    10.0\n",
       "Name: z, Length: 630, dtype: float64"
      ]
     },
     "execution_count": 20,
     "metadata": {},
     "output_type": "execute_result"
    }
   ],
   "source": [
    "train_labels"
   ]
  },
  {
   "cell_type": "code",
   "execution_count": 21,
   "metadata": {},
   "outputs": [
    {
     "data": {
      "text/plain": [
       "Index(['x', 'y'], dtype='object')"
      ]
     },
     "execution_count": 21,
     "metadata": {},
     "output_type": "execute_result"
    }
   ],
   "source": [
    "normed_train_df.keys()"
   ]
  },
  {
   "cell_type": "markdown",
   "metadata": {},
   "source": [
    "# Build the model"
   ]
  },
  {
   "cell_type": "code",
   "execution_count": 23,
   "metadata": {},
   "outputs": [
    {
     "name": "stderr",
     "output_type": "stream",
     "text": [
      "WARNING:absl:At this time, the v2.11+ optimizer `tf.keras.optimizers.RMSprop` runs slowly on M1/M2 Macs, please use the legacy Keras optimizer instead, located at `tf.keras.optimizers.legacy.RMSprop`.\n",
      "WARNING:absl:There is a known slowdown when using v2.11+ Keras optimizers on M1/M2 Macs. Falling back to the legacy Keras optimizer, i.e., `tf.keras.optimizers.legacy.RMSprop`.\n"
     ]
    }
   ],
   "source": [
    "# train_ds determines the input feature size\n",
    "\n",
    "\n",
    "# Build a 2 layer 64 node DNN\n",
    "#model = keras.Sequential([\n",
    "#    layers.Dense(64, activation=tf.nn.relu, input_shape=[len(normed_train_ds.keys())]),\n",
    "#    layers.Dense(64, activation=tf.nn.relu),\n",
    "#    layers.Dense(1)\n",
    "#    ])\n",
    "\n",
    "# Build a 3 layer 64, 16, 4 node DNN\n",
    "#model = keras.Sequential([\n",
    "#    layers.Dense(64, activation=tf.nn.relu, input_shape=[len(normed_train_ds.keys())]),\n",
    "#    layers.Dense(16, activation=tf.nn.relu),\n",
    "#    layers.Dense(4, activation=tf.nn.relu),\n",
    "#    layers.Dense(1)\n",
    "#    ])\n",
    "\n",
    "\n",
    "# Build a 2 layer 16, 4 node DNN\n",
    "model = keras.Sequential([\n",
    "    layers.Dense(16, activation=tf.nn.relu, input_shape=[len(normed_train_df.keys())]),\n",
    "    layers.Dense(4, activation=tf.nn.relu),\n",
    "    layers.Dense(1)\n",
    "    ])\n",
    "\n",
    "\n",
    "\n",
    "\n",
    "# Create a 1 layer 12 node DNN\n",
    "#model = keras.Sequential([\n",
    "#    layers.Dense(12, activation=tf.nn.relu, input_shape=[len(normed_train_ds.keys())]),\n",
    "#    layers.Dense(1)\n",
    "#    ])\n",
    "\n",
    "\n",
    "\n",
    "# orig\n",
    "#optimizer = tf.keras.optimizers.RMSprop(0.001)\n",
    "# increase learning rate if fairly consistent but slow changing\n",
    "#optimizer = tf.keras.optimizers.RMSprop(0.01)\n",
    "# 0.1 is too big\n",
    "#optimizer = tf.keras.optimizers.RMSprop(0.1)\n",
    "# with the early stop, lets try to make the learning rate smaller\n",
    "optimizer = tf.keras.optimizers.RMSprop(0.0001)\n",
    "\n",
    "# Add in the early stop code\n",
    "# The patience parameter is the amount of epochs to check for improvement\n",
    "#\n",
    "# NOTE: This was a good addition.  I'm so used to running through a lot of steps\n",
    "# I did not realize that it was finding its best results so early.  In the \n",
    "# graphs that follows, you can see the divergent graphs here where the others\n",
    "# did not show it since it was hundreds of epochs past optimal.\n",
    "early_stop = keras.callbacks.EarlyStopping(monitor='val_loss', patience=10)\n",
    "\n",
    "\n",
    "\n",
    "model.compile(loss='mean_squared_error',\n",
    "              optimizer=optimizer,\n",
    "              metrics=['mean_absolute_error', 'mean_squared_error'])\n"
   ]
  },
  {
   "cell_type": "markdown",
   "metadata": {},
   "source": [
    "# Train the model (with three callbacks)"
   ]
  },
  {
   "cell_type": "code",
   "execution_count": 27,
   "metadata": {},
   "outputs": [],
   "source": [
    "EPOCHS = 1000"
   ]
  },
  {
   "cell_type": "code",
   "execution_count": 28,
   "metadata": {},
   "outputs": [],
   "source": [
    "# Display training progress by printing a single dot for each completed epoch\n",
    "class PrintDot(keras.callbacks.Callback):\n",
    "  def on_epoch_end(self, epoch, logs):\n",
    "    if epoch % 100 == 0: print('')\n",
    "    print('.', end='')"
   ]
  },
  {
   "cell_type": "code",
   "execution_count": 29,
   "metadata": {},
   "outputs": [
    {
     "name": "stdout",
     "output_type": "stream",
     "text": [
      "\n",
      "....................................................................................................\n",
      "....................................................................................................\n",
      ".............................................................................................."
     ]
    }
   ],
   "source": [
    "#                    batch_size=16,\n",
    "\n",
    "history = model.fit(normed_train_df, \n",
    "                    train_labels,\n",
    "                    epochs=EPOCHS,\n",
    "                    validation_data = (normed_valid_df, valid_labels),\n",
    "                    verbose=0,\n",
    "                    callbacks=[early_stop, PrintDot()])"
   ]
  },
  {
   "cell_type": "code",
   "execution_count": 30,
   "metadata": {},
   "outputs": [],
   "source": [
    "# TODO:\n",
    "# I broke the history plots"
   ]
  },
  {
   "cell_type": "code",
   "execution_count": 31,
   "metadata": {},
   "outputs": [
    {
     "data": {
      "image/png": "[encoded data removed]",
      "text/plain": [
       "<Figure size 640x480 with 1 Axes>"
      ]
     },
     "metadata": {},
     "output_type": "display_data"
    },
    {
     "data": {
      "image/png": "[encoded data removed]",
      "text/plain": [
       "<Figure size 640x480 with 1 Axes>"
      ]
     },
     "metadata": {},
     "output_type": "display_data"
    },
    {
     "data": {
      "image/png": "[encoded data removed]",
      "text/plain": [
       "<Figure size 640x480 with 1 Axes>"
      ]
     },
     "metadata": {},
     "output_type": "display_data"
    }
   ],
   "source": [
    "def plot_history(history):\n",
    "    hist = pd.DataFrame(history.history)\n",
    "    hist['epoch'] = history.epoch\n",
    "\n",
    "\n",
    "    plt.figure()\n",
    "    plt.xlabel('Epoch')\n",
    "    plt.ylabel('Epoch Loss [z]')\n",
    "    plt.plot(hist['epoch'], hist['loss'],label='Train Loss')\n",
    "    plt.plot(hist['epoch'], hist['val_loss'],label = 'Val Loss')\n",
    "    plt.ylim([0,3])\n",
    "    plt.legend()\n",
    "\n",
    "\n",
    "    plt.figure()\n",
    "    plt.xlabel('Epoch')\n",
    "    plt.ylabel('Mean Abs Error [z]')\n",
    "    plt.plot(hist['epoch'], hist['mean_absolute_error'],label='Train Error')\n",
    "    plt.plot(hist['epoch'], hist['val_mean_absolute_error'],label = 'Val Error')\n",
    "    plt.ylim([0,1])\n",
    "    plt.legend()\n",
    "\n",
    "    plt.figure()\n",
    "    plt.xlabel('Epoch')\n",
    "    plt.ylabel('Mean Square Error [$z^2$]')\n",
    "    plt.plot(hist['epoch'], hist['mean_squared_error'],label='Train Error')\n",
    "    plt.plot(hist['epoch'], hist['val_mean_squared_error'],label = 'Val Error')\n",
    "    plt.ylim([0,3])\n",
    "    plt.legend()\n",
    "    plt.show()\n",
    "\n",
    "\n",
    "plot_history(history)"
   ]
  },
  {
   "cell_type": "code",
   "execution_count": 32,
   "metadata": {},
   "outputs": [],
   "source": [
    "hist = pd.DataFrame(history.history)\n",
    "hist['epoch'] = history.epoch"
   ]
  },
  {
   "cell_type": "code",
   "execution_count": 33,
   "metadata": {},
   "outputs": [
    {
     "data": {
      "text/html": [
       "<div>\n",
       "<style scoped>\n",
       "    .dataframe tbody tr th:only-of-type {\n",
       "        vertical-align: middle;\n",
       "    }\n",
       "\n",
       "    .dataframe tbody tr th {\n",
       "        vertical-align: top;\n",
       "    }\n",
       "\n",
       "    .dataframe thead th {\n",
       "        text-align: right;\n",
       "    }\n",
       "</style>\n",
       "<table border=\"1\" class=\"dataframe\">\n",
       "  <thead>\n",
       "    <tr style=\"text-align: right;\">\n",
       "      <th></th>\n",
       "      <th>loss</th>\n",
       "      <th>mean_absolute_error</th>\n",
       "      <th>mean_squared_error</th>\n",
       "      <th>val_loss</th>\n",
       "      <th>val_mean_absolute_error</th>\n",
       "      <th>val_mean_squared_error</th>\n",
       "      <th>epoch</th>\n",
       "    </tr>\n",
       "  </thead>\n",
       "  <tbody>\n",
       "    <tr>\n",
       "      <th>0</th>\n",
       "      <td>82.512802</td>\n",
       "      <td>9.033771</td>\n",
       "      <td>82.512802</td>\n",
       "      <td>82.438187</td>\n",
       "      <td>9.026906</td>\n",
       "      <td>82.438187</td>\n",
       "      <td>0</td>\n",
       "    </tr>\n",
       "    <tr>\n",
       "      <th>1</th>\n",
       "      <td>80.952774</td>\n",
       "      <td>8.943842</td>\n",
       "      <td>80.952774</td>\n",
       "      <td>81.030312</td>\n",
       "      <td>8.945762</td>\n",
       "      <td>81.030312</td>\n",
       "      <td>1</td>\n",
       "    </tr>\n",
       "    <tr>\n",
       "      <th>2</th>\n",
       "      <td>79.568680</td>\n",
       "      <td>8.863180</td>\n",
       "      <td>79.568680</td>\n",
       "      <td>79.582321</td>\n",
       "      <td>8.862099</td>\n",
       "      <td>79.582321</td>\n",
       "      <td>2</td>\n",
       "    </tr>\n",
       "    <tr>\n",
       "      <th>3</th>\n",
       "      <td>78.186264</td>\n",
       "      <td>8.781839</td>\n",
       "      <td>78.186264</td>\n",
       "      <td>78.050224</td>\n",
       "      <td>8.773123</td>\n",
       "      <td>78.050224</td>\n",
       "      <td>3</td>\n",
       "    </tr>\n",
       "    <tr>\n",
       "      <th>4</th>\n",
       "      <td>76.781967</td>\n",
       "      <td>8.698385</td>\n",
       "      <td>76.781967</td>\n",
       "      <td>76.552475</td>\n",
       "      <td>8.685013</td>\n",
       "      <td>76.552475</td>\n",
       "      <td>4</td>\n",
       "    </tr>\n",
       "    <tr>\n",
       "      <th>...</th>\n",
       "      <td>...</td>\n",
       "      <td>...</td>\n",
       "      <td>...</td>\n",
       "      <td>...</td>\n",
       "      <td>...</td>\n",
       "      <td>...</td>\n",
       "      <td>...</td>\n",
       "    </tr>\n",
       "    <tr>\n",
       "      <th>289</th>\n",
       "      <td>0.000032</td>\n",
       "      <td>0.004878</td>\n",
       "      <td>0.000032</td>\n",
       "      <td>0.000013</td>\n",
       "      <td>0.002627</td>\n",
       "      <td>0.000013</td>\n",
       "      <td>289</td>\n",
       "    </tr>\n",
       "    <tr>\n",
       "      <th>290</th>\n",
       "      <td>0.000027</td>\n",
       "      <td>0.004443</td>\n",
       "      <td>0.000027</td>\n",
       "      <td>0.000041</td>\n",
       "      <td>0.005821</td>\n",
       "      <td>0.000041</td>\n",
       "      <td>290</td>\n",
       "    </tr>\n",
       "    <tr>\n",
       "      <th>291</th>\n",
       "      <td>0.000035</td>\n",
       "      <td>0.004953</td>\n",
       "      <td>0.000035</td>\n",
       "      <td>0.000036</td>\n",
       "      <td>0.005555</td>\n",
       "      <td>0.000036</td>\n",
       "      <td>291</td>\n",
       "    </tr>\n",
       "    <tr>\n",
       "      <th>292</th>\n",
       "      <td>0.000025</td>\n",
       "      <td>0.004084</td>\n",
       "      <td>0.000025</td>\n",
       "      <td>0.000038</td>\n",
       "      <td>0.005666</td>\n",
       "      <td>0.000038</td>\n",
       "      <td>292</td>\n",
       "    </tr>\n",
       "    <tr>\n",
       "      <th>293</th>\n",
       "      <td>0.000026</td>\n",
       "      <td>0.003689</td>\n",
       "      <td>0.000026</td>\n",
       "      <td>0.000013</td>\n",
       "      <td>0.002771</td>\n",
       "      <td>0.000013</td>\n",
       "      <td>293</td>\n",
       "    </tr>\n",
       "  </tbody>\n",
       "</table>\n",
       "<p>294 rows × 7 columns</p>\n",
       "</div>"
      ],
      "text/plain": [
       "          loss  mean_absolute_error  mean_squared_error   val_loss  \\\n",
       "0    82.512802             9.033771           82.512802  82.438187   \n",
       "1    80.952774             8.943842           80.952774  81.030312   \n",
       "2    79.568680             8.863180           79.568680  79.582321   \n",
       "3    78.186264             8.781839           78.186264  78.050224   \n",
       "4    76.781967             8.698385           76.781967  76.552475   \n",
       "..         ...                  ...                 ...        ...   \n",
       "289   0.000032             0.004878            0.000032   0.000013   \n",
       "290   0.000027             0.004443            0.000027   0.000041   \n",
       "291   0.000035             0.004953            0.000035   0.000036   \n",
       "292   0.000025             0.004084            0.000025   0.000038   \n",
       "293   0.000026             0.003689            0.000026   0.000013   \n",
       "\n",
       "     val_mean_absolute_error  val_mean_squared_error  epoch  \n",
       "0                   9.026906               82.438187      0  \n",
       "1                   8.945762               81.030312      1  \n",
       "2                   8.862099               79.582321      2  \n",
       "3                   8.773123               78.050224      3  \n",
       "4                   8.685013               76.552475      4  \n",
       "..                       ...                     ...    ...  \n",
       "289                 0.002627                0.000013    289  \n",
       "290                 0.005821                0.000041    290  \n",
       "291                 0.005555                0.000036    291  \n",
       "292                 0.005666                0.000038    292  \n",
       "293                 0.002771                0.000013    293  \n",
       "\n",
       "[294 rows x 7 columns]"
      ]
     },
     "execution_count": 33,
     "metadata": {},
     "output_type": "execute_result"
    }
   ],
   "source": [
    "hist"
   ]
  },
  {
   "cell_type": "markdown",
   "metadata": {},
   "source": [
    "Now we are getting reasonable results.  Using a smaller learning rate, with an early stop callback."
   ]
  },
  {
   "cell_type": "markdown",
   "metadata": {},
   "source": [
    "# Evauate model\n",
    "Note by including the data with missing values and adding in average amounts increased the error."
   ]
  },
  {
   "cell_type": "code",
   "execution_count": 34,
   "metadata": {},
   "outputs": [
    {
     "name": "stdout",
     "output_type": "stream",
     "text": [
      "Testing set Mean Abs Error:  0.00 predicted xxt\n"
     ]
    }
   ],
   "source": [
    "loss, mae, mse = model.evaluate(normed_test_df, test_labels, verbose=0)\n",
    "\n",
    "print(\"Testing set Mean Abs Error: {:5.2f} predicted xxt\".format(mae))"
   ]
  },
  {
   "cell_type": "markdown",
   "metadata": {},
   "source": [
    "# Make predictions"
   ]
  },
  {
   "cell_type": "code",
   "execution_count": 35,
   "metadata": {},
   "outputs": [
    {
     "name": "stdout",
     "output_type": "stream",
     "text": [
      "5/5 [==============================] - 0s 565us/step\n"
     ]
    },
    {
     "data": {
      "image/png": "[encoded data removed]",
      "text/plain": [
       "<Figure size 640x480 with 1 Axes>"
      ]
     },
     "metadata": {},
     "output_type": "display_data"
    }
   ],
   "source": [
    "test_predictions = model.predict(normed_test_df).flatten()\n",
    "\n",
    "plt.scatter(test_labels, test_predictions)\n",
    "plt.xlabel('True Values [z]')\n",
    "plt.ylabel('Predictions [z]')\n",
    "plt.axis('equal')\n",
    "plt.axis('square')\n",
    "plt.xlim([0,plt.xlim()[1]])\n",
    "plt.ylim([0,plt.ylim()[1]])\n",
    "_ = plt.plot([-100, 100], [-100, 100])"
   ]
  },
  {
   "cell_type": "markdown",
   "metadata": {},
   "source": [
    "Look at error distribution"
   ]
  },
  {
   "cell_type": "code",
   "execution_count": 36,
   "metadata": {},
   "outputs": [
    {
     "data": {
      "image/png": "[encoded data removed]",
      "text/plain": [
       "<Figure size 640x480 with 1 Axes>"
      ]
     },
     "metadata": {},
     "output_type": "display_data"
    }
   ],
   "source": [
    "error = test_predictions - test_labels\n",
    "plt.hist(error, bins = 25)\n",
    "plt.xlabel(\"Prediction Error [z]\")\n",
    "_ = plt.ylabel(\"Count\")"
   ]
  },
  {
   "cell_type": "code",
   "execution_count": 39,
   "metadata": {},
   "outputs": [
    {
     "data": {
      "text/html": [
       "<div>\n",
       "<style scoped>\n",
       "    .dataframe tbody tr th:only-of-type {\n",
       "        vertical-align: middle;\n",
       "    }\n",
       "\n",
       "    .dataframe tbody tr th {\n",
       "        vertical-align: top;\n",
       "    }\n",
       "\n",
       "    .dataframe thead th {\n",
       "        text-align: right;\n",
       "    }\n",
       "</style>\n",
       "<table border=\"1\" class=\"dataframe\">\n",
       "  <thead>\n",
       "    <tr style=\"text-align: right;\">\n",
       "      <th></th>\n",
       "      <th>x</th>\n",
       "      <th>y</th>\n",
       "    </tr>\n",
       "  </thead>\n",
       "  <tbody>\n",
       "    <tr>\n",
       "      <th>0</th>\n",
       "      <td>4.240666</td>\n",
       "      <td>5.759334</td>\n",
       "    </tr>\n",
       "    <tr>\n",
       "      <th>1</th>\n",
       "      <td>8.501660</td>\n",
       "      <td>1.498340</td>\n",
       "    </tr>\n",
       "    <tr>\n",
       "      <th>2</th>\n",
       "      <td>2.501660</td>\n",
       "      <td>7.498340</td>\n",
       "    </tr>\n",
       "    <tr>\n",
       "      <th>3</th>\n",
       "      <td>9.204605</td>\n",
       "      <td>0.795395</td>\n",
       "    </tr>\n",
       "    <tr>\n",
       "      <th>4</th>\n",
       "      <td>3.204605</td>\n",
       "      <td>6.795395</td>\n",
       "    </tr>\n",
       "    <tr>\n",
       "      <th>...</th>\n",
       "      <td>...</td>\n",
       "      <td>...</td>\n",
       "    </tr>\n",
       "    <tr>\n",
       "      <th>130</th>\n",
       "      <td>7.100706</td>\n",
       "      <td>2.899294</td>\n",
       "    </tr>\n",
       "    <tr>\n",
       "      <th>131</th>\n",
       "      <td>4.649121</td>\n",
       "      <td>5.350879</td>\n",
       "    </tr>\n",
       "    <tr>\n",
       "      <th>132</th>\n",
       "      <td>5.406296</td>\n",
       "      <td>4.593704</td>\n",
       "    </tr>\n",
       "    <tr>\n",
       "      <th>133</th>\n",
       "      <td>4.406296</td>\n",
       "      <td>5.593704</td>\n",
       "    </tr>\n",
       "    <tr>\n",
       "      <th>134</th>\n",
       "      <td>1.406296</td>\n",
       "      <td>8.593704</td>\n",
       "    </tr>\n",
       "  </tbody>\n",
       "</table>\n",
       "<p>135 rows × 2 columns</p>\n",
       "</div>"
      ],
      "text/plain": [
       "            x         y\n",
       "0    4.240666  5.759334\n",
       "1    8.501660  1.498340\n",
       "2    2.501660  7.498340\n",
       "3    9.204605  0.795395\n",
       "4    3.204605  6.795395\n",
       "..        ...       ...\n",
       "130  7.100706  2.899294\n",
       "131  4.649121  5.350879\n",
       "132  5.406296  4.593704\n",
       "133  4.406296  5.593704\n",
       "134  1.406296  8.593704\n",
       "\n",
       "[135 rows x 2 columns]"
      ]
     },
     "execution_count": 39,
     "metadata": {},
     "output_type": "execute_result"
    }
   ],
   "source": [
    "normed_valid_df\n"
   ]
  },
  {
   "cell_type": "code",
   "execution_count": 40,
   "metadata": {},
   "outputs": [
    {
     "name": "stdout",
     "output_type": "stream",
     "text": [
      "5/5 [==============================] - 0s 671us/step\n"
     ]
    },
    {
     "data": {
      "text/plain": [
       "array([[ 9.998712 ],\n",
       "       [ 9.9969425],\n",
       "       [ 9.994845 ],\n",
       "       [ 9.996389 ],\n",
       "       [ 9.997503 ],\n",
       "       [ 9.998638 ],\n",
       "       [ 9.998447 ],\n",
       "       [ 9.997868 ],\n",
       "       [ 9.998085 ],\n",
       "       [ 9.999916 ],\n",
       "       [ 9.99875  ],\n",
       "       [ 9.996461 ],\n",
       "       [ 9.998035 ],\n",
       "       [10.0009   ],\n",
       "       [ 9.998564 ],\n",
       "       [ 9.996511 ],\n",
       "       [ 9.998086 ],\n",
       "       [ 9.995783 ],\n",
       "       [ 9.998146 ],\n",
       "       [ 9.989589 ],\n",
       "       [ 9.998352 ],\n",
       "       [ 9.99197  ],\n",
       "       [ 9.996423 ],\n",
       "       [10.000013 ],\n",
       "       [10.007598 ],\n",
       "       [ 9.9959955],\n",
       "       [ 9.997569 ],\n",
       "       [10.003695 ],\n",
       "       [ 9.9996395],\n",
       "       [10.000035 ],\n",
       "       [10.0009   ],\n",
       "       [ 9.997245 ],\n",
       "       [ 9.999738 ],\n",
       "       [ 9.99857  ],\n",
       "       [ 9.997253 ],\n",
       "       [ 9.998039 ],\n",
       "       [ 9.999726 ],\n",
       "       [ 9.999765 ],\n",
       "       [ 9.999796 ],\n",
       "       [ 9.99746  ],\n",
       "       [ 9.99785  ],\n",
       "       [10.005952 ],\n",
       "       [ 9.997956 ],\n",
       "       [10.000744 ],\n",
       "       [ 9.997453 ],\n",
       "       [ 9.999372 ],\n",
       "       [ 9.998205 ],\n",
       "       [ 9.997617 ],\n",
       "       [ 9.999245 ],\n",
       "       [10.003791 ],\n",
       "       [ 9.998211 ],\n",
       "       [10.000639 ],\n",
       "       [10.002463 ],\n",
       "       [ 9.9979725],\n",
       "       [10.004846 ],\n",
       "       [ 9.998351 ],\n",
       "       [ 9.998096 ],\n",
       "       [ 9.998251 ],\n",
       "       [ 9.997291 ],\n",
       "       [ 9.99967  ],\n",
       "       [ 9.996832 ],\n",
       "       [ 9.998015 ],\n",
       "       [ 9.997939 ],\n",
       "       [ 9.99598  ],\n",
       "       [ 9.997837 ],\n",
       "       [10.006076 ],\n",
       "       [ 9.998109 ],\n",
       "       [ 9.990577 ],\n",
       "       [10.001694 ],\n",
       "       [ 9.9908   ],\n",
       "       [ 9.997238 ],\n",
       "       [ 9.998581 ],\n",
       "       [10.010115 ],\n",
       "       [ 9.999836 ],\n",
       "       [ 9.997502 ],\n",
       "       [ 9.997986 ],\n",
       "       [ 9.998387 ],\n",
       "       [ 9.993004 ],\n",
       "       [ 9.999236 ],\n",
       "       [ 9.998044 ],\n",
       "       [ 9.995954 ],\n",
       "       [ 9.996753 ],\n",
       "       [10.003808 ],\n",
       "       [ 9.9977255],\n",
       "       [ 9.995809 ],\n",
       "       [ 9.997385 ],\n",
       "       [ 9.998172 ],\n",
       "       [ 9.997539 ],\n",
       "       [ 9.998326 ],\n",
       "       [ 9.996483 ],\n",
       "       [ 9.997615 ],\n",
       "       [ 9.998019 ],\n",
       "       [ 9.996986 ],\n",
       "       [ 9.997772 ],\n",
       "       [ 9.997787 ],\n",
       "       [ 9.995871 ],\n",
       "       [ 9.996808 ],\n",
       "       [ 9.995871 ],\n",
       "       [ 9.996658 ],\n",
       "       [ 9.998233 ],\n",
       "       [ 9.999702 ],\n",
       "       [10.003673 ],\n",
       "       [ 9.996764 ],\n",
       "       [ 9.992334 ],\n",
       "       [ 9.998317 ],\n",
       "       [ 9.998703 ],\n",
       "       [ 9.997679 ],\n",
       "       [10.000259 ],\n",
       "       [ 9.996387 ],\n",
       "       [ 9.997173 ],\n",
       "       [ 9.997962 ],\n",
       "       [10.001009 ],\n",
       "       [ 9.995812 ],\n",
       "       [ 9.999572 ],\n",
       "       [ 9.998404 ],\n",
       "       [10.000592 ],\n",
       "       [ 9.998257 ],\n",
       "       [ 9.991137 ],\n",
       "       [ 9.996253 ],\n",
       "       [10.000041 ],\n",
       "       [ 9.998872 ],\n",
       "       [10.00734  ],\n",
       "       [ 9.998466 ],\n",
       "       [ 9.994102 ],\n",
       "       [ 9.990021 ],\n",
       "       [ 9.996907 ],\n",
       "       [ 9.996104 ],\n",
       "       [ 9.997681 ],\n",
       "       [10.0002575],\n",
       "       [10.005264 ],\n",
       "       [ 9.998047 ],\n",
       "       [ 9.999189 ],\n",
       "       [10.000073 ],\n",
       "       [ 9.998906 ],\n",
       "       [10.007022 ]], dtype=float32)"
      ]
     },
     "execution_count": 40,
     "metadata": {},
     "output_type": "execute_result"
    }
   ],
   "source": [
    "model.predict(normed_valid_df)"
   ]
  },
  {
   "cell_type": "code",
   "execution_count": null,
   "metadata": {},
   "outputs": [],
   "source": []
  },
  {
   "cell_type": "code",
   "execution_count": null,
   "metadata": {},
   "outputs": [],
   "source": []
  },
  {
   "cell_type": "code",
   "execution_count": null,
   "metadata": {},
   "outputs": [],
   "source": []
  }
 ],
 "metadata": {
  "kernelspec": {
   "display_name": "Python 3",
   "language": "python",
   "name": "python3"
  },
  "language_info": {
   "codemirror_mode": {
    "name": "ipython",
    "version": 3
   },
   "file_extension": ".py",
   "mimetype": "text/x-python",
   "name": "python",
   "nbconvert_exporter": "python",
   "pygments_lexer": "ipython3",
   "version": "3.9.6"
  }
 },
 "nbformat": 4,
 "nbformat_minor": 2
}
