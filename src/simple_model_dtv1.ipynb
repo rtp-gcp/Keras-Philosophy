{
 "cells": [
  {
   "cell_type": "markdown",
   "metadata": {},
   "source": [
    "# Define Train and Validate the models\n",
    "\n",
    "This notebook takes the normalized csv files and uses TF with kernals to build a predictor for a virtul water level sensor."
   ]
  },
  {
   "cell_type": "code",
   "execution_count": 1,
   "metadata": {},
   "outputs": [],
   "source": [
    "# leave until I can determine if tensorboard runs in ibm cloud\n",
    "# %load_ext tensorboard.notebook"
   ]
  },
  {
   "cell_type": "code",
   "execution_count": 1,
   "metadata": {},
   "outputs": [],
   "source": [
    "import datetime\n",
    "from pathlib import Path\n",
    "\n",
    "import matplotlib.pyplot as plt\n",
    "import pandas as pd\n",
    "import seaborn as sns\n",
    "import os\n",
    "import os.path\n",
    "\n",
    "\n",
    "import tensorflow as tf\n",
    "from tensorflow import keras\n",
    "from tensorflow.keras import layers"
   ]
  },
  {
   "cell_type": "code",
   "execution_count": 2,
   "metadata": {},
   "outputs": [
    {
     "name": "stdout",
     "output_type": "stream",
     "text": [
      "2.13.0\n"
     ]
    }
   ],
   "source": [
    "print(tf.__version__)"
   ]
  },
  {
   "cell_type": "code",
   "execution_count": 3,
   "metadata": {},
   "outputs": [
    {
     "name": "stdout",
     "output_type": "stream",
     "text": [
      "current directory is : /Users/davis/progs/github/Keras-Philosophy/src\n"
     ]
    }
   ],
   "source": [
    "# The current directory will be where this src file is located.\n",
    "# Which is in the src dir of the project\n",
    "dirpath = os.getcwd()\n",
    "print(\"current directory is : \" + dirpath)"
   ]
  },
  {
   "cell_type": "code",
   "execution_count": 4,
   "metadata": {},
   "outputs": [
    {
     "name": "stdout",
     "output_type": "stream",
     "text": [
      "parent directory is : /Users/davis/progs/github/Keras-Philosophy\n"
     ]
    }
   ],
   "source": [
    "root_path = os.path.dirname(dirpath)\n",
    "print(\"parent directory is : \" + root_path)"
   ]
  },
  {
   "cell_type": "code",
   "execution_count": 5,
   "metadata": {},
   "outputs": [
    {
     "name": "stdout",
     "output_type": "stream",
     "text": [
      "data_path is : /Users/davis/progs/github/Keras-Philosophy/data\n"
     ]
    }
   ],
   "source": [
    "data_path = root_path + \"/data\"\n",
    "print(\"data_path is : \" + data_path)"
   ]
  },
  {
   "cell_type": "code",
   "execution_count": 6,
   "metadata": {},
   "outputs": [
    {
     "name": "stdout",
     "output_type": "stream",
     "text": [
      "logs directory is : /Users/davis/progs/github/Keras-Philosophy/logs\n"
     ]
    }
   ],
   "source": [
    "logs_path = os.path.join(root_path,\"logs\")\n",
    "print(\"logs directory is : \" + logs_path)"
   ]
  },
  {
   "cell_type": "code",
   "execution_count": 7,
   "metadata": {},
   "outputs": [],
   "source": [
    "LOG_DIR_NAME = logs_path\n",
    "os.environ['LOG_DIR_NAME'] = LOG_DIR_NAME\n",
    "\n",
    "train_csv = data_path + \"/train.csv\"\n",
    "test_csv = data_path + \"/test.csv\"\n",
    "valid_csv = data_path + \"/valid.csv\"\n",
    "os.environ['CSV_FILE_NAME'] = data_path + \"/train.csv\""
   ]
  },
  {
   "cell_type": "code",
   "execution_count": 8,
   "metadata": {},
   "outputs": [
    {
     "name": "stdout",
     "output_type": "stream",
     "text": [
      "/Users/davis/progs/github/Keras-Philosophy/logs\n"
     ]
    }
   ],
   "source": [
    "%%bash\n",
    "echo ${LOG_DIR_NAME}"
   ]
  },
  {
   "cell_type": "code",
   "execution_count": 9,
   "metadata": {},
   "outputs": [
    {
     "name": "stdout",
     "output_type": "stream",
     "text": [
      "z,x,y\n",
      "1.0,0.5066917474620124,0.5066917474620124\n",
      "1.0,0.9409989595723087,0.9409989595723087\n",
      "1.0,0.6514608181654445,0.6514608181654445\n",
      "1.0,0.2171536060551482,0.2171536060551482\n",
      "1.0,1.3753061716826052,1.3753061716826052\n",
      "1.0,1.5200752423860373,1.5200752423860373\n",
      "1.0,1.0857680302757409,1.0857680302757409\n",
      "1.0,0.07238453535171606,0.07238453535171606\n"
     ]
    }
   ],
   "source": [
    "%%bash\n",
    "head ${CSV_FILE_NAME}"
   ]
  },
  {
   "cell_type": "code",
   "execution_count": 10,
   "metadata": {},
   "outputs": [
    {
     "name": "stdout",
     "output_type": "stream",
     "text": [
      "       9 /Users/davis/progs/github/Keras-Philosophy/data/train.csv\n"
     ]
    }
   ],
   "source": [
    "%%bash\n",
    "# this csv file has 9875 lines corresponding to records (plus one header row)\n",
    "wc -l ${CSV_FILE_NAME}"
   ]
  },
  {
   "cell_type": "markdown",
   "metadata": {},
   "source": [
    "# Use generic python to read data into pandas dataframe"
   ]
  },
  {
   "cell_type": "code",
   "execution_count": 11,
   "metadata": {},
   "outputs": [],
   "source": [
    "# Read the csv files into the new datasets\n",
    "normed_train_ds = pd.read_csv(train_csv, \n",
    "                          header=0,\n",
    "                          sep=\",\")"
   ]
  },
  {
   "cell_type": "code",
   "execution_count": 12,
   "metadata": {},
   "outputs": [],
   "source": [
    "# Read the csv files into the new datasets\n",
    "normed_valid_ds = pd.read_csv(valid_csv, \n",
    "                          header=0,\n",
    "                          sep=\",\")"
   ]
  },
  {
   "cell_type": "code",
   "execution_count": null,
   "metadata": {},
   "outputs": [],
   "source": []
  },
  {
   "cell_type": "code",
   "execution_count": 13,
   "metadata": {},
   "outputs": [],
   "source": [
    "# Read the csv files into the new datasets\n",
    "normed_test_ds = pd.read_csv(test_csv, \n",
    "                          header=0,\n",
    "                          sep=\",\")"
   ]
  },
  {
   "cell_type": "code",
   "execution_count": 14,
   "metadata": {},
   "outputs": [],
   "source": [
    "# Create seperate series/dataframe? for labels\n",
    "# Remove the label from the dataframes.\n",
    "train_labels = normed_train_ds.pop('z')\n",
    "test_labels = normed_test_ds.pop('z')\n",
    "valid_labels = normed_valid_ds.pop('z')"
   ]
  },
  {
   "cell_type": "markdown",
   "metadata": {},
   "source": [
    "# Build the model"
   ]
  },
  {
   "cell_type": "code",
   "execution_count": 15,
   "metadata": {},
   "outputs": [
    {
     "name": "stderr",
     "output_type": "stream",
     "text": [
      "WARNING:absl:At this time, the v2.11+ optimizer `tf.keras.optimizers.RMSprop` runs slowly on M1/M2 Macs, please use the legacy Keras optimizer instead, located at `tf.keras.optimizers.legacy.RMSprop`.\n",
      "WARNING:absl:There is a known slowdown when using v2.11+ Keras optimizers on M1/M2 Macs. Falling back to the legacy Keras optimizer, i.e., `tf.keras.optimizers.legacy.RMSprop`.\n"
     ]
    }
   ],
   "source": [
    "# train_ds determines the input feature size\n",
    "model = keras.Sequential([\n",
    "    layers.Dense(64, activation=tf.nn.relu, input_shape=[len(normed_train_ds.keys())]),\n",
    "    layers.Dense(64, activation=tf.nn.relu),\n",
    "    layers.Dense(1)\n",
    "    ])\n",
    "\n",
    "# orig\n",
    "#optimizer = tf.keras.optimizers.RMSprop(0.001)\n",
    "# increase learning rate if fairly consistent but slow changing\n",
    "#optimizer = tf.keras.optimizers.RMSprop(0.01)\n",
    "# 0.1 is too big\n",
    "#optimizer = tf.keras.optimizers.RMSprop(0.1)\n",
    "# with the early stop, lets try to make the learning rate smaller\n",
    "optimizer = tf.keras.optimizers.RMSprop(0.0001)\n",
    "\n",
    "# Add in the early stop code\n",
    "# The patience parameter is the amount of epochs to check for improvement\n",
    "#\n",
    "# NOTE: This was a good addition.  I'm so used to running through a lot of steps\n",
    "# I did not realize that it was finding its best results so early.  In the \n",
    "# graphs that follows, you can see the divergent graphs here where the others\n",
    "# did not show it since it was hundreds of epochs past optimal.\n",
    "early_stop = keras.callbacks.EarlyStopping(monitor='val_loss', patience=10)\n",
    "\n",
    "\n",
    "\n",
    "model.compile(loss='mean_squared_error',\n",
    "              optimizer=optimizer,\n",
    "              metrics=['mean_absolute_error', 'mean_squared_error'])\n"
   ]
  },
  {
   "cell_type": "markdown",
   "metadata": {},
   "source": [
    "# Train the model (with three callbacks)"
   ]
  },
  {
   "cell_type": "code",
   "execution_count": 16,
   "metadata": {},
   "outputs": [],
   "source": [
    "EPOCHS = 1000"
   ]
  },
  {
   "cell_type": "code",
   "execution_count": 17,
   "metadata": {},
   "outputs": [],
   "source": [
    "%%bash\n",
    "# clear any logs from previous runs\n",
    "rm -rf ${LOG_DIR_NAME}"
   ]
  },
  {
   "cell_type": "code",
   "execution_count": 18,
   "metadata": {},
   "outputs": [
    {
     "name": "stdout",
     "output_type": "stream",
     "text": [
      "/Users/davis/progs/github/Keras-Philosophy/logs/20230919-173255\n"
     ]
    }
   ],
   "source": [
    "logdir = os.path.join(LOG_DIR_NAME, datetime.datetime.now().strftime(\"%Y%m%d-%H%M%S\"))\n",
    "tensorboard_callback = tf.keras.callbacks.TensorBoard(logdir, histogram_freq=1)\n",
    "print(logdir)"
   ]
  },
  {
   "cell_type": "code",
   "execution_count": 19,
   "metadata": {},
   "outputs": [],
   "source": [
    "os.environ['LOG_DIR_NAME_TIME_VARIABLE'] = logdir"
   ]
  },
  {
   "cell_type": "code",
   "execution_count": 20,
   "metadata": {},
   "outputs": [],
   "source": [
    "# cell magic is weird on how to evaluate this\n",
    "# this works since its hard coded but not time variable\n",
    "#%tensorboard --logdir '/home/davis/progs/tf-hackathon/logs'\n",
    "# ps auxw | grep tensorboard show this as literal --logdir logdir\n",
    "#%tensorboard --logdir logdir\n",
    "# ps auxw | grep tensorboard show this as literal --logdir $/home/davis/....\n",
    "#%tensorboard --logdir ${LOG_DIR_NAME}\n",
    "# ps auxw | grep tensorboard show this as literal --logdir /home/davis/...\n",
    "# this works because it finds tf events in root down\n",
    "#%tensorboard --logdir {LOG_DIR_NAME}\n",
    "# this does not work.  ps auxw shows tensorboard --logdir {LOG_DIR_NAME_TIME_VARIABLE}\n",
    "#%tensorboard --logdir {LOG_DIR_NAME_TIME_VARIABLE}\n",
    "# this works best. it shows up in tensorboard with time variable. tensorboard --logdir /home/davis/progs/tf-hackathon/logs/20190506-115136\n",
    "#%tensorboard --logdir {logdir}"
   ]
  },
  {
   "cell_type": "markdown",
   "metadata": {},
   "source": [
    "Wait a bit until the above pane shows the blank tensorboard page before running the cell below"
   ]
  },
  {
   "cell_type": "code",
   "execution_count": 21,
   "metadata": {},
   "outputs": [],
   "source": [
    "# Display training progress by printing a single dot for each completed epoch\n",
    "class PrintDot(keras.callbacks.Callback):\n",
    "  def on_epoch_end(self, epoch, logs):\n",
    "    if epoch % 100 == 0: print('')\n",
    "    print('.', end='')"
   ]
  },
  {
   "cell_type": "code",
   "execution_count": 22,
   "metadata": {},
   "outputs": [
    {
     "name": "stdout",
     "output_type": "stream",
     "text": [
      "\n",
      "....................................................................................................\n",
      "....................................................................................................\n",
      "........................."
     ]
    }
   ],
   "source": [
    "#                    batch_size=16,\n",
    "\n",
    "history = model.fit(normed_train_ds, \n",
    "                    train_labels,\n",
    "                    epochs=EPOCHS,\n",
    "                    validation_data = (normed_valid_ds, valid_labels),\n",
    "                    verbose=0,\n",
    "                    callbacks=[early_stop, tensorboard_callback, PrintDot()])"
   ]
  },
  {
   "cell_type": "code",
   "execution_count": 23,
   "metadata": {},
   "outputs": [
    {
     "data": {
      "image/png": "[encoded data removed]",
      "text/plain": [
       "<Figure size 640x480 with 1 Axes>"
      ]
     },
     "metadata": {},
     "output_type": "display_data"
    },
    {
     "data": {
      "image/png": "[encoded data removed]",
      "text/plain": [
       "<Figure size 640x480 with 1 Axes>"
      ]
     },
     "metadata": {},
     "output_type": "display_data"
    },
    {
     "data": {
      "image/png": "[encoded data removed]",
      "text/plain": [
       "<Figure size 640x480 with 1 Axes>"
      ]
     },
     "metadata": {},
     "output_type": "display_data"
    }
   ],
   "source": [
    "def plot_history(history):\n",
    "    hist = pd.DataFrame(history.history)\n",
    "    hist['epoch'] = history.epoch\n",
    "\n",
    "\n",
    "    plt.figure()\n",
    "    plt.xlabel('Epoch')\n",
    "    plt.ylabel('Epoch Loss [z]')\n",
    "    plt.plot(hist['epoch'], hist['loss'],label='Train Loss')\n",
    "    plt.plot(hist['epoch'], hist['val_loss'],label = 'Val Loss')\n",
    "    plt.ylim([0,3])\n",
    "    plt.legend()\n",
    "\n",
    "\n",
    "    plt.figure()\n",
    "    plt.xlabel('Epoch')\n",
    "    plt.ylabel('Mean Abs Error [z]')\n",
    "    plt.plot(hist['epoch'], hist['mean_absolute_error'],label='Train Error')\n",
    "    plt.plot(hist['epoch'], hist['val_mean_absolute_error'],label = 'Val Error')\n",
    "    plt.ylim([0,1])\n",
    "    plt.legend()\n",
    "\n",
    "    plt.figure()\n",
    "    plt.xlabel('Epoch')\n",
    "    plt.ylabel('Mean Square Error [$z^2$]')\n",
    "    plt.plot(hist['epoch'], hist['mean_squared_error'],label='Train Error')\n",
    "    plt.plot(hist['epoch'], hist['val_mean_squared_error'],label = 'Val Error')\n",
    "    plt.ylim([0,3])\n",
    "    plt.legend()\n",
    "    plt.show()\n",
    "\n",
    "\n",
    "plot_history(history)"
   ]
  },
  {
   "cell_type": "code",
   "execution_count": 24,
   "metadata": {},
   "outputs": [],
   "source": [
    "hist = pd.DataFrame(history.history)\n",
    "hist['epoch'] = history.epoch"
   ]
  },
  {
   "cell_type": "code",
   "execution_count": 25,
   "metadata": {},
   "outputs": [
    {
     "data": {
      "text/html": [
       "<div>\n",
       "<style scoped>\n",
       "    .dataframe tbody tr th:only-of-type {\n",
       "        vertical-align: middle;\n",
       "    }\n",
       "\n",
       "    .dataframe tbody tr th {\n",
       "        vertical-align: top;\n",
       "    }\n",
       "\n",
       "    .dataframe thead th {\n",
       "        text-align: right;\n",
       "    }\n",
       "</style>\n",
       "<table border=\"1\" class=\"dataframe\">\n",
       "  <thead>\n",
       "    <tr style=\"text-align: right;\">\n",
       "      <th></th>\n",
       "      <th>loss</th>\n",
       "      <th>mean_absolute_error</th>\n",
       "      <th>mean_squared_error</th>\n",
       "      <th>val_loss</th>\n",
       "      <th>val_mean_absolute_error</th>\n",
       "      <th>val_mean_squared_error</th>\n",
       "      <th>epoch</th>\n",
       "    </tr>\n",
       "  </thead>\n",
       "  <tbody>\n",
       "    <tr>\n",
       "      <th>0</th>\n",
       "      <td>1.490992</td>\n",
       "      <td>1.213917</td>\n",
       "      <td>1.490992</td>\n",
       "      <td>1.715914</td>\n",
       "      <td>1.309929</td>\n",
       "      <td>1.715914</td>\n",
       "      <td>0</td>\n",
       "    </tr>\n",
       "    <tr>\n",
       "      <th>1</th>\n",
       "      <td>1.454084</td>\n",
       "      <td>1.199359</td>\n",
       "      <td>1.454084</td>\n",
       "      <td>1.675980</td>\n",
       "      <td>1.294596</td>\n",
       "      <td>1.675980</td>\n",
       "      <td>1</td>\n",
       "    </tr>\n",
       "    <tr>\n",
       "      <th>2</th>\n",
       "      <td>1.427048</td>\n",
       "      <td>1.188563</td>\n",
       "      <td>1.427048</td>\n",
       "      <td>1.643119</td>\n",
       "      <td>1.281842</td>\n",
       "      <td>1.643119</td>\n",
       "      <td>2</td>\n",
       "    </tr>\n",
       "    <tr>\n",
       "      <th>3</th>\n",
       "      <td>1.404775</td>\n",
       "      <td>1.179582</td>\n",
       "      <td>1.404775</td>\n",
       "      <td>1.614316</td>\n",
       "      <td>1.270557</td>\n",
       "      <td>1.614316</td>\n",
       "      <td>3</td>\n",
       "    </tr>\n",
       "    <tr>\n",
       "      <th>4</th>\n",
       "      <td>1.385243</td>\n",
       "      <td>1.171640</td>\n",
       "      <td>1.385243</td>\n",
       "      <td>1.588225</td>\n",
       "      <td>1.260248</td>\n",
       "      <td>1.588225</td>\n",
       "      <td>4</td>\n",
       "    </tr>\n",
       "    <tr>\n",
       "      <th>...</th>\n",
       "      <td>...</td>\n",
       "      <td>...</td>\n",
       "      <td>...</td>\n",
       "      <td>...</td>\n",
       "      <td>...</td>\n",
       "      <td>...</td>\n",
       "      <td>...</td>\n",
       "    </tr>\n",
       "    <tr>\n",
       "      <th>220</th>\n",
       "      <td>0.165615</td>\n",
       "      <td>0.336384</td>\n",
       "      <td>0.165615</td>\n",
       "      <td>0.000723</td>\n",
       "      <td>0.026889</td>\n",
       "      <td>0.000723</td>\n",
       "      <td>220</td>\n",
       "    </tr>\n",
       "    <tr>\n",
       "      <th>221</th>\n",
       "      <td>0.164797</td>\n",
       "      <td>0.335596</td>\n",
       "      <td>0.164797</td>\n",
       "      <td>0.000950</td>\n",
       "      <td>0.030821</td>\n",
       "      <td>0.000950</td>\n",
       "      <td>221</td>\n",
       "    </tr>\n",
       "    <tr>\n",
       "      <th>222</th>\n",
       "      <td>0.164007</td>\n",
       "      <td>0.334818</td>\n",
       "      <td>0.164007</td>\n",
       "      <td>0.001203</td>\n",
       "      <td>0.034680</td>\n",
       "      <td>0.001203</td>\n",
       "      <td>222</td>\n",
       "    </tr>\n",
       "    <tr>\n",
       "      <th>223</th>\n",
       "      <td>0.163242</td>\n",
       "      <td>0.334055</td>\n",
       "      <td>0.163242</td>\n",
       "      <td>0.001477</td>\n",
       "      <td>0.038435</td>\n",
       "      <td>0.001477</td>\n",
       "      <td>223</td>\n",
       "    </tr>\n",
       "    <tr>\n",
       "      <th>224</th>\n",
       "      <td>0.162499</td>\n",
       "      <td>0.333293</td>\n",
       "      <td>0.162499</td>\n",
       "      <td>0.001770</td>\n",
       "      <td>0.042076</td>\n",
       "      <td>0.001770</td>\n",
       "      <td>224</td>\n",
       "    </tr>\n",
       "  </tbody>\n",
       "</table>\n",
       "<p>225 rows × 7 columns</p>\n",
       "</div>"
      ],
      "text/plain": [
       "         loss  mean_absolute_error  mean_squared_error  val_loss  \\\n",
       "0    1.490992             1.213917            1.490992  1.715914   \n",
       "1    1.454084             1.199359            1.454084  1.675980   \n",
       "2    1.427048             1.188563            1.427048  1.643119   \n",
       "3    1.404775             1.179582            1.404775  1.614316   \n",
       "4    1.385243             1.171640            1.385243  1.588225   \n",
       "..        ...                  ...                 ...       ...   \n",
       "220  0.165615             0.336384            0.165615  0.000723   \n",
       "221  0.164797             0.335596            0.164797  0.000950   \n",
       "222  0.164007             0.334818            0.164007  0.001203   \n",
       "223  0.163242             0.334055            0.163242  0.001477   \n",
       "224  0.162499             0.333293            0.162499  0.001770   \n",
       "\n",
       "     val_mean_absolute_error  val_mean_squared_error  epoch  \n",
       "0                   1.309929                1.715914      0  \n",
       "1                   1.294596                1.675980      1  \n",
       "2                   1.281842                1.643119      2  \n",
       "3                   1.270557                1.614316      3  \n",
       "4                   1.260248                1.588225      4  \n",
       "..                       ...                     ...    ...  \n",
       "220                 0.026889                0.000723    220  \n",
       "221                 0.030821                0.000950    221  \n",
       "222                 0.034680                0.001203    222  \n",
       "223                 0.038435                0.001477    223  \n",
       "224                 0.042076                0.001770    224  \n",
       "\n",
       "[225 rows x 7 columns]"
      ]
     },
     "execution_count": 25,
     "metadata": {},
     "output_type": "execute_result"
    }
   ],
   "source": [
    "hist"
   ]
  },
  {
   "cell_type": "markdown",
   "metadata": {},
   "source": [
    "Now we are getting reasonable results.  Using a smaller learning rate, with an early stop callback."
   ]
  },
  {
   "cell_type": "markdown",
   "metadata": {},
   "source": [
    "# Evauate model\n",
    "Note by including the data with missing values and adding in average amounts increased the error."
   ]
  },
  {
   "cell_type": "code",
   "execution_count": 26,
   "metadata": {},
   "outputs": [
    {
     "name": "stdout",
     "output_type": "stream",
     "text": [
      "Testing set Mean Abs Error:  0.38 predicted xxt\n"
     ]
    }
   ],
   "source": [
    "loss, mae, mse = model.evaluate(normed_test_ds, test_labels, verbose=0)\n",
    "\n",
    "print(\"Testing set Mean Abs Error: {:5.2f} predicted xxt\".format(mae))"
   ]
  },
  {
   "cell_type": "markdown",
   "metadata": {},
   "source": [
    "# Make predictions"
   ]
  },
  {
   "cell_type": "code",
   "execution_count": 27,
   "metadata": {},
   "outputs": [
    {
     "name": "stdout",
     "output_type": "stream",
     "text": [
      "1/1 [==============================] - 0s 40ms/step\n"
     ]
    },
    {
     "data": {
      "image/png": "[encoded data removed]",
      "text/plain": [
       "<Figure size 640x480 with 1 Axes>"
      ]
     },
     "metadata": {},
     "output_type": "display_data"
    }
   ],
   "source": [
    "test_predictions = model.predict(normed_test_ds).flatten()\n",
    "\n",
    "plt.scatter(test_labels, test_predictions)\n",
    "plt.xlabel('True Values [z]')\n",
    "plt.ylabel('Predictions [z]')\n",
    "plt.axis('equal')\n",
    "plt.axis('square')\n",
    "plt.xlim([0,plt.xlim()[1]])\n",
    "plt.ylim([0,plt.ylim()[1]])\n",
    "_ = plt.plot([-100, 100], [-100, 100])"
   ]
  },
  {
   "cell_type": "markdown",
   "metadata": {},
   "source": [
    "Look at error distribution"
   ]
  },
  {
   "cell_type": "code",
   "execution_count": 28,
   "metadata": {},
   "outputs": [
    {
     "data": {
      "image/png": "[encoded data removed]",
      "text/plain": [
       "<Figure size 640x480 with 1 Axes>"
      ]
     },
     "metadata": {},
     "output_type": "display_data"
    }
   ],
   "source": [
    "error = test_predictions - test_labels\n",
    "plt.hist(error, bins = 25)\n",
    "plt.xlabel(\"Prediction Error [z]\")\n",
    "_ = plt.ylabel(\"Count\")"
   ]
  },
  {
   "cell_type": "code",
   "execution_count": 29,
   "metadata": {},
   "outputs": [
    {
     "data": {
      "text/html": [
       "<div>\n",
       "<style scoped>\n",
       "    .dataframe tbody tr th:only-of-type {\n",
       "        vertical-align: middle;\n",
       "    }\n",
       "\n",
       "    .dataframe tbody tr th {\n",
       "        vertical-align: top;\n",
       "    }\n",
       "\n",
       "    .dataframe thead th {\n",
       "        text-align: right;\n",
       "    }\n",
       "</style>\n",
       "<table border=\"1\" class=\"dataframe\">\n",
       "  <thead>\n",
       "    <tr style=\"text-align: right;\">\n",
       "      <th></th>\n",
       "      <th>x</th>\n",
       "      <th>y</th>\n",
       "    </tr>\n",
       "  </thead>\n",
       "  <tbody>\n",
       "    <tr>\n",
       "      <th>0</th>\n",
       "      <td>0.796230</td>\n",
       "      <td>0.796230</td>\n",
       "    </tr>\n",
       "    <tr>\n",
       "      <th>1</th>\n",
       "      <td>0.361923</td>\n",
       "      <td>0.361923</td>\n",
       "    </tr>\n",
       "  </tbody>\n",
       "</table>\n",
       "</div>"
      ],
      "text/plain": [
       "          x         y\n",
       "0  0.796230  0.796230\n",
       "1  0.361923  0.361923"
      ]
     },
     "execution_count": 29,
     "metadata": {},
     "output_type": "execute_result"
    }
   ],
   "source": [
    "normed_test_ds\n"
   ]
  },
  {
   "cell_type": "code",
   "execution_count": 30,
   "metadata": {},
   "outputs": [
    {
     "name": "stdout",
     "output_type": "stream",
     "text": [
      "1/1 [==============================] - 0s 12ms/step\n"
     ]
    },
    {
     "data": {
      "text/plain": [
       "array([[0.76208025],\n",
       "       [0.47795296]], dtype=float32)"
      ]
     },
     "execution_count": 30,
     "metadata": {},
     "output_type": "execute_result"
    }
   ],
   "source": [
    "model.predict(normed_test_ds)"
   ]
  },
  {
   "cell_type": "code",
   "execution_count": null,
   "metadata": {},
   "outputs": [],
   "source": []
  }
 ],
 "metadata": {
  "kernelspec": {
   "display_name": "Python 3",
   "language": "python",
   "name": "python3"
  },
  "language_info": {
   "codemirror_mode": {
    "name": "ipython",
    "version": 3
   },
   "file_extension": ".py",
   "mimetype": "text/x-python",
   "name": "python",
   "nbconvert_exporter": "python",
   "pygments_lexer": "ipython3",
   "version": "3.9.6"
  }
 },
 "nbformat": 4,
 "nbformat_minor": 2
}
