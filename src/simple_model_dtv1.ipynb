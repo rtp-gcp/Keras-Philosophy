{
 "cells": [
  {
   "cell_type": "markdown",
   "metadata": {},
   "source": [
    "# Define Train and Validate the models\n",
    "\n",
    "This notebook takes the normalized csv files and uses TF with kernals to build a predictor for a virtul water level sensor."
   ]
  },
  {
   "cell_type": "code",
   "execution_count": 72,
   "metadata": {},
   "outputs": [],
   "source": [
    "# leave until I can determine if tensorboard runs in ibm cloud\n",
    "# %load_ext tensorboard.notebook"
   ]
  },
  {
   "cell_type": "code",
   "execution_count": 73,
   "metadata": {},
   "outputs": [],
   "source": [
    "import datetime\n",
    "from pathlib import Path\n",
    "\n",
    "import matplotlib.pyplot as plt\n",
    "import pandas as pd\n",
    "import seaborn as sns\n",
    "import os\n",
    "import os.path\n",
    "\n",
    "\n",
    "import tensorflow as tf\n",
    "from tensorflow import keras\n",
    "from tensorflow.keras import layers"
   ]
  },
  {
   "cell_type": "code",
   "execution_count": 74,
   "metadata": {},
   "outputs": [
    {
     "name": "stdout",
     "output_type": "stream",
     "text": [
      "2.13.0\n"
     ]
    }
   ],
   "source": [
    "print(tf.__version__)"
   ]
  },
  {
   "cell_type": "code",
   "execution_count": 75,
   "metadata": {},
   "outputs": [
    {
     "name": "stdout",
     "output_type": "stream",
     "text": [
      "current directory is : /Users/davis/progs/github/Keras-Philosophy/src\n"
     ]
    }
   ],
   "source": [
    "# The current directory will be where this src file is located.\n",
    "# Which is in the src dir of the project\n",
    "dirpath = os.getcwd()\n",
    "print(\"current directory is : \" + dirpath)"
   ]
  },
  {
   "cell_type": "code",
   "execution_count": 76,
   "metadata": {},
   "outputs": [
    {
     "name": "stdout",
     "output_type": "stream",
     "text": [
      "parent directory is : /Users/davis/progs/github/Keras-Philosophy\n"
     ]
    }
   ],
   "source": [
    "root_path = os.path.dirname(dirpath)\n",
    "print(\"parent directory is : \" + root_path)"
   ]
  },
  {
   "cell_type": "code",
   "execution_count": 77,
   "metadata": {},
   "outputs": [
    {
     "name": "stdout",
     "output_type": "stream",
     "text": [
      "data_path is : /Users/davis/progs/github/Keras-Philosophy/data\n"
     ]
    }
   ],
   "source": [
    "data_path = root_path + \"/data\"\n",
    "print(\"data_path is : \" + data_path)"
   ]
  },
  {
   "cell_type": "code",
   "execution_count": 78,
   "metadata": {},
   "outputs": [
    {
     "name": "stdout",
     "output_type": "stream",
     "text": [
      "logs directory is : /Users/davis/progs/github/Keras-Philosophy/logs\n"
     ]
    }
   ],
   "source": [
    "logs_path = os.path.join(root_path,\"logs\")\n",
    "print(\"logs directory is : \" + logs_path)"
   ]
  },
  {
   "cell_type": "code",
   "execution_count": 79,
   "metadata": {},
   "outputs": [],
   "source": [
    "LOG_DIR_NAME = logs_path\n",
    "os.environ['LOG_DIR_NAME'] = LOG_DIR_NAME\n",
    "\n",
    "train_csv = data_path + \"/train.csv\"\n",
    "test_csv = data_path + \"/test.csv\"\n",
    "valid_csv = data_path + \"/valid.csv\"\n",
    "os.environ['CSV_FILE_NAME'] = data_path + \"/train.csv\""
   ]
  },
  {
   "cell_type": "code",
   "execution_count": 80,
   "metadata": {},
   "outputs": [
    {
     "name": "stdout",
     "output_type": "stream",
     "text": [
      "/Users/davis/progs/github/Keras-Philosophy/logs\n"
     ]
    }
   ],
   "source": [
    "%%bash\n",
    "echo ${LOG_DIR_NAME}"
   ]
  },
  {
   "cell_type": "code",
   "execution_count": 81,
   "metadata": {},
   "outputs": [
    {
     "name": "stdout",
     "output_type": "stream",
     "text": [
      "z,x,y\n",
      "11.0,8.0,3.0\n",
      "12.0,12.0,0.0\n",
      "4.0,3.0,1.0\n",
      "10.0,4.0,6.0\n",
      "12.0,1.0,11.0\n",
      "12.0,8.0,4.0\n",
      "1.0,1.0,0.0\n",
      "4.0,2.0,2.0\n",
      "10.0,2.0,8.0\n"
     ]
    }
   ],
   "source": [
    "%%bash\n",
    "head ${CSV_FILE_NAME}"
   ]
  },
  {
   "cell_type": "code",
   "execution_count": 82,
   "metadata": {},
   "outputs": [
    {
     "name": "stdout",
     "output_type": "stream",
     "text": [
      "      36 /Users/davis/progs/github/Keras-Philosophy/data/train.csv\n"
     ]
    }
   ],
   "source": [
    "%%bash\n",
    "# this csv file has 9875 lines corresponding to records (plus one header row)\n",
    "wc -l ${CSV_FILE_NAME}"
   ]
  },
  {
   "cell_type": "markdown",
   "metadata": {},
   "source": [
    "# Use generic python to read data into pandas dataframe"
   ]
  },
  {
   "cell_type": "code",
   "execution_count": 83,
   "metadata": {},
   "outputs": [],
   "source": [
    "# Read the csv files into the new datasets\n",
    "normed_train_ds = pd.read_csv(train_csv, \n",
    "                          header=0,\n",
    "                          sep=\",\")"
   ]
  },
  {
   "cell_type": "code",
   "execution_count": 84,
   "metadata": {},
   "outputs": [],
   "source": [
    "# Read the csv files into the new datasets\n",
    "normed_valid_ds = pd.read_csv(valid_csv, \n",
    "                          header=0,\n",
    "                          sep=\",\")"
   ]
  },
  {
   "cell_type": "code",
   "execution_count": null,
   "metadata": {},
   "outputs": [],
   "source": []
  },
  {
   "cell_type": "code",
   "execution_count": 85,
   "metadata": {},
   "outputs": [],
   "source": [
    "# Read the csv files into the new datasets\n",
    "normed_test_ds = pd.read_csv(test_csv, \n",
    "                          header=0,\n",
    "                          sep=\",\")"
   ]
  },
  {
   "cell_type": "code",
   "execution_count": 86,
   "metadata": {},
   "outputs": [],
   "source": [
    "# Create seperate series/dataframe? for labels\n",
    "# Remove the label from the dataframes.\n",
    "train_labels = normed_train_ds.pop('z')\n",
    "test_labels = normed_test_ds.pop('z')\n",
    "valid_labels = normed_valid_ds.pop('z')"
   ]
  },
  {
   "cell_type": "code",
   "execution_count": 87,
   "metadata": {},
   "outputs": [
    {
     "data": {
      "text/plain": [
       "0     11.0\n",
       "1     12.0\n",
       "2      4.0\n",
       "3     10.0\n",
       "4     12.0\n",
       "5     12.0\n",
       "6      1.0\n",
       "7      4.0\n",
       "8     10.0\n",
       "9     10.0\n",
       "10    10.0\n",
       "11     3.0\n",
       "12    10.0\n",
       "13    12.0\n",
       "14    12.0\n",
       "15    10.0\n",
       "16     4.0\n",
       "17    12.0\n",
       "18    12.0\n",
       "19    11.0\n",
       "20    11.0\n",
       "21    12.0\n",
       "22    11.0\n",
       "23    12.0\n",
       "24     3.0\n",
       "25    12.0\n",
       "26     4.0\n",
       "27    10.0\n",
       "28    11.0\n",
       "29    12.0\n",
       "30    11.0\n",
       "31    10.0\n",
       "32    10.0\n",
       "33     2.0\n",
       "34     1.0\n",
       "Name: z, dtype: float64"
      ]
     },
     "execution_count": 87,
     "metadata": {},
     "output_type": "execute_result"
    }
   ],
   "source": [
    "train_labels"
   ]
  },
  {
   "cell_type": "code",
   "execution_count": 88,
   "metadata": {},
   "outputs": [
    {
     "data": {
      "text/plain": [
       "Index(['x', 'y'], dtype='object')"
      ]
     },
     "execution_count": 88,
     "metadata": {},
     "output_type": "execute_result"
    }
   ],
   "source": [
    "normed_train_ds.keys()"
   ]
  },
  {
   "cell_type": "markdown",
   "metadata": {},
   "source": [
    "# Build the model"
   ]
  },
  {
   "cell_type": "code",
   "execution_count": 106,
   "metadata": {},
   "outputs": [
    {
     "name": "stderr",
     "output_type": "stream",
     "text": [
      "WARNING:absl:At this time, the v2.11+ optimizer `tf.keras.optimizers.RMSprop` runs slowly on M1/M2 Macs, please use the legacy Keras optimizer instead, located at `tf.keras.optimizers.legacy.RMSprop`.\n",
      "WARNING:absl:There is a known slowdown when using v2.11+ Keras optimizers on M1/M2 Macs. Falling back to the legacy Keras optimizer, i.e., `tf.keras.optimizers.legacy.RMSprop`.\n"
     ]
    }
   ],
   "source": [
    "# train_ds determines the input feature size\n",
    "#model = keras.Sequential([\n",
    "#    layers.Dense(64, activation=tf.nn.relu, input_shape=[len(normed_train_ds.keys())]),\n",
    "#    layers.Dense(64, activation=tf.nn.relu),\n",
    "#    layers.Dense(1)\n",
    "#    ])\n",
    "\n",
    "model = keras.Sequential([\n",
    "    layers.Dense(12, activation=tf.nn.relu, input_shape=[len(normed_train_ds.keys())]),\n",
    "    layers.Dense(1)\n",
    "    ])\n",
    "\n",
    "\n",
    "\n",
    "# orig\n",
    "#optimizer = tf.keras.optimizers.RMSprop(0.001)\n",
    "# increase learning rate if fairly consistent but slow changing\n",
    "#optimizer = tf.keras.optimizers.RMSprop(0.01)\n",
    "# 0.1 is too big\n",
    "#optimizer = tf.keras.optimizers.RMSprop(0.1)\n",
    "# with the early stop, lets try to make the learning rate smaller\n",
    "optimizer = tf.keras.optimizers.RMSprop(0.0001)\n",
    "\n",
    "# Add in the early stop code\n",
    "# The patience parameter is the amount of epochs to check for improvement\n",
    "#\n",
    "# NOTE: This was a good addition.  I'm so used to running through a lot of steps\n",
    "# I did not realize that it was finding its best results so early.  In the \n",
    "# graphs that follows, you can see the divergent graphs here where the others\n",
    "# did not show it since it was hundreds of epochs past optimal.\n",
    "early_stop = keras.callbacks.EarlyStopping(monitor='val_loss', patience=10)\n",
    "\n",
    "\n",
    "\n",
    "model.compile(loss='mean_squared_error',\n",
    "              optimizer=optimizer,\n",
    "              metrics=['mean_absolute_error', 'mean_squared_error'])\n"
   ]
  },
  {
   "cell_type": "markdown",
   "metadata": {},
   "source": [
    "# Train the model (with three callbacks)"
   ]
  },
  {
   "cell_type": "code",
   "execution_count": 107,
   "metadata": {},
   "outputs": [],
   "source": [
    "EPOCHS = 1000"
   ]
  },
  {
   "cell_type": "code",
   "execution_count": 108,
   "metadata": {},
   "outputs": [],
   "source": [
    "%%bash\n",
    "# clear any logs from previous runs\n",
    "rm -rf ${LOG_DIR_NAME}"
   ]
  },
  {
   "cell_type": "code",
   "execution_count": 109,
   "metadata": {},
   "outputs": [
    {
     "name": "stdout",
     "output_type": "stream",
     "text": [
      "/Users/davis/progs/github/Keras-Philosophy/logs/20230919-180744\n"
     ]
    }
   ],
   "source": [
    "logdir = os.path.join(LOG_DIR_NAME, datetime.datetime.now().strftime(\"%Y%m%d-%H%M%S\"))\n",
    "tensorboard_callback = tf.keras.callbacks.TensorBoard(logdir, histogram_freq=1)\n",
    "print(logdir)"
   ]
  },
  {
   "cell_type": "code",
   "execution_count": 110,
   "metadata": {},
   "outputs": [],
   "source": [
    "os.environ['LOG_DIR_NAME_TIME_VARIABLE'] = logdir"
   ]
  },
  {
   "cell_type": "code",
   "execution_count": 111,
   "metadata": {},
   "outputs": [],
   "source": [
    "# cell magic is weird on how to evaluate this\n",
    "# this works since its hard coded but not time variable\n",
    "#%tensorboard --logdir '/home/davis/progs/tf-hackathon/logs'\n",
    "# ps auxw | grep tensorboard show this as literal --logdir logdir\n",
    "#%tensorboard --logdir logdir\n",
    "# ps auxw | grep tensorboard show this as literal --logdir $/home/davis/....\n",
    "#%tensorboard --logdir ${LOG_DIR_NAME}\n",
    "# ps auxw | grep tensorboard show this as literal --logdir /home/davis/...\n",
    "# this works because it finds tf events in root down\n",
    "#%tensorboard --logdir {LOG_DIR_NAME}\n",
    "# this does not work.  ps auxw shows tensorboard --logdir {LOG_DIR_NAME_TIME_VARIABLE}\n",
    "#%tensorboard --logdir {LOG_DIR_NAME_TIME_VARIABLE}\n",
    "# this works best. it shows up in tensorboard with time variable. tensorboard --logdir /home/davis/progs/tf-hackathon/logs/20190506-115136\n",
    "#%tensorboard --logdir {logdir}"
   ]
  },
  {
   "cell_type": "markdown",
   "metadata": {},
   "source": [
    "Wait a bit until the above pane shows the blank tensorboard page before running the cell below"
   ]
  },
  {
   "cell_type": "code",
   "execution_count": 112,
   "metadata": {},
   "outputs": [],
   "source": [
    "# Display training progress by printing a single dot for each completed epoch\n",
    "class PrintDot(keras.callbacks.Callback):\n",
    "  def on_epoch_end(self, epoch, logs):\n",
    "    if epoch % 100 == 0: print('')\n",
    "    print('.', end='')"
   ]
  },
  {
   "cell_type": "code",
   "execution_count": 113,
   "metadata": {},
   "outputs": [
    {
     "name": "stdout",
     "output_type": "stream",
     "text": [
      "\n",
      "....................................................................................................\n",
      "....................................................................................................\n",
      "....................................................................................................\n",
      "....................................................................................................\n",
      "....................................................................................................\n",
      "....................................................................................................\n",
      "....................................................................................................\n",
      "....................................................................................................\n",
      "....................................................................................................\n",
      "...................................................................................................."
     ]
    }
   ],
   "source": [
    "#                    batch_size=16,\n",
    "\n",
    "history = model.fit(normed_train_ds, \n",
    "                    train_labels,\n",
    "                    epochs=EPOCHS,\n",
    "                    validation_data = (normed_valid_ds, valid_labels),\n",
    "                    verbose=0,\n",
    "                    callbacks=[early_stop, tensorboard_callback, PrintDot()])"
   ]
  },
  {
   "cell_type": "code",
   "execution_count": 114,
   "metadata": {},
   "outputs": [
    {
     "data": {
      "image/png": "[encoded data removed]",
      "text/plain": [
       "<Figure size 640x480 with 1 Axes>"
      ]
     },
     "metadata": {},
     "output_type": "display_data"
    },
    {
     "data": {
      "image/png": "[encoded data removed]",
      "text/plain": [
       "<Figure size 640x480 with 1 Axes>"
      ]
     },
     "metadata": {},
     "output_type": "display_data"
    },
    {
     "data": {
      "image/png": "[encoded data removed]",
      "text/plain": [
       "<Figure size 640x480 with 1 Axes>"
      ]
     },
     "metadata": {},
     "output_type": "display_data"
    }
   ],
   "source": [
    "def plot_history(history):\n",
    "    hist = pd.DataFrame(history.history)\n",
    "    hist['epoch'] = history.epoch\n",
    "\n",
    "\n",
    "    plt.figure()\n",
    "    plt.xlabel('Epoch')\n",
    "    plt.ylabel('Epoch Loss [z]')\n",
    "    plt.plot(hist['epoch'], hist['loss'],label='Train Loss')\n",
    "    plt.plot(hist['epoch'], hist['val_loss'],label = 'Val Loss')\n",
    "    plt.ylim([0,3])\n",
    "    plt.legend()\n",
    "\n",
    "\n",
    "    plt.figure()\n",
    "    plt.xlabel('Epoch')\n",
    "    plt.ylabel('Mean Abs Error [z]')\n",
    "    plt.plot(hist['epoch'], hist['mean_absolute_error'],label='Train Error')\n",
    "    plt.plot(hist['epoch'], hist['val_mean_absolute_error'],label = 'Val Error')\n",
    "    plt.ylim([0,1])\n",
    "    plt.legend()\n",
    "\n",
    "    plt.figure()\n",
    "    plt.xlabel('Epoch')\n",
    "    plt.ylabel('Mean Square Error [$z^2$]')\n",
    "    plt.plot(hist['epoch'], hist['mean_squared_error'],label='Train Error')\n",
    "    plt.plot(hist['epoch'], hist['val_mean_squared_error'],label = 'Val Error')\n",
    "    plt.ylim([0,3])\n",
    "    plt.legend()\n",
    "    plt.show()\n",
    "\n",
    "\n",
    "plot_history(history)"
   ]
  },
  {
   "cell_type": "code",
   "execution_count": 115,
   "metadata": {},
   "outputs": [],
   "source": [
    "hist = pd.DataFrame(history.history)\n",
    "hist['epoch'] = history.epoch"
   ]
  },
  {
   "cell_type": "code",
   "execution_count": 116,
   "metadata": {},
   "outputs": [
    {
     "data": {
      "text/html": [
       "<div>\n",
       "<style scoped>\n",
       "    .dataframe tbody tr th:only-of-type {\n",
       "        vertical-align: middle;\n",
       "    }\n",
       "\n",
       "    .dataframe tbody tr th {\n",
       "        vertical-align: top;\n",
       "    }\n",
       "\n",
       "    .dataframe thead th {\n",
       "        text-align: right;\n",
       "    }\n",
       "</style>\n",
       "<table border=\"1\" class=\"dataframe\">\n",
       "  <thead>\n",
       "    <tr style=\"text-align: right;\">\n",
       "      <th></th>\n",
       "      <th>loss</th>\n",
       "      <th>mean_absolute_error</th>\n",
       "      <th>mean_squared_error</th>\n",
       "      <th>val_loss</th>\n",
       "      <th>val_mean_absolute_error</th>\n",
       "      <th>val_mean_squared_error</th>\n",
       "      <th>epoch</th>\n",
       "    </tr>\n",
       "  </thead>\n",
       "  <tbody>\n",
       "    <tr>\n",
       "      <th>0</th>\n",
       "      <td>55.945030</td>\n",
       "      <td>6.896888</td>\n",
       "      <td>55.945030</td>\n",
       "      <td>57.079617</td>\n",
       "      <td>6.920227</td>\n",
       "      <td>57.079617</td>\n",
       "      <td>0</td>\n",
       "    </tr>\n",
       "    <tr>\n",
       "      <th>1</th>\n",
       "      <td>55.656830</td>\n",
       "      <td>6.878743</td>\n",
       "      <td>55.656830</td>\n",
       "      <td>56.861488</td>\n",
       "      <td>6.906669</td>\n",
       "      <td>56.861488</td>\n",
       "      <td>1</td>\n",
       "    </tr>\n",
       "    <tr>\n",
       "      <th>2</th>\n",
       "      <td>55.460751</td>\n",
       "      <td>6.866238</td>\n",
       "      <td>55.460751</td>\n",
       "      <td>56.772839</td>\n",
       "      <td>6.901104</td>\n",
       "      <td>56.772839</td>\n",
       "      <td>2</td>\n",
       "    </tr>\n",
       "    <tr>\n",
       "      <th>3</th>\n",
       "      <td>55.367496</td>\n",
       "      <td>6.860502</td>\n",
       "      <td>55.367496</td>\n",
       "      <td>56.626431</td>\n",
       "      <td>6.891984</td>\n",
       "      <td>56.626431</td>\n",
       "      <td>3</td>\n",
       "    </tr>\n",
       "    <tr>\n",
       "      <th>4</th>\n",
       "      <td>55.224049</td>\n",
       "      <td>6.851435</td>\n",
       "      <td>55.224049</td>\n",
       "      <td>56.490429</td>\n",
       "      <td>6.883466</td>\n",
       "      <td>56.490429</td>\n",
       "      <td>4</td>\n",
       "    </tr>\n",
       "    <tr>\n",
       "      <th>...</th>\n",
       "      <td>...</td>\n",
       "      <td>...</td>\n",
       "      <td>...</td>\n",
       "      <td>...</td>\n",
       "      <td>...</td>\n",
       "      <td>...</td>\n",
       "      <td>...</td>\n",
       "    </tr>\n",
       "    <tr>\n",
       "      <th>995</th>\n",
       "      <td>2.606293</td>\n",
       "      <td>1.300764</td>\n",
       "      <td>2.606293</td>\n",
       "      <td>2.554995</td>\n",
       "      <td>1.319168</td>\n",
       "      <td>2.554995</td>\n",
       "      <td>995</td>\n",
       "    </tr>\n",
       "    <tr>\n",
       "      <th>996</th>\n",
       "      <td>2.594357</td>\n",
       "      <td>1.297933</td>\n",
       "      <td>2.594357</td>\n",
       "      <td>2.549419</td>\n",
       "      <td>1.315041</td>\n",
       "      <td>2.549419</td>\n",
       "      <td>996</td>\n",
       "    </tr>\n",
       "    <tr>\n",
       "      <th>997</th>\n",
       "      <td>2.586672</td>\n",
       "      <td>1.295924</td>\n",
       "      <td>2.586672</td>\n",
       "      <td>2.537256</td>\n",
       "      <td>1.312130</td>\n",
       "      <td>2.537256</td>\n",
       "      <td>997</td>\n",
       "    </tr>\n",
       "    <tr>\n",
       "      <th>998</th>\n",
       "      <td>2.573911</td>\n",
       "      <td>1.292851</td>\n",
       "      <td>2.573911</td>\n",
       "      <td>2.523405</td>\n",
       "      <td>1.307540</td>\n",
       "      <td>2.523405</td>\n",
       "      <td>998</td>\n",
       "    </tr>\n",
       "    <tr>\n",
       "      <th>999</th>\n",
       "      <td>2.559801</td>\n",
       "      <td>1.289246</td>\n",
       "      <td>2.559801</td>\n",
       "      <td>2.514048</td>\n",
       "      <td>1.304641</td>\n",
       "      <td>2.514048</td>\n",
       "      <td>999</td>\n",
       "    </tr>\n",
       "  </tbody>\n",
       "</table>\n",
       "<p>1000 rows × 7 columns</p>\n",
       "</div>"
      ],
      "text/plain": [
       "          loss  mean_absolute_error  mean_squared_error   val_loss  \\\n",
       "0    55.945030             6.896888           55.945030  57.079617   \n",
       "1    55.656830             6.878743           55.656830  56.861488   \n",
       "2    55.460751             6.866238           55.460751  56.772839   \n",
       "3    55.367496             6.860502           55.367496  56.626431   \n",
       "4    55.224049             6.851435           55.224049  56.490429   \n",
       "..         ...                  ...                 ...        ...   \n",
       "995   2.606293             1.300764            2.606293   2.554995   \n",
       "996   2.594357             1.297933            2.594357   2.549419   \n",
       "997   2.586672             1.295924            2.586672   2.537256   \n",
       "998   2.573911             1.292851            2.573911   2.523405   \n",
       "999   2.559801             1.289246            2.559801   2.514048   \n",
       "\n",
       "     val_mean_absolute_error  val_mean_squared_error  epoch  \n",
       "0                   6.920227               57.079617      0  \n",
       "1                   6.906669               56.861488      1  \n",
       "2                   6.901104               56.772839      2  \n",
       "3                   6.891984               56.626431      3  \n",
       "4                   6.883466               56.490429      4  \n",
       "..                       ...                     ...    ...  \n",
       "995                 1.319168                2.554995    995  \n",
       "996                 1.315041                2.549419    996  \n",
       "997                 1.312130                2.537256    997  \n",
       "998                 1.307540                2.523405    998  \n",
       "999                 1.304641                2.514048    999  \n",
       "\n",
       "[1000 rows x 7 columns]"
      ]
     },
     "execution_count": 116,
     "metadata": {},
     "output_type": "execute_result"
    }
   ],
   "source": [
    "hist"
   ]
  },
  {
   "cell_type": "markdown",
   "metadata": {},
   "source": [
    "Now we are getting reasonable results.  Using a smaller learning rate, with an early stop callback."
   ]
  },
  {
   "cell_type": "markdown",
   "metadata": {},
   "source": [
    "# Evauate model\n",
    "Note by including the data with missing values and adding in average amounts increased the error."
   ]
  },
  {
   "cell_type": "code",
   "execution_count": 117,
   "metadata": {},
   "outputs": [
    {
     "name": "stdout",
     "output_type": "stream",
     "text": [
      "Testing set Mean Abs Error:  1.24 predicted xxt\n"
     ]
    }
   ],
   "source": [
    "loss, mae, mse = model.evaluate(normed_test_ds, test_labels, verbose=0)\n",
    "\n",
    "print(\"Testing set Mean Abs Error: {:5.2f} predicted xxt\".format(mae))"
   ]
  },
  {
   "cell_type": "markdown",
   "metadata": {},
   "source": [
    "# Make predictions"
   ]
  },
  {
   "cell_type": "code",
   "execution_count": 118,
   "metadata": {},
   "outputs": [
    {
     "name": "stdout",
     "output_type": "stream",
     "text": [
      "1/1 [==============================] - 0s 26ms/step\n"
     ]
    },
    {
     "data": {
      "image/png": "[encoded data removed]",
      "text/plain": [
       "<Figure size 640x480 with 1 Axes>"
      ]
     },
     "metadata": {},
     "output_type": "display_data"
    }
   ],
   "source": [
    "test_predictions = model.predict(normed_test_ds).flatten()\n",
    "\n",
    "plt.scatter(test_labels, test_predictions)\n",
    "plt.xlabel('True Values [z]')\n",
    "plt.ylabel('Predictions [z]')\n",
    "plt.axis('equal')\n",
    "plt.axis('square')\n",
    "plt.xlim([0,plt.xlim()[1]])\n",
    "plt.ylim([0,plt.ylim()[1]])\n",
    "_ = plt.plot([-100, 100], [-100, 100])"
   ]
  },
  {
   "cell_type": "markdown",
   "metadata": {},
   "source": [
    "Look at error distribution"
   ]
  },
  {
   "cell_type": "code",
   "execution_count": 119,
   "metadata": {},
   "outputs": [
    {
     "data": {
      "image/png": "[encoded data removed]",
      "text/plain": [
       "<Figure size 640x480 with 1 Axes>"
      ]
     },
     "metadata": {},
     "output_type": "display_data"
    }
   ],
   "source": [
    "error = test_predictions - test_labels\n",
    "plt.hist(error, bins = 25)\n",
    "plt.xlabel(\"Prediction Error [z]\")\n",
    "_ = plt.ylabel(\"Count\")"
   ]
  },
  {
   "cell_type": "code",
   "execution_count": 120,
   "metadata": {},
   "outputs": [
    {
     "data": {
      "text/html": [
       "<div>\n",
       "<style scoped>\n",
       "    .dataframe tbody tr th:only-of-type {\n",
       "        vertical-align: middle;\n",
       "    }\n",
       "\n",
       "    .dataframe tbody tr th {\n",
       "        vertical-align: top;\n",
       "    }\n",
       "\n",
       "    .dataframe thead th {\n",
       "        text-align: right;\n",
       "    }\n",
       "</style>\n",
       "<table border=\"1\" class=\"dataframe\">\n",
       "  <thead>\n",
       "    <tr style=\"text-align: right;\">\n",
       "      <th></th>\n",
       "      <th>x</th>\n",
       "      <th>y</th>\n",
       "    </tr>\n",
       "  </thead>\n",
       "  <tbody>\n",
       "    <tr>\n",
       "      <th>0</th>\n",
       "      <td>10.0</td>\n",
       "      <td>1.0</td>\n",
       "    </tr>\n",
       "    <tr>\n",
       "      <th>1</th>\n",
       "      <td>4.0</td>\n",
       "      <td>7.0</td>\n",
       "    </tr>\n",
       "    <tr>\n",
       "      <th>2</th>\n",
       "      <td>2.0</td>\n",
       "      <td>9.0</td>\n",
       "    </tr>\n",
       "    <tr>\n",
       "      <th>3</th>\n",
       "      <td>10.0</td>\n",
       "      <td>2.0</td>\n",
       "    </tr>\n",
       "    <tr>\n",
       "      <th>4</th>\n",
       "      <td>4.0</td>\n",
       "      <td>8.0</td>\n",
       "    </tr>\n",
       "    <tr>\n",
       "      <th>5</th>\n",
       "      <td>3.0</td>\n",
       "      <td>0.0</td>\n",
       "    </tr>\n",
       "    <tr>\n",
       "      <th>6</th>\n",
       "      <td>1.0</td>\n",
       "      <td>2.0</td>\n",
       "    </tr>\n",
       "  </tbody>\n",
       "</table>\n",
       "</div>"
      ],
      "text/plain": [
       "      x    y\n",
       "0  10.0  1.0\n",
       "1   4.0  7.0\n",
       "2   2.0  9.0\n",
       "3  10.0  2.0\n",
       "4   4.0  8.0\n",
       "5   3.0  0.0\n",
       "6   1.0  2.0"
      ]
     },
     "execution_count": 120,
     "metadata": {},
     "output_type": "execute_result"
    }
   ],
   "source": [
    "normed_valid_ds\n"
   ]
  },
  {
   "cell_type": "code",
   "execution_count": 121,
   "metadata": {},
   "outputs": [
    {
     "name": "stdout",
     "output_type": "stream",
     "text": [
      "1/1 [==============================] - 0s 13ms/step\n"
     ]
    },
    {
     "data": {
      "text/plain": [
       "array([[11.834689 ],\n",
       "       [ 9.111521 ],\n",
       "       [ 8.404069 ],\n",
       "       [12.353153 ],\n",
       "       [ 9.681932 ],\n",
       "       [ 4.0433064],\n",
       "       [ 2.9011433]], dtype=float32)"
      ]
     },
     "execution_count": 121,
     "metadata": {},
     "output_type": "execute_result"
    }
   ],
   "source": [
    "model.predict(normed_valid_ds)"
   ]
  },
  {
   "cell_type": "code",
   "execution_count": null,
   "metadata": {},
   "outputs": [],
   "source": []
  },
  {
   "cell_type": "code",
   "execution_count": null,
   "metadata": {},
   "outputs": [],
   "source": []
  },
  {
   "cell_type": "code",
   "execution_count": null,
   "metadata": {},
   "outputs": [],
   "source": []
  }
 ],
 "metadata": {
  "kernelspec": {
   "display_name": "Python 3",
   "language": "python",
   "name": "python3"
  },
  "language_info": {
   "codemirror_mode": {
    "name": "ipython",
    "version": 3
   },
   "file_extension": ".py",
   "mimetype": "text/x-python",
   "name": "python",
   "nbconvert_exporter": "python",
   "pygments_lexer": "ipython3",
   "version": "3.9.6"
  }
 },
 "nbformat": 4,
 "nbformat_minor": 2
}
