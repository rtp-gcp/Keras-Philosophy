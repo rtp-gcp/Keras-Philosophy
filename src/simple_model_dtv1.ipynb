{
 "cells": [
  {
   "cell_type": "markdown",
   "metadata": {},
   "source": [
    "# Define Train and Validate the models\n",
    "\n",
    "This notebook takes the normalized csv files and uses TF with kernals to build a predictor for a virtul water level sensor."
   ]
  },
  {
   "cell_type": "code",
   "execution_count": 124,
   "metadata": {},
   "outputs": [],
   "source": [
    "#TODO:\n",
    "# Broke the model training when removed the logs.\n",
    "# sigh. put back\n",
    "\n",
    "\n",
    "\n",
    "#TODO\n",
    "# Get rid of all the tensorboard stuff for this simple demo\n",
    "# * rm logdir done\n",
    "# * rm callback done\n",
    "# * etc.\n",
    "#\n",
    "# Fix the fqpn and use relative? Will this break tensorboard? Cloud based environments?\n",
    "# How about where you don't have \"dirs\" like in watson and have assets instead?"
   ]
  },
  {
   "cell_type": "code",
   "execution_count": 97,
   "metadata": {},
   "outputs": [],
   "source": [
    "import datetime\n",
    "from pathlib import Path\n",
    "\n",
    "import matplotlib.pyplot as plt\n",
    "import pandas as pd\n",
    "import seaborn as sns\n",
    "import os\n",
    "import os.path\n",
    "\n",
    "\n",
    "import tensorflow as tf\n",
    "from tensorflow import keras\n",
    "from tensorflow.keras import layers"
   ]
  },
  {
   "cell_type": "code",
   "execution_count": 98,
   "metadata": {},
   "outputs": [
    {
     "name": "stdout",
     "output_type": "stream",
     "text": [
      "2.13.0\n"
     ]
    }
   ],
   "source": [
    "print(tf.__version__)"
   ]
  },
  {
   "cell_type": "code",
   "execution_count": 99,
   "metadata": {},
   "outputs": [
    {
     "name": "stdout",
     "output_type": "stream",
     "text": [
      "current directory is : /Users/davis/progs/Keras-Philosophy/src\n"
     ]
    }
   ],
   "source": [
    "# The current directory will be where this src file is located.\n",
    "# Which is in the src dir of the project\n",
    "dirpath = os.getcwd()\n",
    "print(\"current directory is : \" + dirpath)"
   ]
  },
  {
   "cell_type": "code",
   "execution_count": 100,
   "metadata": {},
   "outputs": [
    {
     "name": "stdout",
     "output_type": "stream",
     "text": [
      "parent directory is : /Users/davis/progs/Keras-Philosophy\n"
     ]
    }
   ],
   "source": [
    "root_path = os.path.dirname(dirpath)\n",
    "print(\"parent directory is : \" + root_path)"
   ]
  },
  {
   "cell_type": "code",
   "execution_count": 101,
   "metadata": {},
   "outputs": [
    {
     "name": "stdout",
     "output_type": "stream",
     "text": [
      "data_path is : /Users/davis/progs/Keras-Philosophy/data\n"
     ]
    }
   ],
   "source": [
    "data_path = root_path + \"/data\"\n",
    "print(\"data_path is : \" + data_path)"
   ]
  },
  {
   "cell_type": "code",
   "execution_count": 102,
   "metadata": {},
   "outputs": [],
   "source": [
    "train_csv = data_path + \"/train.csv\"\n",
    "test_csv = data_path + \"/test.csv\"\n",
    "valid_csv = data_path + \"/valid.csv\"\n",
    "os.environ['CSV_FILE_NAME'] = data_path + \"/train.csv\""
   ]
  },
  {
   "cell_type": "code",
   "execution_count": 103,
   "metadata": {},
   "outputs": [
    {
     "name": "stdout",
     "output_type": "stream",
     "text": [
      "z,x,y\n",
      "10.0,8.617560909235845,1.382439090764155\n",
      "10.0,5.654281885755908,4.345718114244092\n",
      "10.0,8.719720926053917,1.2802790739460832\n",
      "10.0,6.34565135248194,3.65434864751806\n",
      "10.0,5.587217718204519,4.412782281795481\n",
      "10.0,6.271466935821112,3.728533064178887\n",
      "10.0,3.236545879923363,6.763454120076637\n",
      "10.0,4.0083989956433275,5.9916010043566725\n",
      "10.0,9.587217718204519,0.4127822817954815\n"
     ]
    }
   ],
   "source": [
    "%%bash\n",
    "head ${CSV_FILE_NAME}"
   ]
  },
  {
   "cell_type": "code",
   "execution_count": 104,
   "metadata": {},
   "outputs": [
    {
     "name": "stdout",
     "output_type": "stream",
     "text": [
      "     631 /Users/davis/progs/Keras-Philosophy/data/train.csv\n"
     ]
    }
   ],
   "source": [
    "%%bash\n",
    "# this csv file has 9875 lines corresponding to records (plus one header row)\n",
    "wc -l ${CSV_FILE_NAME}"
   ]
  },
  {
   "cell_type": "markdown",
   "metadata": {},
   "source": [
    "# Use generic python to read data into pandas dataframe"
   ]
  },
  {
   "cell_type": "code",
   "execution_count": 105,
   "metadata": {},
   "outputs": [],
   "source": [
    "# Read the csv files into the new datasets\n",
    "normed_train_ds = pd.read_csv(train_csv, \n",
    "                          header=0,\n",
    "                          sep=\",\")"
   ]
  },
  {
   "cell_type": "code",
   "execution_count": 106,
   "metadata": {},
   "outputs": [],
   "source": [
    "# Read the csv files into the new datasets\n",
    "normed_valid_ds = pd.read_csv(valid_csv, \n",
    "                          header=0,\n",
    "                          sep=\",\")"
   ]
  },
  {
   "cell_type": "code",
   "execution_count": null,
   "metadata": {},
   "outputs": [],
   "source": []
  },
  {
   "cell_type": "code",
   "execution_count": 107,
   "metadata": {},
   "outputs": [],
   "source": [
    "# Read the csv files into the new datasets\n",
    "normed_test_ds = pd.read_csv(test_csv, \n",
    "                          header=0,\n",
    "                          sep=\",\")"
   ]
  },
  {
   "cell_type": "code",
   "execution_count": 108,
   "metadata": {},
   "outputs": [],
   "source": [
    "# Create seperate series/dataframe? for labels\n",
    "# Remove the label from the dataframes.\n",
    "train_labels = normed_train_ds.pop('z')\n",
    "test_labels = normed_test_ds.pop('z')\n",
    "valid_labels = normed_valid_ds.pop('z')"
   ]
  },
  {
   "cell_type": "code",
   "execution_count": 109,
   "metadata": {},
   "outputs": [
    {
     "data": {
      "text/plain": [
       "0      10.0\n",
       "1      10.0\n",
       "2      10.0\n",
       "3      10.0\n",
       "4      10.0\n",
       "       ... \n",
       "625    10.0\n",
       "626    10.0\n",
       "627    10.0\n",
       "628    10.0\n",
       "629    10.0\n",
       "Name: z, Length: 630, dtype: float64"
      ]
     },
     "execution_count": 109,
     "metadata": {},
     "output_type": "execute_result"
    }
   ],
   "source": [
    "train_labels"
   ]
  },
  {
   "cell_type": "code",
   "execution_count": 110,
   "metadata": {},
   "outputs": [
    {
     "data": {
      "text/plain": [
       "Index(['x', 'y'], dtype='object')"
      ]
     },
     "execution_count": 110,
     "metadata": {},
     "output_type": "execute_result"
    }
   ],
   "source": [
    "normed_train_ds.keys()"
   ]
  },
  {
   "cell_type": "markdown",
   "metadata": {},
   "source": [
    "# Build the model"
   ]
  },
  {
   "cell_type": "code",
   "execution_count": 111,
   "metadata": {},
   "outputs": [
    {
     "name": "stderr",
     "output_type": "stream",
     "text": [
      "WARNING:absl:At this time, the v2.11+ optimizer `tf.keras.optimizers.RMSprop` runs slowly on M1/M2 Macs, please use the legacy Keras optimizer instead, located at `tf.keras.optimizers.legacy.RMSprop`.\n",
      "WARNING:absl:There is a known slowdown when using v2.11+ Keras optimizers on M1/M2 Macs. Falling back to the legacy Keras optimizer, i.e., `tf.keras.optimizers.legacy.RMSprop`.\n"
     ]
    }
   ],
   "source": [
    "# train_ds determines the input feature size\n",
    "\n",
    "\n",
    "# Build a 2 layer 64 node DNN\n",
    "#model = keras.Sequential([\n",
    "#    layers.Dense(64, activation=tf.nn.relu, input_shape=[len(normed_train_ds.keys())]),\n",
    "#    layers.Dense(64, activation=tf.nn.relu),\n",
    "#    layers.Dense(1)\n",
    "#    ])\n",
    "\n",
    "# Build a 3 layer 64, 16, 4 node DNN\n",
    "#model = keras.Sequential([\n",
    "#    layers.Dense(64, activation=tf.nn.relu, input_shape=[len(normed_train_ds.keys())]),\n",
    "#    layers.Dense(16, activation=tf.nn.relu),\n",
    "#    layers.Dense(4, activation=tf.nn.relu),\n",
    "#    layers.Dense(1)\n",
    "#    ])\n",
    "\n",
    "\n",
    "# Build a 2 layer 16, 4 node DNN\n",
    "model = keras.Sequential([\n",
    "    layers.Dense(16, activation=tf.nn.relu, input_shape=[len(normed_train_ds.keys())]),\n",
    "    layers.Dense(4, activation=tf.nn.relu),\n",
    "    layers.Dense(1)\n",
    "    ])\n",
    "\n",
    "\n",
    "\n",
    "\n",
    "# Create a 1 layer 12 node DNN\n",
    "#model = keras.Sequential([\n",
    "#    layers.Dense(12, activation=tf.nn.relu, input_shape=[len(normed_train_ds.keys())]),\n",
    "#    layers.Dense(1)\n",
    "#    ])\n",
    "\n",
    "\n",
    "\n",
    "# orig\n",
    "#optimizer = tf.keras.optimizers.RMSprop(0.001)\n",
    "# increase learning rate if fairly consistent but slow changing\n",
    "#optimizer = tf.keras.optimizers.RMSprop(0.01)\n",
    "# 0.1 is too big\n",
    "#optimizer = tf.keras.optimizers.RMSprop(0.1)\n",
    "# with the early stop, lets try to make the learning rate smaller\n",
    "optimizer = tf.keras.optimizers.RMSprop(0.0001)\n",
    "\n",
    "# Add in the early stop code\n",
    "# The patience parameter is the amount of epochs to check for improvement\n",
    "#\n",
    "# NOTE: This was a good addition.  I'm so used to running through a lot of steps\n",
    "# I did not realize that it was finding its best results so early.  In the \n",
    "# graphs that follows, you can see the divergent graphs here where the others\n",
    "# did not show it since it was hundreds of epochs past optimal.\n",
    "early_stop = keras.callbacks.EarlyStopping(monitor='val_loss', patience=10)\n",
    "\n",
    "\n",
    "\n",
    "model.compile(loss='mean_squared_error',\n",
    "              optimizer=optimizer,\n",
    "              metrics=['mean_absolute_error', 'mean_squared_error'])\n"
   ]
  },
  {
   "cell_type": "markdown",
   "metadata": {},
   "source": [
    "# Train the model (with three callbacks)"
   ]
  },
  {
   "cell_type": "code",
   "execution_count": 112,
   "metadata": {},
   "outputs": [],
   "source": [
    "EPOCHS = 1000"
   ]
  },
  {
   "cell_type": "code",
   "execution_count": 113,
   "metadata": {},
   "outputs": [],
   "source": [
    "# Display training progress by printing a single dot for each completed epoch\n",
    "class PrintDot(keras.callbacks.Callback):\n",
    "  def on_epoch_end(self, epoch, logs):\n",
    "    if epoch % 100 == 0: print('')\n",
    "    print('.', end='')"
   ]
  },
  {
   "cell_type": "code",
   "execution_count": 114,
   "metadata": {},
   "outputs": [
    {
     "name": "stdout",
     "output_type": "stream",
     "text": [
      "\n",
      "....................................................................................................\n",
      "....................................................................................................\n",
      "....................................................................................................\n",
      "....................................................................................................\n",
      "....................................................................................................\n",
      "....................................................................................................\n",
      "....................................................................................................\n",
      "....................................................................................................\n",
      "....................................................................................................\n",
      "...................................................................................................."
     ]
    }
   ],
   "source": [
    "#                    batch_size=16,\n",
    "\n",
    "history = model.fit(normed_train_ds, \n",
    "                    train_labels,\n",
    "                    epochs=EPOCHS,\n",
    "                    validation_data = (normed_valid_ds, valid_labels),\n",
    "                    verbose=0,\n",
    "                    callbacks=[early_stop, PrintDot()])"
   ]
  },
  {
   "cell_type": "code",
   "execution_count": 115,
   "metadata": {},
   "outputs": [],
   "source": [
    "# TODO:\n",
    "# I broke the history plots"
   ]
  },
  {
   "cell_type": "code",
   "execution_count": 116,
   "metadata": {},
   "outputs": [
    {
     "data": {
      "image/png": "[encoded data removed]",
      "text/plain": [
       "<Figure size 640x480 with 1 Axes>"
      ]
     },
     "metadata": {},
     "output_type": "display_data"
    },
    {
     "data": {
      "image/png": "[encoded data removed]",
      "text/plain": [
       "<Figure size 640x480 with 1 Axes>"
      ]
     },
     "metadata": {},
     "output_type": "display_data"
    },
    {
     "data": {
      "image/png": "[encoded data removed]",
      "text/plain": [
       "<Figure size 640x480 with 1 Axes>"
      ]
     },
     "metadata": {},
     "output_type": "display_data"
    }
   ],
   "source": [
    "def plot_history(history):\n",
    "    hist = pd.DataFrame(history.history)\n",
    "    hist['epoch'] = history.epoch\n",
    "\n",
    "\n",
    "    plt.figure()\n",
    "    plt.xlabel('Epoch')\n",
    "    plt.ylabel('Epoch Loss [z]')\n",
    "    plt.plot(hist['epoch'], hist['loss'],label='Train Loss')\n",
    "    plt.plot(hist['epoch'], hist['val_loss'],label = 'Val Loss')\n",
    "    plt.ylim([0,3])\n",
    "    plt.legend()\n",
    "\n",
    "\n",
    "    plt.figure()\n",
    "    plt.xlabel('Epoch')\n",
    "    plt.ylabel('Mean Abs Error [z]')\n",
    "    plt.plot(hist['epoch'], hist['mean_absolute_error'],label='Train Error')\n",
    "    plt.plot(hist['epoch'], hist['val_mean_absolute_error'],label = 'Val Error')\n",
    "    plt.ylim([0,1])\n",
    "    plt.legend()\n",
    "\n",
    "    plt.figure()\n",
    "    plt.xlabel('Epoch')\n",
    "    plt.ylabel('Mean Square Error [$z^2$]')\n",
    "    plt.plot(hist['epoch'], hist['mean_squared_error'],label='Train Error')\n",
    "    plt.plot(hist['epoch'], hist['val_mean_squared_error'],label = 'Val Error')\n",
    "    plt.ylim([0,3])\n",
    "    plt.legend()\n",
    "    plt.show()\n",
    "\n",
    "\n",
    "plot_history(history)"
   ]
  },
  {
   "cell_type": "code",
   "execution_count": 117,
   "metadata": {},
   "outputs": [],
   "source": [
    "hist = pd.DataFrame(history.history)\n",
    "hist['epoch'] = history.epoch"
   ]
  },
  {
   "cell_type": "code",
   "execution_count": 118,
   "metadata": {},
   "outputs": [
    {
     "data": {
      "text/html": [
       "<div>\n",
       "<style scoped>\n",
       "    .dataframe tbody tr th:only-of-type {\n",
       "        vertical-align: middle;\n",
       "    }\n",
       "\n",
       "    .dataframe tbody tr th {\n",
       "        vertical-align: top;\n",
       "    }\n",
       "\n",
       "    .dataframe thead th {\n",
       "        text-align: right;\n",
       "    }\n",
       "</style>\n",
       "<table border=\"1\" class=\"dataframe\">\n",
       "  <thead>\n",
       "    <tr style=\"text-align: right;\">\n",
       "      <th></th>\n",
       "      <th>loss</th>\n",
       "      <th>mean_absolute_error</th>\n",
       "      <th>mean_squared_error</th>\n",
       "      <th>val_loss</th>\n",
       "      <th>val_mean_absolute_error</th>\n",
       "      <th>val_mean_squared_error</th>\n",
       "      <th>epoch</th>\n",
       "    </tr>\n",
       "  </thead>\n",
       "  <tbody>\n",
       "    <tr>\n",
       "      <th>0</th>\n",
       "      <td>105.861320</td>\n",
       "      <td>10.286730</td>\n",
       "      <td>105.861320</td>\n",
       "      <td>105.643845</td>\n",
       "      <td>10.276488</td>\n",
       "      <td>105.643845</td>\n",
       "      <td>0</td>\n",
       "    </tr>\n",
       "    <tr>\n",
       "      <th>1</th>\n",
       "      <td>104.843788</td>\n",
       "      <td>10.237798</td>\n",
       "      <td>104.843788</td>\n",
       "      <td>104.730942</td>\n",
       "      <td>10.232505</td>\n",
       "      <td>104.730942</td>\n",
       "      <td>1</td>\n",
       "    </tr>\n",
       "    <tr>\n",
       "      <th>2</th>\n",
       "      <td>104.013588</td>\n",
       "      <td>10.197619</td>\n",
       "      <td>104.013588</td>\n",
       "      <td>103.938034</td>\n",
       "      <td>10.194064</td>\n",
       "      <td>103.938034</td>\n",
       "      <td>2</td>\n",
       "    </tr>\n",
       "    <tr>\n",
       "      <th>3</th>\n",
       "      <td>103.235809</td>\n",
       "      <td>10.159749</td>\n",
       "      <td>103.235809</td>\n",
       "      <td>103.145493</td>\n",
       "      <td>10.155420</td>\n",
       "      <td>103.145493</td>\n",
       "      <td>3</td>\n",
       "    </tr>\n",
       "    <tr>\n",
       "      <th>4</th>\n",
       "      <td>102.528160</td>\n",
       "      <td>10.125105</td>\n",
       "      <td>102.528160</td>\n",
       "      <td>102.472382</td>\n",
       "      <td>10.122421</td>\n",
       "      <td>102.472382</td>\n",
       "      <td>4</td>\n",
       "    </tr>\n",
       "    <tr>\n",
       "      <th>...</th>\n",
       "      <td>...</td>\n",
       "      <td>...</td>\n",
       "      <td>...</td>\n",
       "      <td>...</td>\n",
       "      <td>...</td>\n",
       "      <td>...</td>\n",
       "      <td>...</td>\n",
       "    </tr>\n",
       "    <tr>\n",
       "      <th>995</th>\n",
       "      <td>64.127892</td>\n",
       "      <td>8.007989</td>\n",
       "      <td>64.127892</td>\n",
       "      <td>64.110840</td>\n",
       "      <td>8.006925</td>\n",
       "      <td>64.110840</td>\n",
       "      <td>995</td>\n",
       "    </tr>\n",
       "    <tr>\n",
       "      <th>996</th>\n",
       "      <td>64.095863</td>\n",
       "      <td>8.005989</td>\n",
       "      <td>64.095863</td>\n",
       "      <td>64.078804</td>\n",
       "      <td>8.004924</td>\n",
       "      <td>64.078804</td>\n",
       "      <td>996</td>\n",
       "    </tr>\n",
       "    <tr>\n",
       "      <th>997</th>\n",
       "      <td>64.063835</td>\n",
       "      <td>8.003988</td>\n",
       "      <td>64.063835</td>\n",
       "      <td>64.046791</td>\n",
       "      <td>8.002924</td>\n",
       "      <td>64.046791</td>\n",
       "      <td>997</td>\n",
       "    </tr>\n",
       "    <tr>\n",
       "      <th>998</th>\n",
       "      <td>64.031815</td>\n",
       "      <td>8.001988</td>\n",
       "      <td>64.031815</td>\n",
       "      <td>64.014771</td>\n",
       "      <td>8.000923</td>\n",
       "      <td>64.014771</td>\n",
       "      <td>998</td>\n",
       "    </tr>\n",
       "    <tr>\n",
       "      <th>999</th>\n",
       "      <td>63.999813</td>\n",
       "      <td>7.999989</td>\n",
       "      <td>63.999813</td>\n",
       "      <td>63.982792</td>\n",
       "      <td>7.998924</td>\n",
       "      <td>63.982792</td>\n",
       "      <td>999</td>\n",
       "    </tr>\n",
       "  </tbody>\n",
       "</table>\n",
       "<p>1000 rows × 7 columns</p>\n",
       "</div>"
      ],
      "text/plain": [
       "           loss  mean_absolute_error  mean_squared_error    val_loss  \\\n",
       "0    105.861320            10.286730          105.861320  105.643845   \n",
       "1    104.843788            10.237798          104.843788  104.730942   \n",
       "2    104.013588            10.197619          104.013588  103.938034   \n",
       "3    103.235809            10.159749          103.235809  103.145493   \n",
       "4    102.528160            10.125105          102.528160  102.472382   \n",
       "..          ...                  ...                 ...         ...   \n",
       "995   64.127892             8.007989           64.127892   64.110840   \n",
       "996   64.095863             8.005989           64.095863   64.078804   \n",
       "997   64.063835             8.003988           64.063835   64.046791   \n",
       "998   64.031815             8.001988           64.031815   64.014771   \n",
       "999   63.999813             7.999989           63.999813   63.982792   \n",
       "\n",
       "     val_mean_absolute_error  val_mean_squared_error  epoch  \n",
       "0                  10.276488              105.643845      0  \n",
       "1                  10.232505              104.730942      1  \n",
       "2                  10.194064              103.938034      2  \n",
       "3                  10.155420              103.145493      3  \n",
       "4                  10.122421              102.472382      4  \n",
       "..                       ...                     ...    ...  \n",
       "995                 8.006925               64.110840    995  \n",
       "996                 8.004924               64.078804    996  \n",
       "997                 8.002924               64.046791    997  \n",
       "998                 8.000923               64.014771    998  \n",
       "999                 7.998924               63.982792    999  \n",
       "\n",
       "[1000 rows x 7 columns]"
      ]
     },
     "execution_count": 118,
     "metadata": {},
     "output_type": "execute_result"
    }
   ],
   "source": [
    "hist"
   ]
  },
  {
   "cell_type": "markdown",
   "metadata": {},
   "source": [
    "Now we are getting reasonable results.  Using a smaller learning rate, with an early stop callback."
   ]
  },
  {
   "cell_type": "markdown",
   "metadata": {},
   "source": [
    "# Evauate model\n",
    "Note by including the data with missing values and adding in average amounts increased the error."
   ]
  },
  {
   "cell_type": "code",
   "execution_count": 119,
   "metadata": {},
   "outputs": [
    {
     "name": "stdout",
     "output_type": "stream",
     "text": [
      "Testing set Mean Abs Error:  8.00 predicted xxt\n"
     ]
    }
   ],
   "source": [
    "loss, mae, mse = model.evaluate(normed_test_ds, test_labels, verbose=0)\n",
    "\n",
    "print(\"Testing set Mean Abs Error: {:5.2f} predicted xxt\".format(mae))"
   ]
  },
  {
   "cell_type": "markdown",
   "metadata": {},
   "source": [
    "# Make predictions"
   ]
  },
  {
   "cell_type": "code",
   "execution_count": 120,
   "metadata": {},
   "outputs": [
    {
     "name": "stdout",
     "output_type": "stream",
     "text": [
      "5/5 [==============================] - 0s 542us/step\n"
     ]
    },
    {
     "data": {
      "image/png": "[encoded data removed]",
      "text/plain": [
       "<Figure size 640x480 with 1 Axes>"
      ]
     },
     "metadata": {},
     "output_type": "display_data"
    }
   ],
   "source": [
    "test_predictions = model.predict(normed_test_ds).flatten()\n",
    "\n",
    "plt.scatter(test_labels, test_predictions)\n",
    "plt.xlabel('True Values [z]')\n",
    "plt.ylabel('Predictions [z]')\n",
    "plt.axis('equal')\n",
    "plt.axis('square')\n",
    "plt.xlim([0,plt.xlim()[1]])\n",
    "plt.ylim([0,plt.ylim()[1]])\n",
    "_ = plt.plot([-100, 100], [-100, 100])"
   ]
  },
  {
   "cell_type": "markdown",
   "metadata": {},
   "source": [
    "Look at error distribution"
   ]
  },
  {
   "cell_type": "code",
   "execution_count": 121,
   "metadata": {},
   "outputs": [
    {
     "data": {
      "image/png": "[encoded data removed]",
      "text/plain": [
       "<Figure size 640x480 with 1 Axes>"
      ]
     },
     "metadata": {},
     "output_type": "display_data"
    }
   ],
   "source": [
    "error = test_predictions - test_labels\n",
    "plt.hist(error, bins = 25)\n",
    "plt.xlabel(\"Prediction Error [z]\")\n",
    "_ = plt.ylabel(\"Count\")"
   ]
  },
  {
   "cell_type": "code",
   "execution_count": 122,
   "metadata": {},
   "outputs": [
    {
     "data": {
      "text/html": [
       "<div>\n",
       "<style scoped>\n",
       "    .dataframe tbody tr th:only-of-type {\n",
       "        vertical-align: middle;\n",
       "    }\n",
       "\n",
       "    .dataframe tbody tr th {\n",
       "        vertical-align: top;\n",
       "    }\n",
       "\n",
       "    .dataframe thead th {\n",
       "        text-align: right;\n",
       "    }\n",
       "</style>\n",
       "<table border=\"1\" class=\"dataframe\">\n",
       "  <thead>\n",
       "    <tr style=\"text-align: right;\">\n",
       "      <th></th>\n",
       "      <th>x</th>\n",
       "      <th>y</th>\n",
       "    </tr>\n",
       "  </thead>\n",
       "  <tbody>\n",
       "    <tr>\n",
       "      <th>0</th>\n",
       "      <td>4.392732</td>\n",
       "      <td>5.607268</td>\n",
       "    </tr>\n",
       "    <tr>\n",
       "      <th>1</th>\n",
       "      <td>8.140571</td>\n",
       "      <td>1.859429</td>\n",
       "    </tr>\n",
       "    <tr>\n",
       "      <th>2</th>\n",
       "      <td>2.140571</td>\n",
       "      <td>7.859429</td>\n",
       "    </tr>\n",
       "    <tr>\n",
       "      <th>3</th>\n",
       "      <td>9.052136</td>\n",
       "      <td>0.947864</td>\n",
       "    </tr>\n",
       "    <tr>\n",
       "      <th>4</th>\n",
       "      <td>3.052136</td>\n",
       "      <td>6.947864</td>\n",
       "    </tr>\n",
       "    <tr>\n",
       "      <th>...</th>\n",
       "      <td>...</td>\n",
       "      <td>...</td>\n",
       "    </tr>\n",
       "    <tr>\n",
       "      <th>130</th>\n",
       "      <td>7.711962</td>\n",
       "      <td>2.288038</td>\n",
       "    </tr>\n",
       "    <tr>\n",
       "      <th>131</th>\n",
       "      <td>4.693513</td>\n",
       "      <td>5.306487</td>\n",
       "    </tr>\n",
       "    <tr>\n",
       "      <th>132</th>\n",
       "      <td>5.421212</td>\n",
       "      <td>4.578788</td>\n",
       "    </tr>\n",
       "    <tr>\n",
       "      <th>133</th>\n",
       "      <td>4.421212</td>\n",
       "      <td>5.578788</td>\n",
       "    </tr>\n",
       "    <tr>\n",
       "      <th>134</th>\n",
       "      <td>1.421212</td>\n",
       "      <td>8.578788</td>\n",
       "    </tr>\n",
       "  </tbody>\n",
       "</table>\n",
       "<p>135 rows × 2 columns</p>\n",
       "</div>"
      ],
      "text/plain": [
       "            x         y\n",
       "0    4.392732  5.607268\n",
       "1    8.140571  1.859429\n",
       "2    2.140571  7.859429\n",
       "3    9.052136  0.947864\n",
       "4    3.052136  6.947864\n",
       "..        ...       ...\n",
       "130  7.711962  2.288038\n",
       "131  4.693513  5.306487\n",
       "132  5.421212  4.578788\n",
       "133  4.421212  5.578788\n",
       "134  1.421212  8.578788\n",
       "\n",
       "[135 rows x 2 columns]"
      ]
     },
     "execution_count": 122,
     "metadata": {},
     "output_type": "execute_result"
    }
   ],
   "source": [
    "normed_valid_ds\n"
   ]
  },
  {
   "cell_type": "code",
   "execution_count": 123,
   "metadata": {},
   "outputs": [
    {
     "name": "stdout",
     "output_type": "stream",
     "text": [
      "5/5 [==============================] - 0s 561us/step\n"
     ]
    },
    {
     "data": {
      "text/plain": [
       "array([[2.0010757],\n",
       "       [2.0010757],\n",
       "       [2.0010757],\n",
       "       [2.0010757],\n",
       "       [2.0010757],\n",
       "       [2.0010757],\n",
       "       [2.0010757],\n",
       "       [2.0010757],\n",
       "       [2.0010757],\n",
       "       [2.0010757],\n",
       "       [2.0010757],\n",
       "       [2.0010757],\n",
       "       [2.0010757],\n",
       "       [2.0010757],\n",
       "       [2.0010757],\n",
       "       [2.0010757],\n",
       "       [2.0010757],\n",
       "       [2.0010757],\n",
       "       [2.0010757],\n",
       "       [2.0010757],\n",
       "       [2.0010757],\n",
       "       [2.0010757],\n",
       "       [2.0010757],\n",
       "       [2.0010757],\n",
       "       [2.0010757],\n",
       "       [2.0010757],\n",
       "       [2.0010757],\n",
       "       [2.0010757],\n",
       "       [2.0010757],\n",
       "       [2.0010757],\n",
       "       [2.0010757],\n",
       "       [2.0010757],\n",
       "       [2.0010757],\n",
       "       [2.0010757],\n",
       "       [2.0010757],\n",
       "       [2.0010757],\n",
       "       [2.0010757],\n",
       "       [2.0010757],\n",
       "       [2.0010757],\n",
       "       [2.0010757],\n",
       "       [2.0010757],\n",
       "       [2.0010757],\n",
       "       [2.0010757],\n",
       "       [2.0010757],\n",
       "       [2.0010757],\n",
       "       [2.0010757],\n",
       "       [2.0010757],\n",
       "       [2.0010757],\n",
       "       [2.0010757],\n",
       "       [2.0010757],\n",
       "       [2.0010757],\n",
       "       [2.0010757],\n",
       "       [2.0010757],\n",
       "       [2.0010757],\n",
       "       [2.0010757],\n",
       "       [2.0010757],\n",
       "       [2.0010757],\n",
       "       [2.0010757],\n",
       "       [2.0010757],\n",
       "       [2.0010757],\n",
       "       [2.0010757],\n",
       "       [2.0010757],\n",
       "       [2.0010757],\n",
       "       [2.0010757],\n",
       "       [2.0010757],\n",
       "       [2.0010757],\n",
       "       [2.0010757],\n",
       "       [2.0010757],\n",
       "       [2.0010757],\n",
       "       [2.0010757],\n",
       "       [2.0010757],\n",
       "       [2.0010757],\n",
       "       [2.0010757],\n",
       "       [2.0010757],\n",
       "       [2.0010757],\n",
       "       [2.0010757],\n",
       "       [2.0010757],\n",
       "       [2.0010757],\n",
       "       [2.0010757],\n",
       "       [2.0010757],\n",
       "       [2.0010757],\n",
       "       [2.0010757],\n",
       "       [2.0010757],\n",
       "       [2.0010757],\n",
       "       [2.0010757],\n",
       "       [2.0010757],\n",
       "       [2.0010757],\n",
       "       [2.0010757],\n",
       "       [2.0010757],\n",
       "       [2.0010757],\n",
       "       [2.0010757],\n",
       "       [2.0010757],\n",
       "       [2.0010757],\n",
       "       [2.0010757],\n",
       "       [2.0010757],\n",
       "       [2.0010757],\n",
       "       [2.0010757],\n",
       "       [2.0010757],\n",
       "       [2.0010757],\n",
       "       [2.0010757],\n",
       "       [2.0010757],\n",
       "       [2.0010757],\n",
       "       [2.0010757],\n",
       "       [2.0010757],\n",
       "       [2.0010757],\n",
       "       [2.0010757],\n",
       "       [2.0010757],\n",
       "       [2.0010757],\n",
       "       [2.0010757],\n",
       "       [2.0010757],\n",
       "       [2.0010757],\n",
       "       [2.0010757],\n",
       "       [2.0010757],\n",
       "       [2.0010757],\n",
       "       [2.0010757],\n",
       "       [2.0010757],\n",
       "       [2.0010757],\n",
       "       [2.0010757],\n",
       "       [2.0010757],\n",
       "       [2.0010757],\n",
       "       [2.0010757],\n",
       "       [2.0010757],\n",
       "       [2.0010757],\n",
       "       [2.0010757],\n",
       "       [2.0010757],\n",
       "       [2.0010757],\n",
       "       [2.0010757],\n",
       "       [2.0010757],\n",
       "       [2.0010757],\n",
       "       [2.0010757],\n",
       "       [2.0010757],\n",
       "       [2.0010757],\n",
       "       [2.0010757],\n",
       "       [2.0010757],\n",
       "       [2.0010757]], dtype=float32)"
      ]
     },
     "execution_count": 123,
     "metadata": {},
     "output_type": "execute_result"
    }
   ],
   "source": [
    "model.predict(normed_valid_ds)"
   ]
  },
  {
   "cell_type": "code",
   "execution_count": null,
   "metadata": {},
   "outputs": [],
   "source": []
  },
  {
   "cell_type": "code",
   "execution_count": null,
   "metadata": {},
   "outputs": [],
   "source": []
  },
  {
   "cell_type": "code",
   "execution_count": null,
   "metadata": {},
   "outputs": [],
   "source": []
  }
 ],
 "metadata": {
  "kernelspec": {
   "display_name": "Python 3",
   "language": "python",
   "name": "python3"
  },
  "language_info": {
   "codemirror_mode": {
    "name": "ipython",
    "version": 3
   },
   "file_extension": ".py",
   "mimetype": "text/x-python",
   "name": "python",
   "nbconvert_exporter": "python",
   "pygments_lexer": "ipython3",
   "version": "3.11.3"
  }
 },
 "nbformat": 4,
 "nbformat_minor": 2
}
